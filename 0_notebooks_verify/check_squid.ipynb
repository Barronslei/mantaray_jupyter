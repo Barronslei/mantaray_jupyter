{
 "cells": [
  {
   "cell_type": "markdown",
   "metadata": {},
   "source": [
    "\n",
    "<p><img src=\"https://oceanprotocol.com/static/media/banner-ocean-03@2x.b7272597.png\" alt=\"drawing\" width=\"800\" align=\"center\"/>"
   ]
  },
  {
   "cell_type": "markdown",
   "metadata": {},
   "source": [
    "\n",
    "<h1><center>Ocean Protocol - Manta Ray project</center></h1>\n",
    "<h3><center>Decentralized Data Science and Engineering, powered by Ocean Protocol</center></h3>\n",
    "<p>Version 0.2 - Trilobite preview</p>\n",
    "<p><a href=\"https://github.com/oceanprotocol/mantaray\">mantaray on Github</a></p>\n",
    "<p>"
   ]
  },
  {
   "cell_type": "markdown",
   "metadata": {
    "lines_to_next_cell": 0
   },
   "source": [
    "<p>"
   ]
  },
  {
   "cell_type": "markdown",
   "metadata": {
    "lines_to_next_cell": 0
   },
   "source": [
    "With docker running, run this script to test the Ocean wrapper (squid-py).\n",
    "Instantiate the wrapper with the local config_local.ini."
   ]
  },
  {
   "cell_type": "code",
   "execution_count": null,
   "metadata": {},
   "outputs": [],
   "source": [
    "# When running in IPython, ensure the path is obtained\n",
    "# This may vary according to your environment\n",
    "\n",
    "# Import mantaray and the Ocean API (squid)\n",
    "from squid_py.ocean.ocean import Ocean\n",
    "import mantaray_utilities.config as manta_config\n",
    "import mantaray_utilities.logging as manta_logging\n",
    "\n",
    "\n",
    "# PATH_CONFIG = PATH_PROJECT / 'config_local.ini'\n",
    "# Change the PATH_CONFIG below to your config.ini file\n",
    "# PATH_CONFIG = PATH_PROJECT / 'config_k8s_deployed.ini'\n",
    "\n",
    "# assert PATH_CONFIG.exists(), \"{} does not exist\".format(PATH_CONFIG)\n",
    "\n",
    "ocn = Ocean(config_file=PATH_CONFIG)"
   ]
  },
  {
   "cell_type": "code",
   "execution_count": null,
   "metadata": {},
   "outputs": [],
   "source": [
    "print(\"***OCEAN***\")\n",
    "print(\"{} accounts\".format(len(ocn.accounts)))\n",
    "for account in ocn.accounts:\n",
    "    print(account)\n",
    "print(\"\\n***KEEPER NODE***\")\n",
    "print(\"Keeper node connected at {}\".format(ocn.config.keeper_url))\n",
    "print(\"Using ABI files from {}\".format(ocn.config.keeper_path))\n",
    "print(\"{:>40} {}\".format(\"Token contract address:\", ocn.keeper.token.address))\n",
    "print(\"{:>40} {}\".format(\"Authentication contract at address:\", ocn.keeper.auth.address))\n",
    "print(\"{:>40} {}\".format(\"Market contract address:\", ocn.keeper.market.address))\n",
    "print(\"{:>40} {}\".format(\"DID Registry contract address:\", ocn.keeper.didregistry.address))\n",
    "\n",
    "print(\"\\n***METADATA STORE (aquarius)***\")\n",
    "print(\"Connect at: {}\".format(ocn.metadata_store._base_url))\n",
    "\n",
    "print(\"\\n***SECRET STORE***\")\n",
    "\n",
    "print(\"\\n***SERVICE HANDLER (brizo)***\")"
   ]
  },
  {
   "cell_type": "code",
   "execution_count": null,
   "metadata": {},
   "outputs": [],
   "source": []
  },
  {
   "cell_type": "code",
   "execution_count": null,
   "metadata": {},
   "outputs": [],
   "source": []
  }
 ],
 "metadata": {
  "jupytext": {
   "main_language": "python",
   "text_representation": {
    "extension": ".py",
    "format_name": "percent"
   }
  }
 },
 "nbformat": 4,
 "nbformat_minor": 2
}
