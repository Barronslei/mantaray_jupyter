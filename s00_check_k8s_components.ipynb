{
 "cells": [
  {
   "cell_type": "markdown",
   "metadata": {},
   "source": [
    "\n",
    "<p><img src=\"https://oceanprotocol.com/static/media/banner-ocean-03@2x.b7272597.png\" alt=\"drawing\" width=\"800\" align=\"center\"/>"
   ]
  },
  {
   "cell_type": "markdown",
   "metadata": {
    "lines_to_next_cell": 2
   },
   "source": [
    "<h1><center>Ocean Protocol - Manta Ray project</center></h1>\n",
    "<h3><center>Decentralized Data Science and Engineering, powered by Ocean Protocol</center></h3>\n",
    "<p>Version 0.5.1 - beta</p>\n",
    "<p>Package compatibility: squid-py v0.5.11, keeper-contracts 0.9.0, utilities 0.2.1,\n",
    "<p>Component compatibility: Brizo v0.3.2, Aquarius v0.2.1, Nile testnet smart contracts 0.8.6</p>\n",
    "<p><a href=\"https://github.com/oceanprotocol/mantaray\">mantaray on Github</a></p>\n",
    "<p>"
   ]
  },
  {
   "cell_type": "markdown",
   "metadata": {
    "lines_to_next_cell": 0
   },
   "source": [
    "# Pre-sail checklist - Ocean protocol component status\n",
    "With simulated Kubernetes endpoints deployed, this script will make a simple\n",
    "HTTP request to each, and report the status returned.\n"
   ]
  },
  {
   "cell_type": "code",
   "execution_count": null,
   "metadata": {},
   "outputs": [],
   "source": [
    "# Standard imports\n",
    "import requests\n",
    "import os\n",
    "import logging\n",
    "\n",
    "import mantaray_utilities.config as manta_config\n",
    "import mantaray_utilities.logging as manta_logging"
   ]
  },
  {
   "cell_type": "code",
   "execution_count": null,
   "metadata": {},
   "outputs": [],
   "source": [
    "# For this test, set the configuration environment variable for kubernetes.\n",
    "# here it is hard-coded for IPython execution, but in general, it is set in your system environment.\n",
    "manta_config.name_deployment_type()\n",
    "os.environ['USE_K8S_CLUSTER'] = 'true'\n",
    "manta_logging.logger.setLevel('INFO')\n",
    "\n",
    "# Get the configuration file path for this environment\n",
    "CONFIG_INI_PATH = manta_config.get_config_file_path()\n",
    "logging.info(\"Configuration file selected: {}\".format(CONFIG_INI_PATH))"
   ]
  },
  {
   "cell_type": "code",
   "execution_count": null,
   "metadata": {},
   "outputs": [],
   "source": [
    "# The endpoints (microservices) are defined in the below dictionary"
   ]
  },
  {
   "cell_type": "code",
   "execution_count": null,
   "metadata": {
    "lines_to_next_cell": 0
   },
   "outputs": [],
   "source": [
    "# For now, the endpoints are hard-coded by the dev-ops team.\n",
    "endpoints_dict = {\n",
    "    'aquarius': 'https://nginx-aquarius.dev-ocean.com',\n",
    "    'brizo': 'https://nginx-brizo.dev-ocean.com',\n",
    "    'Ethereum testnet (Nile)': 'https://nile.dev-ocean.com',\n",
    "    'secret_store' : 'https://secret-store.dev-ocean.com'\n",
    "}\n",
    "swagger_pages = dict()\n",
    "swagger_pages['aquarius Swagger documentation'] = endpoints_dict['aquarius'] + '/api/v1/docs/'\n",
    "swagger_pages['brizo Swagger documentation'] = endpoints_dict['brizo'] + '/api/v1/docs/'\n",
    "\n",
    "def check_endpoint(endpoint_name, endpoint_url, verb='GET', ):\n",
    "    \"\"\"HTTP Request on the given URL\"\"\"\n",
    "    res = requests.request(verb, endpoint_url)\n",
    "    logging.debug(\"{} : returns {}\".format(endpoint_name, res.status_code))\n",
    "    return res"
   ]
  },
  {
   "cell_type": "code",
   "execution_count": null,
   "metadata": {
    "lines_to_next_cell": 0
   },
   "outputs": [],
   "source": [
    "# The microscervices for MetaData storage (aquarius) and for service negotiation (brizo) have Swagger documentation :)"
   ]
  },
  {
   "cell_type": "code",
   "execution_count": null,
   "metadata": {},
   "outputs": [],
   "source": [
    "print(\"Aquarius MetaData storage API:\", swagger_pages['aquarius Swagger documentation'])\n",
    "print(\"Brizo Access API:\", swagger_pages['brizo Swagger documentation'])"
   ]
  },
  {
   "cell_type": "markdown",
   "metadata": {
    "lines_to_next_cell": 0
   },
   "source": [
    "Finally, we will iterate over the endpoint and check for a response\n"
   ]
  },
  {
   "cell_type": "code",
   "execution_count": null,
   "metadata": {
    "lines_to_next_cell": 3
   },
   "outputs": [],
   "source": [
    "flag_fail = False\n",
    "for endpoint in endpoints_dict:\n",
    "    with manta_logging.LoggerCritical():\n",
    "        print(\"Checking {} at {}\".format(endpoint, endpoints_dict[endpoint]))\n",
    "        try:\n",
    "            res = check_endpoint(endpoint, endpoints_dict[endpoint])\n",
    "            if 'Content-Type' in res.headers:\n",
    "                if res.headers['Content-Type'] == 'application/json':\n",
    "                    if 'software' in res.json().keys() and 'version' in res.json().keys():\n",
    "                        print(\"\\t Success: {} v{}\".format(res.json()['software'], res.json()['version']))\n",
    "                else:\n",
    "                    print(\"\\t Success\")\n",
    "            else:\n",
    "                print(\"\\t Success\")\n",
    "        except:\n",
    "            flag_fail = True\n",
    "            print('\\t Failed!')\n",
    "\n",
    "if flag_fail:\n",
    "    print(\"Failure in a component, please contact an administrator on our Gitter channel - https://gitter.im/oceanprotocol/Lobby\")"
   ]
  }
 ],
 "metadata": {
  "jupytext": {
   "main_language": "python",
   "text_representation": {
    "extension": ".py",
    "format_name": "percent"
   }
  },
  "kernelspec": {
   "display_name": "Manta Ray",
   "language": "python",
   "name": "python3"
  }
 },
 "nbformat": 4,
 "nbformat_minor": 2
}
