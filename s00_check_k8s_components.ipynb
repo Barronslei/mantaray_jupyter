{
 "cells": [
  {
   "cell_type": "markdown",
   "metadata": {},
   "source": [
    "\n",
    "<p><img src=\"https://oceanprotocol.com/static/media/banner-ocean-03@2x.b7272597.png\" alt=\"drawing\" width=\"800\" align=\"center\"/>"
   ]
  },
  {
   "cell_type": "markdown",
   "metadata": {
    "lines_to_next_cell": 2
   },
   "source": [
    "\n",
    "<h1><center>Ocean Protocol - Manta Ray project</center></h1>\n",
    "<h3><center>Decentralized Data Science and Engineering, powered by Ocean Protocol</center></h3>\n",
    "<p>Version 0.2 - alpha preview</p>\n",
    "<p><a href=\"https://github.com/oceanprotocol/mantaray\">mantaray on Github</a></p>\n",
    "<p>"
   ]
  },
  {
   "cell_type": "markdown",
   "metadata": {
    "lines_to_next_cell": 0
   },
   "source": [
    "# Check the running Ocean protocol components\n",
    "With simulated Kubernetes endpoints deployed, this script will make a simple\n",
    "HTTP request to each, and report the status returned.\n"
   ]
  },
  {
   "cell_type": "code",
   "execution_count": null,
   "metadata": {},
   "outputs": [],
   "source": [
    "# Standard imports\n",
    "import requests\n",
    "import os\n",
    "import logging\n",
    "\n",
    "# Import mantaray and the Ocean API (squid)\n",
    "from squid_py.ocean import ocean\n",
    "import mantaray_utilities.config as manta_config\n",
    "import mantaray_utilities.logging as manta_logging"
   ]
  },
  {
   "cell_type": "code",
   "execution_count": null,
   "metadata": {},
   "outputs": [],
   "source": [
    "# For this test, set the configuration environment variable for kubernetes.\n",
    "# here it is hard-coded for IPython execution, but in general, it is set in your system environment.\n",
    "manta_config.name_deployment_type()\n",
    "os.environ['USE_K8S_CLUSTER'] = 'true'\n",
    "manta_logging.logger.setLevel('INFO')\n",
    "\n",
    "# Get the configuration file path for this environment\n",
    "CONFIG_INI_PATH = manta_config.get_config_file_path()\n",
    "logging.info(\"Configuration file selected: {}\".format(CONFIG_INI_PATH))"
   ]
  },
  {
   "cell_type": "code",
   "execution_count": null,
   "metadata": {},
   "outputs": [],
   "source": [
    "\n",
    "# For now, the endpoints are hard-coded by the dev-ops team.\n",
    "endpoints_dict = {\n",
    "    'keeper-contracts': 'http://52.1.94.55:8545',\n",
    "    'pleuston': 'http://ac98d76bade8d11e89c320e965e714bc-981020006.us-east-1.elb.amazonaws.com:3000/',\n",
    "    'aquarius': 'http://ac8b5e618ef0511e88a360a98afc4587-575519081.us-east-1.elb.amazonaws.com:5000',\n",
    "    'brizo': 'http://ac8b8cc42ef0511e88a360a98afc4587-974193642.us-east-1.elb.amazonaws.com:8030',\n",
    "    'secret_store' : 'https://secret-store.dev-ocean.com'\n",
    "}\n",
    "# endpoints_dict['aquarius Swagger documentation'] = endpoints_dict['aquarius'] + '/api/v1/docs/'\n",
    "# endpoints_dict['brizo Swagger documentation'] = endpoints_dict['brizo'] + '/api/v1/docs/'\n",
    "\n",
    "def check_endpoint(endpoint_name, endpoint_url, verb='GET', ):\n",
    "    \"\"\"HTTP Request on the given URL\"\"\"\n",
    "    res = requests.request(verb, endpoint_url)\n",
    "    logging.debug(\"{} : returns {}\".format(endpoint_name, res.status_code))\n",
    "    return res.status_code, res.content"
   ]
  },
  {
   "cell_type": "code",
   "execution_count": null,
   "metadata": {},
   "outputs": [],
   "source": [
    "# Iterate over the defined endpoints\n",
    "for endpoint in endpoints_dict:\n",
    "    with manta_logging.LoggerCritical():\n",
    "        print(\"Checking {}\".format(endpoint))\n",
    "        try:\n",
    "            code, status = check_endpoint(endpoint, endpoints_dict[endpoint])\n",
    "            print('\\t', endpoint, code, status)\n",
    "        except:\n",
    "            print('\\t Failed!')"
   ]
  },
  {
   "cell_type": "code",
   "execution_count": null,
   "metadata": {},
   "outputs": [],
   "source": [
    "# Finally, attempt to instantiate the Ocean API with the configured endpoints\n",
    "with manta_logging.LoggerCritical():\n",
    "    ocn = ocean.Ocean(CONFIG_INI_PATH)\n",
    "print(\"*******************\")\n",
    "print(\"Ocean successfully instantiated with kubernetes!\")"
   ]
  }
 ],
 "metadata": {
  "jupytext": {
   "main_language": "python",
   "text_representation": {
    "extension": ".py",
    "format_name": "percent"
   }
  }
 },
 "nbformat": 4,
 "nbformat_minor": 2
}
