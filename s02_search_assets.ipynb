{
 "cells": [
  {
   "cell_type": "markdown",
   "metadata": {},
   "source": [
    "\n",
    "<p><img src=\"https://oceanprotocol.com/static/media/banner-ocean-03@2x.b7272597.png\" alt=\"drawing\" width=\"800\" align=\"center\"/>"
   ]
  },
  {
   "cell_type": "markdown",
   "metadata": {
    "lines_to_next_cell": 2
   },
   "source": [
    "\n",
    "<h1><center>Ocean Protocol - Manta Ray project</center></h1>\n",
    "<h3><center>Decentralized Data Science and Engineering, powered by Ocean Protocol</center></h3>\n",
    "<p>Version 0.2 - alpha preview</p>\n",
    "<p><a href=\"https://github.com/oceanprotocol/mantaray\">mantaray on Github</a></p>\n",
    "<p>"
   ]
  },
  {
   "cell_type": "markdown",
   "metadata": {},
   "source": [
    "# Getting Underway - Searching and listing registered assets\n",
    "In this notebook,\n",
    "TODO: description\n",
    "TODO: This script needs to be updated for Alpha!"
   ]
  },
  {
   "cell_type": "markdown",
   "metadata": {},
   "source": [
    "### Section 0: Import modules, and setup logging"
   ]
  },
  {
   "cell_type": "code",
   "execution_count": null,
   "metadata": {},
   "outputs": [],
   "source": [
    "# Standard imports\n",
    "import sys\n",
    "import logging\n",
    "from pathlib import Path\n",
    "import squid_py\n",
    "from squid_py.ocean.ocean import Ocean\n",
    "import requests\n",
    "import json\n",
    "import os\n",
    "import urllib\n",
    "\n",
    "# Import mantaray and the Ocean API (squid)\n",
    "import squid_py\n",
    "from squid_py.ocean.ocean import Ocean\n",
    "import mantaray_utilities.config as manta_config\n",
    "import mantaray_utilities.logging as manta_logging\n",
    "import mantaray_utilities.user as manta_user\n",
    "import mantaray_utilities.asset_pretty_print as manta_print\n",
    "\n",
    "# Setup logging\n",
    "manta_logging.logger.setLevel('INFO')"
   ]
  },
  {
   "cell_type": "code",
   "execution_count": null,
   "metadata": {},
   "outputs": [],
   "source": [
    "# Get the configuration file path for this environment\n",
    "os.environ['USE_K8S_CLUSTER'] = 'true'\n",
    "CONFIG_INI_PATH = manta_config.get_config_file_path()\n",
    "logging.info(\"Deployment type: {}\".format(manta_config.get_deployment_type()))\n",
    "logging.info(\"Configuration file selected: {}\".format(CONFIG_INI_PATH))\n",
    "logging.info(\"Squid API version: {}\".format(squid_py.__version__))"
   ]
  },
  {
   "cell_type": "markdown",
   "metadata": {
    "lines_to_next_cell": 0
   },
   "source": [
    "### Section 1: Assets in the MetaData store (Aquarius)\n",
    "Anyone can search assets in the public metadata stores"
   ]
  },
  {
   "cell_type": "code",
   "execution_count": null,
   "metadata": {},
   "outputs": [],
   "source": [
    "\n",
    "ocn = Ocean(config_file=CONFIG_INI_PATH)"
   ]
  },
  {
   "cell_type": "markdown",
   "metadata": {
    "lines_to_next_cell": 0
   },
   "source": [
    "The Metadata store is a database wrapped with a REST API\n",
    "For all the functionality, see the Swagger documentation"
   ]
  },
  {
   "cell_type": "code",
   "execution_count": null,
   "metadata": {},
   "outputs": [],
   "source": [
    "res = urllib.parse.urlparse(ocn.metadata_store._base_url)\n",
    "print(\"Aquarius service, REST API base URL: {}://{}\".format(res.scheme, res.netloc))\n",
    "print(\"Aquarius service, Swagger: {}://{}/api/v1/docs/\".format(res.scheme, res.netloc))\n",
    "res = urllib.parse.urlparse(ocn.config.brizo_url)\n",
    "# TODO: The Swagger page does not correctly populate the /spec endpoint. Enter manually the URL/spec!"
   ]
  },
  {
   "cell_type": "markdown",
   "metadata": {
    "lines_to_next_cell": 0
   },
   "source": [
    "Brizo is an interface for asset access control."
   ]
  },
  {
   "cell_type": "code",
   "execution_count": null,
   "metadata": {
    "lines_to_next_cell": 0
   },
   "outputs": [],
   "source": [
    "# TODO: Brizo is not part of squid,\n",
    "# print(\"Brizo service, REST API base URL: {}://{}\".format(res.scheme, res.netloc))\n",
    "# print(\"Brizo service, Swagger: {}://{}/api/v1/docs/\".format(res.scheme, res.netloc))\n",
    "# http://ac8b5e618ef0511e88a360a98afc4587-575519081.us-east-1.elb.amazonaws.com:5000/spec"
   ]
  },
  {
   "cell_type": "markdown",
   "metadata": {
    "lines_to_next_cell": 0
   },
   "source": [
    "All stored assets can be listed. This is typically not done in production, as the list would be too large.\n",
    "For demonstration purposes, we can access the REST API directly, first retrieve their DID string;"
   ]
  },
  {
   "cell_type": "code",
   "execution_count": null,
   "metadata": {
    "lines_to_next_cell": 0
   },
   "outputs": [],
   "source": [
    "all_dids = ocn.metadata_store.list_assets()\n",
    "print(\"There are {} assets registered in the metadata store.\".format(len(all_dids)))\n",
    "\n",
    "for i, did in enumerate(all_dids):\n",
    "    this_metadata = ocn.metadata_store.get_asset_metadata(did)\n",
    "    print(i, did)\n",
    "\n",
    "# first_did = all_dids[0]\n",
    "# first_id = first_did.split(':')[-1]\n",
    "# first_id_int = int(first_id,16)"
   ]
  },
  {
   "cell_type": "markdown",
   "metadata": {
    "lines_to_next_cell": 0
   },
   "source": [
    "Then, the assets can be retrieved;"
   ]
  },
  {
   "cell_type": "code",
   "execution_count": null,
   "metadata": {},
   "outputs": [],
   "source": [
    "# TODO: Fix!\n",
    "ocn.get_asset(first_did)\n",
    "this_asset_endpoint = ocn.metadata_store._base_url  + '/' + first_did\n",
    "result = requests.get(this_asset_endpoint).content"
   ]
  },
  {
   "cell_type": "markdown",
   "metadata": {
    "lines_to_next_cell": 0
   },
   "source": [
    "These assets can also be searched, the Asset class is returned from a search"
   ]
  },
  {
   "cell_type": "code",
   "execution_count": null,
   "metadata": {
    "lines_to_next_cell": 2,
    "title": "A full text search is implemented"
   },
   "outputs": [],
   "source": [
    "sample_meta_data = squid_py.ddo.metadata.Metadata.get_example()\n",
    "\n",
    "ocn.search_assets('Random Text')\n",
    "ocn.search_assets('')\n",
    "ocn.search_assets('asdfasdfasdf')\n",
    "res = ocn.search_assets('Hello do not give me csv')\n",
    "this = res[0]\n",
    "this.asset_id\n",
    "this.did\n",
    "ocn.search_assets('Ocean')\n",
    "ocn.search_assets('id')\n",
    "ocn.search_assets('compression')\n",
    "ocn.search_assets('contenttype = csv')\n",
    "\n",
    "\n",
    "for asset in ocn.search_assets('Ocean'):\n",
    "    print(\"\\nASSET FOUND:\", asset)\n",
    "    print('Asset:')\n",
    "    util_pprint.print_asset(asset)\n",
    "    print('DDO:')\n",
    "    util_pprint.print_ddo(asset.ddo)"
   ]
  },
  {
   "cell_type": "markdown",
   "metadata": {},
   "source": [
    "Finally, assets can be deleted from the store\n",
    "result = requests.get(ocn.metadata_store._base_url).content\n",
    "all_dids = json.loads(result)['ids']\n",
    "for i, did in enumerate(all_dids):\n",
    "    print(\"Deleting\", did)\n",
    "    ocn.metadata_store.retire_asset_metadata(did)"
   ]
  }
 ],
 "metadata": {
  "jupytext": {
   "main_language": "python",
   "text_representation": {
    "extension": ".py",
    "format_name": "percent"
   }
  }
 },
 "nbformat": 4,
 "nbformat_minor": 2
}
