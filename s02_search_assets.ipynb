{
 "cells": [
  {
   "cell_type": "markdown",
   "metadata": {},
   "source": [
    "\n",
    "<p><img src=\"https://oceanprotocol.com/static/media/banner-ocean-03@2x.b7272597.png\" alt=\"drawing\" width=\"800\" align=\"center\"/>"
   ]
  },
  {
   "cell_type": "markdown",
   "metadata": {
    "lines_to_next_cell": 2
   },
   "source": [
    "\n",
    "<h1><center>Ocean Protocol - Manta Ray project</center></h1>\n",
    "<h3><center>Decentralized Data Science and Engineering, powered by Ocean Protocol</center></h3>\n",
    "<p>Version 0.3 - alpha preview</p>\n",
    "<p><a href=\"https://github.com/oceanprotocol/mantaray\">mantaray on Github</a></p>\n",
    "<p>"
   ]
  },
  {
   "cell_type": "markdown",
   "metadata": {},
   "source": [
    "# Getting Underway - Listing and searching registered assets\n",
    "In this notebook, we will explore the concept of Assets. An Asset has an ID\n",
    "(actually a 'decentralized' ID, called **DID**!).\n",
    "\n",
    "An Asset also has a document which describes the Asset and how to # authorize and gain access (i.e. purchase the asset).\n",
    "This document is called a **DDO**, the DID Document. For Data Scientists, the DDO attribute of note is the 'metadata'\n",
    "attribute. Metadata is used to describe your asset, for example the name and description of a Data Set.\n",
    "\n",
    "The DID is stored in the blockchain. The DDO is stored in a public searchable database, wrapped by the Aquarius\n",
    "component.\n",
    "\n",
    "*Note to the reader: This is a testnet: a simulated blockchain and simulated DDO store. This testnet is open to the\n",
    "public, and therefore may change state in unexpected ways (your asset might get deleted, etc.)*"
   ]
  },
  {
   "cell_type": "markdown",
   "metadata": {},
   "source": [
    "Further reading!\n",
    "\n",
    "[W3C early draft standard 'Decentralized Identifiers (DIDs)'](https://w3c-ccg.github.io/did-spec/)\n",
    "\n",
    "[OEP 7 - Ocean Protocol standard for 'Decentralized Identifiers'](https://github.com/oceanprotocol/OEPs/tree/master/7)\n",
    "\n",
    "[OEP 7 - Ocean Protocol standard for 'Assets Metadata Ontology'](https://github.com/oceanprotocol/OEPs/tree/master/8)\n"
   ]
  },
  {
   "cell_type": "markdown",
   "metadata": {},
   "source": [
    "### Section 0: Import modules, and setup logging"
   ]
  },
  {
   "cell_type": "code",
   "execution_count": null,
   "metadata": {
    "lines_to_next_cell": 0
   },
   "outputs": [],
   "source": [
    "# Standard imports\n",
    "import logging\n",
    "import urllib\n",
    "import os\n",
    "\n",
    "# Import mantaray and the Ocean API (squid)\n",
    "import squid_py\n",
    "from squid_py.ocean.ocean import Ocean\n",
    "from squid_py.config import Config\n",
    "import mantaray_utilities.config as manta_config\n",
    "import mantaray_utilities.logging as manta_logging\n",
    "import mantaray_utilities.asset_pretty_print as manta_print\n",
    "\n",
    "# Setup logging\n",
    "manta_logging.logger.setLevel('CRITICAL')\n",
    "# manta_logging.logger.setLevel('DEBUG')\n",
    "# os.environ['USE_K8S_CLUSTER'] = 'True' # Enable this for testing local -> AWS setup"
   ]
  },
  {
   "cell_type": "code",
   "execution_count": null,
   "metadata": {},
   "outputs": [],
   "source": [
    "# Get the configuration file path for this environment\n",
    "# os.environ['USE_K8S_CLUSTER'] = 'true'\n",
    "CONFIG_INI_PATH = manta_config.get_config_file_path()\n",
    "logging.critical(\"Deployment type: {}\".format(manta_config.get_deployment_type()))\n",
    "logging.critical(\"Configuration file selected: {}\".format(CONFIG_INI_PATH))\n",
    "logging.critical(\"Squid API version: {}\".format(squid_py.__version__))"
   ]
  },
  {
   "cell_type": "markdown",
   "metadata": {
    "lines_to_next_cell": 0
   },
   "source": [
    "### Section 1: Assets in the MetaData store (Aquarius)\n",
    "Anyone can search assets in the public metadata stores"
   ]
  },
  {
   "cell_type": "code",
   "execution_count": null,
   "metadata": {},
   "outputs": [],
   "source": [
    "configuration = Config(CONFIG_INI_PATH)\n",
    "ocn = Ocean(configuration)"
   ]
  },
  {
   "cell_type": "markdown",
   "metadata": {},
   "source": [
    "The Metadata store is a database wrapped with a REST API\n",
    "For all the functionality, see the Swagger documentation"
   ]
  },
  {
   "cell_type": "code",
   "execution_count": null,
   "metadata": {},
   "outputs": [],
   "source": [
    "res = urllib.parse.urlparse(ocn.metadata_store._base_url)\n",
    "print(\"Aquarius service, base URL: {}://{}\".format(res.scheme, res.netloc))\n",
    "print(\"Aquarius service, Swagger: {}://{}/api/v1/docs/\".format(res.scheme, res.netloc))\n",
    "res = urllib.parse.urlparse(ocn.config['resources']['brizo.url'])\n",
    "print(\"Brizo service, base URL: {}://{}\".format(res.scheme, res.netloc))\n",
    "print(\"Brizo service, Swagger: {}://{}/api/v1/docs/\".format(res.scheme, res.netloc))\n",
    "# TODO: The Swagger page does not correctly populate the /spec endpoint. Enter the URL/spec manually!"
   ]
  },
  {
   "cell_type": "markdown",
   "metadata": {},
   "source": [
    "### Section 2: Listing registered asset metadata in Aquarius\n",
    "All stored assets can be listed. This is typically not done in production, as the list would be too large.\n",
    "First retrieve a list of all DID's (Decentralized IDentifiers) from Aquarius."
   ]
  },
  {
   "cell_type": "code",
   "execution_count": null,
   "metadata": {},
   "outputs": [],
   "source": [
    "all_dids = ocn.metadata_store.list_assets()\n",
    "assert len(all_dids), \"There are no assets registered, go to s03_publish_and_register!\"\n",
    "print(\"There are {} assets registered in the metadata store.\".format(len(all_dids)))"
   ]
  },
  {
   "cell_type": "markdown",
   "metadata": {
    "lines_to_next_cell": 0
   },
   "source": [
    "Aquarius is a document store, with the key being the DID, and the document being the DDO\n",
    "(DID Document). The DDO describes the asset (metadata) and how to access it (Service Execution Agreement).\n",
    "For more information on these topics, please visit the Ocean Protocol standards;\n",
    "\n",
    "[OEP 7 - Decentralized Identifiers](https://github.com/oceanprotocol/OEPs/tree/master/7)\n",
    "\n",
    "[OEP 7 - Decentralized Identifiers](https://github.com/oceanprotocol/OEPs/tree/master/8\n",
    "\n",
    "Let's select an asset for inspection (Note, since the database is stateful, this can easily change/break,\n",
    "so try with another index or register your own asset first!)"
   ]
  },
  {
   "cell_type": "code",
   "execution_count": null,
   "metadata": {},
   "outputs": [],
   "source": [
    "this_did = all_dids[-1]\n",
    "print(\"Selected DID:\", this_did)"
   ]
  },
  {
   "cell_type": "code",
   "execution_count": null,
   "metadata": {},
   "outputs": [],
   "source": [
    "# Iterating over all DID's: (can be very slow!)\n",
    "# for i, did in enumerate(all_dids):\n",
    "#     this_ddo= ocn.metadata_store.get_asset_metadata(did)\n",
    "#     print(i, did)"
   ]
  },
  {
   "cell_type": "markdown",
   "metadata": {
    "lines_to_next_cell": 0
   },
   "source": [
    "### Section 3: Low level access: getting a DID Document from Aquarius"
   ]
  },
  {
   "cell_type": "markdown",
   "metadata": {
    "lines_to_next_cell": 0
   },
   "source": [
    "The DDO can be retrieved direct from Aquarius, as a dictionary object\n",
    "\n",
    "A DDO has information regarding authentication, access control, and more\n",
    "\n",
    "First, we will retrieve the 'metadata' of the Asset"
   ]
  },
  {
   "cell_type": "code",
   "execution_count": null,
   "metadata": {},
   "outputs": [],
   "source": [
    "aquarius_metadata = ocn.metadata_store.get_asset_metadata(this_did)\n",
    "print(\"Asset name:\", aquarius_metadata['base']['name'])\n",
    "print(\"Asset description:\", aquarius_metadata['base']['description'])\n",
    "print(\"Asset size:\", aquarius_metadata['base']['size'])"
   ]
  },
  {
   "cell_type": "markdown",
   "metadata": {},
   "source": [
    "The proper way to retrieve an asset is to **resolve** it from the Blockchain and return an Asset.\n",
    "Instead of accessing the Aquarius database directly,\n",
    "a DDO can be resolved from the DID on the blockchain, which first checks if the DID exists on chain,\n",
    "and then performs the Aquarius access to return a DDO instance. A DDO instance is essentially the same as\n",
    "a dictionary object."
   ]
  },
  {
   "cell_type": "code",
   "execution_count": null,
   "metadata": {},
   "outputs": [],
   "source": [
    "# Get the entire DDO\n",
    "resolved_ddo = ocn.resolve_asset_did(this_did)\n",
    "# The Metadata is part of the DDO!\n",
    "aquarius_metadata_svc = [svc for svc in resolved_ddo._services if svc._type == 'Metadata'][0]\n",
    "aquarius_metadata = aquarius_metadata_svc._values['metadata']\n",
    "print(\"Asset name:\", aquarius_metadata['base']['name'])\n",
    "print(\"Asset description:\", aquarius_metadata['base']['description'])\n",
    "print(\"Asset size:\", aquarius_metadata['base']['size'])\n",
    "\n"
   ]
  },
  {
   "cell_type": "markdown",
   "metadata": {},
   "source": [
    "### Section 4: Searching the Ocean\n",
    "Aquarius supports query search. A list of [Asset class] is returned from a search call.\n",
    "\n",
    "Currently, Aquarius is running MongoDB. For detailed query documentation, see the\n",
    "[documentation](https://docs.mongodb.com/manual/reference/method/db.collection.find/)\n",
    "\n",
    "TODO: Wrap queries into Utilities for higher abstraction"
   ]
  },
  {
   "cell_type": "markdown",
   "metadata": {
    "lines_to_next_cell": 0
   },
   "source": [
    "To get started, the following query will return all documents with a 'metadata' service.\n",
    "\n",
    "First, the pure mongoDB Query is built according to the documentation\n",
    "\n",
    "We are checking if the 'metadata' field exists, this should return **ALL** Assets."
   ]
  },
  {
   "cell_type": "code",
   "execution_count": null,
   "metadata": {},
   "outputs": [],
   "source": [
    "basic_query = {\"service\":{\"$elemMatch\":{\"metadata\": {\"$exists\" : True }}}}\n",
    "search_results = ocn.search_assets(basic_query)\n",
    "print(\"Found {} assets\".format(len(search_results)))\n",
    "print_match_idx = -1\n",
    "if search_results:\n",
    "    print(\"Selected asset:\",search_results[print_match_idx])\n",
    "    manta_print.print_ddo(search_results[print_match_idx])\n",
    "# TODO: Update pretty-printer"
   ]
  },
  {
   "cell_type": "markdown",
   "metadata": {
    "lines_to_next_cell": 0
   },
   "source": [
    "The MongoDB search API supports pagination as well"
   ]
  },
  {
   "cell_type": "code",
   "execution_count": null,
   "metadata": {
    "lines_to_next_cell": 2
   },
   "outputs": [],
   "source": [
    "\n",
    "mongo_query = {\"service\":{\"$elemMatch\":{\"metadata\": {\"$exists\" : True }}}}\n",
    "full_paged_query = {\"offset\": 100, \"page\": 0, \"sort\": {\"value\": 1}, \"query\": mongo_query}\n",
    "search_results = ocn.search_assets(full_paged_query)\n",
    "print(\"Found {} assets\".format(len(search_results)))\n",
    "print_match_idx = -1\n",
    "if search_results:\n",
    "    print(\"Selected asset:\",search_results[print_match_idx])\n",
    "    manta_print.print_ddo(search_results[print_match_idx])"
   ]
  },
  {
   "cell_type": "markdown",
   "metadata": {
    "lines_to_next_cell": 0
   },
   "source": [
    "Next, let's find an exact name within the 'metadata' of the Asset"
   ]
  },
  {
   "cell_type": "code",
   "execution_count": null,
   "metadata": {},
   "outputs": [],
   "source": [
    "match_this_name = \"Ocean protocol white paper\"\n",
    "mongo_query = {\"service\":{\"$elemMatch\": {\"metadata\": {\"$exists\" : True }, \"metadata.base.name\": {'$eq':match_this_name } }}}\n",
    "search_results = ocn.search_assets(mongo_query)\n",
    "\n",
    "print(\"Found {} assets\".format(len(search_results)))\n",
    "print_match_idx = -1\n",
    "if search_results:\n",
    "    print(\"Selected asset:\",search_results[print_match_idx])\n",
    "    manta_print.print_ddo(search_results[print_match_idx])"
   ]
  },
  {
   "cell_type": "code",
   "execution_count": null,
   "metadata": {
    "title": "Finally, let's find a substring within the name. We will use a Regex in MongoDB."
   },
   "outputs": [],
   "source": [
    "match_this_substring = 'paper'\n",
    "mongo_query = {\"service\":{\"$elemMatch\": {\"metadata\": {\"$exists\" : True }, \"metadata.base.name\": {'$regex':match_this_substring}}}}\n",
    "full_paged_query = {\"offset\": 100, \"page\": 0, \"sort\": {\"value\": 1}, \"query\": mongo_query}\n",
    "\n",
    "search_results = ocn.search_assets(full_paged_query)\n",
    "\n",
    "print(\"Found {} assets\".format(len(search_results)))\n",
    "print_match_idx = -1\n",
    "if search_results:\n",
    "    print(\"Selected asset:\",search_results[print_match_idx])\n",
    "    manta_print.print_ddo(search_results[print_match_idx])"
   ]
  },
  {
   "cell_type": "markdown",
   "metadata": {},
   "source": [
    "### Section 5: Cleaning the Ocean\n",
    "A DID is registered on the blockchain, and can be resolved to a DID Document (DDO) as presented above.\n",
    "\n",
    "Since the DDO exists on Aquarius and not in the blockchain, the DDO itself can be deleted. The DID trace can never be\n",
    "deleted from the blockchain."
   ]
  },
  {
   "cell_type": "code",
   "execution_count": null,
   "metadata": {},
   "outputs": [],
   "source": [
    "\n",
    "if 0:\n",
    "    # Let's count how many ddo's are registered\n",
    "    all_dids = ocn.metadata_store.list_assets()\n",
    "    print(\"there are {} assets registered in the metadata store.\".format(len(all_dids)))\n",
    "\n",
    "    # let's delete the first ddo object.\n",
    "    first_ddo = all_dids[0]\n",
    "    print(\"selected ddo for deletion:\", first_ddo)\n",
    "    ocn.metadata_store.retire_asset_metadata(first_ddo)\n",
    "\n",
    "    # again, let's count how many ddo's are registered\n",
    "    all_dids = ocn.metadata_store.list_assets()\n",
    "    print(\"there are now {} assets registered in the metadata store.\".format(len(all_dids)))"
   ]
  },
  {
   "cell_type": "code",
   "execution_count": null,
   "metadata": {},
   "outputs": [],
   "source": [
    "# Deleting all assets!\n",
    "# Please don't delete all the assets, as other users may be testing the components!\n",
    "if 0:\n",
    "    all_dids = ocn.metadata_store.list_assets()\n",
    "    for i, did in enumerate(all_dids):\n",
    "        print(\"Deleting DDO {} - {}\".format(i, did))\n",
    "        ocn.metadata_store.retire_asset_ddo(did)"
   ]
  }
 ],
 "metadata": {
  "jupytext": {
   "main_language": "python",
   "text_representation": {
    "extension": ".py",
    "format_name": "percent"
   }
  }
 },
 "nbformat": 4,
 "nbformat_minor": 2
}
