{
 "cells": [
  {
   "cell_type": "markdown",
   "metadata": {},
   "source": [
    "\n",
    "<p><img src=\"https://oceanprotocol.com/static/media/banner-ocean-03@2x.b7272597.png\" alt=\"drawing\" width=\"800\" align=\"center\"/>"
   ]
  },
  {
   "cell_type": "markdown",
   "metadata": {
    "lines_to_next_cell": 2
   },
   "source": [
    "\n",
    "<h1><center>Ocean Protocol - Manta Ray project</center></h1>\n",
    "<h3><center>Decentralized Data Science and Engineering, powered by Ocean Protocol</center></h3>\n",
    "<p>Version 0.2 - alpha preview</p>\n",
    "<p><a href=\"https://github.com/oceanprotocol/mantaray\">mantaray on Github</a></p>\n",
    "<p>"
   ]
  },
  {
   "cell_type": "markdown",
   "metadata": {},
   "source": [
    "# Getting Underway - Listing and searching registered assets\n",
    "In this notebook, we will explore the concept of Assets. An Asset has an ID\n",
    "(actually a 'decentralized' ID, called **DID**!).\n",
    "\n",
    "An Asset also has a document which describes the Asset and how to # authorize and gain access (i.e. purchase the asset).\n",
    "This document is called a **DDO**, the DID Document. For Data Scientists, the DDO attribute of note is the 'metadata'\n",
    "attribute. Metadata is used to describe your asset, for example the name and description of a Data Set.\n",
    "\n",
    "The DID is stored in the blockchain. The DDO is stored in a public searchable database, wrapped by the Aquarius\n",
    "component."
   ]
  },
  {
   "cell_type": "markdown",
   "metadata": {},
   "source": [
    "Further reading!\n",
    "\n",
    "[W3C early draft standard 'Decentralized Identifiers (DIDs)'](https://w3c-ccg.github.io/did-spec/)\n",
    "\n",
    "[OEP 7 - Ocean Protocol standard for 'Decentralized Identifiers'](https://github.com/oceanprotocol/OEPs/tree/master/7)\n",
    "\n",
    "[OEP 7 - Ocean Protocol standard for 'Assets Metadata Ontology'](https://github.com/oceanprotocol/OEPs/tree/master/8)\n"
   ]
  },
  {
   "cell_type": "markdown",
   "metadata": {},
   "source": [
    "### Section 0: Import modules, and setup logging"
   ]
  },
  {
   "cell_type": "code",
   "execution_count": null,
   "metadata": {},
   "outputs": [],
   "source": [
    "# Standard imports\n",
    "import sys\n",
    "import logging\n",
    "from pathlib import Path\n",
    "import squid_py\n",
    "from squid_py.ocean.ocean import Ocean\n",
    "import requests\n",
    "import json\n",
    "import os\n",
    "import urllib\n",
    "\n",
    "# Import mantaray and the Ocean API (squid)\n",
    "import squid_py\n",
    "from squid_py.ocean.ocean import Ocean\n",
    "import mantaray_utilities.config as manta_config\n",
    "import mantaray_utilities.logging as manta_logging\n",
    "import mantaray_utilities.user as manta_user\n",
    "import mantaray_utilities.asset_pretty_print as manta_print\n",
    "\n",
    "# Setup logging\n",
    "manta_logging.logger.setLevel('INFO')"
   ]
  },
  {
   "cell_type": "code",
   "execution_count": null,
   "metadata": {},
   "outputs": [],
   "source": [
    "# Get the configuration file path for this environment\n",
    "os.environ['USE_K8S_CLUSTER'] = 'true'\n",
    "CONFIG_INI_PATH = manta_config.get_config_file_path()\n",
    "logging.info(\"Deployment type: {}\".format(manta_config.get_deployment_type()))\n",
    "logging.info(\"Configuration file selected: {}\".format(CONFIG_INI_PATH))\n",
    "logging.info(\"Squid API version: {}\".format(squid_py.__version__))"
   ]
  },
  {
   "cell_type": "markdown",
   "metadata": {
    "lines_to_next_cell": 0
   },
   "source": [
    "### Section 1: Assets in the MetaData store (Aquarius)\n",
    "Anyone can search assets in the public metadata stores"
   ]
  },
  {
   "cell_type": "code",
   "execution_count": null,
   "metadata": {},
   "outputs": [],
   "source": [
    "ocn = Ocean(config_file=CONFIG_INI_PATH)"
   ]
  },
  {
   "cell_type": "markdown",
   "metadata": {},
   "source": [
    "The Metadata store is a database wrapped with a REST API\n",
    "For all the functionality, see the Swagger documentation"
   ]
  },
  {
   "cell_type": "code",
   "execution_count": null,
   "metadata": {},
   "outputs": [],
   "source": [
    "res = urllib.parse.urlparse(ocn.metadata_store._base_url)\n",
    "print(\"Aquarius service, base URL: {}://{}\".format(res.scheme, res.netloc))\n",
    "print(\"Aquarius service, Swagger: {}://{}/api/v1/docs/\".format(res.scheme, res.netloc))\n",
    "res = urllib.parse.urlparse(ocn.config['resources']['brizo.url'])\n",
    "print(\"Brizo service, base URL: {}://{}\".format(res.scheme, res.netloc))\n",
    "print(\"Brizo service, Swagger: {}://{}/api/v1/docs/\".format(res.scheme, res.netloc))\n",
    "# TODO: The Swagger page does not correctly populate the /spec endpoint. Enter the URL/spec manually!"
   ]
  },
  {
   "cell_type": "markdown",
   "metadata": {},
   "source": [
    "### Section 2: Listing registered asset metadata in Aquarius\n",
    "All stored assets can be listed. This is typically not done in production, as the list would be too large.\n",
    "First retrieve a list of all DID's (Decentralized IDentifiers) from Aquarius."
   ]
  },
  {
   "cell_type": "code",
   "execution_count": null,
   "metadata": {},
   "outputs": [],
   "source": [
    "all_dids = ocn.metadata_store.list_assets()\n",
    "print(\"There are {} assets registered in the metadata store.\".format(len(all_dids)))"
   ]
  },
  {
   "cell_type": "markdown",
   "metadata": {
    "lines_to_next_cell": 0
   },
   "source": [
    "Aquarius is a document store, with the key being the DID, and the document being the DDO\n",
    "(DID Document). The DDO describes the asset (metadata) and how to access it (Service Execution Agreement).\n",
    "For more information on these topics, please visit the Ocean Protocol standards;\n",
    "\n",
    "[OEP 7 - Decentralized Identifiers](https://github.com/oceanprotocol/OEPs/tree/master/7)\n",
    "\n",
    "[OEP 7 - Decentralized Identifiers](https://github.com/oceanprotocol/OEPs/tree/master/8\n",
    "\n",
    "Let's select the first asset for inspection (Note, since the database is stateful, this can easily change/break,\n",
    "so try with another index or register your own asset first!)"
   ]
  },
  {
   "cell_type": "code",
   "execution_count": null,
   "metadata": {},
   "outputs": [],
   "source": [
    "this_did = all_dids[-1]\n",
    "print(\"Selected DID:\", this_did)"
   ]
  },
  {
   "cell_type": "code",
   "execution_count": null,
   "metadata": {},
   "outputs": [],
   "source": [
    "# Iterating over all DID's: (can be very slow!)\n",
    "# for i, did in enumerate(all_dids):\n",
    "#     this_ddo= ocn.metadata_store.get_asset_metadata(did)\n",
    "#     print(i, did)"
   ]
  },
  {
   "cell_type": "markdown",
   "metadata": {
    "lines_to_next_cell": 0
   },
   "source": [
    "### Section 3: Getting a DID Documents and Assets"
   ]
  },
  {
   "cell_type": "markdown",
   "metadata": {},
   "source": [
    "The DDO can be retrieved direct from Aquarius, as a dictionary object"
   ]
  },
  {
   "cell_type": "code",
   "execution_count": null,
   "metadata": {},
   "outputs": [],
   "source": [
    "# Get the DDO from Aquarius database\n",
    "# TODO: This method is incorrectly named, issue opened!\n",
    "aquarius_ddo = ocn.metadata_store.get_asset_metadata(this_did)\n",
    "\n",
    "# And an asset can be created from the DDO dictionary as follows;\n",
    "aquarius_asset = squid_py.ocean.asset.Asset(aquarius_ddo)\n",
    "print(\"Asset retrieved directly from Aquarius: {}, {}\".format(aquarius_asset.metadata['base']['name'], this_asset.did))"
   ]
  },
  {
   "cell_type": "markdown",
   "metadata": {},
   "source": [
    "A DDO can be resolved from the DID on the blockchain"
   ]
  },
  {
   "cell_type": "code",
   "execution_count": null,
   "metadata": {},
   "outputs": [],
   "source": [
    "resolved_ddo = ocn.resolve_did(this_did)"
   ]
  },
  {
   "cell_type": "markdown",
   "metadata": {
    "lines_to_next_cell": 0
   },
   "source": [
    "However, the proper way to retrieve an asset is to **resolve** it from the Blockchain;"
   ]
  },
  {
   "cell_type": "code",
   "execution_count": null,
   "metadata": {},
   "outputs": [],
   "source": [
    "\n",
    "# TODO: This is broken!\n",
    "resolved_asset = ocn.get_asset(this_did)\n",
    "print(resolved_asset)\n",
    "print(\"Resolved asset: {}, {}\".format(resolved_asset.metadata['base']['name'], this_asset.did))"
   ]
  },
  {
   "cell_type": "markdown",
   "metadata": {},
   "source": [
    "### Section 4: Searching the Ocean\n",
    "Aquarius supports query search. A list of [Asset class] is returned from a search call.\n",
    "\n",
    "Currently, Aquarius is running MongoDB. For detailed query documentation, see the\n",
    "[documentation](https://docs.mongodb.com/manual/reference/method/db.collection.find/)\n",
    "\n",
    "TODO: Wrap queries into Utilities for higher abstraction"
   ]
  },
  {
   "cell_type": "markdown",
   "metadata": {
    "lines_to_next_cell": 0
   },
   "source": [
    "To get started, the following query will return all documents with a 'metadata' service."
   ]
  },
  {
   "cell_type": "code",
   "execution_count": null,
   "metadata": {},
   "outputs": [],
   "source": [
    "# First, the pure mongoDB Query is built according to the documentation\n",
    "#\n",
    "# We are checking if the 'metadata' field exists, this should return all Assets.\n",
    "mongo_query = {\"service\":{\"$elemMatch\":{\"metadata\": {\"$exists\" : True }}}}\n",
    "full_paged_query = {\"offset\": 100, \"page\": 0, \"sort\": {\"value\": 1}, \"query\": mongo_query}\n",
    "\n",
    "search_results = ocn.search_assets(full_paged_query)\n",
    "print(\"Found {} assets\".format(len(search_results)))\n",
    "if search_results:\n",
    "    print(\"First match:\",search_results[0])\n",
    "    manta_print.print_ddo(search_results[0].ddo)\n",
    "# TODO: Update pretty-printer"
   ]
  },
  {
   "cell_type": "markdown",
   "metadata": {
    "lines_to_next_cell": 0
   },
   "source": [
    "Next, let's find an exact name within the 'metadata' of the Asset"
   ]
  },
  {
   "cell_type": "code",
   "execution_count": null,
   "metadata": {},
   "outputs": [],
   "source": [
    "match_this_name = \"Ocean protocol white paper\"\n",
    "mongo_query = {\"service\":{\"$elemMatch\": {\"metadata\": {\"$exists\" : True }, \"metadata.base.name\": {'$eq':match_this_name } }}}\n",
    "full_paged_query = {\"offset\": 100, \"page\": 0, \"sort\": {\"value\": 1}, \"query\": mongo_query}\n",
    "\n",
    "search_results = ocn.search_assets(full_paged_query)\n",
    "\n",
    "print(\"Found {} assets\".format(len(search_results)))\n",
    "if search_results:\n",
    "    print(\"First match:\",search_results[0])\n",
    "    manta_print.print_ddo(search_results[0].ddo)"
   ]
  },
  {
   "cell_type": "code",
   "execution_count": null,
   "metadata": {
    "title": "Finally, let's find a substring within the name. We will use a Regex in MongoDB."
   },
   "outputs": [],
   "source": [
    "match_this_substring = 'paper'\n",
    "mongo_query = {\"service\":{\"$elemMatch\": {\"metadata\": {\"$exists\" : True }, \"metadata.base.name\": {'$regex':match_this_substring}}}}\n",
    "full_paged_query = {\"offset\": 100, \"page\": 0, \"sort\": {\"value\": 1}, \"query\": mongo_query}\n",
    "\n",
    "search_results = ocn.search_assets(full_paged_query)\n",
    "\n",
    "print(\"Found {} assets\".format(len(search_results)))\n",
    "if search_results:\n",
    "    print(\"First match:\", search_results[0])\n",
    "    manta_print.print_asset(search_results[0])"
   ]
  },
  {
   "cell_type": "markdown",
   "metadata": {},
   "source": [
    "### Section 5: Cleaning the Ocean\n",
    "A DID is registered on the blockchain, and can be resolved to a DID Document (DDO) as presented above.\n",
    "\n",
    "Since the DDO exists on Aquarius and not in the blockchain, the DDO itself can be deleted. The DID trace can never be\n",
    "deleted from the blockchain."
   ]
  },
  {
   "cell_type": "code",
   "execution_count": null,
   "metadata": {},
   "outputs": [],
   "source": [
    "# Again, let's count how many DDO's are registered\n",
    "all_dids = ocn.metadata_store.list_assets()\n",
    "print(\"There are {} assets registered in the metadata store.\".format(len(all_dids)))\n",
    "\n",
    "# Let's delete the first DDO object.\n",
    "first_ddo = all_dids[0]\n",
    "print(\"Selected DDO for deletion:\", first_ddo)\n",
    "ocn.metadata_store.retire_asset_metadata(first_ddo)\n",
    "\n",
    "# Again, let's count how many DDO's are registered\n",
    "all_dids = ocn.metadata_store.list_assets()\n",
    "print(\"There are now {} assets registered in the metadata store.\".format(len(all_dids)))"
   ]
  },
  {
   "cell_type": "code",
   "execution_count": null,
   "metadata": {},
   "outputs": [],
   "source": [
    "# Deleting all assets!\n",
    "# Please don't delete all the assets, as other users may be testing the components!\n",
    "\n",
    "# all_dids = ocn.metadata_store.list_assets()\n",
    "# for i, did in enumerate(all_dids):\n",
    "#     print(\"Deleting DDO {} - {}\".format(i, did))\n",
    "#     ocn.metadata_store.retire_asset_metadata(did)"
   ]
  }
 ],
 "metadata": {
  "jupytext": {
   "main_language": "python",
   "text_representation": {
    "extension": ".py",
    "format_name": "percent"
   }
  }
 },
 "nbformat": 4,
 "nbformat_minor": 2
}
