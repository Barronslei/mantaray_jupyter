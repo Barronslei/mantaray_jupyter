{
 "cells": [
  {
   "cell_type": "markdown",
   "metadata": {},
   "source": [
    "\n",
    "<p><img src=\"https://oceanprotocol.com/static/media/banner-ocean-03@2x.b7272597.png\" alt=\"drawing\" width=\"800\" align=\"center\"/>"
   ]
  },
  {
   "cell_type": "markdown",
   "metadata": {},
   "source": [
    "\n",
    "<h1><center>Ocean Protocol - Manta Ray project</center></h1>\n",
    "<h3><center>Decentralized Data Science and Engineering, powered by Ocean Protocol</center></h3>\n",
    "<p>Version 0.2 - Trilobite preview</p>\n",
    "<p><a href=\"https://github.com/oceanprotocol/mantaray\">mantaray on Github</a></p>\n",
    "<p>"
   ]
  },
  {
   "cell_type": "markdown",
   "metadata": {},
   "source": [
    "🌊🌊🌊🌊🌊🌊🌊🌊🌊🌊🌊🌊🌊🌊🌊🌊🐬🌊🌊🌊🌊🌊🌊🌊🌊🌊🌊🐬🌊🌊🌊🌊🌊🌊🌊🌊🌊🌊🌊🌊🌊🌊"
   ]
  },
  {
   "cell_type": "markdown",
   "metadata": {
    "lines_to_next_cell": 0
   },
   "source": [
    "<p>"
   ]
  },
  {
   "cell_type": "markdown",
   "metadata": {},
   "source": [
    "## Building Blocks: Publishing assets\n",
    "In this notebook, TODO: description"
   ]
  },
  {
   "cell_type": "markdown",
   "metadata": {
    "lines_to_next_cell": 0
   },
   "source": [
    "### Section 0: Housekeeping, import modules, and setup logging"
   ]
  },
  {
   "cell_type": "code",
   "execution_count": null,
   "metadata": {},
   "outputs": [],
   "source": [
    "import pathlib\n",
    "import sys\n",
    "import logging\n",
    "from pathlib import Path\n",
    "import squid_py\n",
    "from squid_py.ocean.ocean import Ocean\n",
    "\n",
    "# Add the local utilities package\n",
    "utilities_path = Path('.') / 'script_fixtures'\n",
    "if not utilities_path.exists():\n",
    "    utilities_path = Path('.') / '..' / '..' / 'script_fixtures'\n",
    "assert utilities_path.exists()\n",
    "\n",
    "#Get the project root path\n",
    "PATH_PROJECT_ROOT = utilities_path / '..'\n",
    "PATH_PROJECT_ROOT.absolute()\n",
    "\n",
    "utilities_path_str = str(utilities_path.absolute())\n",
    "if utilities_path_str not in sys.path:\n",
    "    sys.path.append(utilities_path_str)\n",
    "\n",
    "import script_fixtures.logging as util_logging\n",
    "util_logging.logger.setLevel('INFO')\n",
    "\n",
    "import script_fixtures.user as user\n",
    "logging.info(\"Squid API version: {}\".format(squid_py.__version__))"
   ]
  },
  {
   "cell_type": "markdown",
   "metadata": {
    "lines_to_next_cell": 0
   },
   "source": [
    "### Section 1: Instantiate a simulated User\n",
    "A 'User' in an abstract class representing a user of Ocean Protocol\n",
    "\n",
    "Follow the most notorious pirate Edward Teach (Blackbeard) as he tries to register an asset into Ocean Protocol\n",
    "<a title=\"Engraved by Benjamin Cole (1695–1766) [Public domain], via Wikimedia Commons\" href=\"https://commons.wikimedia.org/wiki/File:Bbeard_Sword.jpg\"><img width=\"256\" alt=\"Bbeard Sword\" src=\"https://upload.wikimedia.org/wikipedia/commons/thumb/f/f2/Bbeard_Sword.jpg/256px-Bbeard_Sword.jpg\"></a>"
   ]
  },
  {
   "cell_type": "code",
   "execution_count": null,
   "metadata": {
    "lines_to_next_cell": 0
   },
   "outputs": [],
   "source": [
    "# The contract addresses are loaded from file\n",
    "PATH_CONFIG = pathlib.Path.cwd() / 'config_local.ini'\n",
    "assert PATH_CONFIG.exists(), \"{} does not exist\".format(PATH_CONFIG)\n",
    "\n",
    "ocn = Ocean(config_file=PATH_CONFIG)"
   ]
  },
  {
   "cell_type": "code",
   "execution_count": null,
   "metadata": {},
   "outputs": [],
   "source": [
    "print(\"HTTP Client:\")\n",
    "print(ocn._http_client)\n",
    "print(\"Secret Store Client:\")\n",
    "print(ocn._secret_store_client)"
   ]
  },
  {
   "cell_type": "code",
   "execution_count": null,
   "metadata": {},
   "outputs": [],
   "source": [
    "# This utility function gets all simulated accounts\n",
    "users = user.get_all_users(ocn.accounts)\n",
    "\n",
    "# We don't need this ocn instance reference anymore\n",
    "del ocn\n",
    "\n",
    "# Let's take the first unlocked account, and name it the Publisher\n",
    "publisher1 = [u for u in users if not u.locked][0]\n",
    "publisher1.name = \"Edward Teach\"\n",
    "publisher1.role = \"Publisher\"\n",
    "print(publisher1)\n",
    "\n",
    "assert publisher1.ocn._http_client.__name__ == 'requests'\n",
    "assert publisher1.ocn._secret_store_client.__name__ == 'Client'"
   ]
  },
  {
   "cell_type": "markdown",
   "metadata": {},
   "source": [
    "### Section 2: Create your MetaData for your asset\n",
    "A more complex use case is to manually generate your metadata conforming to Ocean standard\n",
    "Metadata is a dictionary, as follows:"
   ]
  },
  {
   "cell_type": "code",
   "execution_count": null,
   "metadata": {},
   "outputs": [],
   "source": [
    "# Get a simple example of a Metadata object from the library directly\n",
    "metadata = squid_py.ddo.metadata.Metadata.get_example()\n",
    "print('Name of asset:',metadata['base']['name'])"
   ]
  },
  {
   "cell_type": "markdown",
   "metadata": {
    "lines_to_next_cell": 0
   },
   "source": [
    "### Section X: Get the Service Execution Agreement (SEA) template for an Asset\n",
    "(An asset is consumed by simple download of files, such as datasets)"
   ]
  },
  {
   "cell_type": "code",
   "execution_count": null,
   "metadata": {},
   "outputs": [],
   "source": [
    "# Get the path of the SEA\n",
    "SEA_template_path = squid_py.service_agreement.utils.get_sla_template_path()\n",
    "\n",
    "# Get the ID of this SEA\n",
    "template_id = squid_py.service_agreement.utils.register_service_agreement_template(\n",
    "    publisher1.ocn.keeper.service_agreement,\n",
    "    publisher1.ocn.keeper.contract_path,\n",
    "    publisher1.ocn.main_account,\n",
    "    squid_py.service_agreement.service_agreement_template.ServiceAgreementTemplate.from_json_file(SEA_template_path)\n",
    ")\n",
    "print(template_id)"
   ]
  },
  {
   "cell_type": "markdown",
   "metadata": {
    "lines_to_next_cell": 0
   },
   "source": [
    "### Section X: Confirm your service endpoints with Brizo (services handler for Publishers)"
   ]
  },
  {
   "cell_type": "code",
   "execution_count": null,
   "metadata": {},
   "outputs": [],
   "source": [
    "# brizo_url = 'http://172.15.0.17:8030' # For now, this is hardcoded\n",
    "brizo_url = publisher1.ocn.config.get('resources','brizo.url')\n",
    "# TODO: Discussion on whether Squid should have an API to Brizo?\n",
    "\n",
    "\n",
    "\n",
    "brizo_base_url = '/api/v1/brizo'\n",
    "purchase_endpoint = '{}{}/services/access/initialize'.format(brizo_url, brizo_base_url)\n",
    "service_endpoint = '{}{}/services/consume'.format(brizo_url, brizo_base_url)\n",
    "print(\"Endpoints:\")\n",
    "print(\"purchase_endpoint:\", purchase_endpoint)\n",
    "print(\"service_endpoint:\", service_endpoint)\n",
    "\n",
    "# A service descriptor function is used to build a service\n",
    "this_service_desc = squid_py.service_agreement.service_factory.ServiceDescriptor.access_service_descriptor"
   ]
  },
  {
   "cell_type": "markdown",
   "metadata": {},
   "source": [
    "In this case, the service will have a type of:\n",
    "\n",
    "`ServiceTypes.ASSET_ACCESS`\n",
    "\n",
    "And needs to be instantiated with the following attributes:\n",
    "\n",
    "`price, purchase_endpoint, service_endpoint, timeout, template_id`"
   ]
  },
  {
   "cell_type": "code",
   "execution_count": null,
   "metadata": {
    "lines_to_next_cell": 0
   },
   "outputs": [],
   "source": [
    "# Register this asset into Ocean\n",
    "ddo = publisher1.ocn.register_asset(\n",
    "    metadata, publisher1.ocn.main_account.address,\n",
    "    [this_service_desc(7, purchase_endpoint, service_endpoint, 360, template_id)]\n",
    ")\n",
    "print(\"DDO created and registered!\")"
   ]
  },
  {
   "cell_type": "code",
   "execution_count": null,
   "metadata": {
    "lines_to_next_cell": 3
   },
   "outputs": [],
   "source": [
    "# Inspect the new DDO\n",
    "print(\"did:\", ddo.did)\n",
    "print(\"Services:\")\n",
    "for svc in ddo.services:\n",
    "    if 'conditions' in svc._values:\n",
    "        num_conditions = len(svc._values['conditions'])\n",
    "    else:\n",
    "        num_conditions = 0\n",
    "    print(\"\\t{} service with {} conditions\".format(svc._type,num_conditions))\n",
    "    if 'conditions' in svc._values:\n",
    "        for condition in svc._values['conditions']:\n",
    "            params = [p.name for p in condition.parameters]\n",
    "            param_string = \", \".join(params)\n",
    "            print(\"\\t\\t{}.{}({})\".format(condition.contract_name,condition.function_name,param_string))"
   ]
  }
 ],
 "metadata": {
  "jupytext": {
   "main_language": "python",
   "text_representation": {
    "extension": ".py",
    "format_name": "percent"
   }
  }
 },
 "nbformat": 4,
 "nbformat_minor": 2
}
