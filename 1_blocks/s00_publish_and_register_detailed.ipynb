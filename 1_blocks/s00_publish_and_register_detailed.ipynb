{
 "cells": [
  {
   "cell_type": "markdown",
   "metadata": {},
   "source": [
    "\n",
    "<p><img src=\"https://oceanprotocol.com/static/media/banner-ocean-03@2x.b7272597.png\" alt=\"drawing\" width=\"800\" align=\"center\"/>"
   ]
  },
  {
   "cell_type": "markdown",
   "metadata": {},
   "source": [
    "\n",
    "<h1><center>Ocean Protocol - Manta Ray project</center></h1>\n",
    "<h3><center>Decentralized Data Science and Engineering, powered by Ocean Protocol</center></h3>\n",
    "<p>Version 0.2 - Trilobite preview</p>\n",
    "<p><a href=\"https://github.com/oceanprotocol/mantaray\">mantaray on Github</a></p>\n",
    "<p>"
   ]
  },
  {
   "cell_type": "markdown",
   "metadata": {},
   "source": [
    "🌊🌊🌊🌊🌊🌊🌊🌊🌊🌊🌊🌊🌊🌊🌊🌊🐬🌊🌊🌊🌊🌊🌊🌊🌊🌊🌊🐬🌊🌊🌊🌊🌊🌊🌊🌊🌊🌊🌊🌊🌊🌊"
   ]
  },
  {
   "cell_type": "markdown",
   "metadata": {
    "lines_to_next_cell": 0
   },
   "source": [
    "<p>"
   ]
  },
  {
   "cell_type": "markdown",
   "metadata": {},
   "source": [
    "## Building Blocks: Publishing assets\n",
    "In this notebook, TODO: description"
   ]
  },
  {
   "cell_type": "markdown",
   "metadata": {
    "lines_to_next_cell": 0
   },
   "source": [
    "### Section 1: Import modules, and setup logging"
   ]
  },
  {
   "cell_type": "code",
   "execution_count": null,
   "metadata": {},
   "outputs": [],
   "source": [
    "import pathlib\n",
    "import sys\n",
    "import logging\n",
    "\n",
    "import squid_py\n",
    "from squid_py.ocean.ocean import Ocean\n",
    "from squid_py.service_agreement.service_factory import ServiceDescriptor\n",
    "\n",
    "# Add the local utilities package\n",
    "utilities_path = Path('.') / 'script_fixtures'\n",
    "if not utilities_path.exists():\n",
    "    utilities_path = Path('.') / '..' / '..' / 'script_fixtures'\n",
    "assert utilities_path.exists()\n",
    "\n",
    "#Get the project root path\n",
    "PATH_PROJECT_ROOT = utilities_path / '..'\n",
    "PATH_PROJECT_ROOT.absolute()\n",
    "\n",
    "utilities_path_str = str(utilities_path.absolute())\n",
    "if utilities_path_str not in sys.path:\n",
    "    sys.path.append(utilities_path_str)\n",
    "\n",
    "import script_fixtures.logging as util_logging\n",
    "util_logging.logger.setLevel('INFO')\n",
    "\n",
    "logging.info(\"Squid API version: {}\".format(squid_py.__version__))"
   ]
  },
  {
   "cell_type": "code",
   "execution_count": null,
   "metadata": {},
   "outputs": [],
   "source": [
    "# get_registered_ddo -> register_service_agreement_template -> get_conditions_data_from_keeper_contracts\n",
    "# The data:\n",
    "# contract_addresses\n",
    "# fingerprints\n",
    "# fulfillment_indices\n",
    "# conditions_keys"
   ]
  },
  {
   "cell_type": "markdown",
   "metadata": {
    "lines_to_next_cell": 0
   },
   "source": [
    "### Section 2: Instantiate Ocean()"
   ]
  },
  {
   "cell_type": "code",
   "execution_count": null,
   "metadata": {},
   "outputs": [],
   "source": [
    "# The contract addresses are loaded from file\n",
    "PATH_CONFIG = pathlib.Path.cwd() / 'config_local.ini'\n",
    "assert PATH_CONFIG.exists(), \"{} does not exist\".format(PATH_CONFIG)\n",
    "\n",
    "ocn = Ocean(config_file=PATH_CONFIG)\n",
    "ocn._http_client\n",
    "ocn._secret_store_client"
   ]
  },
  {
   "cell_type": "markdown",
   "metadata": {
    "lines_to_next_cell": 0
   },
   "source": [
    "### Section 3.1: Get a Service Execution Agreement for *access*"
   ]
  },
  {
   "cell_type": "code",
   "execution_count": null,
   "metadata": {},
   "outputs": [],
   "source": [
    "# Get the asset type\n",
    "SEA_type=squid_py.service_agreement.service_types.ServiceTypes.ASSET_ACCESS\n",
    "SEA_type_name='access_sla_template.json'\n",
    "# There are 2 other types currently available: 'compute_sla_template.json', and 'fitchain_sla_template.json'\n",
    "#TODO: The templates are copied here in mantaray - will need to use the templates direct from pip-installed squid!\n",
    "\n",
    "# Get the path of the .json template\n",
    "SEA_template_json_path = pathlib.Path('.') / 'assets' / 'SEA_templates' / SEA_type_name\n",
    "assert SEA_template_json_path.exists()\n",
    "SEA_template_json_path = SEA_template_json_path.absolute()\n",
    "# Instantiate the template\n",
    "SEA_template = squid_py.service_agreement.service_agreement_template.ServiceAgreementTemplate.from_json_file(SEA_template_json_path.absolute())\n",
    "\n",
    "print(\"Service template created: {}\".format(SEA_template.name))\n",
    "print(SEA_template.description)"
   ]
  },
  {
   "cell_type": "markdown",
   "metadata": {
    "lines_to_next_cell": 0
   },
   "source": [
    "### Section 3.3: Get conditions data"
   ]
  },
  {
   "cell_type": "code",
   "execution_count": null,
   "metadata": {},
   "outputs": [],
   "source": [
    "_network_name = squid_py.utils.get_network_name(ocn._web3)\n",
    "logging.info(\"Network name: {}\".format(_network_name))\n",
    "\n",
    "names = {cond.contract_name for cond in SEA_template.conditions}\n",
    "name_to_contract_abi_n_address = {\n",
    "  name: squid_py.keeper.utils.get_contract_abi_and_address(ocn._web3, SEA_template_json_path, name, _network_name)\n",
    "  for name in names\n",
    "}\n",
    "contract_addresses = [\n",
    "  web3.toChecksumAddress(name_to_contract_abi_n_address[cond.contract_name][1])\n",
    "  for cond in conditions\n",
    "]\n",
    "fingerprints = [\n",
    "  hexstr_to_bytes(web3, get_fingerprint_by_name(\n",
    "    name_to_contract_abi_n_address[cond.contract_name][0],\n",
    "    cond.function_name\n",
    "  ))\n",
    "  for i, cond in enumerate(conditions)\n",
    "]\n",
    "fulfillment_indices = [i for i, cond in enumerate(conditions) if cond.is_terminal]\n",
    "conditions_keys = build_conditions_keys(web3, contract_addresses, fingerprints, sla_template_id)\n",
    "return contract_addresses, fingerprints, fulfillment_indices, conditions_keys\n",
    "\n",
    "\n",
    "\n",
    "template_id = register_service_agreement_template(\n",
    "  ocn.keeper.service_agreement, ocn.keeper.contract_path,\n",
    "  ocn.main_account, ServiceAgreementTemplate.from_json_file(get_sla_template_path())\n",
    ")"
   ]
  },
  {
   "cell_type": "code",
   "execution_count": null,
   "metadata": {},
   "outputs": [],
   "source": [
    "\n",
    "TEST_DDO = {\n",
    "  \"@context\": \"https://w3id.org/future-method/v1\",\n",
    "  \"id\": \"did:op:d75305ebc1617834339e64cdafb7fd542aa657c0f94dac0f4f84068f5f910ca2\",\n",
    "  \"publicKey\": [\n",
    "    {\n",
    "      \"id\": \"did:op:did:op:d75305ebc1617834339e64cdafb7fd542aa657c0f94dac0f4f84068f5f910ca2#keys-1\",\n",
    "      \"type\": \"RsaVerificationKey2018\",\n",
    "      \"owner\": \"did:op:did:op:d75305ebc1617834339e64cdafb7fd542aa657c0f94dac0f4f84068f5f910ca2\",\n",
    "      \"publicKeyPem\": \"-----BEGIN PUBLIC KEY...END PUBLIC KEY-----\\r\\n\"\n",
    "    },\n",
    "    {\n",
    "      \"id\": \"did:op:did:op:d75305ebc1617834339e64cdafb7fd542aa657c0f94dac0f4f84068f5f910ca2#keys-2\",\n",
    "      \"type\": \"Ed25519VerificationKey2018\",\n",
    "      \"owner\": \"did:op:did:op:d75305ebc1617834339e64cdafb7fd542aa657c0f94dac0f4f84068f5f910ca2\",\n",
    "      \"publicKeyBase58\": \"H3C2AVvLMv6gmMNam3uVAjZpfkcJCwDwnZn6z3wXmqPV\"\n",
    "    },\n",
    "    {\n",
    "      \"id\": \"did:op:did:op:d75305ebc1617834339e64cdafb7fd542aa657c0f94dac0f4f84068f5f910ca2#keys-3\",\n",
    "      \"type\": \"RsaPublicKeyExchangeKey2018\",\n",
    "      \"owner\": \"did:op:did:op:d75305ebc1617834339e64cdafb7fd542aa657c0f94dac0f4f84068f5f910ca2\",\n",
    "      \"publicKeyPem\": \"-----BEGIN PUBLIC KEY...END PUBLIC KEY-----\\r\\n\"\n",
    "    }\n",
    "  ],\n",
    "  \"authentication\": [\n",
    "    {\n",
    "      \"type\": \"RsaSignatureAuthentication2018\",\n",
    "      \"publicKey\": \"did:op:did:op:d75305ebc1617834339e64cdafb7fd542aa657c0f94dac0f4f84068f5f910ca2#keys-1\"\n",
    "    },\n",
    "    {\n",
    "      \"type\": \"ieee2410Authentication2018\",\n",
    "      \"publicKey\": \"did:op:did:op:d75305ebc1617834339e64cdafb7fd542aa657c0f94dac0f4f84068f5f910ca2#keys-2\"\n",
    "    }\n",
    "  ],\n",
    "  \"service\": [\n",
    "    {\n",
    "      \"id\": \"did:op:did:op:d75305ebc1617834339e64cdafb7fd542aa657c0f94dac0f4f84068f5f910ca2\",\n",
    "      \"type\": \"Consume\",\n",
    "      \"serviceEndpoint\": \"http://mybrizo.org/api/v1/brizo/services/consume?pubKey=${pubKey}&serviceId={serviceId}&url={url}\"\n",
    "    },\n",
    "    {\n",
    "      \"id\": \"did:op:did:op:d75305ebc1617834339e64cdafb7fd542aa657c0f94dac0f4f84068f5f910ca2\",\n",
    "      \"type\": \"Compute\",\n",
    "      \"serviceEndpoint\": \"http://mybrizo.org/api/v1/brizo/services/compute?pubKey=${pubKey}&serviceId={serviceId}&algo={algo}&container={container}\"\n",
    "    },\n",
    "    {\n",
    "      \"id\": \"did:op:did:op:d75305ebc1617834339e64cdafb7fd542aa657c0f94dac0f4f84068f5f910ca2\",\n",
    "      \"type\": \"Metadata\",\n",
    "      \"serviceEndpoint\": \"http://myaquarius.org/api/v1/provider/assets/metadata/{did}\",\n",
    "      \"metadata\": {\n",
    "        \"base\": {\n",
    "          \"name\": \"UK Weather information 2011\",\n",
    "          \"type\": \"dataset\",\n",
    "          \"description\": \"Weather information of UK including temperature and humidity\",\n",
    "          \"size\": \"3.1gb\",\n",
    "          \"dateCreated\": \"2012-10-10T17:00:000Z\",\n",
    "          \"author\": \"Met Office\",\n",
    "          \"license\": \"CC-BY\",\n",
    "          \"copyrightHolder\": \"Met Office\",\n",
    "          \"encoding\": \"UTF-8\",\n",
    "          \"compression\": \"zip\",\n",
    "          \"contentType\": \"text/csv\",\n",
    "          \"workExample\": \"423432fsd,51.509865,-0.118092,2011-01-01T10:55:11+00:00,7.2,68\",\n",
    "          \"contentUrls\": [\n",
    "            \"https://testocnfiles.blob.core.windows.net/testfiles/testzkp.zip\"\n",
    "          ],\n",
    "          \"links\": [\n",
    "            { \"name\": \"Sample of Asset Data\", \"type\": \"sample\", \"url\": \"https://foo.com/sample.csv\" },\n",
    "            { \"name\": \"Data Format Definition\", \"type\": \"format\", \"AssetID\": \"4d517500da0acb0d65a716f61330969334630363ce4a6a9d39691026ac7908ea\" }\n",
    "          ],\n",
    "          \"inLanguage\": \"en\",\n",
    "          \"tags\": \"weather, uk, 2011, temperature, humidity\",\n",
    "          \"price\": 10\n",
    "        },\n",
    "        \"curation\": {\n",
    "          \"rating\": 0.93,\n",
    "          \"numVotes\": 123,\n",
    "          \"schema\": \"Binary Voting\"\n",
    "        },\n",
    "        \"additionalInformation\": {\n",
    "          \"updateFrequency\": \"yearly\",\n",
    "          \"structuredMarkup\": [\n",
    "            {\n",
    "              \"uri\": \"http://skos.um.es/unescothes/C01194/jsonld\",\n",
    "              \"mediaType\": \"application/ld+json\"\n",
    "            },\n",
    "            {\n",
    "              \"uri\": \"http://skos.um.es/unescothes/C01194/turtle\",\n",
    "              \"mediaType\": \"text/turtle\"\n",
    "            }\n",
    "          ]\n",
    "        }\n",
    "      }\n",
    "    }\n",
    "  ]\n",
    "}\n",
    "\n",
    "asset = Asset.from_ddo_dict(TEST_DDO)\n",
    "asset_price = 10\n",
    "service_descriptors = [ServiceDescriptor.access_service_descriptor(asset_price, '/purchaseEndpoint', '/serviceEndpoint', 600)]\n",
    "ocn.register_asset(asset.metadata, unlocked_account_name, service_descriptors)"
   ]
  }
 ],
 "metadata": {
  "jupytext": {
   "main_language": "python",
   "text_representation": {
    "extension": ".py",
    "format_name": "percent"
   }
  }
 },
 "nbformat": 4,
 "nbformat_minor": 2
}
