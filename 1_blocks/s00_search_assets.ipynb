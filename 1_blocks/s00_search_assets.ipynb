{
 "cells": [
  {
   "cell_type": "markdown",
   "metadata": {},
   "source": [
    "\n",
    "<p><img src=\"https://oceanprotocol.com/static/media/banner-ocean-03@2x.b7272597.png\" alt=\"drawing\" width=\"800\" align=\"center\"/>"
   ]
  },
  {
   "cell_type": "markdown",
   "metadata": {},
   "source": [
    "\n",
    "<h1><center>Ocean Protocol - Manta Ray project</center></h1>\n",
    "<h3><center>Decentralized Data Science and Engineering, powered by Ocean Protocol</center></h3>\n",
    "<p>Version 0.2 - Trilobite preview</p>\n",
    "<p><a href=\"https://github.com/oceanprotocol/mantaray\">mantaray on Github</a></p>\n",
    "<p>"
   ]
  },
  {
   "cell_type": "markdown",
   "metadata": {},
   "source": [
    "🌊🌊🌊🌊🌊🌊🌊🌊🌊🌊🌊🌊🌊🌊🌊🌊🐬🌊🌊🌊🌊🌊🌊🌊🌊🌊🌊🐬🌊🌊🌊🌊🌊🌊🌊🌊🌊🌊🌊🌊🌊🌊"
   ]
  },
  {
   "cell_type": "markdown",
   "metadata": {
    "lines_to_next_cell": 0
   },
   "source": [
    "<p>"
   ]
  },
  {
   "cell_type": "markdown",
   "metadata": {},
   "source": [
    "## Building Blocks: Searching and listing registered assets\n",
    "In this notebook, TODO: description"
   ]
  },
  {
   "cell_type": "markdown",
   "metadata": {
    "lines_to_next_cell": 0
   },
   "source": [
    "### Section 0: Housekeeping, import modules, and setup logging"
   ]
  },
  {
   "cell_type": "code",
   "execution_count": null,
   "metadata": {},
   "outputs": [],
   "source": [
    "import pathlib\n",
    "import sys\n",
    "import logging\n",
    "from pathlib import Path\n",
    "import squid_py\n",
    "from squid_py.ocean.ocean import Ocean\n",
    "import requests\n",
    "import json\n",
    "# Add the local utilities package\n",
    "utilities_path = Path('.') / 'script_fixtures'\n",
    "if not utilities_path.exists():\n",
    "    utilities_path = Path('.') / '..' / '..' / 'script_fixtures'\n",
    "assert utilities_path.exists()\n",
    "\n",
    "#Get the project root path\n",
    "PATH_PROJECT_ROOT = utilities_path / '..'\n",
    "PATH_PROJECT_ROOT.absolute()\n",
    "\n",
    "utilities_path_str = str(utilities_path.absolute())\n",
    "if utilities_path_str not in sys.path:\n",
    "    sys.path.append(utilities_path_str)\n",
    "\n",
    "import script_fixtures.logging as util_logging\n",
    "util_logging.logger.setLevel('INFO')\n",
    "\n",
    "import script_fixtures.asset_pretty_print as util_pprint\n",
    "\n",
    "logging.info(\"Squid API version: {}\".format(squid_py.__version__))"
   ]
  },
  {
   "cell_type": "markdown",
   "metadata": {
    "lines_to_next_cell": 0
   },
   "source": [
    "### Section 1: Assets in the MetaData store (Aquarius)\n",
    "Anyone can search assets in the public metadata stores"
   ]
  },
  {
   "cell_type": "code",
   "execution_count": null,
   "metadata": {},
   "outputs": [],
   "source": [
    "# The contract addresses are loaded from file\n",
    "PATH_CONFIG = pathlib.Path.cwd() / 'config_local.ini'\n",
    "assert PATH_CONFIG.exists(), \"{} does not exist\".format(PATH_CONFIG)\n",
    "\n",
    "ocn = Ocean(config_file=PATH_CONFIG)"
   ]
  },
  {
   "cell_type": "markdown",
   "metadata": {
    "lines_to_next_cell": 0
   },
   "source": [
    "The Metadata store is a database wrapped with a REST API\n",
    "For all the functionality, see the Swagger documentation"
   ]
  },
  {
   "cell_type": "code",
   "execution_count": null,
   "metadata": {},
   "outputs": [],
   "source": [
    "\n",
    "print(\"REST API base URL:\",ocn.metadata_store._base_url)\n",
    "print(\"Swagger API documentation: {}{}\".format(ocn.metadata_store._base_url,\"/docs/\"))"
   ]
  },
  {
   "cell_type": "markdown",
   "metadata": {
    "lines_to_next_cell": 0
   },
   "source": [
    "All stored assets can be listed. This is typically not done in production, as the list would be too large.\n",
    "For demonstration purposes, we can access the REST API directly, first retrieve their DID string;"
   ]
  },
  {
   "cell_type": "code",
   "execution_count": null,
   "metadata": {
    "lines_to_next_cell": 0
   },
   "outputs": [],
   "source": [
    "result = requests.get(ocn.metadata_store._base_url).content\n",
    "all_dids = json.loads(result)['ids']\n",
    "for i, id in enumerate(all_dids):\n",
    "    print(i, id)\n",
    "\n",
    "first_did = all_dids[0]\n",
    "first_id = first_did.split(':')[-1]\n",
    "first_id_int = int(first_id,16)"
   ]
  },
  {
   "cell_type": "markdown",
   "metadata": {
    "lines_to_next_cell": 0
   },
   "source": [
    "Then, the assets can be retrieved;"
   ]
  },
  {
   "cell_type": "code",
   "execution_count": null,
   "metadata": {},
   "outputs": [],
   "source": [
    "# TODO: Fix!\n",
    "ocn.get_asset(first_did)\n",
    "this_asset_endpoint = ocn.metadata_store._base_url  + '/' + first_did\n",
    "result = requests.get(this_asset_endpoint).content"
   ]
  },
  {
   "cell_type": "markdown",
   "metadata": {
    "lines_to_next_cell": 0
   },
   "source": [
    "These assets can also be searched, the Asset class is returned from a search"
   ]
  },
  {
   "cell_type": "code",
   "execution_count": null,
   "metadata": {
    "title": "A full text search is implemented"
   },
   "outputs": [],
   "source": [
    "sample_meta_data = squid_py.ddo.metadata.Metadata.get_example()\n",
    "ocn.search_assets('Random Text')\n",
    "ocn.search_assets('')\n",
    "ocn.search_assets('asdfasdfasdf')\n",
    "res = ocn.search_assets('Hello do not give me csv')\n",
    "this = res[0]\n",
    "this.asset_id\n",
    "this.did\n",
    "ocn.search_assets('Ocean')\n",
    "ocn.search_assets('id')\n",
    "ocn.search_assets('compression')\n",
    "ocn.search_assets('contenttype = csv')\n",
    "\n",
    "\n",
    "for asset in ocn.search_assets('Ocean'):\n",
    "    print(\"\\nASSET FOUND:\", asset)\n",
    "    print('Asset:')\n",
    "    util_pprint.print_asset(asset)\n",
    "    print('DDO:')\n",
    "    util_pprint.print_ddo(asset.ddo)\n",
    "\n"
   ]
  },
  {
   "cell_type": "markdown",
   "metadata": {},
   "source": [
    "Finally, assets can be deleted from the store\n",
    "result = requests.get(ocn.metadata_store._base_url).content\n",
    "all_dids = json.loads(result)['ids']\n",
    "for i, id in enumerate(all_dids):\n",
    "    print(\"Deleting\",id)\n",
    "    ocn.metadata_store.retire_asset_metadata(id)"
   ]
  }
 ],
 "metadata": {
  "jupytext": {
   "main_language": "python",
   "text_representation": {
    "extension": ".py",
    "format_name": "percent"
   }
  }
 },
 "nbformat": 4,
 "nbformat_minor": 2
}
