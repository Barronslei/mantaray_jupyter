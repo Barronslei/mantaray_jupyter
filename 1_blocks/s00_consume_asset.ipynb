{
 "cells": [
  {
   "cell_type": "markdown",
   "metadata": {},
   "source": [
    "\n",
    "<p><img src=\"https://oceanprotocol.com/static/media/banner-ocean-03@2x.b7272597.png\" alt=\"drawing\" width=\"800\" align=\"center\"/>"
   ]
  },
  {
   "cell_type": "markdown",
   "metadata": {},
   "source": [
    "\n",
    "<h1><center>Ocean Protocol - Manta Ray project</center></h1>\n",
    "<h3><center>Decentralized Data Science and Engineering, powered by Ocean Protocol</center></h3>\n",
    "<p>Version 0.2 - Trilobite preview</p>\n",
    "<p><a href=\"https://github.com/oceanprotocol/mantaray\">mantaray on Github</a></p>\n",
    "<p>"
   ]
  },
  {
   "cell_type": "markdown",
   "metadata": {},
   "source": [
    "🌊🌊🌊🌊🌊🌊🌊🌊🌊🌊🌊🌊🌊🌊🌊🌊🐬🌊🌊🌊🌊🌊🌊🌊🌊🌊🌊🐬🌊🌊🌊🌊🌊🌊🌊🌊🌊🌊🌊🌊🌊🌊"
   ]
  },
  {
   "cell_type": "markdown",
   "metadata": {
    "lines_to_next_cell": 0
   },
   "source": [
    "<p>"
   ]
  },
  {
   "cell_type": "markdown",
   "metadata": {},
   "source": [
    "## Building Blocks: Downloading Datasets\n",
    "In this notebook, TODO: description"
   ]
  },
  {
   "cell_type": "markdown",
   "metadata": {
    "lines_to_next_cell": 0
   },
   "source": [
    "### Section 0: Housekeeping, import modules, and setup logging"
   ]
  },
  {
   "cell_type": "code",
   "execution_count": null,
   "metadata": {},
   "outputs": [],
   "source": [
    "import pathlib\n",
    "import sys\n",
    "import logging\n",
    "from pathlib import Path\n",
    "import squid_py\n",
    "from squid_py.ocean.ocean import Ocean\n",
    "import requests\n",
    "import json\n",
    "import time\n",
    "\n",
    "from web3 import Web3\n",
    "\n",
    "# Add the local utilities package\n",
    "utilities_path = Path('.') / 'script_fixtures'\n",
    "if not utilities_path.exists():\n",
    "    utilities_path = Path('.') / '..' / '..' / 'script_fixtures'\n",
    "assert utilities_path.exists()\n",
    "\n",
    "#Get the project root path\n",
    "PATH_PROJECT_ROOT = utilities_path / '..'\n",
    "PATH_PROJECT_ROOT.absolute()\n",
    "\n",
    "utilities_path_str = str(utilities_path.absolute())\n",
    "if utilities_path_str not in sys.path:\n",
    "    sys.path.append(utilities_path_str)\n",
    "\n",
    "import script_fixtures.logging as util_logging\n",
    "util_logging.logger.setLevel('INFO')\n",
    "\n",
    "import script_fixtures.user as user\n",
    "logging.info(\"Squid API version: {}\".format(squid_py.__version__))"
   ]
  },
  {
   "cell_type": "markdown",
   "metadata": {
    "lines_to_next_cell": 0
   },
   "source": [
    "### Section 1: Instantiate a simulated User\n",
    "A 'User' in an abstract class representing a user of Ocean Protocol\n",
    "\n",
    "Follow Anne Bonny as she purchases an asset which has been registered in Ocean Protocol"
   ]
  },
  {
   "cell_type": "code",
   "execution_count": null,
   "metadata": {
    "lines_to_next_cell": 0
   },
   "outputs": [],
   "source": [
    "# The contract addresses are loaded from file\n",
    "PATH_CONFIG = pathlib.Path.cwd() / 'config_local.ini'\n",
    "assert PATH_CONFIG.exists(), \"{} does not exist\".format(PATH_CONFIG)\n",
    "\n",
    "ocn = Ocean(config_file=PATH_CONFIG)"
   ]
  },
  {
   "cell_type": "code",
   "execution_count": null,
   "metadata": {},
   "outputs": [],
   "source": [
    "print(\"HTTP Client:\")\n",
    "print(ocn._http_client)\n",
    "print(\"Secret Store Client:\")\n",
    "print(ocn._secret_store_client)"
   ]
  },
  {
   "cell_type": "code",
   "execution_count": null,
   "metadata": {},
   "outputs": [],
   "source": [
    "# This utility function gets all simulated accounts\n",
    "users = user.get_all_users(ocn.accounts)\n",
    "\n",
    "# We don't need this ocn instance reference anymore\n",
    "del ocn\n",
    "\n",
    "# Let's take the first unlocked account, and name it the Publisher\n",
    "consumer1 = [u for u in users if not u.locked][0]\n",
    "consumer1.name = \"Anny Bonny\"\n",
    "consumer1.role = \"Consumer\"\n",
    "print(consumer1)\n",
    "\n",
    "assert consumer1.ocn._http_client.__name__ == 'requests'\n",
    "assert consumer1.ocn._secret_store_client.__name__ == 'Client'"
   ]
  },
  {
   "cell_type": "markdown",
   "metadata": {
    "lines_to_next_cell": 0
   },
   "source": [
    "### Section 2: Find an asset"
   ]
  },
  {
   "cell_type": "code",
   "execution_count": null,
   "metadata": {},
   "outputs": [],
   "source": [
    "# Get ALL dids\n",
    "result = requests.get(consumer1.ocn.metadata_store._base_url).content\n",
    "all_dids = json.loads(result)['ids']\n",
    "assert len(all_dids) > 0\n",
    "\n",
    "# Get the first DID for testing\n",
    "first_did = all_dids[-1]"
   ]
  },
  {
   "cell_type": "code",
   "execution_count": null,
   "metadata": {
    "lines_to_next_cell": 0,
    "title": "From this DID, get the DDO"
   },
   "outputs": [],
   "source": [
    "# TODO: This is broken, wait for patch in squid_py to point to correct method (resolve_did())\n",
    "# consumer1.ocn.get_asset(first_did)\n",
    "\n",
    "this_ddo = consumer1.ocn.resolve_did(first_did)\n",
    "\n",
    "this_ddo"
   ]
  },
  {
   "cell_type": "code",
   "execution_count": null,
   "metadata": {
    "lines_to_next_cell": 2
   },
   "outputs": [],
   "source": [
    "# TODO: Remove this in final publication\n",
    "# The asset can also be retreieved direct from the REST endpoint\n",
    "# this_asset_endpoint = consumer1.ocn.metadata_store._base_url  + '/ddo/' + first_did\n",
    "# result = requests.get(this_asset_endpoint).content\n",
    "# ddo_dict = json.loads(result)"
   ]
  },
  {
   "cell_type": "markdown",
   "metadata": {
    "lines_to_next_cell": 0
   },
   "source": [
    "### Section 3: Get ready for purchase"
   ]
  },
  {
   "cell_type": "code",
   "execution_count": null,
   "metadata": {
    "lines_to_next_cell": 2
   },
   "outputs": [],
   "source": [
    "\n",
    "# Get the service agreement for consuming (downloading)\n",
    "service_types = squid_py.service_agreement.service_types.ServiceTypes\n",
    "service = this_ddo.get_service(service_type=service_types.ASSET_ACCESS)\n",
    "assert squid_py.service_agreement.service_agreement.ServiceAgreement.SERVICE_DEFINITION_ID_KEY in service.as_dictionary()\n",
    "\n",
    "# This is the Service Agreement for downloading the Asset, contains conditions\n",
    "sa = squid_py.service_agreement.service_agreement.ServiceAgreement.from_service_dict(service.as_dictionary())\n",
    "\n",
    "consumer_address = consumer1.ocn.main_account.address\n",
    "\n",
    "# The purchase (sign) command will fail unless the account has some Ocean Token to spend!\n",
    "if consumer1.account.ocean_balance == 0:\n",
    "    rcpt = consumer1.account.request_tokens(10)\n",
    "    consumer1.ocn._web3.eth.waitForTransactionReceipt(rcpt)"
   ]
  },
  {
   "cell_type": "markdown",
   "metadata": {
    "lines_to_next_cell": 0
   },
   "source": [
    "### Section 3: Execute the agreement (purchase!)"
   ]
  },
  {
   "cell_type": "code",
   "execution_count": null,
   "metadata": {
    "lines_to_next_cell": 2
   },
   "outputs": [],
   "source": [
    "# This will send the purchase request to Brizo which in turn will execute the agreement on-chain\n",
    "service_agreement_id = consumer1.ocn.sign_service_agreement(this_ddo.did, sa.sa_definition_id, consumer_address)\n",
    "print('got new service agreement id:', service_agreement_id)"
   ]
  },
  {
   "cell_type": "code",
   "execution_count": null,
   "metadata": {},
   "outputs": [],
   "source": [
    "# We will now watch on-chain to ensure that the service is 1) Executed and 2) Granted\n",
    "\n",
    "def wait_for_event(event, arg_filter, wait_iterations=20):\n",
    "    _filter = event.createFilter(fromBlock=0 , argument_filters=arg_filter)\n",
    "    for check in range(wait_iterations):\n",
    "        events = _filter.get_all_entries()\n",
    "        if events:\n",
    "            return events[0]\n",
    "        time.sleep(0.5)\n",
    "\n",
    "\n",
    "filter1 = {'serviceAgreementId': Web3.toBytes(hexstr=service_agreement_id)}\n",
    "filter_2 = {'serviceId': Web3.toBytes(hexstr=service_agreement_id)}\n",
    "\n",
    "executed = wait_for_event(consumer1.ocn.keeper.service_agreement.events.ExecuteAgreement, filter1)\n",
    "assert executed\n",
    "granted = wait_for_event(consumer1.ocn.keeper.access_conditions.events.AccessGranted, filter_2)\n",
    "assert granted\n",
    "fulfilled = wait_for_event(consumer1.ocn.keeper.service_agreement.events.AgreementFulfilled, filter1)\n",
    "assert fulfilled\n",
    "time.sleep(3)"
   ]
  }
 ],
 "metadata": {
  "jupytext": {
   "main_language": "python",
   "text_representation": {
    "extension": ".py",
    "format_name": "percent"
   }
  }
 },
 "nbformat": 4,
 "nbformat_minor": 2
}
