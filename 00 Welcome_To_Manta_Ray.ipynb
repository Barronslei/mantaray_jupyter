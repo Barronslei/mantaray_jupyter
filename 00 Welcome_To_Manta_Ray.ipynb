{
 "cells": [
  {
   "cell_type": "markdown",
   "metadata": {},
   "source": [
    "\n",
    "<p><img src=\"https://oceanprotocol.com/static/media/banner-ocean-03@2x.b7272597.png\" alt=\"drawing\" width=\"800\" align=\"center\"/>"
   ]
  },
  {
   "cell_type": "markdown",
   "metadata": {
    "lines_to_next_cell": 2
   },
   "source": [
    "\n",
    "<h1><center>Ocean Protocol - Manta Ray project</center></h1>\n",
    "<h3><center>Decentralized Data Science and Engineering, powered by Ocean Protocol</center></h3>\n",
    "<p>Version 0.2 - alpha preview</p>\n",
    "<p><a href=\"https://github.com/oceanprotocol/mantaray\">mantaray on Github</a></p>\n",
    "<p>"
   ]
  },
  {
   "cell_type": "markdown",
   "metadata": {
    "lines_to_next_cell": 0
   },
   "source": [
    "# Welcome to Manta Ray\n",
    "## Data Science powered by Ocean Protocol\n",
    "\n",
    "The **Manta Ray** scripts provide a guided tour of Ocean Protocol in an interactive Jupyter Notebook environment.\n",
    "\n",
    "Scripts are first written in regular Python (with the `#%%` cell demarcation formatting) in the\n",
    "[mantaray](https://github.com/oceanprotocol/mantaray) repo, and then converted into Jupyter Notebooks, `.ipynb`.\n",
    "A seperate GitHub repository holds these converted notebooks, to provide an uncluttered directory for JupyterHub. This repo,\n",
    "[mantaray_jupyter](https://github.com/oceanprotocol/mantaray_utilities), is then cloned into the environment you are using.\n",
    "\n",
    "As a Data Scientist, you may feel free to copy these notebooks or parts thereof to build a new Notebook. Or if you\n",
    "prefer to work in pure python, please go to the mantaray source repo and review the python scripts in the `/ipython` directory.\n"
   ]
  },
  {
   "cell_type": "markdown",
   "metadata": {},
   "source": [
    "### For developers:\n",
    "Cloud components are used to simulate Ocean Protocol. Local docker components are [also available](https://github.com/oceanprotocol/docker-images).\n",
    "\n",
    "The main import is the [squid-py](https://github.com/oceanprotocol/squid-py) ([PyPI link](https://pypi.org/project/squid-py/))\n",
    "Ocean Python API. This in-turn depends on downloading the Application Binary Interface files for the deployed Ethereum smart contracts. These ABI files are\n",
    "deployed to PyPI as the [keeper-contracts](https://pypi.org/project/keeper-contracts/) package.\n",
    "\n",
    "Instructions for setting a developer environment are available at our documentation website TODO: (releasing soon!)"
   ]
  },
  {
   "cell_type": "markdown",
   "metadata": {},
   "source": [
    "## Meanwhile, on the dry dock...\n",
    "Let's get ship-shape! First, check your dependencies using the cell below. Install any missing components into your environment as necessary."
   ]
  },
  {
   "cell_type": "markdown",
   "metadata": {
    "lines_to_next_cell": 0
   },
   "source": [
    "**squid-py** is your friendly interface to **Ocean Protocol**"
   ]
  },
  {
   "cell_type": "code",
   "execution_count": null,
   "metadata": {},
   "outputs": [],
   "source": [
    "import squid_py\n",
    "print(\"squid_py\", squid_py.__version__)"
   ]
  },
  {
   "cell_type": "markdown",
   "metadata": {
    "lines_to_next_cell": 0
   },
   "source": [
    "An set of [utility methods](https://github.com/oceanprotocol/mantaray_utilities) is installed, for extra functionality for the Data Science community"
   ]
  },
  {
   "cell_type": "code",
   "execution_count": null,
   "metadata": {
    "lines_to_next_cell": 0
   },
   "outputs": [],
   "source": [
    "import mantaray_utilities\n",
    "print(\"mantaray_utilities\", mantaray_utilities.__version__)"
   ]
  },
  {
   "cell_type": "markdown",
   "metadata": {},
   "source": [
    "# Ship's manifest\n",
    "In the left pane, several scripts are loaded, designed to walk you through the Ocean Protocol stack.\n",
    "\n",
    "First, check the functionality of the cloud components with `check_k8s_components`.\n",
    "\n",
    "Then, you can instantiate the main class for interacting with Ocean, the aptly named **Ocean** class in `squid-py`, in the `check_squid` notebook.\n",
    "\n",
    "The next set of notebooks each focus on a main aspect of Ocean Protocol. These can be composed into a complete data science pipeline.\n",
    "\n",
    "Weigh anchor, and good luck sailing into Ocean Protocol!"
   ]
  }
 ],
 "metadata": {
  "jupytext": {
   "main_language": "python",
   "text_representation": {
    "extension": ".py",
    "format_name": "percent"
   }
  }
 },
 "nbformat": 4,
 "nbformat_minor": 2
}
