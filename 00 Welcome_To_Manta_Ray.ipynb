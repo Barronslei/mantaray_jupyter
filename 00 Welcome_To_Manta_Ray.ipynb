{
 "cells": [
  {
   "cell_type": "markdown",
   "metadata": {},
   "source": [
    "\n",
    "<p><img src=\"https://oceanprotocol.com/static/media/banner-ocean-03@2x.b7272597.png\" alt=\"drawing\" width=\"800\" align=\"center\"/>"
   ]
  },
  {
   "cell_type": "markdown",
   "metadata": {
    "lines_to_next_cell": 2
   },
   "source": [
    "\n",
    "<h1><center>Ocean Protocol - Manta Ray project</center></h1>\n",
    "<h3><center>Decentralized Data Science and Engineering, powered by Ocean Protocol</center></h3>\n",
    "<p>Version 0.3 - alpha preview</p>\n",
    "<p><a href=\"https://github.com/oceanprotocol/mantaray\">mantaray on Github</a></p>\n",
    "<p>"
   ]
  },
  {
   "cell_type": "markdown",
   "metadata": {
    "lines_to_next_cell": 0
   },
   "source": [
    "# Welcome to Manta Ray\n",
    "## Data Science powered by Ocean Protocol\n",
    "\n",
    "The **Manta Ray** notebooks provide a guided tour of Ocean Protocol in an interactive JupyterLab environment.\n",
    "\n",
    "Scripts are first written in regular Python (with the `#%%` cell demarcation format). You see the source\n",
    "[mantaray](https://github.com/oceanprotocol/mantaray) Github repository. These scripts are then converted into Jupyter Notebooks, `.ipynb`.\n",
    "A seperate GitHub repository holds these converted notebooks, to provide an uncluttered directory for the JupyterHub server. This repo,\n",
    "[mantaray_jupyter](https://github.com/oceanprotocol/mantaray_utilities), is then cloned into the environment you are currently using.\n",
    "\n",
    "As a Data Scientist or Data Engineer, you may wish to copy these notebooks or parts thereof to build a new notebook for your pipeline. Or if you\n",
    "prefer to work in pure Python, please go to the mantaray source repo and review the `.py` scripts in the `/ipython` directory.\n",
    "\n",
    "As a Developer, you can use the notebooks as a tutorial and demonstration in working with Ocean Protocol.\n"
   ]
  },
  {
   "cell_type": "markdown",
   "metadata": {
    "lines_to_next_cell": 0
   },
   "source": [
    "Notes on architecture:\n",
    "\n",
    "The present JupyterLab instance is running on your own virtual machine,\n",
    "\n",
    "The Ocean Protocol stack is deployed to the cloud to simulate the blockchain and middle-ware.\n",
    "These endpoints are configured in the `config_jupyter.ini` file.\n",
    "\n",
    "Local docker components are [also available](https://github.com/oceanprotocol/docker-images) for developers.\n",
    "\n",
    "The primary imported library is called [squid-py](https://github.com/oceanprotocol/squid-py)\n",
    "([PyPI link](https://pypi.org/project/squid-py/)), the\n",
    "Ocean Protocol Python API. Squid is your interface to the deployed smart contracts.\n",
    "\n",
    "This in-turn depends on downloading the Application Binary Interface files for the deployed Ethereum smart contracts.\n",
    "These ABI files are\n",
    "deployed to PyPI as the [keeper-contracts](https://pypi.org/project/keeper-contracts/) package.\n",
    "\n",
    "Instructions for setting a developer environment are available at our documentation website TODO: (releasing soon!)\n",
    "\n",
    "For questions, help, bug reports, etc., please contact us in our [Gitter Channel](https://gitter.im/oceanprotocol/Lobby)"
   ]
  },
  {
   "cell_type": "markdown",
   "metadata": {},
   "source": [
    "## Meanwhile, on the dry dock...\n",
    "Let's get ship-shape! First, check your dependencies using the cell below. Install any missing components into your\n",
    "environment as necessary."
   ]
  },
  {
   "cell_type": "markdown",
   "metadata": {},
   "source": [
    "**squid-py** is your friendly interface to **Ocean Protocol**"
   ]
  },
  {
   "cell_type": "code",
   "execution_count": 7,
   "metadata": {},
   "outputs": [
    {
     "name": "stdout",
     "output_type": "stream",
     "text": [
      "squid_py 0.2.21\n"
     ]
    }
   ],
   "source": [
    "import squid_py\n",
    "print(\"squid_py\", squid_py.__version__)"
   ]
  },
  {
   "cell_type": "markdown",
   "metadata": {},
   "source": [
    "The main class of"
   ]
  },
  {
   "cell_type": "markdown",
   "metadata": {},
   "source": [
    "An set of [utility methods](https://github.com/oceanprotocol/mantaray_utilities) is installed, for extra functionality\n",
    "for the Data Science community."
   ]
  },
  {
   "cell_type": "code",
   "execution_count": 8,
   "metadata": {},
   "outputs": [
    {
     "name": "stdout",
     "output_type": "stream",
     "text": [
      "mantaray_utilities 0.0.5\n"
     ]
    }
   ],
   "source": [
    "import mantaray_utilities\n",
    "print(\"mantaray_utilities\", mantaray_utilities.__version__)"
   ]
  },
  {
   "cell_type": "markdown",
   "metadata": {},
   "source": [
    "Some of the main utilities are the `config` module, and the `user` module, for simulating a User."
   ]
  },
  {
   "cell_type": "code",
   "execution_count": 9,
   "metadata": {},
   "outputs": [
    {
     "name": "stdout",
     "output_type": "stream",
     "text": [
      "***Deployment Settings***\n",
      "Deployment environment: DEFAULT\n",
      "Project path: /home/batman/ocn/mantaray_jupyter\n",
      "Configuration file: /home/batman/ocn/mantaray_jupyter/config_local.ini\n"
     ]
    }
   ],
   "source": [
    "# The config module makes it easier to manage local and deployed notebooks and components.\n",
    "import mantaray_utilities.config\n",
    "# The deployment type is discovered using environment variables\n",
    "# JUPYTER_DEPLOYMENT    - For JupyterHub/Lab, and deployed cloud components\n",
    "# USE_K8S_CLUSTER       - For running scripts locally, but still connecting to the deployed cloud components\n",
    "# DEFAULT               - Running scripts locally, and running the components locally in Docker\n",
    "\n",
    "print(\"***Deployment Settings***\")\n",
    "\n",
    "# The deployment is retrieved using;\n",
    "print(\"Deployment environment:\", mantaray_utilities.config.get_deployment_type())\n",
    "\n",
    "# Each deployment type has a 'project' root path;\n",
    "print(\"Project path:\", mantaray_utilities.config.get_project_path())\n",
    "\n",
    "# And each deployment type has a default configuration script;\n",
    "print(\"Configuration file:\", mantaray_utilities.config.get_config_file_path())"
   ]
  },
  {
   "cell_type": "code",
   "execution_count": null,
   "metadata": {},
   "outputs": [],
   "source": []
  },
  {
   "cell_type": "markdown",
   "metadata": {},
   "source": [
    "# Ship's manifest\n",
    "In the left pane, several scripts are loaded, designed to walk you through the Ocean Protocol stack.\n",
    "\n",
    "First, check the functionality of the cloud components with `check_k8s_components`. This script will iterate and\n",
    "check the status over each of each deployed URL.\n",
    "\n",
    "Then, you can instantiate the main class for interacting with Ocean, the aptly named **Ocean** class in `squid-py`,\n",
    "in the `check_squid` notebook.\n",
    "\n",
    "The next set of notebooks each focus on a main aspect of Ocean Protocol. These can be composed into a complete data\n",
    "science pipeline.\n",
    "\n",
    "Weigh anchor, and smooth sailing into Ocean Protocol!\n",
    "\n",
    "For questions, help, bug reports, etc., please contact us in our [Gitter Channel](https://gitter.im/oceanprotocol/Lobby)"
   ]
  }
 ],
 "metadata": {
  "jupytext": {
   "main_language": "python",
   "text_representation": {
    "extension": ".py",
    "format_name": "percent"
   }
  },
  "kernelspec": {
   "display_name": "mantaray",
   "language": "python",
   "name": "mantaray"
  },
  "language_info": {
   "codemirror_mode": {
    "name": "ipython",
    "version": 3
   },
   "file_extension": ".py",
   "mimetype": "text/x-python",
   "name": "python",
   "nbconvert_exporter": "python",
   "pygments_lexer": "ipython3",
   "version": "3.7.1"
  }
 },
 "nbformat": 4,
 "nbformat_minor": 2
}
