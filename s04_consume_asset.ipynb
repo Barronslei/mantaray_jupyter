{
 "cells": [
  {
   "cell_type": "markdown",
   "metadata": {},
   "source": [
    "\n",
    "<p><img src=\"https://oceanprotocol.com/static/media/banner-ocean-03@2x.b7272597.png\" alt=\"drawing\" width=\"800\" align=\"center\"/>"
   ]
  },
  {
   "cell_type": "markdown",
   "metadata": {
    "lines_to_next_cell": 2
   },
   "source": [
    "<h1><center>Ocean Protocol - Manta Ray project</center></h1>\n",
    "<h3><center>Decentralized Data Science and Engineering, powered by Ocean Protocol</center></h3>\n",
    "<p>Version 0.5 - alpha</p>\n",
    "<p>Package compatibility: squid-py v0.5.4, keeper-contracts 0.8.6, utilities 0.2.0,\n",
    "<p>Component compatibility: Brizo v0.2.9, Aquarius v0.1.11, Nile testnet smart contracts 0.8.6</p>\n",
    "<p><a href=\"https://github.com/oceanprotocol/mantaray\">mantaray on Github</a></p>\n",
    "<p>"
   ]
  },
  {
   "cell_type": "markdown",
   "metadata": {},
   "source": [
    "Getting Underway - Downloading Datasets (Assets)\n",
    "To complete the basic datascience workflow, this notebook will demonstrate how a user\n",
    "can download an asset. Downloading an asset is a simple example of a Service Execution Agreement -\n",
    "similar to a contract with a series of clauses. Each clause is secured on the blockchain, allowing for trustful\n",
    "execution of a contract.\n",
    "\n",
    "In this notebook, an asset will be first published as before, and then ordered and downloaded."
   ]
  },
  {
   "cell_type": "markdown",
   "metadata": {},
   "source": [
    "### Section 0: Import modules, and setup logging"
   ]
  },
  {
   "cell_type": "code",
   "execution_count": 1,
   "metadata": {},
   "outputs": [
    {
     "name": "stderr",
     "output_type": "stream",
     "text": [
      "10 - logging         - <module>        - Logging started\n"
     ]
    },
    {
     "name": "stdout",
     "output_type": "stream",
     "text": [
      "Using default logging settings.\n"
     ]
    }
   ],
   "source": [
    "import logging\n",
    "import os\n",
    "from squid_py import Metadata, Ocean\n",
    "import squid_py\n",
    "import mantaray_utilities as manta_utils\n",
    "\n",
    "# Setup logging\n",
    "from mantaray_utilities.user import get_account_from_config\n",
    "from mantaray_utilities.blockchain import subscribe_event\n",
    "manta_utils.logging.logger.setLevel('INFO')\n",
    "import mantaray_utilities as manta_utils\n",
    "from squid_py import Config\n",
    "from squid_py.keeper import Keeper\n",
    "from pathlib import Path\n",
    "import datetime\n",
    "import web3"
   ]
  },
  {
   "cell_type": "code",
   "execution_count": 2,
   "metadata": {},
   "outputs": [
    {
     "name": "stdout",
     "output_type": "stream",
     "text": [
      "Mantaray utilities== 0.2.1\n",
      "squid-py== 0.5.11\n"
     ]
    }
   ],
   "source": [
    "print(\"Mantaray utilities==\",manta_utils.__version__)\n",
    "print(\"squid-py==\",  squid_py.__version__)"
   ]
  },
  {
   "cell_type": "markdown",
   "metadata": {},
   "source": [
    "## Section 1: Get the configuration from the INI file"
   ]
  },
  {
   "cell_type": "code",
   "execution_count": 3,
   "metadata": {},
   "outputs": [
    {
     "name": "stderr",
     "output_type": "stream",
     "text": [
      "50 - <ipython-input-3-a85e5e88e978> - <module>        - Deployment type: USE_K8S_CLUSTER\n",
      "50 - <ipython-input-3-a85e5e88e978> - <module>        - Configuration file selected: /home/batman/ocn/mantaray_jupyter/config_k8s_deployed.ini\n",
      "50 - <ipython-input-3-a85e5e88e978> - <module>        - Squid API version: 0.5.11\n"
     ]
    }
   ],
   "source": [
    "CONFIG_INI_PATH = manta_utils.config.get_config_file_path()\n",
    "logging.critical(\"Deployment type: {}\".format(manta_utils.config.get_deployment_type()))\n",
    "logging.critical(\"Configuration file selected: {}\".format(CONFIG_INI_PATH))\n",
    "logging.critical(\"Squid API version: {}\".format(squid_py.__version__))\n",
    "config_from_ini = Config(CONFIG_INI_PATH)"
   ]
  },
  {
   "cell_type": "markdown",
   "metadata": {},
   "source": [
    "## Section 2: Delegate access of your asset to the marketplace\n",
    "When we publish a register a DDO to a marketplace, we assign several services and conditions on those services.\n",
    "By default, the permission to grant access will lie with you, the publisher. As a publisher, you would need to\n",
    "run the services component (brizo), in order to manage access to your assets.\n",
    "\n",
    "However, for the case of a marketplace, we will delegate permission to grant access to these services to the market\n",
    "place on our behalf. Therefore, we will need the public address of the marketplace component. Of course, the\n",
    "conditions are defined ultimately by you, the publisher. In the test-net, the provider has the following address:"
   ]
  },
  {
   "cell_type": "code",
   "execution_count": 4,
   "metadata": {},
   "outputs": [],
   "source": [
    "MARKET_PLACE_PROVIDER_ADDRESS = web3.Web3.toChecksumAddress('0x376817c638d2a04f475a73af37f7b51a2862d567')"
   ]
  },
  {
   "cell_type": "markdown",
   "metadata": {
    "lines_to_next_cell": 0
   },
   "source": [
    "## Section 3: Instantiate Ocean"
   ]
  },
  {
   "cell_type": "code",
   "execution_count": 5,
   "metadata": {},
   "outputs": [
    {
     "name": "stderr",
     "output_type": "stream",
     "text": [
      "20 - ocean_secret_store - __init__        - \tSecretStore: url https://secret-store.dev-ocean.com, parity-client https://nile.dev-ocean.com, account 0x44E07D8190Cc0f0eCCC9C935D5EA47194301Cb00\n",
      "20 - diagnostics     - verify_contracts - Keeper contract artifacts (JSON abi files) at: /home/batman/ocn/mantaray_jupyter/artifacts_nile\n",
      "20 - diagnostics     - verify_contracts - Using keeper contracts from network nile, network id is 8995\n",
      "20 - diagnostics     - verify_contracts - Looking for keeper contracts ending with \".nile.json\", e.g. \"AgreementStoreManager.nile.json\".\n",
      "20 - diagnostics     - verify_contracts - Finished loading keeper contracts:\n",
      "\tDispenser: 0x865396b7ddc58C693db7FCAD1168E3BD95Fe3368\n",
      "\tOceanToken: 0x9861Da395d7da984D5E8C712c2EDE44b41F777Ad\n",
      "\tDIDRegistry: 0x4A0f7F763B1A7937aED21D63b2A78adc89c5Db23\n",
      "\tAgreementStoreManager: 0x62f84700b1A0ea6Bfb505aDC3c0286B7944D247C\n",
      "\tTemplateStoreManager: 0x9768c8ae44f1dc81cAA98F48792aA5730cAd2F73\n",
      "\tConditionStoreManager: 0x39b0AA775496C5ebf26f3B81C9ed1843f09eE466\n",
      "\tAccessSecretStoreCondition: 0x45DE141F8Efc355F1451a102FB6225F1EDd2921d\n",
      "\tSignCondition: 0x5a4301F8a7a8A13485621b9B4C82B1E66c112ee2\n",
      "\tLockRewardCondition: 0xE30FC30c678437e0e8F78C52dE9db8E2752781a0\n",
      "\tEscrowAccessSecretStoreTemplate: 0xfA16d26e9F4fffC6e40963B281a0bB08C31ed40C\n",
      "\tEscrowReward: 0xeD4Ef53376C6f103d2d7029D7E702e082767C6ff\n",
      "\tHashLockCondition: 0xB5f2e45e8aD4a1339D542f2defd5095B98054590\n",
      "20 - ocean           - __init__        - Squid Ocean instance initialized: \n",
      "20 - ocean           - __init__        - \tOther accounts: ['0x0207cb2f99EB2e005893d6108E2633641Ca9cC3e', '0x064789569D09b4d40b54383d84A25A840E5D67aD', '0x06C0035fE67Cce2B8862D63Dc315D8C8c72207cA', '0x07aCfF76eB4A10c92B89965B0e174B35d887cB0b', '0x0A7a04DEdFE9A4859bcEdD2F21dcA8110499bed9', '0x0d4230b1795959ab5453eb98E4853966bcD3059b', '0x0ed597b76592b4E63F0494127ADFB7Ea0829e337', '0x1322A6ef2c560107733bFc622Fe556961Cb430a5', '0x1549193cc522A1716be4886879cD5f0964A3073C', '0x15C8249D657ad28daa56662ad4ee18dA4377d1a4', '0x170ff54d7bbD527B7bdF04770845bd727a531d9c', '0x1769AAf66658DC2D7782796ac2fF350d4ecf96Cd', '0x17d25A173C9914ee09221EA8E490D296121e51F2', '0x20927B599BD2De0Bd91C1D0819AB25f74BfE4f84', '0x291456dbD9119Ed4e4FE261246F5985ebF4e7Ae9', '0x2DFeEe7Ac1a126AF0d254235D0e21F43d5c9B103', '0x2E92872deE4Cd4f5d5544C257cAa2A66710bE73D', '0x2c918a0EF92f0b7113c8c4a966CC4f22AfA5652f', '0x33333759e516dD51b533777b733a40c2EbD4869D', '0x33aA281ce918D69330Fe2eF4326Ef2d4A4bc53A5', '0x364BA547Fb1a96881D59CC193641DDB4D891a6E2', '0x372E3D432e3Ba583E2aD20ED7270ceAAdb7A08d4', '0x376817c638D2a04f475a73aF37f7B51A2862D567', '0x3C5bdEBBB588f6d7ebBbC74b6Ed56f3b9dF2f7e2', '0x3F367a69C2559a4B90044eA6b6dfF7E0fE4a52E6', '0x413c9BA0A05B8A600899B41b0c62dd661e689354', '0x43E6b79B696b1d8E21d5A23118A1BF1b565C3831', '0x442aCf84E05459e13595f372C49D4a15E95eA4E7', '0x4439526405BD6119bdC8a0B2c7616B8eF2cB8751', '0x44E07D8190Cc0f0eCCC9C935D5EA47194301Cb00', '0x45234B8c216231c2c31785aE4F5DceB858A8Ec71', '0x4655b0C31a26aB4D3e6Dd85d51690E038290D4e0', '0x46bC99223b1dc535F6770E691D55C4Fb0f8a71Ad', '0x480b0e0A641AE45521377d4984d085a003934561', '0x4aaAB179035Dc57b35E2cE066919048686F82972', '0x5f31E32e4689E1BC789E86e94eD9430bB47e4411', '0x61CC88041Ae02DC3C4898CCC537b776A0f3cDC03', '0x6e0e1037Ce73F6adA46A66341AA8615fBC6da577', '0x73F82874Ab2679B9D6b1407772Ee4aCedCFF73a7', '0x80dB05d19D9D9cA44efC14fA9Ec96D3e08359dfe', '0x8a568558E419f7805a7a754A864a74F243CAA87E', '0x8cD3442B45C857ab1Ea415ef3a05d41043Bc1201', '0x8f62ef2650fc82Aa76394cb3924B2Fb2399f686F', '0x8ff8b8028E5c0014460ea34369b209F5c332a761', '0x9e16739FEdfEBBB443cD77Fe8Cf19b3EC7bA89D4', '0xB05B465601d03B1D3513c1AC4FAf7e1B9F98bBCB', '0xB748d8D09B613396e31c5dD486715B4740F6dD80', '0xBf462F0E30ae29445a0f3957Ad3520A8aB4fEBaE', '0xD81934365c02da201dC2b85E401Ca75B48F7CcBD', '0xE547D4A0bce72d5a1bc3a8765E23b1568Ef17A6c', '0xEa834BC57C036D172173bd583Cff21165A1A4CF8', '0xEbf7f9B43F64410112b827C4d86D51b86B885C0f', '0xaeA5412054858DD13482ac8B24aC710B96e4d353', '0xb1C2DCF0635E7f4c4327321EFd95025af7b89bec', '0xbC3Ff599be046008A571368492F9253cb269D9cB', '0xc42Ad6a6Fb42eBD5ABFF77Bd55f3102CF345267D', '0xddA43B0fb68a1D342Fd304902d52E16421a88a5C', '0xfBC2e6EF701843C33d5be9086420469A915B5f53', '0xfEF2d5e1670342b9EF22eeeDcb287EC526B48095']\n",
      "20 - ocean           - __init__        - \tDIDRegistry @ 0x4A0f7F763B1A7937aED21D63b2A78adc89c5Db23\n"
     ]
    }
   ],
   "source": [
    "ocn = Ocean(config_from_ini)\n",
    "keeper = Keeper.get_instance()"
   ]
  },
  {
   "cell_type": "markdown",
   "metadata": {},
   "source": [
    "## Section 4: Get Publisher and register an asset for testing the download\n",
    "Of course, you can download your own asset, one that you have created, or\n",
    "one that you have found via the search api. All you need is the DID of the asset."
   ]
  },
  {
   "cell_type": "code",
   "execution_count": 6,
   "metadata": {},
   "outputs": [
    {
     "name": "stderr",
     "output_type": "stream",
     "text": [
      "20 - user            - load_passwords  - 5 account-password pairs loaded\n"
     ]
    },
    {
     "name": "stdout",
     "output_type": "stream",
     "text": [
      "Publisher address: 0x0d4230b1795959ab5453eb98E4853966bcD3059b\n",
      "Publisher   ETH: 111.0\n",
      "Publisher OCEAN: 3.0\n"
     ]
    }
   ],
   "source": [
    "publisher_account = manta_utils.user.get_account_by_index(ocn,0)\n",
    "\n",
    "# publisher_account = get_account_from_config(config_from_ini, 'parity.address', 'parity.password')\n",
    "print(\"Publisher address: {}\".format(publisher_account.address))\n",
    "print(\"Publisher   ETH: {:0.1f}\".format(ocn.accounts.balance(publisher_account).eth/10**18))\n",
    "print(\"Publisher OCEAN: {:0.1f}\".format(ocn.accounts.balance(publisher_account).ocn/10**18))"
   ]
  },
  {
   "cell_type": "code",
   "execution_count": 7,
   "metadata": {},
   "outputs": [
    {
     "name": "stderr",
     "output_type": "stream",
     "text": [
      "20 - ocean_assets    - create          - Content urls encrypted successfully 0x0a28229e6c4cb19966463f4e77407fd42fea6bd198853727ba3eea11a62992ecb3fd4dc3f3a6fb77d1385df3de537b56119f0fe42665fef4e7fc274119483380db7ff40cdf9a66458b945592f7ba3256b18ce51dfbdbc9477feb2a783671079312b1f9afa0e0e168c5e2ec2256e108083638f3a98a85aae7e6636badbf31adcd816396ccf45876ef329f0b2d829d3bfe3a4836d360158d05567493449dd342714d3ecb98e7ff80502bcf1a7974e3003d8d8b2d46324bf1625a947eff319de7329ef6bd1c1d226cf2b579eb50eed00ee3dd737ea5092d77ca2d068c7049765061a1df6c8e7a1177d7a87232c927542ea51e1126b86b23d9adae73d2673e1e85ba7816ecc6d300a750ffef78098b0cc84a7baa2251c049f131e0988bc5472d7913f40d1871b33f4e73c099e5298c09365af92a4b9abd1372c4f864a513cbe48807322e610eec1a6fdaa357aa4ab6ce8a1f3b269c30b3103161a14db76dd93ef6169021468a407f492352dec09e9839b0347f263b118936e6dbfab61bcacdb27813d389102d4876919040da25ffa2b4fd966a8fca9f0c93d46d07c6f8b2cc9fffe9a35ce53164e37cc43186a779df1a0fd211d6cf7e60512d274865eb81e2ff660997943afa7159fc374f67ef27208c4179b1ae6f7f40d7d952a13ec9d7ab1c49f9aea5172f9cef33a4c0c682fcc88f7e33d8585823638702992382017aabf73089a8a993a1c0ad5cebcff780e4a5c697767bb5f368cf179e53b419492eaff4dac97335a5103a941424846155b4526a973143e19fe47341e90446682b5a\n",
      "20 - ocean_assets    - create          - DDO with DID did:op:7817a0c233904e19b0e8ab030ff1171adc2b64b3caf245f6b2c3b09bcfc1cea1 successfully registered on chain.\n",
      "20 - <ipython-input-7-b19815df056f> - <module>        - registered ddo: did:op:7817a0c233904e19b0e8ab030ff1171adc2b64b3caf245f6b2c3b09bcfc1cea1\n"
     ]
    }
   ],
   "source": [
    "# Register an asset\n",
    "ddo = ocn.assets.create(Metadata.get_example(), publisher_account, providers=[MARKET_PLACE_PROVIDER_ADDRESS])\n",
    "logging.info(f'registered ddo: {ddo.did}')"
   ]
  },
  {
   "cell_type": "markdown",
   "metadata": {
    "lines_to_next_cell": 0
   },
   "source": [
    "## Section 5: Get Consumer account, ensure token balance"
   ]
  },
  {
   "cell_type": "code",
   "execution_count": 8,
   "metadata": {},
   "outputs": [
    {
     "name": "stderr",
     "output_type": "stream",
     "text": [
      "20 - user            - load_passwords  - 5 account-password pairs loaded\n"
     ]
    },
    {
     "name": "stdout",
     "output_type": "stream",
     "text": [
      "Consumer address: 0x0ed597b76592b4E63F0494127ADFB7Ea0829e337\n",
      "Consumer   ETH: 100.0\n",
      "Consumer OCEAN: 10.0\n"
     ]
    }
   ],
   "source": [
    "# consumer_account = get_account_from_config(config_from_ini, 'parity.address1', 'parity.password1')\n",
    "consumer_account = manta_utils.user.get_account_by_index(ocn,1)\n",
    "print(\"Consumer address: {}\".format(consumer_account.address))\n",
    "print(\"Consumer   ETH: {:0.1f}\".format(ocn.accounts.balance(consumer_account).eth/10**18))\n",
    "print(\"Consumer OCEAN: {:0.1f}\".format(ocn.accounts.balance(consumer_account).ocn/10**18))\n",
    "assert ocn.accounts.balance(consumer_account).eth/10**18 > 1, \"Insuffient ETH in account {}\".format(consumer_account.address)\n",
    "# Ensure the consumer always has 10 OCEAN\n",
    "if ocn.accounts.balance(consumer_account).ocn/10**18 < 10:\n",
    "    refill_amount = int(10 - ocn.accounts.balance(consumer_account).ocn/10**18)\n",
    "    logging.info(\"Requesting {} tokens\".format(refill_amount))\n",
    "    ocn.accounts.request_tokens(consumer_account, refill_amount)"
   ]
  },
  {
   "cell_type": "markdown",
   "metadata": {
    "lines_to_next_cell": 0
   },
   "source": [
    "## Section 6: Initiate the agreement for accessing (downloading) the asset, wait for condition events"
   ]
  },
  {
   "cell_type": "code",
   "execution_count": 9,
   "metadata": {},
   "outputs": [
    {
     "name": "stderr",
     "output_type": "stream",
     "text": [
      "20 - access_secret_store_template - subscribe_agreement_created - Subscribing AgreementCreated event with agreement id 0x36f2bbb0391b4caabc60d5d0427e82816fb7d985b45f49e2a6041b45c1abd339.\n",
      "20 - brizo           - initialize_service_agreement - Service agreement initialized successfully, service agreement id 0x36f2bbb0391b4caabc60d5d0427e82816fb7d985b45f49e2a6041b45c1abd339, purchaseEndpoint https://nginx-brizo.dev-ocean.com//api/v1/brizo/services/access/initialize\n",
      "20 - <ipython-input-9-f0fa9af99598> - <module>        - Consumer has placed an order for asset did:op:7817a0c233904e19b0e8ab030ff1171adc2b64b3caf245f6b2c3b09bcfc1cea1\n",
      "20 - <ipython-input-9-f0fa9af99598> - <module>        - The service agreement ID is 0x36f2bbb0391b4caabc60d5d0427e82816fb7d985b45f49e2a6041b45c1abd339\n"
     ]
    }
   ],
   "source": [
    "agreement_id = ocn.assets.order(ddo.did, 'Access', consumer_account)\n",
    "logging.info(\"Consumer has placed an order for asset {}\".format(ddo.did))\n",
    "logging.info(\"The service agreement ID is {}\".format(agreement_id))"
   ]
  },
  {
   "cell_type": "markdown",
   "metadata": {
    "lines_to_next_cell": 0
   },
   "source": [
    "In Ocean Protocol, downloading an asset is enforced by a contract.\n",
    "The contract conditions and clauses are set by the publisher. Conditions trigger events, which are monitored\n",
    "to ensure the contract is successfully executed."
   ]
  },
  {
   "cell_type": "code",
   "execution_count": 10,
   "metadata": {},
   "outputs": [
    {
     "name": "stderr",
     "output_type": "stream",
     "text": [
      "20 - access_secret_store_template - subscribe_agreement_created - Subscribing AgreementCreated event with agreement id 0x36f2bbb0391b4caabc60d5d0427e82816fb7d985b45f49e2a6041b45c1abd339.\n",
      "20 - condition_base  - subscribe_condition_fulfilled - Subscribing Fulfilled event with agreement id 0x36f2bbb0391b4caabc60d5d0427e82816fb7d985b45f49e2a6041b45c1abd339.\n"
     ]
    },
    {
     "name": "stdout",
     "output_type": "stream",
     "text": [
      "Received event AgreementCreated.\n"
     ]
    },
    {
     "name": "stderr",
     "output_type": "stream",
     "text": [
      "20 - condition_base  - subscribe_condition_fulfilled - Subscribing Fulfilled event with agreement id 0x36f2bbb0391b4caabc60d5d0427e82816fb7d985b45f49e2a6041b45c1abd339.\n"
     ]
    },
    {
     "name": "stdout",
     "output_type": "stream",
     "text": [
      "Received event Fulfilled.\n"
     ]
    },
    {
     "name": "stderr",
     "output_type": "stream",
     "text": [
      "20 - condition_base  - subscribe_condition_fulfilled - Subscribing Fulfilled event with agreement id 0x36f2bbb0391b4caabc60d5d0427e82816fb7d985b45f49e2a6041b45c1abd339.\n"
     ]
    },
    {
     "name": "stdout",
     "output_type": "stream",
     "text": [
      "Received event Fulfilled.\n",
      "Received event Fulfilled.\n"
     ]
    }
   ],
   "source": [
    "# Listen to events in the download process\n",
    "subscribe_event(\"created agreement\", keeper, agreement_id)\n",
    "subscribe_event(\"lock reward\", keeper, agreement_id)\n",
    "subscribe_event(\"access secret store\", keeper, agreement_id)\n",
    "subscribe_event(\"escrow reward\", keeper, agreement_id)"
   ]
  },
  {
   "cell_type": "markdown",
   "metadata": {},
   "source": [
    "Now that the agreement is signed, the consumer can download the asset."
   ]
  },
  {
   "cell_type": "code",
   "execution_count": 11,
   "metadata": {
    "lines_to_next_cell": 2
   },
   "outputs": [
    {
     "name": "stderr",
     "output_type": "stream",
     "text": [
      "20 - brizo           - consume_service - invoke consume endpoint with this url: https://nginx-brizo.dev-ocean.com//api/v1/brizo/services/consume?url=https://testocnfiles.blob.core.windows.net/testfiles/testzkp.pdf&serviceAgreementId=0x36f2bbb0391b4caabc60d5d0427e82816fb7d985b45f49e2a6041b45c1abd339&consumerAddress=0x0ed597b76592b4E63F0494127ADFB7Ea0829e337\n",
      "20 - utils           - process_tx_receipt - Waiting for transaction receipt timed out. Cannot verify receipt and event.\n",
      "20 - brizo           - consume_service - Total size of testzkp.pdf: 0 bytes.\n",
      "497796KB [00:02, 232744.74KB/s]20 - brizo           - consume_service - Saved downloaded file in /home/batman/ocn/mantaray_jupyter/downloads_nile/datafile.7817a0c233904e19b0e8ab030ff1171adc2b64b3caf245f6b2c3b09bcfc1cea1.1/testzkp.pdf\n",
      "20 - brizo           - consume_service - invoke consume endpoint with this url: https://nginx-brizo.dev-ocean.com//api/v1/brizo/services/consume?url=s3://ocean-test-osmosis-data-plugin-dataseeding-1537375953/data.txt&serviceAgreementId=0x36f2bbb0391b4caabc60d5d0427e82816fb7d985b45f49e2a6041b45c1abd339&consumerAddress=0x0ed597b76592b4E63F0494127ADFB7Ea0829e337\n",
      "20 - brizo           - consume_service - Total size of data.txt: 12 bytes.\n",
      "\n",
      "  8%|▊         | 1/12 [00:00<00:01,  5.55KB/s]20 - brizo           - consume_service - Saved downloaded file in /home/batman/ocn/mantaray_jupyter/downloads_nile/datafile.7817a0c233904e19b0e8ab030ff1171adc2b64b3caf245f6b2c3b09bcfc1cea1.1/data.txt\n",
      "20 - brizo           - consume_service - invoke consume endpoint with this url: https://nginx-brizo.dev-ocean.com//api/v1/brizo/services/consume?url=http://www3.cs.stonybrook.edu/~algorith/implement/graphbase/distrib/cweb3.4e.tar.gz&serviceAgreementId=0x36f2bbb0391b4caabc60d5d0427e82816fb7d985b45f49e2a6041b45c1abd339&consumerAddress=0x0ed597b76592b4E63F0494127ADFB7Ea0829e337\n",
      "20 - brizo           - consume_service - Total size of cweb3.4e.tar.gz: 0 bytes.\n",
      "\n",
      "0KB [00:00, ?KB/s]\u001b[A\n",
      "13870KB [00:00, 138696.16KB/s]\u001b[A\n",
      "37533KB [00:00, 144683.97KB/s]\u001b[A\n",
      "55446KB [00:00, 147520.58KB/s]\u001b[A\n",
      "77900KB [00:00, 152760.12KB/s]\u001b[A\n",
      "102519KB [00:00, 158786.04KB/s]\u001b[A\n",
      "125241KB [00:00, 163716.47KB/s]\u001b[A\n",
      "140308KB [00:00, 162310.08KB/s]\u001b[A\n",
      "161549KB [00:00, 166230.76KB/s]\u001b[A\n",
      "179055KB [00:00, 167073.34KB/s]\u001b[A\n",
      "198977KB [00:01, 169813.38KB/s]\u001b[A20 - brizo           - consume_service - Saved downloaded file in /home/batman/ocn/mantaray_jupyter/downloads_nile/datafile.7817a0c233904e19b0e8ab030ff1171adc2b64b3caf245f6b2c3b09bcfc1cea1.1/cweb3.4e.tar.gz\n",
      "\n",
      "                               \u001b[A20 - <ipython-input-11-8536a2ca2d47> - <module>        - Success buying asset.\n"
     ]
    }
   ],
   "source": [
    "assert ocn.agreements.is_access_granted(agreement_id, ddo.did, consumer_account.address)\n",
    "\n",
    "ocn.assets.consume(agreement_id, ddo.did, 'Access', consumer_account, 'downloads_nile')\n",
    "logging.info('Success buying asset.')"
   ]
  }
 ],
 "metadata": {
  "jupytext": {
   "main_language": "python",
   "text_representation": {
    "extension": ".py",
    "format_name": "percent"
   }
  },
  "kernelspec": {
   "display_name": "mantaray",
   "language": "python",
   "name": "mantaray"
  },
  "language_info": {
   "codemirror_mode": {
    "name": "ipython",
    "version": 3
   },
   "file_extension": ".py",
   "mimetype": "text/x-python",
   "name": "python",
   "nbconvert_exporter": "python",
   "pygments_lexer": "ipython3",
   "version": "3.6.7"
  }
 },
 "nbformat": 4,
 "nbformat_minor": 2
}
