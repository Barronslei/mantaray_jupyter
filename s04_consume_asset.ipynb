{
 "cells": [
  {
   "cell_type": "markdown",
   "metadata": {},
   "source": [
    "\n",
    "<p><img src=\"https://oceanprotocol.com/static/media/banner-ocean-03@2x.b7272597.png\" alt=\"drawing\" width=\"800\" align=\"center\"/>"
   ]
  },
  {
   "cell_type": "markdown",
   "metadata": {
    "lines_to_next_cell": 0
   },
   "source": [
    "<h1><center>Ocean Protocol - Manta Ray project</center></h1>\n",
    "<h3><center>Decentralized Data Science and Engineering, powered by Ocean Protocol</center></h3>\n",
    "<p>Version 0.5.2 - beta</p>\n",
    "<p>Package compatibility: squid-py v0.6.13, keeper-contracts 0.10.3, utilities 0.2.2,\n",
    "<p>Component compatibility (Nile): Brizo v0.3.12, Aquarius v0.3.4, Nile testnet smart contracts 0.10.3</p>\n",
    "<p><a href=\"https://github.com/oceanprotocol/mantaray\">mantaray on Github</a></p>\n",
    "<p>"
   ]
  },
  {
   "cell_type": "markdown",
   "metadata": {},
   "source": [
    "Getting Underway - Downloading Datasets (Assets)\n",
    "To complete the basic datascience workflow, this notebook will demonstrate how a user\n",
    "can download an asset. Downloading an asset is a simple example of a Service Execution Agreement -\n",
    "similar to a contract with a series of clauses. Each clause is secured on the blockchain, allowing for trustful\n",
    "execution of a contract.\n",
    "\n",
    "In this notebook, an asset will be first published as before, and then ordered and downloaded."
   ]
  },
  {
   "cell_type": "markdown",
   "metadata": {},
   "source": [
    "### Section 0: Import modules, and setup logging"
   ]
  },
  {
   "cell_type": "code",
   "execution_count": null,
   "metadata": {},
   "outputs": [],
   "source": [
    "import logging\n",
    "import os\n",
    "from squid_py import Metadata, Ocean\n",
    "import squid_py\n",
    "import mantaray_utilities as manta_utils\n",
    "\n",
    "# Setup logging\n",
    "from mantaray_utilities.user import get_account_from_config\n",
    "from mantaray_utilities.blockchain import subscribe_event\n",
    "manta_utils.logging.logger.setLevel('INFO')\n",
    "import mantaray_utilities as manta_utils\n",
    "from squid_py import Config\n",
    "from squid_py.keeper import Keeper\n",
    "from pathlib import Path\n",
    "import datetime\n",
    "import web3"
   ]
  },
  {
   "cell_type": "code",
   "execution_count": null,
   "metadata": {
    "title": "Add a file handler"
   },
   "outputs": [],
   "source": [
    "path_log_file = Path.home() / '{}.log'.format(datetime.datetime.now().strftime(\"%Y-%m-%d %H:%M:%S\"))\n",
    "fh = logging.FileHandler(path_log_file)\n",
    "fh.setLevel(logging.DEBUG)\n",
    "manta_utils.logging.logger.addHandler(fh)"
   ]
  },
  {
   "cell_type": "markdown",
   "metadata": {},
   "source": [
    "## Section 1: Get the configuration from the INI file"
   ]
  },
  {
   "cell_type": "code",
   "execution_count": null,
   "metadata": {},
   "outputs": [],
   "source": [
    "# Get the configuration file path for this environment\n",
    "config_file = os.environ['OCEAN_CONFIG_PATH']\n",
    "logging.critical(\"Configuration file selected: {}\".format(config_file))\n",
    "logging.critical(\"Deployment type: {}\".format(manta_utils.config.get_deployment_type()))\n",
    "logging.critical(\"Squid API version: {}\".format(squid_py.__version__))"
   ]
  },
  {
   "cell_type": "code",
   "execution_count": null,
   "metadata": {},
   "outputs": [],
   "source": [
    "# Instantiate Ocean with the default configuration file.\n",
    "configuration = Config(config_file)\n",
    "squid_py.ConfigProvider.set_config(configuration)\n",
    "ocn = Ocean(configuration)"
   ]
  },
  {
   "cell_type": "markdown",
   "metadata": {},
   "source": [
    "## Section 2: Delegate access of your asset to the marketplace\n",
    "When we publish a register a DDO to a marketplace, we assign several services and conditions on those services.\n",
    "By default, the permission to grant access will lie with you, the publisher. As a publisher, you would need to\n",
    "run the services component (brizo), in order to manage access to your assets.\n",
    "\n",
    "However, for the case of a marketplace, we will delegate permission to grant access to these services to the market\n",
    "place on our behalf. Therefore, we will need the public address of the marketplace component. Of course, the\n",
    "conditions are defined ultimately by you, the publisher."
   ]
  },
  {
   "cell_type": "code",
   "execution_count": null,
   "metadata": {},
   "outputs": [],
   "source": [
    "MARKET_PLACE_PROVIDER_ADDRESS = web3.Web3.toChecksumAddress('0x376817c638d2a04f475a73af37f7b51a2862d567')"
   ]
  },
  {
   "cell_type": "markdown",
   "metadata": {
    "lines_to_next_cell": 0
   },
   "source": [
    "## Section 3: Instantiate Ocean"
   ]
  },
  {
   "cell_type": "code",
   "execution_count": null,
   "metadata": {},
   "outputs": [],
   "source": [
    "keeper = Keeper.get_instance()"
   ]
  },
  {
   "cell_type": "markdown",
   "metadata": {},
   "source": [
    "## Section 4: Get Publisher and register an asset for testing the download\n",
    "Of course, you can download your own asset, one that you have created, or\n",
    "one that you have found via the search api. All you need is the DID of the asset."
   ]
  },
  {
   "cell_type": "code",
   "execution_count": null,
   "metadata": {},
   "outputs": [],
   "source": [
    "publisher_account = manta_utils.user.get_account_by_index(ocn,0)\n",
    "\n",
    "# publisher_account = get_account_from_config(config_from_ini, 'parity.address', 'parity.password')\n",
    "print(\"Publisher address: {}\".format(publisher_account.address))\n",
    "print(\"Publisher   ETH: {:0.1f}\".format(ocn.accounts.balance(publisher_account).eth/10**18))\n",
    "print(\"Publisher OCEAN: {:0.1f}\".format(ocn.accounts.balance(publisher_account).ocn/10**18))"
   ]
  },
  {
   "cell_type": "code",
   "execution_count": null,
   "metadata": {},
   "outputs": [],
   "source": [
    "# Register an asset\n",
    "ddo = ocn.assets.create(Metadata.get_example(), publisher_account, providers=[MARKET_PLACE_PROVIDER_ADDRESS])\n",
    "logging.info(f'registered ddo: {ddo.did}')"
   ]
  },
  {
   "cell_type": "markdown",
   "metadata": {
    "lines_to_next_cell": 0
   },
   "source": [
    "## Section 5: Get Consumer account, ensure token balance"
   ]
  },
  {
   "cell_type": "code",
   "execution_count": null,
   "metadata": {},
   "outputs": [],
   "source": [
    "# consumer_account = get_account_from_config(config_from_ini, 'parity.address1', 'parity.password1')\n",
    "consumer_account = manta_utils.user.get_account_by_index(ocn,1)\n",
    "print(\"Consumer address: {}\".format(consumer_account.address))\n",
    "print(\"Consumer   ETH: {:0.1f}\".format(ocn.accounts.balance(consumer_account).eth/10**18))\n",
    "print(\"Consumer OCEAN: {:0.1f}\".format(ocn.accounts.balance(consumer_account).ocn/10**18))\n",
    "assert ocn.accounts.balance(consumer_account).eth/10**18 > 1, \"Insuffient ETH in account {}\".format(consumer_account.address)\n",
    "# Ensure the consumer always has 10 OCEAN\n",
    "if ocn.accounts.balance(consumer_account).ocn/10**18 < 10:\n",
    "    refill_amount = int(10 - ocn.accounts.balance(consumer_account).ocn/10**18)\n",
    "    logging.info(\"Requesting {} tokens\".format(refill_amount))\n",
    "    ocn.accounts.request_tokens(consumer_account, refill_amount)"
   ]
  },
  {
   "cell_type": "markdown",
   "metadata": {
    "lines_to_next_cell": 0
   },
   "source": [
    "## Section 6: Initiate the agreement for accessing (downloading) the asset, wait for condition events"
   ]
  },
  {
   "cell_type": "code",
   "execution_count": null,
   "metadata": {},
   "outputs": [],
   "source": [
    "agreement_id = ocn.assets.order(ddo.did, 'Access', consumer_account)\n",
    "logging.info(\"Consumer has placed an order for asset {}\".format(ddo.did))\n",
    "logging.info(\"The service agreement ID is {}\".format(agreement_id))"
   ]
  },
  {
   "cell_type": "markdown",
   "metadata": {
    "lines_to_next_cell": 0
   },
   "source": [
    "In Ocean Protocol, downloading an asset is enforced by a contract.\n",
    "The contract conditions and clauses are set by the publisher. Conditions trigger events, which are monitored\n",
    "to ensure the contract is successfully executed."
   ]
  },
  {
   "cell_type": "code",
   "execution_count": null,
   "metadata": {},
   "outputs": [],
   "source": [
    "# Listen to events in the download process\n",
    "subscribe_event(\"created agreement\", keeper, agreement_id)\n",
    "# subscribe_event(\"lock reward\", keeper, agreement_id)\n",
    "# subscribe_event(\"access secret store\", keeper, agreement_id)\n",
    "# subscribe_event(\"escrow reward\", keeper, agreement_id)"
   ]
  },
  {
   "cell_type": "markdown",
   "metadata": {},
   "source": [
    "Now that the agreement is signed, the consumer can download the asset."
   ]
  },
  {
   "cell_type": "code",
   "execution_count": null,
   "metadata": {
    "lines_to_next_cell": 2
   },
   "outputs": [],
   "source": [
    "assert ocn.agreements.is_access_granted(agreement_id, ddo.did, consumer_account.address)\n",
    "\n",
    "ocn.assets.consume(agreement_id, ddo.did, 'Access', consumer_account, 'downloads_nile')\n",
    "\n",
    "logging.info('Success buying asset.')"
   ]
  }
 ],
 "metadata": {
  "jupytext": {
   "main_language": "python",
   "text_representation": {
    "extension": ".py",
    "format_name": "percent"
   }
  },
  "kernelspec": {
   "display_name": "Manta Ray",
   "language": "python",
   "name": "python3"
  }
 },
 "nbformat": 4,
 "nbformat_minor": 2
}
