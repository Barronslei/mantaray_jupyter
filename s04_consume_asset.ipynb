{
 "cells": [
  {
   "cell_type": "markdown",
   "metadata": {},
   "source": [
    "\n",
    "<p><img src=\"https://oceanprotocol.com/static/media/banner-ocean-03@2x.b7272597.png\" alt=\"drawing\" width=\"800\" align=\"center\"/>"
   ]
  },
  {
   "cell_type": "markdown",
   "metadata": {
    "lines_to_next_cell": 2.0
   },
   "source": [
    "\n",
    "<h1><center>Ocean Protocol - Manta Ray project</center></h1>\n",
    "<h3><center>Decentralized Data Science and Engineering, powered by Ocean Protocol</center></h3>\n",
    "<p>Version 0.6.6 - beta</p>\n",
    "<p>Package compatibility: squid-py v0.9.2, keeper-contracts 0.13.2, utilities 0.3.0,\n",
    "<p>Component compatibility (Nile): Brizo v0.9.4, Aquarius v1.0.7, Nile testnet smart contracts 0.13.2</p>\n",
    "\n",
    "<p><a href=\"https://github.com/oceanprotocol/mantaray\">mantaray on Github</a></p>\n",
    "<p>"
   ]
  },
  {
   "cell_type": "markdown",
   "metadata": {},
   "source": [
    "Getting Underway - Downloading Datasets (Assets)\n",
    "To complete the basic datascience workflow, this notebook will demonstrate how a user\n",
    "can download an asset. Downloading an asset is a simple example of a Service Execution Agreement -\n",
    "similar to a contract with a series of clauses. Each clause is secured on the blockchain, allowing for trustful\n",
    "execution of a contract.\n",
    "\n",
    "In this notebook, an asset will be first published as before, and then ordered and downloaded."
   ]
  },
  {
   "cell_type": "markdown",
   "metadata": {},
   "source": [
    "### Section 0: Import modules, and setup logging"
   ]
  },
  {
   "cell_type": "code",
   "execution_count": null,
   "metadata": {},
   "outputs": [],
   "source": [
    "import logging\n",
    "import os\n",
    "import time\n",
    "from pathlib import Path\n",
    "\n",
    "from mantaray_utilities.user import create_account\n",
    "from ocean_keeper import Keeper\n",
    "from ocean_keeper.web3_provider import Web3Provider\n",
    "from ocean_utils.agreements.service_types import ServiceTypes\n",
    "from squid_py import Ocean\n",
    "import squid_py\n",
    "from squid_py import Config\n",
    "\n",
    "from mantaray_utilities import logging as manta_logging, config\n",
    "from mantaray_utilities.misc import get_metadata_example\n",
    "from mantaray_utilities.events import subscribe_event\n",
    "\n",
    "# Setup logging\n",
    "\n",
    "manta_logging.logger.setLevel('INFO')\n",
    "\n",
    "# Load metadata example\n",
    "metadata = get_metadata_example()"
   ]
  },
  {
   "cell_type": "code",
   "execution_count": null,
   "metadata": {
    "title": "Add a file handler"
   },
   "outputs": [],
   "source": [
    "# path_log_file = Path.home() / '{}.log'.format(datetime.datetime.now().strftime(\"%Y-%m-%d %H:%M:%S\"))\n",
    "# fh = logging.FileHandler(path_log_file)\n",
    "# fh.setLevel(logging.DEBUG)"
   ]
  },
  {
   "cell_type": "markdown",
   "metadata": {},
   "source": [
    "## Section 1: Get the configuration from the INI file"
   ]
  },
  {
   "cell_type": "code",
   "execution_count": null,
   "metadata": {
    "lines_to_next_cell": 0.0
   },
   "outputs": [],
   "source": [
    "# Get the configuration file path for this environment\n",
    "OCEAN_CONFIG_PATH = Path(os.path.expanduser(os.environ['OCEAN_CONFIG_PATH']))\n",
    "assert OCEAN_CONFIG_PATH.exists(), \"{} - path does not exist\".format(OCEAN_CONFIG_PATH)\n",
    "\n",
    "logging.critical(\"Configuration file selected: {}\".format(OCEAN_CONFIG_PATH))\n",
    "logging.critical(\"Deployment type: {}\".format(config.get_deployment_type()))\n",
    "logging.critical(\"Squid API version: {}\".format(squid_py.__version__))"
   ]
  },
  {
   "cell_type": "code",
   "execution_count": null,
   "metadata": {
    "lines_to_next_cell": 0.0
   },
   "outputs": [],
   "source": [
    "# Instantiate Ocean with the default configuration file.\n",
    "configuration = Config(OCEAN_CONFIG_PATH)\n",
    "squid_py.ConfigProvider.set_config(configuration)\n",
    "ocn = Ocean(configuration)\n",
    "faucet_url = ocn.config.get('keeper-contracts', 'faucet.url')\n",
    "scale = 10**18"
   ]
  },
  {
   "cell_type": "markdown",
   "metadata": {},
   "source": [
    "## Section 2: Delegate access of your asset to the marketplace\n",
    "When we publish a register a DDO to a marketplace, we assign several services and conditions on those services.\n",
    "By default, the permission to grant access will lie with you, the publisher. As a publisher, you would need to\n",
    "run the services component (brizo), in order to manage access to your assets.\n",
    "\n",
    "However, for the case of a marketplace, we will delegate permission to grant access to these services to the market\n",
    "place on our behalf. Therefore, we will need the public address of the marketplace component. Of course, the\n",
    "conditions are defined ultimately by you, the publisher."
   ]
  },
  {
   "cell_type": "code",
   "execution_count": null,
   "metadata": {},
   "outputs": [],
   "source": [
    "# The Market Place will be delegated to provide access to your assets, so we need the address\n",
    "MARKET_PLACE_PROVIDER_ADDRESS = Web3Provider.get_web3().toChecksumAddress(configuration.provider_address)\n",
    "logging.info(\"MARKET_PLACE_PROVIDER_ADDRESS:{}\".format(MARKET_PLACE_PROVIDER_ADDRESS))"
   ]
  },
  {
   "cell_type": "markdown",
   "metadata": {
    "lines_to_next_cell": 0.0
   },
   "source": [
    "## Section 3: Instantiate Ocean"
   ]
  },
  {
   "cell_type": "code",
   "execution_count": null,
   "metadata": {},
   "outputs": [],
   "source": [
    "keeper = Keeper.get_instance()"
   ]
  },
  {
   "cell_type": "markdown",
   "metadata": {},
   "source": [
    "## Section 4: Get Publisher and register an asset for testing the download\n",
    "Of course, you can download your own asset, one that you have created, or\n",
    "one that you have found via the search api. All you need is the DID of the asset."
   ]
  },
  {
   "cell_type": "markdown",
   "metadata": {
    "lines_to_next_cell": 0.0
   },
   "source": [
    "We need accounts for the publisher and consumer, let's make new ones"
   ]
  },
  {
   "cell_type": "code",
   "execution_count": null,
   "metadata": {
    "lines_to_next_cell": 0.0
   },
   "outputs": [],
   "source": [
    "# Publisher account (will be filled with some TESTNET eth automatically)\n",
    "publisher_account = create_account(faucet_url, wait=True)"
   ]
  },
  {
   "cell_type": "code",
   "execution_count": null,
   "metadata": {
    "lines_to_next_cell": 0.0
   },
   "outputs": [],
   "source": [
    "print(\"Publisher account address: {}\".format(publisher_account.address))\n",
    "time.sleep(5)  # wait a bit more for the eth transaction to validate"
   ]
  },
  {
   "cell_type": "code",
   "execution_count": null,
   "metadata": {
    "lines_to_next_cell": 0.0
   },
   "outputs": [],
   "source": [
    "# ensure Ocean token balance\n",
    "if ocn.accounts.balance(publisher_account).ocn/scale < 100:\n",
    "    ocn.accounts.request_tokens(publisher_account, 100)\n",
    "print(\"Publisher account Testnet 'ETH' balance: {:>6.3f}\".format(ocn.accounts.balance(publisher_account).eth/scale))\n",
    "print(\"Publisher account Testnet Ocean balance: {:>6.3f}\".format(ocn.accounts.balance(publisher_account).ocn/scale))\n",
    "assert ocn.accounts.balance(publisher_account).eth/scale > 0.0, 'Cannot continue without eth.'"
   ]
  },
  {
   "cell_type": "code",
   "execution_count": null,
   "metadata": {
    "lines_to_next_cell": 0.0
   },
   "outputs": [],
   "source": [
    "# Consumer account (same as above, will have some TESTNET eth added)\n",
    "consumer_account = create_account(faucet_url, wait=True)"
   ]
  },
  {
   "cell_type": "code",
   "execution_count": null,
   "metadata": {
    "lines_to_next_cell": 0.0
   },
   "outputs": [],
   "source": [
    "print(\"Consumer account address: {}\".format(consumer_account.address))\n",
    "time.sleep(5)  # wait a bit more for the eth transaction to validate"
   ]
  },
  {
   "cell_type": "code",
   "execution_count": null,
   "metadata": {
    "lines_to_next_cell": 2.0
   },
   "outputs": [],
   "source": [
    "if ocn.accounts.balance(consumer_account).ocn/scale < 100:\n",
    "    ocn.accounts.request_tokens(consumer_account, 100)\n",
    "# Verify both ocean and eth balance\n",
    "print(\"Consumer account Testnet 'ETH' balance: {:>6.3f}\".format(ocn.accounts.balance(consumer_account).eth/scale))\n",
    "print(\"Consumer account Testnet Ocean balance: {:>6.3f}\".format(ocn.accounts.balance(consumer_account).ocn/scale))\n",
    "assert ocn.accounts.balance(consumer_account).eth/scale > 0.0, 'Cannot continue without eth.'\n",
    "assert ocn.accounts.balance(consumer_account).ocn/scale > 0.0, 'Cannot continue without Ocean Tokens.'"
   ]
  },
  {
   "cell_type": "code",
   "execution_count": null,
   "metadata": {},
   "outputs": [],
   "source": [
    "# Register an asset\n",
    "ddo = ocn.assets.create(metadata, publisher_account, providers=[MARKET_PLACE_PROVIDER_ADDRESS])\n",
    "logging.info(f'registered ddo: {ddo.did}')\n",
    "asset_price = int(ddo.metadata['main']['price']) / 10**18\n",
    "asset_name = ddo.metadata['main']['name']\n",
    "print(\"Registered {} for {} OCN\".format(asset_name, asset_price))"
   ]
  },
  {
   "cell_type": "markdown",
   "metadata": {
    "lines_to_next_cell": 0.0
   },
   "source": [
    "## Section 6: Initiate the agreement for accessing (downloading) the asset, wait for condition events"
   ]
  },
  {
   "cell_type": "code",
   "execution_count": null,
   "metadata": {},
   "outputs": [],
   "source": [
    "agreement_id = ocn.assets.order(\n",
    "    ddo.did,\n",
    "    ddo.get_service(ServiceTypes.ASSET_ACCESS).index,\n",
    "    consumer_account,\n",
    "    provider_address=MARKET_PLACE_PROVIDER_ADDRESS\n",
    ")\n",
    "logging.info(\"Consumer has placed an order for asset {}\".format(ddo.did))\n",
    "logging.info(\"The service agreement ID is {}\".format(agreement_id))"
   ]
  },
  {
   "cell_type": "markdown",
   "metadata": {},
   "source": [
    "In Ocean Protocol, downloading an asset is enforced by a contract.\n",
    "The contract conditions and clauses are set by the publisher. Conditions trigger events, which are monitored\n",
    "to ensure the contract is successfully executed."
   ]
  },
  {
   "cell_type": "code",
   "execution_count": null,
   "metadata": {},
   "outputs": [],
   "source": [
    "subscribe_event(\"created agreement\", keeper, agreement_id)\n",
    "subscribe_event(\"lock reward\", keeper, agreement_id)\n",
    "subscribe_event(\"access secret store\", keeper, agreement_id)\n",
    "subscribe_event(\"escrow reward\", keeper, agreement_id)"
   ]
  },
  {
   "cell_type": "markdown",
   "metadata": {},
   "source": [
    "Now wait for all events to complete!"
   ]
  },
  {
   "cell_type": "markdown",
   "metadata": {},
   "source": [
    "Now that the agreement is signed, the consumer can download the asset."
   ]
  },
  {
   "cell_type": "code",
   "execution_count": null,
   "metadata": {},
   "outputs": [],
   "source": [
    "assert ocn.agreements.is_access_granted(agreement_id, ddo.did, consumer_account.address)\n",
    "# ocn.agreements.status(agreement_id)\n",
    "ocn.assets.consume(agreement_id, ddo.did, 'Access', consumer_account, 'downloads_nile')\n",
    "\n",
    "logging.info('Success buying asset.')"
   ]
  }
 ],
 "metadata": {
  "jupytext": {
   "cell_metadata_filter": "title,-all",
   "main_language": "python",
   "notebook_metadata_filter": "-all"
  },
  "kernelspec": {
   "display_name": "Manta Ray",
   "language": "python",
   "name": "python3"
  }
 },
 "nbformat": 4,
 "nbformat_minor": 4
}
