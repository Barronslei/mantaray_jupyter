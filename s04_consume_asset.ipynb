{
 "cells": [
  {
   "cell_type": "markdown",
   "metadata": {},
   "source": [
    "\n",
    "<p><img src=\"https://oceanprotocol.com/static/media/banner-ocean-03@2x.b7272597.png\" alt=\"drawing\" width=\"800\" align=\"center\"/>"
   ]
  },
  {
   "cell_type": "markdown",
   "metadata": {
    "lines_to_next_cell": 2
   },
   "source": [
    "\n",
    "<h1><center>Ocean Protocol - Manta Ray project</center></h1>\n",
    "<h3><center>Decentralized Data Science and Engineering, powered by Ocean Protocol</center></h3>\n",
    "<p>Version 0.3 - alpha preview</p>\n",
    "<p><a href=\"https://github.com/oceanprotocol/mantaray\">mantaray on Github</a></p>\n",
    "<p>"
   ]
  },
  {
   "cell_type": "markdown",
   "metadata": {},
   "source": [
    "Getting Underway - Downloading Datasets (Assets)\n",
    "In this notebook, TODO: description"
   ]
  },
  {
   "cell_type": "markdown",
   "metadata": {},
   "source": [
    "### Section 0: Import modules, and setup logging"
   ]
  },
  {
   "cell_type": "code",
   "execution_count": null,
   "metadata": {
    "lines_to_next_cell": 0
   },
   "outputs": [],
   "source": [
    "# Standard imports\n",
    "import logging\n",
    "from pprint import pprint\n",
    "import os\n",
    "# Import mantaray and the Ocean API (squid)\n",
    "import squid_py\n",
    "from squid_py.ocean.ocean import Ocean\n",
    "from squid_py.config import Config\n",
    "import mantaray_utilities as manta_utils\n",
    "from squid_py.keeper.web3_provider import Web3Provider\n",
    "# Setup logging\n",
    "manta_utils.logging.logger.setLevel('CRITICAL')\n",
    "# manta_utils.logging.logger.setLevel('DEBUG')\n",
    "# os.environ['USE_K8S_CLUSTER'] = 'True' # Enable this for testing local -> AWS setup"
   ]
  },
  {
   "cell_type": "code",
   "execution_count": null,
   "metadata": {},
   "outputs": [],
   "source": [
    "# Get the configuration file path for this environment\n",
    "CONFIG_INI_PATH = manta_utils.config.get_config_file_path()\n",
    "logging.critical(\"Deployment type: {}\".format(manta_utils.config.get_deployment_type()))\n",
    "logging.critical(\"Configuration file selected: {}\".format(CONFIG_INI_PATH))\n",
    "logging.critical(\"Squid API version: {}\".format(squid_py.__version__))"
   ]
  },
  {
   "cell_type": "markdown",
   "metadata": {
    "lines_to_next_cell": 0
   },
   "source": [
    "### Section 1: Instantiate a simulated User\n",
    "A 'User' in an abstract class representing a user of Ocean Protocol\n"
   ]
  },
  {
   "cell_type": "code",
   "execution_count": null,
   "metadata": {
    "lines_to_next_cell": 0
   },
   "outputs": [],
   "source": [
    "configuration = Config(CONFIG_INI_PATH)\n",
    "ocn = Ocean(configuration)\n",
    "# Get the consumer account\n",
    "consumer_address = configuration['keeper-contracts']['parity.address2']\n",
    "consumer_pass = configuration['keeper-contracts']['parity.password2']\n",
    "consumer_acct = [ocn.accounts[addr] for addr in ocn.accounts if addr.lower() == consumer_address.lower()][0]\n",
    "consumer_acct.password = consumer_pass\n",
    "print(\"Consumer account address: \", consumer_acct.address)"
   ]
  },
  {
   "cell_type": "markdown",
   "metadata": {
    "lines_to_next_cell": 0
   },
   "source": [
    "### Section 2: Find an asset"
   ]
  },
  {
   "cell_type": "code",
   "execution_count": null,
   "metadata": {
    "lines_to_next_cell": 0
   },
   "outputs": [],
   "source": [
    "# Get ALL dids\n",
    "all_dids = ocn.metadata_store.list_assets()\n",
    "print(\"There are {} assets registered in the metadata store.\".format(len(all_dids)))\n",
    "\n",
    "assert len(all_dids), \"There are no assets registered, go to s03_publish_and_register!\"\n",
    "\n",
    "# Get a DID for testing\n",
    "selected_did = all_dids[-1]\n",
    "print(\"Selected DID:\",selected_did)"
   ]
  },
  {
   "cell_type": "code",
   "execution_count": null,
   "metadata": {
    "title": "From this DID, get the DDO"
   },
   "outputs": [],
   "source": [
    "this_ddo = ocn.resolve_asset_did(selected_did)\n",
    "pprint(this_ddo)"
   ]
  },
  {
   "cell_type": "markdown",
   "metadata": {
    "lines_to_next_cell": 0
   },
   "source": [
    "Your account will need some Ocean Token to make real transactions"
   ]
  },
  {
   "cell_type": "code",
   "execution_count": null,
   "metadata": {},
   "outputs": [],
   "source": [
    "# ensure Ocean token balance\n",
    "if consumer_acct.ocean_balance < 50:\n",
    "    tx_hash = consumer_acct.request_tokens(50)\n",
    "    Web3Provider.get_web3().eth.waitForTransactionReceipt(tx_hash)"
   ]
  },
  {
   "cell_type": "markdown",
   "metadata": {
    "lines_to_next_cell": 0
   },
   "source": [
    "Purchase"
   ]
  },
  {
   "cell_type": "code",
   "execution_count": null,
   "metadata": {
    "lines_to_next_cell": 3
   },
   "outputs": [],
   "source": [
    "# Get the service definition ID\n",
    "service = this_ddo.get_service(service_type=squid_py.ServiceTypes.ASSET_ACCESS)\n",
    "assert squid_py.ServiceAgreement.SERVICE_DEFINITION_ID in service.as_dictionary()\n",
    "sa = squid_py.ServiceAgreement.from_service_dict(service.as_dictionary())\n",
    "\n",
    "# This will send the purchase request to Brizo which in turn will execute the agreement on-chain\n",
    "service_agreement_id = ocn.purchase_asset_service(this_ddo.did, sa.sa_definition_id, consumer_acct)\n",
    "print('got new service agreement id:', service_agreement_id)"
   ]
  }
 ],
 "metadata": {
  "jupytext": {
   "main_language": "python",
   "text_representation": {
    "extension": ".py",
    "format_name": "percent"
   }
  }
 },
 "nbformat": 4,
 "nbformat_minor": 2
}
