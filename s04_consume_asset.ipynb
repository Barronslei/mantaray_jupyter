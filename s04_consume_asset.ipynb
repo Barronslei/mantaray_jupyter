{
 "cells": [
  {
   "cell_type": "markdown",
   "metadata": {},
   "source": [
    "\n",
    "<p><img src=\"https://oceanprotocol.com/static/media/banner-ocean-03@2x.b7272597.png\" alt=\"drawing\" width=\"800\" align=\"center\"/>"
   ]
  },
  {
   "cell_type": "markdown",
   "metadata": {
    "lines_to_next_cell": 2
   },
   "source": [
    "\n",
    "<h1><center>Ocean Protocol - Manta Ray project</center></h1>\n",
    "<h3><center>Decentralized Data Science and Engineering, powered by Ocean Protocol</center></h3>\n",
    "<p>Version 0.5.3 - beta</p>\n",
    "<p>Package compatibility: squid-py v0.6.13, keeper-contracts 0.10.3, utilities 0.2.2,\n",
    "<p>Component compatibility (Nile): Brizo v0.3.12, Aquarius v0.3.4, Nile testnet smart contracts 0.10.3</p>\n",
    "\n",
    "<p><a href=\"https://github.com/oceanprotocol/mantaray\">mantaray on Github</a></p>\n",
    "<p>"
   ]
  },
  {
   "cell_type": "markdown",
   "metadata": {},
   "source": [
    "Getting Underway - Downloading Datasets (Assets)\n",
    "To complete the basic datascience workflow, this notebook will demonstrate how a user\n",
    "can download an asset. Downloading an asset is a simple example of a Service Execution Agreement -\n",
    "similar to a contract with a series of clauses. Each clause is secured on the blockchain, allowing for trustful\n",
    "execution of a contract.\n",
    "\n",
    "In this notebook, an asset will be first published as before, and then ordered and downloaded."
   ]
  },
  {
   "cell_type": "markdown",
   "metadata": {},
   "source": [
    "### Section 0: Import modules, and setup logging"
   ]
  },
  {
   "cell_type": "code",
   "execution_count": 13,
   "metadata": {
    "lines_to_next_cell": 2
   },
   "outputs": [],
   "source": [
    "import logging\n",
    "import os\n",
    "from squid_py import Metadata, Ocean\n",
    "import squid_py\n",
    "import mantaray_utilities as manta_utils\n",
    "\n",
    "# Setup logging\n",
    "from mantaray_utilities.user import get_account_from_config\n",
    "from mantaray_utilities.events import subscribe_event\n",
    "manta_utils.logging.logger.setLevel('INFO')\n",
    "import mantaray_utilities as manta_utils\n",
    "from squid_py import Config\n",
    "from squid_py.keeper import Keeper\n",
    "from pathlib import Path\n",
    "import datetime\n",
    "import web3\n",
    "import asyncio"
   ]
  },
  {
   "cell_type": "code",
   "execution_count": 14,
   "metadata": {
    "title": "Add a file handler"
   },
   "outputs": [],
   "source": [
    "# path_log_file = Path.home() / '{}.log'.format(datetime.datetime.now().strftime(\"%Y-%m-%d %H:%M:%S\"))\n",
    "# fh = logging.FileHandler(path_log_file)\n",
    "# fh.setLevel(logging.DEBUG)\n",
    "# manta_utils.logging.logger.addHandler(fh)"
   ]
  },
  {
   "cell_type": "markdown",
   "metadata": {},
   "source": [
    "## Section 1: Get the configuration from the INI file"
   ]
  },
  {
   "cell_type": "code",
   "execution_count": 15,
   "metadata": {
    "lines_to_next_cell": 0
   },
   "outputs": [
    {
     "name": "stderr",
     "output_type": "stream",
     "text": [
      "50 - <ipython-input-15-484e7d412a59> - <module>        - Configuration file selected: config_nile.ini\n",
      "50 - <ipython-input-15-484e7d412a59> - <module>        - Deployment type: DEFAULT\n",
      "50 - <ipython-input-15-484e7d412a59> - <module>        - Squid API version: 0.6.15\n",
      "20 - <ipython-input-15-484e7d412a59> - <module>        - MARKET_PLACE_PROVIDER_ADDRESS:0x008C25ED3594E094db4592F4115D5FA74C4f41eA\n"
     ]
    }
   ],
   "source": [
    "# Get the configuration file path for this environment\n",
    "OCEAN_CONFIG_PATH = Path(os.environ['OCEAN_CONFIG_PATH'])\n",
    "assert OCEAN_CONFIG_PATH.exists(), \"{} - path does not exist\".format(OCEAN_CONFIG_PATH)\n",
    "\n",
    "# The Market Place will be delegated to provide access to your assets, so we need the address\n",
    "MARKET_PLACE_PROVIDER_ADDRESS = os.environ['MARKET_PLACE_PROVIDER_ADDRESS']\n",
    "\n",
    "logging.critical(\"Configuration file selected: {}\".format(OCEAN_CONFIG_PATH))\n",
    "logging.critical(\"Deployment type: {}\".format(manta_utils.config.get_deployment_type()))\n",
    "logging.critical(\"Squid API version: {}\".format(squid_py.__version__))\n",
    "logging.info(\"MARKET_PLACE_PROVIDER_ADDRESS:{}\".format(MARKET_PLACE_PROVIDER_ADDRESS))"
   ]
  },
  {
   "cell_type": "code",
   "execution_count": 16,
   "metadata": {},
   "outputs": [],
   "source": [
    "# Instantiate Ocean with the default configuration file.\n",
    "configuration = Config(OCEAN_CONFIG_PATH)\n",
    "squid_py.ConfigProvider.set_config(configuration)\n",
    "ocn = Ocean(configuration)"
   ]
  },
  {
   "cell_type": "markdown",
   "metadata": {},
   "source": [
    "## Section 2: Delegate access of your asset to the marketplace\n",
    "When we publish a register a DDO to a marketplace, we assign several services and conditions on those services.\n",
    "By default, the permission to grant access will lie with you, the publisher. As a publisher, you would need to\n",
    "run the services component (brizo), in order to manage access to your assets.\n",
    "\n",
    "However, for the case of a marketplace, we will delegate permission to grant access to these services to the market\n",
    "place on our behalf. Therefore, we will need the public address of the marketplace component. Of course, the\n",
    "conditions are defined ultimately by you, the publisher."
   ]
  },
  {
   "cell_type": "code",
   "execution_count": 17,
   "metadata": {},
   "outputs": [],
   "source": [
    "MARKET_PLACE_PROVIDER_ADDRESS = web3.Web3.toChecksumAddress(MARKET_PLACE_PROVIDER_ADDRESS)"
   ]
  },
  {
   "cell_type": "markdown",
   "metadata": {
    "lines_to_next_cell": 0
   },
   "source": [
    "## Section 3: Instantiate Ocean"
   ]
  },
  {
   "cell_type": "code",
   "execution_count": 18,
   "metadata": {},
   "outputs": [],
   "source": [
    "keeper = Keeper.get_instance()"
   ]
  },
  {
   "cell_type": "markdown",
   "metadata": {},
   "source": [
    "## Section 4: Get Publisher and register an asset for testing the download\n",
    "Of course, you can download your own asset, one that you have created, or\n",
    "one that you have found via the search api. All you need is the DID of the asset."
   ]
  },
  {
   "cell_type": "code",
   "execution_count": 19,
   "metadata": {},
   "outputs": [
    {
     "name": "stderr",
     "output_type": "stream",
     "text": [
      "20 - user            - load_passwords  - 5 account-password pairs loaded\n"
     ]
    },
    {
     "name": "stdout",
     "output_type": "stream",
     "text": [
      "Publisher address: 0x0d4230b1795959ab5453eb98E4853966bcD3059b\n",
      "Publisher   ETH: 110.9\n",
      "Publisher OCEAN: 418.0\n"
     ]
    }
   ],
   "source": [
    "publisher_account = manta_utils.user.get_account_by_index(ocn,0)\n",
    "\n",
    "# publisher_account = get_account_from_config(config_from_ini, 'parity.address', 'parity.password')\n",
    "print(\"Publisher address: {}\".format(publisher_account.address))\n",
    "print(\"Publisher   ETH: {:0.1f}\".format(ocn.accounts.balance(publisher_account).eth/10**18))\n",
    "print(\"Publisher OCEAN: {:0.1f}\".format(ocn.accounts.balance(publisher_account).ocn/10**18))"
   ]
  },
  {
   "cell_type": "code",
   "execution_count": 20,
   "metadata": {},
   "outputs": [
    {
     "name": "stderr",
     "output_type": "stream",
     "text": [
      "20 - ocean_assets    - create          - Successfully registered DDO (DID=did:op:487a60e427b04f9fb630e779f3183741549f2d2f710643d8b9c9507dd466034e) on chain.\n",
      "20 - ocean_assets    - create          - Asset/ddo published successfully in aquarius.\n",
      "20 - <ipython-input-20-540c9d2f73e9> - <module>        - registered ddo: did:op:487a60e427b04f9fb630e779f3183741549f2d2f710643d8b9c9507dd466034e\n"
     ]
    },
    {
     "name": "stdout",
     "output_type": "stream",
     "text": [
      "Registered Ocean protocol white paper for 10.0 OCN\n"
     ]
    }
   ],
   "source": [
    "# Register an asset\n",
    "ddo = ocn.assets.create(Metadata.get_example(), publisher_account, providers=[MARKET_PLACE_PROVIDER_ADDRESS])\n",
    "logging.info(f'registered ddo: {ddo.did}')\n",
    "asset_price = int(ddo.metadata['base']['price']) / 10**18\n",
    "asset_name = ddo.metadata['base']['name']\n",
    "print(\"Registered {} for {} OCN\".format(asset_name, asset_price))"
   ]
  },
  {
   "cell_type": "markdown",
   "metadata": {
    "lines_to_next_cell": 0
   },
   "source": [
    "## Section 5: Get Consumer account, ensure token balance"
   ]
  },
  {
   "cell_type": "code",
   "execution_count": 21,
   "metadata": {},
   "outputs": [
    {
     "name": "stderr",
     "output_type": "stream",
     "text": [
      "20 - user            - load_passwords  - 5 account-password pairs loaded\n"
     ]
    },
    {
     "name": "stdout",
     "output_type": "stream",
     "text": [
      "Consumer address: 0x0ed597b76592b4E63F0494127ADFB7Ea0829e337\n",
      "Consumer   ETH: 100.0\n",
      "Consumer OCEAN: 5.0\n"
     ]
    },
    {
     "name": "stderr",
     "output_type": "stream",
     "text": [
      "20 - <ipython-input-21-535d1b04c77a> - <module>        - Insufficient Ocean Token balance for this asset!\n",
      "20 - <ipython-input-21-535d1b04c77a> - <module>        - Requesting 10 tokens\n"
     ]
    }
   ],
   "source": [
    "# consumer_account = get_account_from_config(config_from_ini, 'parity.address1', 'parity.password1')\n",
    "consumer_account = manta_utils.user.get_account_by_index(ocn,1)\n",
    "print(\"Consumer address: {}\".format(consumer_account.address))\n",
    "print(\"Consumer   ETH: {:0.1f}\".format(ocn.accounts.balance(consumer_account).eth/10**18))\n",
    "print(\"Consumer OCEAN: {:0.1f}\".format(ocn.accounts.balance(consumer_account).ocn/10**18))\n",
    "assert ocn.accounts.balance(consumer_account).eth/10**18 > 1, \"Insufficient ETH in account {}\".format(consumer_account.address)\n",
    "# Ensure the consumer always has enough Ocean Token (with a margin)\n",
    "if ocn.accounts.balance(consumer_account).ocn/10**18 < asset_price + 1:\n",
    "    logging.info(\"Insufficient Ocean Token balance for this asset!\".format())\n",
    "    refill_amount = int(15 - ocn.accounts.balance(consumer_account).ocn/10**18)\n",
    "    logging.info(\"Requesting {} tokens\".format(refill_amount))\n",
    "    ocn.accounts.request_tokens(consumer_account, refill_amount)"
   ]
  },
  {
   "cell_type": "markdown",
   "metadata": {
    "lines_to_next_cell": 0
   },
   "source": [
    "## Section 6: Initiate the agreement for accessing (downloading) the asset, wait for condition events"
   ]
  },
  {
   "cell_type": "code",
   "execution_count": 22,
   "metadata": {},
   "outputs": [
    {
     "name": "stderr",
     "output_type": "stream",
     "text": [
      "20 - ocean_agreements - create          - Service agreement 0x568730a719e1404e97cdbc40fe223f67ef526b3b842742728858419052cb2221 created successfully.\n",
      "20 - <ipython-input-22-f0fa9af99598> - <module>        - Consumer has placed an order for asset did:op:487a60e427b04f9fb630e779f3183741549f2d2f710643d8b9c9507dd466034e\n",
      "20 - <ipython-input-22-f0fa9af99598> - <module>        - The service agreement ID is 0x568730a719e1404e97cdbc40fe223f67ef526b3b842742728858419052cb2221\n",
      "20 - lock_reward_condition - fulfill_lock_reward_condition - approval of token transfer was  successful\n"
     ]
    }
   ],
   "source": [
    "agreement_id = ocn.assets.order(ddo.did, 'Access', consumer_account)\n",
    "logging.info(\"Consumer has placed an order for asset {}\".format(ddo.did))\n",
    "logging.info(\"The service agreement ID is {}\".format(agreement_id))"
   ]
  },
  {
   "cell_type": "markdown",
   "metadata": {},
   "source": [
    "In Ocean Protocol, downloading an asset is enforced by a contract.\n",
    "The contract conditions and clauses are set by the publisher. Conditions trigger events, which are monitored\n",
    "to ensure the contract is successfully executed."
   ]
  },
  {
   "cell_type": "code",
   "execution_count": null,
   "metadata": {},
   "outputs": [],
   "source": [
    "subscribe_event(\"created agreement\", keeper, agreement_id)\n",
    "subscribe_event(\"lock reward\", keeper, agreement_id)\n",
    "subscribe_event(\"access secret store\", keeper, agreement_id)\n",
    "subscribe_event(\"escrow reward\", keeper, agreement_id)"
   ]
  },
  {
   "cell_type": "markdown",
   "metadata": {},
   "source": [
    "Now wait for all events to complete!"
   ]
  },
  {
   "cell_type": "markdown",
   "metadata": {},
   "source": [
    "Now that the agreement is signed, the consumer can download the asset."
   ]
  },
  {
   "cell_type": "code",
   "execution_count": 12,
   "metadata": {},
   "outputs": [
    {
     "ename": "AssertionError",
     "evalue": "",
     "output_type": "error",
     "traceback": [
      "\u001b[0;31m---------------------------------------------------------------------------\u001b[0m",
      "\u001b[0;31mAssertionError\u001b[0m                            Traceback (most recent call last)",
      "\u001b[0;32m<ipython-input-12-bdf3f9c99642>\u001b[0m in \u001b[0;36m<module>\u001b[0;34m\u001b[0m\n\u001b[0;32m----> 1\u001b[0;31m \u001b[0;32massert\u001b[0m \u001b[0mocn\u001b[0m\u001b[0;34m.\u001b[0m\u001b[0magreements\u001b[0m\u001b[0;34m.\u001b[0m\u001b[0mis_access_granted\u001b[0m\u001b[0;34m(\u001b[0m\u001b[0magreement_id\u001b[0m\u001b[0;34m,\u001b[0m \u001b[0mddo\u001b[0m\u001b[0;34m.\u001b[0m\u001b[0mdid\u001b[0m\u001b[0;34m,\u001b[0m \u001b[0mconsumer_account\u001b[0m\u001b[0;34m.\u001b[0m\u001b[0maddress\u001b[0m\u001b[0;34m)\u001b[0m\u001b[0;34m\u001b[0m\u001b[0;34m\u001b[0m\u001b[0m\n\u001b[0m\u001b[1;32m      2\u001b[0m \u001b[0;31m# ocn.agreements.status(agreement_id)\u001b[0m\u001b[0;34m\u001b[0m\u001b[0;34m\u001b[0m\u001b[0;34m\u001b[0m\u001b[0m\n\u001b[1;32m      3\u001b[0m \u001b[0mocn\u001b[0m\u001b[0;34m.\u001b[0m\u001b[0massets\u001b[0m\u001b[0;34m.\u001b[0m\u001b[0mconsume\u001b[0m\u001b[0;34m(\u001b[0m\u001b[0magreement_id\u001b[0m\u001b[0;34m,\u001b[0m \u001b[0mddo\u001b[0m\u001b[0;34m.\u001b[0m\u001b[0mdid\u001b[0m\u001b[0;34m,\u001b[0m \u001b[0;34m'Access'\u001b[0m\u001b[0;34m,\u001b[0m \u001b[0mconsumer_account\u001b[0m\u001b[0;34m,\u001b[0m \u001b[0;34m'downloads_nile'\u001b[0m\u001b[0;34m)\u001b[0m\u001b[0;34m\u001b[0m\u001b[0;34m\u001b[0m\u001b[0m\n\u001b[1;32m      4\u001b[0m \u001b[0;34m\u001b[0m\u001b[0m\n\u001b[1;32m      5\u001b[0m \u001b[0mlogging\u001b[0m\u001b[0;34m.\u001b[0m\u001b[0minfo\u001b[0m\u001b[0;34m(\u001b[0m\u001b[0;34m'Success buying asset.'\u001b[0m\u001b[0;34m)\u001b[0m\u001b[0;34m\u001b[0m\u001b[0;34m\u001b[0m\u001b[0m\n",
      "\u001b[0;31mAssertionError\u001b[0m: "
     ]
    }
   ],
   "source": [
    "assert ocn.agreements.is_access_granted(agreement_id, ddo.did, consumer_account.address)\n",
    "# ocn.agreements.status(agreement_id)\n",
    "ocn.assets.consume(agreement_id, ddo.did, 'Access', consumer_account, 'downloads_nile')\n",
    "\n",
    "logging.info('Success buying asset.')"
   ]
  },
  {
   "cell_type": "code",
   "execution_count": null,
   "metadata": {},
   "outputs": [],
   "source": []
  }
 ],
 "metadata": {
  "jupytext": {
   "cell_metadata_filter": "title,-all",
   "main_language": "python",
   "notebook_metadata_filter": "-all"
  },
  "kernelspec": {
   "display_name": "mantaray_jupyter",
   "language": "python",
   "name": "mantaray_jupyter"
  },
  "language_info": {
   "codemirror_mode": {
    "name": "ipython",
    "version": 3
   },
   "file_extension": ".py",
   "mimetype": "text/x-python",
   "name": "python",
   "nbconvert_exporter": "python",
   "pygments_lexer": "ipython3",
   "version": "3.6.8"
  }
 },
 "nbformat": 4,
 "nbformat_minor": 2
}
