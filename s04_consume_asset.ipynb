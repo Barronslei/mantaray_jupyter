{
 "cells": [
  {
   "cell_type": "markdown",
   "metadata": {},
   "source": [
    "\n",
    "<p><img src=\"https://oceanprotocol.com/static/media/banner-ocean-03@2x.b7272597.png\" alt=\"drawing\" width=\"800\" align=\"center\"/>"
   ]
  },
  {
   "cell_type": "markdown",
   "metadata": {
    "lines_to_next_cell": 2
   },
   "source": [
    "\n",
    "<h1><center>Ocean Protocol - Manta Ray project</center></h1>\n",
    "<h3><center>Decentralized Data Science and Engineering, powered by Ocean Protocol</center></h3>\n",
    "<p>Version 0.4 - alpha preview</p>\n",
    "<p><a href=\"https://github.com/oceanprotocol/mantaray\">mantaray on Github</a></p>\n",
    "<p>"
   ]
  },
  {
   "cell_type": "markdown",
   "metadata": {},
   "source": [
    "Getting Underway - Downloading Datasets (Assets)\n",
    "In this notebook, TODO: description"
   ]
  },
  {
   "cell_type": "markdown",
   "metadata": {},
   "source": [
    "### Section 0: Import modules, and setup logging"
   ]
  },
  {
   "cell_type": "code",
   "execution_count": null,
   "metadata": {},
   "outputs": [],
   "source": [
    "# Standard imports\n",
    "import logging\n",
    "from pprint import pprint\n",
    "import os\n",
    "from pathlib import Path\n",
    "import random\n",
    "# Import mantaray and the Ocean API (squid)\n",
    "import squid_py\n",
    "from squid_py.ocean.ocean import Ocean\n",
    "from squid_py.config import Config\n",
    "import mantaray_utilities as manta_utils\n",
    "from squid_py.keeper.web3_provider import Web3Provider\n",
    "# Setup logging\n",
    "manta_utils.logging.logger.setLevel('INFO')\n",
    "from mantaray_utilities.user import password_map\n",
    "\n",
    "print(\"squid-py Ocean API version:\", squid_py.__version__)"
   ]
  },
  {
   "cell_type": "code",
   "execution_count": null,
   "metadata": {},
   "outputs": [],
   "source": [
    "# Get the configuration file path for this environment\n",
    "CONFIG_INI_PATH = manta_utils.config.get_config_file_path()\n",
    "logging.critical(\"Deployment type: {}\".format(manta_utils.config.get_deployment_type()))\n",
    "logging.critical(\"Configuration file selected: {}\".format(CONFIG_INI_PATH))\n",
    "logging.critical(\"Squid API version: {}\".format(squid_py.__version__))"
   ]
  },
  {
   "cell_type": "markdown",
   "metadata": {
    "lines_to_next_cell": 0
   },
   "source": [
    "### Section 1: Instantiate a simulated User\n",
    "A 'User' in an abstract class representing a user of Ocean Protocol\n"
   ]
  },
  {
   "cell_type": "code",
   "execution_count": null,
   "metadata": {
    "lines_to_next_cell": 0
   },
   "outputs": [],
   "source": [
    "configuration = Config(CONFIG_INI_PATH)\n",
    "ocn = Ocean(configuration)"
   ]
  },
  {
   "cell_type": "code",
   "execution_count": null,
   "metadata": {
    "lines_to_next_cell": 0
   },
   "outputs": [],
   "source": [
    "# Get a consumer account\n",
    "path_passwords = manta_utils.config.get_project_path() / 'passwords.csv'\n",
    "passwords = manta_utils.user.load_passwords(path_passwords)\n",
    "\n",
    "consumer_acct = random.choice([acct for acct in ocn.accounts.list() if password_map(acct.address, passwords)])\n",
    "consumer_acct.password = password_map(consumer_acct.address, passwords)\n",
    "assert consumer_acct.password\n",
    "print(\"Consumer account address: \", consumer_acct.address)"
   ]
  },
  {
   "cell_type": "markdown",
   "metadata": {
    "lines_to_next_cell": 0
   },
   "source": [
    "### Section 2: Find an asset"
   ]
  },
  {
   "cell_type": "code",
   "execution_count": null,
   "metadata": {
    "lines_to_next_cell": 0
   },
   "outputs": [],
   "source": [
    "# Use the Query function to get all existing assets\n",
    "basic_query = {\"service\":{\"$elemMatch\":{\"metadata\": {\"$exists\" : True }}}}\n",
    "all_ddos = ocn.assets.query(basic_query)\n",
    "assert len(all_ddos), \"There are no assets registered, go to s03_publish_and_register!\"\n",
    "print(\"There are {} assets registered in the metadata store.\".format(len(all_ddos)))\n",
    "\n",
    "assert len(all_ddos), \"There are no assets registered, go to s03_publish_and_register!\"\n",
    "\n",
    "# Get a DID for testing\n",
    "selected_did = all_ddos[-1].did\n",
    "print(\"Selected DID:\",selected_did)"
   ]
  },
  {
   "cell_type": "code",
   "execution_count": null,
   "metadata": {
    "title": "An Asset (DDO) can be also be resolved from a DID"
   },
   "outputs": [],
   "source": [
    "#TODO: The Asset class does not offer much beyond DDO class\n",
    "#TODO: Term 'asset' is confusing here\n",
    "this_asset = ocn.assets.resolve(selected_did)\n",
    "#pprint(this_asset)\n",
    "print(this_asset.metadata['base']['name'])\n",
    "print(\"Price:\", this_asset.metadata['base']['price'])"
   ]
  },
  {
   "cell_type": "markdown",
   "metadata": {
    "lines_to_next_cell": 0
   },
   "source": [
    "Your account will need some Ocean Token to make real transactions"
   ]
  },
  {
   "cell_type": "code",
   "execution_count": null,
   "metadata": {
    "lines_to_next_cell": 0
   },
   "outputs": [],
   "source": [
    "if ocn.accounts.balance(consumer_acct).ocn == 0:\n",
    "    ocn.accounts.request_tokens(consumer_acct, 100)"
   ]
  },
  {
   "cell_type": "markdown",
   "metadata": {
    "lines_to_next_cell": 0
   },
   "source": [
    "Purchase the Asset!"
   ]
  },
  {
   "cell_type": "code",
   "execution_count": null,
   "metadata": {},
   "outputs": [],
   "source": [
    "#TODO: The service_definition_id will change to service_type\n",
    "service_agreement_id = ocn.assets.order(this_asset.did, 'Access', consumer_acct)\n",
    "print('New service agreement id:', service_agreement_id)"
   ]
  },
  {
   "cell_type": "markdown",
   "metadata": {
    "lines_to_next_cell": 0
   },
   "source": [
    "The asset download is automatically initiated, this will take time to complete!"
   ]
  },
  {
   "cell_type": "code",
   "execution_count": null,
   "metadata": {},
   "outputs": [],
   "source": [
    "asset_path = Path.cwd() / ocn._config.downloads_path / f'datafile.{this_asset.asset_id}.0'\n",
    "print(\"Check for your downloaded asset in\", asset_path)\n",
    "print(\"This might not appear immediately - the transaction needs be mined and the download needs to complete!\")"
   ]
  }
 ],
 "metadata": {
  "jupytext": {
   "main_language": "python",
   "text_representation": {
    "extension": ".py",
    "format_name": "percent"
   }
  },
  "kernelspec": {
   "display_name": "Manta Ray",
   "language": "python",
   "name": "mantaray"
  }
 },
 "nbformat": 4,
 "nbformat_minor": 2
}
