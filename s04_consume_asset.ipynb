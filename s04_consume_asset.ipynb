{
 "cells": [
  {
   "cell_type": "markdown",
   "metadata": {},
   "source": [
    "\n",
    "<p><img src=\"https://oceanprotocol.com/static/media/banner-ocean-03@2x.b7272597.png\" alt=\"drawing\" width=\"800\" align=\"center\"/>"
   ]
  },
  {
   "cell_type": "markdown",
   "metadata": {
    "lines_to_next_cell": 2
   },
   "source": [
    "\n",
    "<h1><center>Ocean Protocol - Manta Ray project</center></h1>\n",
    "<h3><center>Decentralized Data Science and Engineering, powered by Ocean Protocol</center></h3>\n",
    "<p>Version 0.3 - alpha preview</p>\n",
    "<p><a href=\"https://github.com/oceanprotocol/mantaray\">mantaray on Github</a></p>\n",
    "<p>"
   ]
  },
  {
   "cell_type": "markdown",
   "metadata": {},
   "source": [
    "Getting Underway - Downloading Datasets (Assets)\n",
    "In this notebook, TODO: description"
   ]
  },
  {
   "cell_type": "markdown",
   "metadata": {},
   "source": [
    "### Section 0: Import modules, and setup logging"
   ]
  },
  {
   "cell_type": "code",
   "execution_count": 2,
   "metadata": {
    "lines_to_next_cell": 0
   },
   "outputs": [],
   "source": [
    "# Standard imports\n",
    "import logging\n",
    "from pprint import pprint\n",
    "import os\n",
    "from pathlib import Path\n",
    "import random\n",
    "# Import mantaray and the Ocean API (squid)\n",
    "import squid_py\n",
    "from squid_py.ocean.ocean import Ocean\n",
    "from squid_py.config import Config\n",
    "import mantaray_utilities as manta_utils\n",
    "from squid_py.keeper.web3_provider import Web3Provider\n",
    "# Setup logging\n",
    "manta_utils.logging.logger.setLevel('INFO')\n",
    "from mantaray_utilities.user import password_map\n",
    "# manta_utils.logging.logger.setLevel('DEBUG')\n",
    "# os.environ['USE_K8S_CLUSTER'] = 'True' # Enable this for testing local -> AWS setup"
   ]
  },
  {
   "cell_type": "code",
   "execution_count": 3,
   "metadata": {},
   "outputs": [
    {
     "name": "stderr",
     "output_type": "stream",
     "text": [
      "50 - <ipython-input-3-84136f362abd> - <module>        - Deployment type: DEFAULT\n",
      "50 - <ipython-input-3-84136f362abd> - <module>        - Configuration file selected: /home/batman/ocn/mantaray_jupyter/config_local.ini\n",
      "50 - <ipython-input-3-84136f362abd> - <module>        - Squid API version: 0.4.2\n"
     ]
    }
   ],
   "source": [
    "# Get the configuration file path for this environment\n",
    "CONFIG_INI_PATH = manta_utils.config.get_config_file_path()\n",
    "logging.critical(\"Deployment type: {}\".format(manta_utils.config.get_deployment_type()))\n",
    "logging.critical(\"Configuration file selected: {}\".format(CONFIG_INI_PATH))\n",
    "logging.critical(\"Squid API version: {}\".format(squid_py.__version__))"
   ]
  },
  {
   "cell_type": "markdown",
   "metadata": {
    "lines_to_next_cell": 0
   },
   "source": [
    "### Section 1: Instantiate a simulated User\n",
    "A 'User' in an abstract class representing a user of Ocean Protocol\n"
   ]
  },
  {
   "cell_type": "code",
   "execution_count": 4,
   "metadata": {
    "lines_to_next_cell": 0
   },
   "outputs": [
    {
     "name": "stderr",
     "output_type": "stream",
     "text": [
      "20 - ocean_secret_store - __init__        - \tSecretStore: url http://localhost:12001, parity-client http://localhost:8545, account 0x068ed00cf0441e4829d9784fcbe7b9e26d4bd8d0\n",
      "20 - diagnostics     - verify_contracts - Keeper contract artifacts (JSON abi files) at: artifacts_spree\n",
      "20 - diagnostics     - verify_contracts - Using keeper contracts from network spree, network id is 8996\n",
      "20 - diagnostics     - verify_contracts - Looking for keeper contracts ending with \".spree.json\", e.g. \"ServiceExecutionAgreement.spree.json\".\n",
      "20 - diagnostics     - verify_contracts - Finished loading keeper contracts:\n",
      "\tDispenser: 0x8930D1F61Defb9CBD652136B4C3D93f19AC35678\n",
      "\tOceanToken: 0xe749E2f8482810b11B838Ae8c5eb69e54d610411\n",
      "\tDIDRegistry: 0x611f28Ef25D778aFC5a0034Aea94297e2c215a42\n",
      "\tServiceExecutionAgreement: 0x312213d6f6b5FCF9F56B7B8946A6C727Bf4Bc21f\n",
      "\tPaymentConditions: 0xF9E633CBeEB2A474D3Fe22261046C99e805beeC4\n",
      "\tAccessConditions: 0xFe0145Caf0EC55D23dc1b08431b071f6e1123a76\n",
      "20 - diagnostics     - check_deployed_agreement_templates - Found service agreement template 0x044852b2a670ade5407e78fb2863c51de9fcb96542a07186fe3aeda6bb8a116d of type `Access` deployed in the current keeper network published by 0x00Bd138aBD70e2F00903268F3Db08f2D25677C9e.\n",
      "20 - ocean           - __init__        - Squid Ocean instance initialized: \n",
      "20 - ocean           - __init__        - \tOther accounts: ['0x00Bd138aBD70e2F00903268F3Db08f2D25677C9e', '0x068Ed00cF0441e4829D9784fCBe7b9e26D4BD8d0', '0xA99D43d86A0758d5632313b8fA3972B6088A21BB']\n",
      "20 - ocean           - __init__        - \tDIDRegistry @ 0x611f28Ef25D778aFC5a0034Aea94297e2c215a42\n"
     ]
    }
   ],
   "source": [
    "configuration = Config(CONFIG_INI_PATH)\n",
    "ocn = Ocean(configuration)"
   ]
  },
  {
   "cell_type": "code",
   "execution_count": 5,
   "metadata": {
    "lines_to_next_cell": 0
   },
   "outputs": [
    {
     "name": "stderr",
     "output_type": "stream",
     "text": [
      "20 - user            - load_passwords  - 31 account-password pairs loaded\n"
     ]
    },
    {
     "name": "stdout",
     "output_type": "stream",
     "text": [
      "Consumer account address:  0x068Ed00cF0441e4829D9784fCBe7b9e26D4BD8d0\n"
     ]
    }
   ],
   "source": [
    "# Get a consumer account\n",
    "path_passwords = manta_utils.config.get_project_path() / 'passwords.csv'\n",
    "passwords = manta_utils.user.load_passwords(path_passwords)\n",
    "\n",
    "consumer_acct = random.choice([acct for acct in ocn.accounts.list() if password_map(acct.address, passwords)])\n",
    "consumer_acct.password = password_map(consumer_acct.address, passwords)\n",
    "assert consumer_acct.password\n",
    "print(\"Consumer account address: \", consumer_acct.address)"
   ]
  },
  {
   "cell_type": "markdown",
   "metadata": {
    "lines_to_next_cell": 0
   },
   "source": [
    "### Section 2: Find an asset"
   ]
  },
  {
   "cell_type": "code",
   "execution_count": 6,
   "metadata": {
    "lines_to_next_cell": 0
   },
   "outputs": [
    {
     "name": "stderr",
     "output_type": "stream",
     "text": [
      "20 - ocean_assets    - query           - Searching asset query: {'service': {'$elemMatch': {'metadata': {'$exists': True}}}}\n"
     ]
    },
    {
     "name": "stdout",
     "output_type": "stream",
     "text": [
      "There are 27 assets registered in the metadata store.\n",
      "Selected DID: did:op:abe7e86bedd34ef28e0436726039b67a4487bb5959fb4feba2b1c051e3d74d78\n"
     ]
    }
   ],
   "source": [
    "# Use the Query function to get all existing assets\n",
    "basic_query = {\"service\":{\"$elemMatch\":{\"metadata\": {\"$exists\" : True }}}}\n",
    "all_ddos = ocn.assets.query(basic_query)\n",
    "assert len(all_ddos), \"There are no assets registered, go to s03_publish_and_register!\"\n",
    "print(\"There are {} assets registered in the metadata store.\".format(len(all_ddos)))\n",
    "\n",
    "assert len(all_ddos), \"There are no assets registered, go to s03_publish_and_register!\"\n",
    "\n",
    "# Get a DID for testing\n",
    "selected_did = all_ddos[-1].did\n",
    "print(\"Selected DID:\",selected_did)"
   ]
  },
  {
   "cell_type": "code",
   "execution_count": 7,
   "metadata": {
    "title": "An Asset (DDO) can be also be resolved from a DID"
   },
   "outputs": [
    {
     "name": "stdout",
     "output_type": "stream",
     "text": [
      "<squid_py.assets.asset.Asset object at 0x7f44e149d2e8>\n",
      "Selected asset for access: Ocean protocol white paper\n",
      "Price of asset: 9\n",
      "Your balance: 1091\n"
     ]
    }
   ],
   "source": [
    "#TODO: The Asset class does not offer much beyond DDO class\n",
    "#TODO: Term 'asset' is confusing here\n",
    "this_asset = ocn.assets.resolve(selected_did)\n",
    "pprint(this_asset)\n",
    "print(\"Selected asset for access:\", this_asset.metadata['base']['name'])\n",
    "print(\"Price of asset:\", this_asset.metadata['base']['price'])\n",
    "print(\"Your balance:\", ocn.accounts.balance(consumer_acct).ocn)"
   ]
  },
  {
   "cell_type": "markdown",
   "metadata": {
    "lines_to_next_cell": 0
   },
   "source": [
    "Your account will need some Ocean Token to make real transactions"
   ]
  },
  {
   "cell_type": "code",
   "execution_count": 8,
   "metadata": {
    "lines_to_next_cell": 0
   },
   "outputs": [],
   "source": [
    "if ocn.accounts.balance(consumer_acct).ocn < 100:\n",
    "    ocn.accounts.request_tokens(consumer_acct, 100)"
   ]
  },
  {
   "cell_type": "markdown",
   "metadata": {
    "lines_to_next_cell": 0
   },
   "source": [
    "Purchase the Asset!"
   ]
  },
  {
   "cell_type": "code",
   "execution_count": 9,
   "metadata": {},
   "outputs": [
    {
     "name": "stdout",
     "output_type": "stream",
     "text": [
      "New service agreement id: 0x8530bf2a001e498b90c65db8139a6cb370fdc8e364904baea5a807e443087bc4\n"
     ]
    },
    {
     "name": "stderr",
     "output_type": "stream",
     "text": [
      "20 - utils           - process_tx_receipt - Success: got PaymentLocked event after fulfilling condition.\n",
      "20 - brizo           - consume_service - invoke consume endpoint with this url: http://172.15.0.17:8030/api/v1/brizo/services/consume?url=https://testocnfiles.blob.core.windows.net/testfiles/testzkp.pdf&serviceAgreementId=0x8530bf2a001e498b90c65db8139a6cb370fdc8e364904baea5a807e443087bc4&consumerAddress=0x068Ed00cF0441e4829D9784fCBe7b9e26D4BD8d0\n",
      "20 - brizo           - consume_service - Saved downloaded file in /home/batman/ocn/mantaray_jupyter/downloads_spree/datafile.abe7e86bedd34ef28e0436726039b67a4487bb5959fb4feba2b1c051e3d74d78.0/testzkp.pdf\n",
      "20 - brizo           - consume_service - invoke consume endpoint with this url: http://172.15.0.17:8030/api/v1/brizo/services/consume?url=s3://ocean-test-osmosis-data-plugin-dataseeding-1537375953/data.txt&serviceAgreementId=0x8530bf2a001e498b90c65db8139a6cb370fdc8e364904baea5a807e443087bc4&consumerAddress=0x068Ed00cF0441e4829D9784fCBe7b9e26D4BD8d0\n",
      "20 - serviceAgreement - fulfill_agreement - About to do fulfillAgreement: account 0x068Ed00cF0441e4829D9784fCBe7b9e26D4BD8d0, saId 0x8530bf2a001e498b90c65db8139a6cb370fdc8e364904baea5a807e443087bc4, ServiceAgreement address 0x312213d6f6b5FCF9F56B7B8946A6C727Bf4Bc21f\n",
      "30 - brizo           - consume_service - consume failed: UNAUTHORIZED\n",
      "20 - brizo           - consume_service - invoke consume endpoint with this url: http://172.15.0.17:8030/api/v1/brizo/services/consume?url=http://www3.cs.stonybrook.edu/~algorith/implement/graphbase/distrib/cweb3.4e.tar.gz&serviceAgreementId=0x8530bf2a001e498b90c65db8139a6cb370fdc8e364904baea5a807e443087bc4&consumerAddress=0x068Ed00cF0441e4829D9784fCBe7b9e26D4BD8d0\n",
      "20 - utils           - process_tx_receipt - Success: got AgreementFulfilled event after fulfilling condition.\n",
      "20 - brizo           - consume_service - Saved downloaded file in /home/batman/ocn/mantaray_jupyter/downloads_spree/datafile.abe7e86bedd34ef28e0436726039b67a4487bb5959fb4feba2b1c051e3d74d78.0/cweb3.4e.tar.gz\n",
      "20 - accessControl   - consume_asset   - Done consuming asset.\n"
     ]
    }
   ],
   "source": [
    "#TODO: The service_definition_id will change to service_type\n",
    "service_agreement_id = ocn.assets.order(this_asset.did, '0', consumer_acct)\n",
    "print('New service agreement id:', service_agreement_id)"
   ]
  },
  {
   "cell_type": "markdown",
   "metadata": {
    "lines_to_next_cell": 0
   },
   "source": [
    "The asset download is automatically initiated, this will take time to complete!"
   ]
  },
  {
   "cell_type": "code",
   "execution_count": 10,
   "metadata": {},
   "outputs": [
    {
     "name": "stdout",
     "output_type": "stream",
     "text": [
      "Check for your downloaded asset in /home/batman/ocn/mantaray_jupyter/downloads_spree/datafile.abe7e86bedd34ef28e0436726039b67a4487bb5959fb4feba2b1c051e3d74d78.0\n",
      "This might not appear immediately - the transaction needs be mined and the download needs to complete!\n"
     ]
    }
   ],
   "source": [
    "asset_path = Path.cwd() / ocn._config.downloads_path / f'datafile.{this_asset.asset_id}.0'\n",
    "print(\"Check for your downloaded asset in\", asset_path)\n",
    "print(\"This might not appear immediately - the transaction needs be mined and the download needs to complete!\")"
   ]
  },
  {
   "cell_type": "code",
   "execution_count": null,
   "metadata": {},
   "outputs": [],
   "source": []
  }
 ],
 "metadata": {
  "jupytext": {
   "main_language": "python",
   "text_representation": {
    "extension": ".py",
    "format_name": "percent"
   }
  },
  "kernelspec": {
   "display_name": "mantaray",
   "language": "python",
   "name": "mantaray"
  },
  "language_info": {
   "codemirror_mode": {
    "name": "ipython",
    "version": 3
   },
   "file_extension": ".py",
   "mimetype": "text/x-python",
   "name": "python",
   "nbconvert_exporter": "python",
   "pygments_lexer": "ipython3",
   "version": "3.6.7"
  }
 },
 "nbformat": 4,
 "nbformat_minor": 2
}
