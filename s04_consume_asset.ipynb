{
 "cells": [
  {
   "cell_type": "markdown",
   "metadata": {},
   "source": [
    "\n",
    "<p><img src=\"https://oceanprotocol.com/static/media/banner-ocean-03@2x.b7272597.png\" alt=\"drawing\" width=\"800\" align=\"center\"/>"
   ]
  },
  {
   "cell_type": "markdown",
   "metadata": {
    "lines_to_next_cell": 2
   },
   "source": [
    "\n",
    "<h1><center>Ocean Protocol - Manta Ray project</center></h1>\n",
    "<h3><center>Decentralized Data Science and Engineering, powered by Ocean Protocol</center></h3>\n",
    "<p>Version 0.4 - alpha preview</p>\n",
    "<p><a href=\"https://github.com/oceanprotocol/mantaray\">mantaray on Github</a></p>\n",
    "<p>"
   ]
  },
  {
   "cell_type": "markdown",
   "metadata": {},
   "source": [
    "Getting Underway - Downloading Datasets (Assets)\n",
    "In this notebook, TODO: description"
   ]
  },
  {
   "cell_type": "markdown",
   "metadata": {},
   "source": [
    "### Section 0: Import modules, and setup logging"
   ]
  },
  {
   "cell_type": "code",
   "execution_count": 1,
   "metadata": {
    "lines_to_next_cell": 0
   },
   "outputs": [
    {
     "name": "stderr",
     "output_type": "stream",
     "text": [
      "10 - logging         - <module>        - Logging started\n"
     ]
    },
    {
     "name": "stdout",
     "output_type": "stream",
     "text": [
      "Using default logging settings.\n"
     ]
    }
   ],
   "source": [
    "# Standard imports\n",
    "import logging\n",
    "from pprint import pprint\n",
    "import os\n",
    "from pathlib import Path\n",
    "import random\n",
    "# Import mantaray and the Ocean API (squid)\n",
    "import squid_py\n",
    "from squid_py.ocean.ocean import Ocean\n",
    "from squid_py.config import Config\n",
    "import mantaray_utilities as manta_utils\n",
    "from squid_py.keeper.web3_provider import Web3Provider\n",
    "# Setup logging\n",
    "manta_utils.logging.logger.setLevel('INFO')\n",
    "from mantaray_utilities.user import password_map\n",
    "# manta_utils.logging.logger.setLevel('DEBUG')\n",
    "# os.environ['USE_K8S_CLUSTER'] = 'True' # Enable this for testing local -> AWS setup"
   ]
  },
  {
   "cell_type": "code",
   "execution_count": 2,
   "metadata": {},
   "outputs": [
    {
     "name": "stderr",
     "output_type": "stream",
     "text": [
      "50 - <ipython-input-2-84136f362abd> - <module>        - Deployment type: USE_K8S_CLUSTER\n",
      "50 - <ipython-input-2-84136f362abd> - <module>        - Configuration file selected: /home/batman/ocn/mantaray_jupyter/config_k8s_deployed.ini\n",
      "50 - <ipython-input-2-84136f362abd> - <module>        - Squid API version: 0.4.3\n"
     ]
    }
   ],
   "source": [
    "# Get the configuration file path for this environment\n",
    "CONFIG_INI_PATH = manta_utils.config.get_config_file_path()\n",
    "logging.critical(\"Deployment type: {}\".format(manta_utils.config.get_deployment_type()))\n",
    "logging.critical(\"Configuration file selected: {}\".format(CONFIG_INI_PATH))\n",
    "logging.critical(\"Squid API version: {}\".format(squid_py.__version__))"
   ]
  },
  {
   "cell_type": "markdown",
   "metadata": {
    "lines_to_next_cell": 0
   },
   "source": [
    "### Section 1: Instantiate a simulated User\n",
    "A 'User' in an abstract class representing a user of Ocean Protocol\n"
   ]
  },
  {
   "cell_type": "code",
   "execution_count": 3,
   "metadata": {
    "lines_to_next_cell": 0
   },
   "outputs": [
    {
     "name": "stderr",
     "output_type": "stream",
     "text": [
      "20 - ocean_secret_store - __init__        - \tSecretStore: url https://secret-store.dev-ocean.com, parity-client https://nile.dev-ocean.com, account 0x413c9ba0a05b8a600899b41b0c62dd661e689354\n",
      "20 - diagnostics     - verify_contracts - Keeper contract artifacts (JSON abi files) at: /home/batman/ocn/mantaray_jupyter/artifacts_nile\n",
      "20 - diagnostics     - verify_contracts - Using keeper contracts from network nile, network id is 8995\n",
      "20 - diagnostics     - verify_contracts - Looking for keeper contracts ending with \".nile.json\", e.g. \"ServiceExecutionAgreement.nile.json\".\n",
      "20 - diagnostics     - verify_contracts - Finished loading keeper contracts:\n",
      "\tDispenser: 0xb8B0ec3AC0bf28ebB47b3cce4b1B7607DD7FA2DB\n",
      "\tOceanToken: 0x88CAA68F41DD7cFdD431BcA036E11bd20ef58882\n",
      "\tDIDRegistry: 0x9d306Ca587ff4b311C7963e62F48f3d6B59Ec1a1\n",
      "\tServiceExecutionAgreement: 0xFfCb6bea15BbF19Dd3bCDC82f1864A92F359284A\n",
      "\tPaymentConditions: 0xc00b256Ff109EDaA5A375799CFB7386221863329\n",
      "\tAccessConditions: 0x1be580a31D79a7FAcF1F5c70d8F2727f2eDe75bD\n",
      "20 - diagnostics     - check_deployed_agreement_templates - Found service agreement template 0x044852b2a670ade5407e78fb2863c51de9fcb96542a07186fe3aeda6bb8a116d of type `Access` deployed in the current keeper network published by 0x4dB6895d0A15B524edb766b1681Ca0F86463642D.\n",
      "20 - ocean           - __init__        - Squid Ocean instance initialized: \n",
      "20 - ocean           - __init__        - \tOther accounts: ['0x0207cb2f99EB2e005893d6108E2633641Ca9cC3e', '0x064789569D09b4d40b54383d84A25A840E5D67aD', '0x06C0035fE67Cce2B8862D63Dc315D8C8c72207cA', '0x07aCfF76eB4A10c92B89965B0e174B35d887cB0b', '0x0A7a04DEdFE9A4859bcEdD2F21dcA8110499bed9', '0x1322A6ef2c560107733bFc622Fe556961Cb430a5', '0x1549193cc522A1716be4886879cD5f0964A3073C', '0x15C8249D657ad28daa56662ad4ee18dA4377d1a4', '0x170ff54d7bbD527B7bdF04770845bd727a531d9c', '0x1769AAf66658DC2D7782796ac2fF350d4ecf96Cd', '0x17d25A173C9914ee09221EA8E490D296121e51F2', '0x291456dbD9119Ed4e4FE261246F5985ebF4e7Ae9', '0x2DFeEe7Ac1a126AF0d254235D0e21F43d5c9B103', '0x2E92872deE4Cd4f5d5544C257cAa2A66710bE73D', '0x2c918a0EF92f0b7113c8c4a966CC4f22AfA5652f', '0x33333759e516dD51b533777b733a40c2EbD4869D', '0x364BA547Fb1a96881D59CC193641DDB4D891a6E2', '0x3C5bdEBBB588f6d7ebBbC74b6Ed56f3b9dF2f7e2', '0x3F367a69C2559a4B90044eA6b6dfF7E0fE4a52E6', '0x413c9BA0A05B8A600899B41b0c62dd661e689354', '0x43E6b79B696b1d8E21d5A23118A1BF1b565C3831', '0x442aCf84E05459e13595f372C49D4a15E95eA4E7', '0x4439526405BD6119bdC8a0B2c7616B8eF2cB8751', '0x44E07D8190Cc0f0eCCC9C935D5EA47194301Cb00', '0x45234B8c216231c2c31785aE4F5DceB858A8Ec71', '0x4655b0C31a26aB4D3e6Dd85d51690E038290D4e0', '0xD81934365c02da201dC2b85E401Ca75B48F7CcBD']\n",
      "20 - ocean           - __init__        - \tDIDRegistry @ 0x9d306Ca587ff4b311C7963e62F48f3d6B59Ec1a1\n"
     ]
    }
   ],
   "source": [
    "configuration = Config(CONFIG_INI_PATH)\n",
    "ocn = Ocean(configuration)"
   ]
  },
  {
   "cell_type": "code",
   "execution_count": 4,
   "metadata": {
    "lines_to_next_cell": 0
   },
   "outputs": [
    {
     "name": "stderr",
     "output_type": "stream",
     "text": [
      "20 - user            - load_passwords  - 31 account-password pairs loaded\n"
     ]
    },
    {
     "name": "stdout",
     "output_type": "stream",
     "text": [
      "Consumer account address:  0x45234B8c216231c2c31785aE4F5DceB858A8Ec71\n"
     ]
    }
   ],
   "source": [
    "# Get a consumer account\n",
    "path_passwords = manta_utils.config.get_project_path() / 'passwords.csv'\n",
    "passwords = manta_utils.user.load_passwords(path_passwords)\n",
    "\n",
    "consumer_acct = random.choice([acct for acct in ocn.accounts.list() if password_map(acct.address, passwords)])\n",
    "consumer_acct.password = password_map(consumer_acct.address, passwords)\n",
    "assert consumer_acct.password\n",
    "print(\"Consumer account address: \", consumer_acct.address)"
   ]
  },
  {
   "cell_type": "markdown",
   "metadata": {
    "lines_to_next_cell": 0
   },
   "source": [
    "### Section 2: Find an asset"
   ]
  },
  {
   "cell_type": "code",
   "execution_count": 5,
   "metadata": {
    "lines_to_next_cell": 0
   },
   "outputs": [
    {
     "name": "stderr",
     "output_type": "stream",
     "text": [
      "20 - ocean_assets    - query           - Searching asset query: {'service': {'$elemMatch': {'metadata': {'$exists': True}}}}\n"
     ]
    },
    {
     "name": "stdout",
     "output_type": "stream",
     "text": [
      "There are 67 assets registered in the metadata store.\n",
      "Selected DID: did:op:8ed86f54d32c4180bb220467a0320655e17818549f304969992ba7e1a699140b\n"
     ]
    }
   ],
   "source": [
    "# Use the Query function to get all existing assets\n",
    "basic_query = {\"service\":{\"$elemMatch\":{\"metadata\": {\"$exists\" : True }}}}\n",
    "all_ddos = ocn.assets.query(basic_query)\n",
    "assert len(all_ddos), \"There are no assets registered, go to s03_publish_and_register!\"\n",
    "print(\"There are {} assets registered in the metadata store.\".format(len(all_ddos)))\n",
    "\n",
    "assert len(all_ddos), \"There are no assets registered, go to s03_publish_and_register!\"\n",
    "\n",
    "# Get a DID for testing\n",
    "selected_did = all_ddos[-1].did\n",
    "print(\"Selected DID:\",selected_did)"
   ]
  },
  {
   "cell_type": "code",
   "execution_count": 6,
   "metadata": {
    "title": "An Asset (DDO) can be also be resolved from a DID"
   },
   "outputs": [
    {
     "name": "stdout",
     "output_type": "stream",
     "text": [
      "Ocean protocol white paper\n",
      "Price: 9\n"
     ]
    }
   ],
   "source": [
    "#TODO: The Asset class does not offer much beyond DDO class\n",
    "#TODO: Term 'asset' is confusing here\n",
    "this_asset = ocn.assets.resolve(selected_did)\n",
    "#pprint(this_asset)\n",
    "print(this_asset.metadata['base']['name'])\n",
    "print(\"Price:\", this_asset.metadata['base']['price'])"
   ]
  },
  {
   "cell_type": "markdown",
   "metadata": {
    "lines_to_next_cell": 0
   },
   "source": [
    "Your account will need some Ocean Token to make real transactions"
   ]
  },
  {
   "cell_type": "code",
   "execution_count": 7,
   "metadata": {
    "lines_to_next_cell": 0
   },
   "outputs": [],
   "source": [
    "if ocn.accounts.balance(consumer_acct).ocn < this_asset.metadata['base']['price']:\n",
    "    ocn.accounts.request_tokens(consumer_acct, 100)"
   ]
  },
  {
   "cell_type": "markdown",
   "metadata": {
    "lines_to_next_cell": 0
   },
   "source": [
    "Purchase the Asset!"
   ]
  },
  {
   "cell_type": "code",
   "execution_count": 8,
   "metadata": {},
   "outputs": [
    {
     "name": "stdout",
     "output_type": "stream",
     "text": [
      "New service agreement id: 0x47558e6e12474d4e8200f456e904454ce828d3e0fc1e41ceacea9805f049c607\n"
     ]
    }
   ],
   "source": [
    "#TODO: The service_definition_id will change to service_type\n",
    "service_agreement_id = ocn.assets.order(this_asset.did, 'Access', consumer_acct)\n",
    "print('New service agreement id:', service_agreement_id)"
   ]
  },
  {
   "cell_type": "markdown",
   "metadata": {
    "lines_to_next_cell": 0
   },
   "source": [
    "The asset download is automatically initiated, this will take time to complete!"
   ]
  },
  {
   "cell_type": "code",
   "execution_count": 9,
   "metadata": {},
   "outputs": [
    {
     "name": "stdout",
     "output_type": "stream",
     "text": [
      "Check for your downloaded asset in /home/batman/ocn/mantaray_jupyter/downloads_nile/datafile.8ed86f54d32c4180bb220467a0320655e17818549f304969992ba7e1a699140b.0\n",
      "This might not appear immediately - the transaction needs be mined and the download needs to complete!\n"
     ]
    },
    {
     "name": "stderr",
     "output_type": "stream",
     "text": [
      "20 - utils           - process_tx_receipt - Success: got PaymentLocked event after fulfilling condition.\n",
      "20 - brizo           - consume_service - invoke consume endpoint with this url: https://nginx-brizo.dev-ocean.com//api/v1/brizo/services/consume?url=https://testocnfiles.blob.core.windows.net/testfiles/testzkp.pdf&serviceAgreementId=0x47558e6e12474d4e8200f456e904454ce828d3e0fc1e41ceacea9805f049c607&consumerAddress=0x45234B8c216231c2c31785aE4F5DceB858A8Ec71\n",
      "20 - serviceAgreement - fulfill_agreement - About to do fulfillAgreement: account 0x45234B8c216231c2c31785aE4F5DceB858A8Ec71, saId 0x47558e6e12474d4e8200f456e904454ce828d3e0fc1e41ceacea9805f049c607, ServiceAgreement address 0xFfCb6bea15BbF19Dd3bCDC82f1864A92F359284A\n",
      "20 - brizo           - consume_service - Total size of testzkp.pdf: 0 bytes.\n",
      "495544KB [00:01, 251218.24KB/s]20 - brizo           - consume_service - Saved downloaded file in /home/batman/ocn/mantaray_jupyter/downloads_nile/datafile.8ed86f54d32c4180bb220467a0320655e17818549f304969992ba7e1a699140b.1/testzkp.pdf\n",
      "20 - brizo           - consume_service - invoke consume endpoint with this url: https://nginx-brizo.dev-ocean.com//api/v1/brizo/services/consume?url=s3://ocean-test-osmosis-data-plugin-dataseeding-1537375953/data.txt&serviceAgreementId=0x47558e6e12474d4e8200f456e904454ce828d3e0fc1e41ceacea9805f049c607&consumerAddress=0x45234B8c216231c2c31785aE4F5DceB858A8Ec71\n",
      "20 - brizo           - consume_service - Total size of data.txt: 50 bytes.\n",
      "\n",
      "30 - brizo           - consume_service - consume failed: UNAUTHORIZED\n",
      "20 - brizo           - consume_service - invoke consume endpoint with this url: https://nginx-brizo.dev-ocean.com//api/v1/brizo/services/consume?url=http://www3.cs.stonybrook.edu/~algorith/implement/graphbase/distrib/cweb3.4e.tar.gz&serviceAgreementId=0x47558e6e12474d4e8200f456e904454ce828d3e0fc1e41ceacea9805f049c607&consumerAddress=0x45234B8c216231c2c31785aE4F5DceB858A8Ec71\n",
      "20 - brizo           - consume_service - Total size of cweb3.4e.tar.gz: 0 bytes.\n",
      "\n",
      "185359KB [00:00, 183447.58KB/s]20 - brizo           - consume_service - Saved downloaded file in /home/batman/ocn/mantaray_jupyter/downloads_nile/datafile.8ed86f54d32c4180bb220467a0320655e17818549f304969992ba7e1a699140b.1/cweb3.4e.tar.gz\n",
      "20 - accessControl   - consume_asset   - Done consuming asset.\n",
      "20 - utils           - process_tx_receipt - Success: got AgreementFulfilled event after fulfilling condition.\n"
     ]
    }
   ],
   "source": [
    "asset_path = Path.cwd() / ocn._config.downloads_path / f'datafile.{this_asset.asset_id}.0'\n",
    "print(\"Check for your downloaded asset in\", asset_path)\n",
    "print(\"This might not appear immediately - the transaction needs be mined and the download needs to complete!\")"
   ]
  }
 ],
 "metadata": {
  "jupytext": {
   "main_language": "python",
   "text_representation": {
    "extension": ".py",
    "format_name": "percent"
   }
  },
  "kernelspec": {
   "display_name": "mantaray",
   "language": "python",
   "name": "mantaray"
  },
  "language_info": {
   "codemirror_mode": {
    "name": "ipython",
    "version": 3
   },
   "file_extension": ".py",
   "mimetype": "text/x-python",
   "name": "python",
   "nbconvert_exporter": "python",
   "pygments_lexer": "ipython3",
   "version": "3.6.7"
  }
 },
 "nbformat": 4,
 "nbformat_minor": 2
}
