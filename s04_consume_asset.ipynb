{
 "cells": [
  {
   "cell_type": "markdown",
   "metadata": {},
   "source": [
    "\n",
    "<p><img src=\"https://oceanprotocol.com/static/media/banner-ocean-03@2x.b7272597.png\" alt=\"drawing\" width=\"800\" align=\"center\"/>"
   ]
  },
  {
   "cell_type": "markdown",
   "metadata": {
    "lines_to_next_cell": 2
   },
   "source": [
    "\n",
    "<h1><center>Ocean Protocol - Manta Ray project</center></h1>\n",
    "<h3><center>Decentralized Data Science and Engineering, powered by Ocean Protocol</center></h3>\n",
    "<p>Version 0.2 - alpha preview</p>\n",
    "<p><a href=\"https://github.com/oceanprotocol/mantaray\">mantaray on Github</a></p>\n",
    "<p>"
   ]
  },
  {
   "cell_type": "markdown",
   "metadata": {},
   "source": [
    "Getting Underway - Downloading Datasets (Assets)\n",
    "In this notebook, TODO: description"
   ]
  },
  {
   "cell_type": "markdown",
   "metadata": {},
   "source": [
    "### Section 0: Import modules, and setup logging"
   ]
  },
  {
   "cell_type": "code",
   "execution_count": null,
   "metadata": {},
   "outputs": [],
   "source": [
    "# Standard imports\n",
    "import sys\n",
    "import logging\n",
    "import requests\n",
    "import json\n",
    "import time\n",
    "from web3 import Web3\n",
    "\n",
    "# Import mantaray and the Ocean API (squid)\n",
    "import squid_py\n",
    "from squid_py.ocean.ocean import Ocean\n",
    "import mantaray_utilities.config as manta_config\n",
    "import mantaray_utilities.logging as manta_logging\n",
    "import mantaray_utilities.user as manta_user\n",
    "import mantaray_utilities.asset_pretty_print as manta_print\n",
    "\n",
    "# Setup logging\n",
    "manta_logging.logger.setLevel('CRITICAL')"
   ]
  },
  {
   "cell_type": "code",
   "execution_count": null,
   "metadata": {},
   "outputs": [],
   "source": [
    "# Get the configuration file path for this environment\n",
    "CONFIG_INI_PATH = manta_config.get_config_file_path()\n",
    "logging.critical(\"Deployment type: {}\".format(manta_config.get_deployment_type()))\n",
    "logging.critical(\"Configuration file selected: {}\".format(CONFIG_INI_PATH))\n",
    "logging.critical(\"Squid API version: {}\".format(squid_py.__version__))"
   ]
  },
  {
   "cell_type": "markdown",
   "metadata": {
    "lines_to_next_cell": 0
   },
   "source": [
    "### Section 1: Instantiate a simulated User\n",
    "A 'User' in an abstract class representing a user of Ocean Protocol\n"
   ]
  },
  {
   "cell_type": "code",
   "execution_count": null,
   "metadata": {},
   "outputs": [],
   "source": [
    "ocn = Ocean(config_file=CONFIG_INI_PATH)"
   ]
  },
  {
   "cell_type": "code",
   "execution_count": null,
   "metadata": {
    "lines_to_next_cell": 0
   },
   "outputs": [],
   "source": [
    "# This utility function gets all simulated accounts\n",
    "users = manta_user.get_all_users(ocn.accounts)\n",
    "\n",
    "# We don't need this ocn instance reference anymore\n",
    "del ocn\n",
    "\n",
    "# Let's take the first unlocked account, and name it the Consumer\n",
    "consumer1 = [u for u in users if not u.locked][0]\n",
    "consumer1.name = \"Anny Bonny\"\n",
    "consumer1.role = \"Consumer\"\n",
    "print(consumer1)\n",
    "\n",
    "assert consumer1.ocn._http_client.__name__ == 'requests'\n",
    "assert consumer1.ocn._secret_store_client.__name__ == 'Client'\n",
    "assert consumer1.account.ocean_balance > 0, \"Consumer does not have any Ocean token, go to 'users_and_token' script and fund the account!\""
   ]
  },
  {
   "cell_type": "markdown",
   "metadata": {
    "lines_to_next_cell": 0
   },
   "source": [
    "### Section 2: Find an asset"
   ]
  },
  {
   "cell_type": "code",
   "execution_count": null,
   "metadata": {},
   "outputs": [],
   "source": [
    "# Get ALL dids\n",
    "all_dids = consumer1.ocn.metadata_store.list_assets()\n",
    "print(\"There are {} assets registered in the metadata store.\".format(len(all_dids)))\n",
    "\n",
    "assert len(all_dids), \"There are no assets registered, go to s03_publish_and_register!\"\n",
    "\n",
    "# Get a DID for testing\n",
    "selected_did = all_dids[-1]"
   ]
  },
  {
   "cell_type": "code",
   "execution_count": null,
   "metadata": {
    "title": "From this DID, get the DDO"
   },
   "outputs": [],
   "source": [
    "this_ddo = consumer1.ocn.resolve_did(selected_did)\n",
    "manta_print.print_ddo(this_ddo)"
   ]
  },
  {
   "cell_type": "markdown",
   "metadata": {
    "lines_to_next_cell": 0
   },
   "source": [
    "### Section 3: Get ready for purchase\n",
    "Wait for this cell to complete, it may take a few seconds to mine the transaction!"
   ]
  },
  {
   "cell_type": "code",
   "execution_count": null,
   "metadata": {
    "lines_to_next_cell": 2
   },
   "outputs": [],
   "source": [
    "\n",
    "# Get the service agreement for consuming (downloading)\n",
    "service_types = squid_py.service_agreement.service_types.ServiceTypes\n",
    "service = this_ddo.get_service(service_type=service_types.ASSET_ACCESS)\n",
    "assert squid_py.service_agreement.service_agreement.ServiceAgreement.SERVICE_DEFINITION_ID_KEY in service.as_dictionary()\n",
    "\n",
    "# This is the Service Agreement for downloading the Asset, contains conditions\n",
    "sa = squid_py.service_agreement.service_agreement.ServiceAgreement.from_service_dict(service.as_dictionary())\n",
    "\n",
    "consumer_address = consumer1.ocn.main_account.address\n",
    "\n",
    "# The purchase (sign) command will fail unless the account has some Ocean Token to spend!\n",
    "if consumer1.account.ocean_balance == 0:\n",
    "    rcpt = consumer1.account.request_tokens(10)\n",
    "    consumer1.ocn._web3.eth.waitForTransactionReceipt(rcpt)"
   ]
  },
  {
   "cell_type": "markdown",
   "metadata": {
    "lines_to_next_cell": 0
   },
   "source": [
    "### Section 3: Execute the agreement (purchase!)"
   ]
  },
  {
   "cell_type": "code",
   "execution_count": null,
   "metadata": {},
   "outputs": [],
   "source": [
    "# This will send the purchase request to Brizo which in turn will execute the agreement on-chain\n",
    "# this_did = 'did:op:0x23d76f6f5e1040c8bba8701fdaa59e28bf2c9edd3acc400aa8af46fe1433344e'\n",
    "this_did = this_ddo.did\n",
    "service_agreement_id = consumer1.ocn.sign_service_agreement(this_did, sa.sa_definition_id, consumer_address)\n",
    "print('got new service agreement id:', service_agreement_id)"
   ]
  },
  {
   "cell_type": "markdown",
   "metadata": {
    "lines_to_next_cell": 2
   },
   "source": [
    "Upon successful execution of the service agreement, a download is immediately initiated.\n",
    "The downloaded files are stored in the current directory in a /downloads/datafile.<did> folder.\n",
    "Check the directory in the JupyterLab notebook pane on the left, and find your Assetgi!"
   ]
  }
 ],
 "metadata": {
  "jupytext": {
   "main_language": "python",
   "text_representation": {
    "extension": ".py",
    "format_name": "percent"
   }
  }
 },
 "nbformat": 4,
 "nbformat_minor": 2
}
