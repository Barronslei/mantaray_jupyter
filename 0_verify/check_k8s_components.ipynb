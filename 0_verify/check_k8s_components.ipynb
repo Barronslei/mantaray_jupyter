{
 "cells": [
  {
   "cell_type": "markdown",
   "metadata": {},
   "source": [
    "\n",
    "<p><img src=\"https://oceanprotocol.com/static/media/banner-ocean-03@2x.b7272597.png\" alt=\"drawing\" width=\"800\" align=\"center\"/>"
   ]
  },
  {
   "cell_type": "markdown",
   "metadata": {},
   "source": [
    "\n",
    "<h1><center>Ocean Protocol - Manta Ray project</center></h1>\n",
    "<h3><center>Decentralized Data Science and Engineering, powered by Ocean Protocol</center></h3>\n",
    "<p>Version 0.2 - Trilobite preview</p>\n",
    "<p><a href=\"https://github.com/oceanprotocol/mantaray\">mantaray on Github</a></p>\n",
    "<p>"
   ]
  },
  {
   "cell_type": "markdown",
   "metadata": {},
   "source": [
    "🌊🌊🌊🌊🌊🌊🌊🌊🌊🌊🌊🌊🌊🌊🌊🌊🐬🌊🌊🌊🌊🌊🌊🌊🌊🌊🌊🐬🌊🌊🌊🌊🌊🌊🌊🌊🌊🌊🌊🌊🌊🌊"
   ]
  },
  {
   "cell_type": "markdown",
   "metadata": {
    "lines_to_next_cell": 0
   },
   "source": [
    "<p>"
   ]
  },
  {
   "cell_type": "code",
   "execution_count": null,
   "metadata": {},
   "outputs": [],
   "source": [
    "import requests\n",
    "from squid_py import ocean\n",
    "import sys\n",
    "from pathlib import Path"
   ]
  },
  {
   "cell_type": "code",
   "execution_count": null,
   "metadata": {
    "title": "Logging"
   },
   "outputs": [],
   "source": [
    "\"\"\" \n",
    "\"\"\"\n",
    "import logging\n",
    "logger = logging.getLogger()\n",
    "\n",
    "# Set level\n",
    "logger.setLevel(logging.DEBUG)\n",
    "FORMAT = \"%(levelno)s - %(module)-15s - %(funcName)-15s - %(message)s\"\n",
    "DATE_FMT = \"%Y-%m-%d %H:%M:%S\"\n",
    "formatter = logging.Formatter(FORMAT, DATE_FMT)\n",
    "\n",
    "# Create handler and assign\n",
    "logger.handlers = []\n",
    "handler = logging.StreamHandler(sys.stderr)\n",
    "handler.setFormatter(formatter)\n",
    "logger.handlers = [handler]\n",
    "logger.debug(\"Logging started\")\n",
    "\n",
    "\n",
    "class LoggerCritical:\n",
    "    def __enter__(self):\n",
    "        my_logger = logging.getLogger()\n",
    "        my_logger.setLevel(\"CRITICAL\")\n",
    "    def __exit__(self, type, value, traceback):\n",
    "        my_logger = logging.getLogger()\n",
    "        my_logger.setLevel(\"DEBUG\")"
   ]
  },
  {
   "cell_type": "code",
   "execution_count": null,
   "metadata": {},
   "outputs": [],
   "source": [
    "\n",
    "endpoints_dict = {\n",
    "    'keeper-contracts': 'http://52.1.94.55:8545',\n",
    "    'pleuston': 'http://ac98d76bade8d11e89c320e965e714bc-981020006.us-east-1.elb.amazonaws.com:3000/',\n",
    "    'aquarius': 'http://ac8b5e618ef0511e88a360a98afc4587-575519081.us-east-1.elb.amazonaws.com:5000',\n",
    "    'brizo': 'http://ac8b8cc42ef0511e88a360a98afc4587-974193642.us-east-1.elb.amazonaws.com:8030',\n",
    "    'secret_store' : 'https://secret-store.dev-ocean.com'\n",
    "\n",
    "}\n",
    "endpoints_dict['aquarius_doc'] = endpoints_dict['aquarius'] + '/api/v1/docs/'\n",
    "endpoints_dict['brizo_doc'] = endpoints_dict['brizo'] + '/api/v1/docs/'\n",
    "def check_endpoint(endpoint_name, endpoint_url, verb='GET', ):\n",
    "    res = requests.request(verb, endpoint_url)\n",
    "    logging.debug(\"{} : returns {}\".format(endpoint_name, res.status_code))\n",
    "    return res.status_code, res.content\n",
    "\n",
    "for endpoint in endpoints_dict:\n",
    "    with LoggerCritical():\n",
    "        print(\"Checking {}\".format(endpoint))\n",
    "        try:\n",
    "            code, status = check_endpoint(endpoint, endpoints_dict[endpoint])\n",
    "            print('\\t', endpoint, code, status)\n",
    "        except:\n",
    "            print('\\t Failed!')\n",
    "\n",
    "# check_endpoint('aquarius_doc', endpoints_dict)\n",
    "# check_endpoint('aquarius', endpoints_dict)\n",
    "# check_endpoint('keeper-contracts', endpoints_dict)\n",
    "# check_endpoint('pleuston', endpoints_dict)\n",
    "# check_endpoint('brizo', endpoints_dict)\n",
    "# check_endpoint('brizo_doc', endpoints_dict)"
   ]
  },
  {
   "cell_type": "code",
   "execution_count": null,
   "metadata": {
    "lines_to_next_cell": 3
   },
   "outputs": [],
   "source": [
    "config_path = Path.cwd() / '..' / '..' / 'config_k8s.ini'\n",
    "config_path = Path.cwd() / 'config_k8s.ini'\n",
    "assert config_path.exists()\n",
    "ocn = ocean.Ocean(config_path)"
   ]
  }
 ],
 "metadata": {
  "jupytext": {
   "main_language": "python",
   "text_representation": {
    "extension": ".py",
    "format_name": "percent"
   }
  }
 },
 "nbformat": 4,
 "nbformat_minor": 2
}
