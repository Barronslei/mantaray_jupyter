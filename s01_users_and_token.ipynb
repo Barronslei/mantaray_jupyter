{
 "cells": [
  {
   "cell_type": "markdown",
   "metadata": {},
   "source": [
    "\n",
    "<p><img src=\"https://oceanprotocol.com/static/media/banner-ocean-03@2x.b7272597.png\" alt=\"drawing\" width=\"800\" align=\"center\"/>"
   ]
  },
  {
   "cell_type": "markdown",
   "metadata": {},
   "source": [
    "\n",
    "<h1><center>Ocean Protocol - Manta Ray project</center></h1>\n",
    "<h3><center>Decentralized Data Science and Engineering, powered by Ocean Protocol</center></h3>\n",
    "<p>Version 0.2 - Trilobite preview</p>\n",
    "<p><a href=\"https://github.com/oceanprotocol/mantaray\">mantaray on Github</a></p>\n",
    "<p>"
   ]
  },
  {
   "cell_type": "markdown",
   "metadata": {
    "lines_to_next_cell": 0
   },
   "source": [
    "<p>"
   ]
  },
  {
   "cell_type": "markdown",
   "metadata": {},
   "source": [
    "## Building Blocks: Getting tokens to your users\n",
    "To interact in Ocean Protocol, you will need a wallet and you will fund it with some\n",
    "Token to access the assets in the network.\n",
    "\n",
    "In this notebook, we will work with a class which represents a\n",
    "User of Ocean Protocol.\n",
    "\n",
    "To use Ocean, a User requires\n",
    "- A wallet address\n",
    "- A password\n",
    "\n",
    "With this information, the Ocean instance can be instantiated with the Ocean.main_account attribute.\n",
    "This attribute enables the User to unlock event calls in the networks.\n",
    "This class will be used in later scripts to simulate behaviour of actors on the network.\n",
    "See the /script_fixtures directory for utilities such as the User() class"
   ]
  },
  {
   "cell_type": "markdown",
   "metadata": {
    "lines_to_next_cell": 0
   },
   "source": [
    "### Section 0: Import modules, and setup logging"
   ]
  },
  {
   "cell_type": "code",
   "execution_count": null,
   "metadata": {
    "lines_to_next_cell": 2
   },
   "outputs": [],
   "source": [
    "# Standard imports\n",
    "import random\n",
    "import os\n",
    "import names\n",
    "import logging\n",
    "from pathlib import Path\n",
    "# Import mantaray and the Ocean API (squid)\n",
    "# mantaray_utilities is an extra helper library to simulate interactions with the Ocean API.\n",
    "import squid_py\n",
    "from squid_py.ocean.ocean import Ocean\n",
    "\n",
    "import mantaray_utilities.config as manta_config\n",
    "import mantaray_utilities.logging as manta_logging\n",
    "import mantaray_utilities.user as manta_user\n",
    "logging.info(\"Squid API version: {}\".format(squid_py.__version__))\n",
    "\n",
    "# Setup logging to a higher level and not flood the console with debug messages\n",
    "manta_logging.logger.setLevel('INFO')"
   ]
  },
  {
   "cell_type": "code",
   "execution_count": null,
   "metadata": {},
   "outputs": [],
   "source": [
    "# Get the configuration file path for this environment\n",
    "# You can specify your own configuration file at any time, and pass it to the Ocean class.\n",
    "logging.info(\"Deployment type: {}\".format(manta_config.get_deployment_type()))\n",
    "CONFIG_INI_PATH = manta_config.get_config_file_path()\n",
    "logging.info(\"Configuration file selected: {}\".format(CONFIG_INI_PATH))"
   ]
  },
  {
   "cell_type": "markdown",
   "metadata": {
    "lines_to_next_cell": 0
   },
   "source": [
    "## Section 1: Instantiate the Ocean Protocol interface"
   ]
  },
  {
   "cell_type": "code",
   "execution_count": null,
   "metadata": {},
   "outputs": [],
   "source": [
    "ocn = Ocean(CONFIG_INI_PATH)\n",
    "logging.info(\"Ocean smart contract node connected \".format())\n",
    "\n",
    "ocn.config.keeper_path\n",
    "\n",
    "# List the accounts created in Ganache\n",
    "# ocn.accounts is a {address: Account} dict\n",
    "print(\"Ocean accounts:\")\n",
    "for address in ocn.accounts:\n",
    "    acct = ocn.accounts[address]\n",
    "    print(acct.address)"
   ]
  },
  {
   "cell_type": "code",
   "execution_count": null,
   "metadata": {},
   "outputs": [],
   "source": [
    "# These accounts have a balance of ETH and Ocean Token\n",
    "for address, account in ocn.accounts.items():\n",
    "    assert account.balance.eth >= 0\n",
    "    assert account.balance.ocn >= 0"
   ]
  },
  {
   "cell_type": "markdown",
   "metadata": {},
   "source": [
    "From accounts, to Users\n",
    "\n",
    "A simple wrapper for each address is created to represent a user\n",
    "This wrapper is presented below, and later used as a fixture,\n",
    "See: ./script_fixtures/user.py"
   ]
  },
  {
   "cell_type": "markdown",
   "metadata": {
    "lines_to_next_cell": 0
   },
   "source": [
    "Users are instantiated and listed"
   ]
  },
  {
   "cell_type": "code",
   "execution_count": null,
   "metadata": {},
   "outputs": [],
   "source": [
    "# Selected accounts are unlocked via password\n",
    "\n",
    "# Create some simulated users of Ocean Protocol\n",
    "# Alternate between Data Scientists (Consumers)\n",
    "# and Data Owners (providers)\n",
    "users = list()\n",
    "\n",
    "list(ocn.accounts.keys())[0] in manta_user.PASSWORD_MAP\n",
    "for i, acct_address in enumerate(ocn.accounts):\n",
    "    if i%2 == 0: role = 'Data Scientist'\n",
    "    else: role = 'Data Owner'\n",
    "    user = manta_user.User(names.get_full_name(), role, acct_address)\n",
    "    users.append(user)\n",
    "\n",
    "# Select only unlocked accounts\n",
    "unlocked_users = [u for u in users if u.credentials]\n",
    "logging.info(\"Selected {} unlocked accounts for simulation.\".format(len(unlocked_users)))"
   ]
  },
  {
   "cell_type": "code",
   "execution_count": null,
   "metadata": {},
   "outputs": [],
   "source": [
    "# (Optional)\n",
    "# Delete the configuration files in the /user_configurations folder\n",
    "for f in Path('.').glob('user_configurations/*.ini'):\n",
    "    f.unlink()"
   ]
  },
  {
   "cell_type": "markdown",
   "metadata": {
    "lines_to_next_cell": 0
   },
   "source": [
    "List the users"
   ]
  },
  {
   "cell_type": "code",
   "execution_count": null,
   "metadata": {},
   "outputs": [],
   "source": [
    "for u in unlocked_users: print(u)"
   ]
  },
  {
   "cell_type": "markdown",
   "metadata": {
    "lines_to_next_cell": 0
   },
   "source": [
    "Get these users some Ocean token"
   ]
  },
  {
   "cell_type": "code",
   "execution_count": null,
   "metadata": {},
   "outputs": [],
   "source": [
    "for usr in unlocked_users:\n",
    "    if usr.account.ocean_balance == 0:\n",
    "        rcpt = usr.account.request_tokens(random.randint(0, 100))\n",
    "        usr.ocn._web3.eth.waitForTransactionReceipt(rcpt)"
   ]
  },
  {
   "cell_type": "markdown",
   "metadata": {
    "lines_to_next_cell": 0
   },
   "source": [
    "List the users, and notice the updated balance"
   ]
  },
  {
   "cell_type": "code",
   "execution_count": null,
   "metadata": {},
   "outputs": [],
   "source": [
    "for u in unlocked_users: print(u)"
   ]
  }
 ],
 "metadata": {
  "jupytext": {
   "main_language": "python",
   "text_representation": {
    "extension": ".py",
    "format_name": "percent"
   }
  }
 },
 "nbformat": 4,
 "nbformat_minor": 2
}
