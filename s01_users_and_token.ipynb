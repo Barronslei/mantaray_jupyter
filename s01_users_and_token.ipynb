{
 "cells": [
  {
   "cell_type": "markdown",
   "metadata": {},
   "source": [
    "\n",
    "<p><img src=\"https://oceanprotocol.com/static/media/banner-ocean-03@2x.b7272597.png\" alt=\"drawing\" width=\"800\" align=\"center\"/>"
   ]
  },
  {
   "cell_type": "markdown",
   "metadata": {
    "lines_to_next_cell": 2
   },
   "source": [
    "<h1><center>Ocean Protocol - Manta Ray project</center></h1>\n",
    "<h3><center>Decentralized Data Science and Engineering, powered by Ocean Protocol</center></h3>\n",
    "<p>Version 0.5 - alpha</p>\n",
    "<p>Package compatibility: squid-py v0.5.4, keeper-contracts 0.8.6, utilities 0.2.0,\n",
    "<p>Component compatibility: Brizo v0.2.9, Aquarius v0.1.11, Nile testnet smart contracts 0.8.6</p>\n",
    "<p><a href=\"https://github.com/oceanprotocol/mantaray\">mantaray on Github</a></p>\n",
    "<p>"
   ]
  },
  {
   "cell_type": "markdown",
   "metadata": {},
   "source": [
    "# Getting Underway - wallets, passwords and tokens\n",
    "\n",
    "To interact in Ocean Protocol, you will need an account, which you will fund with Token to access the assets\n",
    "in the network.\n",
    "\n",
    "In this notebook, we will demonstrate this behaviour with pre-loaded accounts.\n",
    "\n",
    "To use Ocean, a User requires\n",
    "- A user account address\n",
    "- A password\n",
    "- Ocean Token"
   ]
  },
  {
   "cell_type": "markdown",
   "metadata": {
    "lines_to_next_cell": 0
   },
   "source": [
    "### Section 0: Import modules, and setup logging"
   ]
  },
  {
   "cell_type": "code",
   "execution_count": 1,
   "metadata": {},
   "outputs": [
    {
     "name": "stderr",
     "output_type": "stream",
     "text": [
      "10 - logging         - <module>        - Logging started\n",
      "20 - <ipython-input-1-26fc0ea5b883> - <module>        - Squid API version: 0.5.11\n"
     ]
    },
    {
     "name": "stdout",
     "output_type": "stream",
     "text": [
      "Using default logging settings.\n",
      "squid-py Ocean API version: 0.5.11\n"
     ]
    }
   ],
   "source": [
    "# Standard imports\n",
    "import logging\n",
    "import random\n",
    "from pprint import pprint\n",
    "\n",
    "# Import mantaray and the Ocean API (squid)\n",
    "# mantaray_utilities is an extra helper library to simulate interactions with the Ocean API.\n",
    "import squid_py\n",
    "from squid_py.ocean.ocean import Ocean\n",
    "from squid_py.config import Config\n",
    "import mantaray_utilities as manta_utils\n",
    "# Setup logging to a higher level and not flood the console with debug messages\n",
    "manta_utils.logging.logger.setLevel('INFO')\n",
    "logging.info(\"Squid API version: {}\".format(squid_py.__version__))\n",
    "print(\"squid-py Ocean API version:\", squid_py.__version__)"
   ]
  },
  {
   "cell_type": "code",
   "execution_count": 2,
   "metadata": {},
   "outputs": [
    {
     "name": "stderr",
     "output_type": "stream",
     "text": [
      "50 - <ipython-input-2-bfe2578532c2> - <module>        - Deployment type: USE_K8S_CLUSTER\n",
      "50 - <ipython-input-2-bfe2578532c2> - <module>        - Configuration file selected: /home/batman/ocn/mantaray_jupyter/config_k8s_deployed.ini\n"
     ]
    }
   ],
   "source": [
    "# Get the configuration file path for this environment\n",
    "# You can specify your own configuration file at any time, and pass it to the Ocean class.\n",
    "logging.critical(\"Deployment type: {}\".format(manta_utils.config.get_deployment_type()))\n",
    "CONFIG_INI_PATH = manta_utils.config.get_config_file_path()\n",
    "logging.critical(\"Configuration file selected: {}\".format(CONFIG_INI_PATH))"
   ]
  },
  {
   "cell_type": "markdown",
   "metadata": {
    "lines_to_next_cell": 0
   },
   "source": [
    "## Section 1: Examine the configuration object"
   ]
  },
  {
   "cell_type": "code",
   "execution_count": 3,
   "metadata": {},
   "outputs": [
    {
     "name": "stdout",
     "output_type": "stream",
     "text": [
      "Configuration file: /home/batman/ocn/mantaray_jupyter/config_k8s_deployed.ini\n",
      "OrderedDict([('keeper-contracts',\n",
      "              OrderedDict([('keeper.url', 'https://nile.dev-ocean.com'),\n",
      "                           ('keeper.path', 'artifacts_nile'),\n",
      "                           ('gas_limit', '4000000'),\n",
      "                           ('secret_store.url',\n",
      "                            'https://secret-store.dev-ocean.com'),\n",
      "                           ('parity.url', 'https://nile.dev-ocean.com'),\n",
      "                           ('parity.address',\n",
      "                            '0x44E07D8190Cc0f0eCCC9C935D5EA47194301Cb00'),\n",
      "                           ('parity.password', 'ocean_secret'),\n",
      "                           ('network.name', 'nile'),\n",
      "                           ('parity.address1',\n",
      "                            '0x06C0035fE67Cce2B8862D63Dc315D8C8c72207cA'),\n",
      "                           ('parity.password1', 'ocean_secret')])),\n",
      "             ('resources',\n",
      "              OrderedDict([('aquarius.url',\n",
      "                            'https://nginx-aquarius.dev-ocean.com/'),\n",
      "                           ('storage.path', 'squid_py.db'),\n",
      "                           ('azure.account.name', 'testocnfiles'),\n",
      "                           ('azure.account.key', ''),\n",
      "                           ('azure.container', ''),\n",
      "                           ('azure.resource_group', ''),\n",
      "                           ('azure.share.input', ''),\n",
      "                           ('azure.share.output', ''),\n",
      "                           ('azure.location', ''),\n",
      "                           ('brizo.url', 'https://nginx-brizo.dev-ocean.com/'),\n",
      "                           ('downloads.path', 'downloads_nile')]))])\n"
     ]
    }
   ],
   "source": [
    "# The API can be configured with a file or a dictionary.\n",
    "# In this case, we will instantiate from file, which you may also inspect.\n",
    "# The configuration is a standard library [configparser.ConfigParser()](https://docs.python.org/3/library/configparser.html) object.\n",
    "print(\"Configuration file:\", CONFIG_INI_PATH)\n",
    "configuration = Config(CONFIG_INI_PATH)\n",
    "pprint(configuration._sections)"
   ]
  },
  {
   "cell_type": "markdown",
   "metadata": {
    "lines_to_next_cell": 0
   },
   "source": [
    "## Section 2: Instantiate the Ocean API class with this configuration\n",
    "The Ocean API has an attribute listing all created (simulated) accounts in your local node"
   ]
  },
  {
   "cell_type": "code",
   "execution_count": 4,
   "metadata": {},
   "outputs": [
    {
     "name": "stderr",
     "output_type": "stream",
     "text": [
      "20 - ocean_secret_store - __init__        - \tSecretStore: url https://secret-store.dev-ocean.com, parity-client https://nile.dev-ocean.com, account 0x44E07D8190Cc0f0eCCC9C935D5EA47194301Cb00\n",
      "20 - diagnostics     - verify_contracts - Keeper contract artifacts (JSON abi files) at: /home/batman/ocn/mantaray_jupyter/artifacts_nile\n",
      "20 - diagnostics     - verify_contracts - Using keeper contracts from network nile, network id is 8995\n",
      "20 - diagnostics     - verify_contracts - Looking for keeper contracts ending with \".nile.json\", e.g. \"AgreementStoreManager.nile.json\".\n",
      "20 - diagnostics     - verify_contracts - Finished loading keeper contracts:\n",
      "\tDispenser: 0x865396b7ddc58C693db7FCAD1168E3BD95Fe3368\n",
      "\tOceanToken: 0x9861Da395d7da984D5E8C712c2EDE44b41F777Ad\n",
      "\tDIDRegistry: 0x4A0f7F763B1A7937aED21D63b2A78adc89c5Db23\n",
      "\tAgreementStoreManager: 0x62f84700b1A0ea6Bfb505aDC3c0286B7944D247C\n",
      "\tTemplateStoreManager: 0x9768c8ae44f1dc81cAA98F48792aA5730cAd2F73\n",
      "\tConditionStoreManager: 0x39b0AA775496C5ebf26f3B81C9ed1843f09eE466\n",
      "\tAccessSecretStoreCondition: 0x45DE141F8Efc355F1451a102FB6225F1EDd2921d\n",
      "\tSignCondition: 0x5a4301F8a7a8A13485621b9B4C82B1E66c112ee2\n",
      "\tLockRewardCondition: 0xE30FC30c678437e0e8F78C52dE9db8E2752781a0\n",
      "\tEscrowAccessSecretStoreTemplate: 0xfA16d26e9F4fffC6e40963B281a0bB08C31ed40C\n",
      "\tEscrowReward: 0xeD4Ef53376C6f103d2d7029D7E702e082767C6ff\n",
      "\tHashLockCondition: 0xB5f2e45e8aD4a1339D542f2defd5095B98054590\n",
      "20 - ocean           - __init__        - Squid Ocean instance initialized: \n",
      "20 - ocean           - __init__        - \tOther accounts: ['0x0207cb2f99EB2e005893d6108E2633641Ca9cC3e', '0x064789569D09b4d40b54383d84A25A840E5D67aD', '0x06C0035fE67Cce2B8862D63Dc315D8C8c72207cA', '0x07aCfF76eB4A10c92B89965B0e174B35d887cB0b', '0x0A7a04DEdFE9A4859bcEdD2F21dcA8110499bed9', '0x0d4230b1795959ab5453eb98E4853966bcD3059b', '0x0ed597b76592b4E63F0494127ADFB7Ea0829e337', '0x1322A6ef2c560107733bFc622Fe556961Cb430a5', '0x1549193cc522A1716be4886879cD5f0964A3073C', '0x15C8249D657ad28daa56662ad4ee18dA4377d1a4', '0x170ff54d7bbD527B7bdF04770845bd727a531d9c', '0x1769AAf66658DC2D7782796ac2fF350d4ecf96Cd', '0x17d25A173C9914ee09221EA8E490D296121e51F2', '0x20927B599BD2De0Bd91C1D0819AB25f74BfE4f84', '0x291456dbD9119Ed4e4FE261246F5985ebF4e7Ae9', '0x2DFeEe7Ac1a126AF0d254235D0e21F43d5c9B103', '0x2E92872deE4Cd4f5d5544C257cAa2A66710bE73D', '0x2c918a0EF92f0b7113c8c4a966CC4f22AfA5652f', '0x33333759e516dD51b533777b733a40c2EbD4869D', '0x33aA281ce918D69330Fe2eF4326Ef2d4A4bc53A5', '0x364BA547Fb1a96881D59CC193641DDB4D891a6E2', '0x372E3D432e3Ba583E2aD20ED7270ceAAdb7A08d4', '0x376817c638D2a04f475a73aF37f7B51A2862D567', '0x3C5bdEBBB588f6d7ebBbC74b6Ed56f3b9dF2f7e2', '0x3F367a69C2559a4B90044eA6b6dfF7E0fE4a52E6', '0x413c9BA0A05B8A600899B41b0c62dd661e689354', '0x43E6b79B696b1d8E21d5A23118A1BF1b565C3831', '0x442aCf84E05459e13595f372C49D4a15E95eA4E7', '0x4439526405BD6119bdC8a0B2c7616B8eF2cB8751', '0x44E07D8190Cc0f0eCCC9C935D5EA47194301Cb00', '0x45234B8c216231c2c31785aE4F5DceB858A8Ec71', '0x4655b0C31a26aB4D3e6Dd85d51690E038290D4e0', '0x46bC99223b1dc535F6770E691D55C4Fb0f8a71Ad', '0x480b0e0A641AE45521377d4984d085a003934561', '0x4aaAB179035Dc57b35E2cE066919048686F82972', '0x5f31E32e4689E1BC789E86e94eD9430bB47e4411', '0x61CC88041Ae02DC3C4898CCC537b776A0f3cDC03', '0x6e0e1037Ce73F6adA46A66341AA8615fBC6da577', '0x73F82874Ab2679B9D6b1407772Ee4aCedCFF73a7', '0x80dB05d19D9D9cA44efC14fA9Ec96D3e08359dfe', '0x8a568558E419f7805a7a754A864a74F243CAA87E', '0x8cD3442B45C857ab1Ea415ef3a05d41043Bc1201', '0x8f62ef2650fc82Aa76394cb3924B2Fb2399f686F', '0x8ff8b8028E5c0014460ea34369b209F5c332a761', '0x9e16739FEdfEBBB443cD77Fe8Cf19b3EC7bA89D4', '0xB05B465601d03B1D3513c1AC4FAf7e1B9F98bBCB', '0xB748d8D09B613396e31c5dD486715B4740F6dD80', '0xBf462F0E30ae29445a0f3957Ad3520A8aB4fEBaE', '0xD81934365c02da201dC2b85E401Ca75B48F7CcBD', '0xE547D4A0bce72d5a1bc3a8765E23b1568Ef17A6c', '0xEa834BC57C036D172173bd583Cff21165A1A4CF8', '0xEbf7f9B43F64410112b827C4d86D51b86B885C0f', '0xaeA5412054858DD13482ac8B24aC710B96e4d353', '0xb1C2DCF0635E7f4c4327321EFd95025af7b89bec', '0xbC3Ff599be046008A571368492F9253cb269D9cB', '0xc42Ad6a6Fb42eBD5ABFF77Bd55f3102CF345267D', '0xddA43B0fb68a1D342Fd304902d52E16421a88a5C', '0xfBC2e6EF701843C33d5be9086420469A915B5f53', '0xfEF2d5e1670342b9EF22eeeDcb287EC526B48095']\n",
      "20 - ocean           - __init__        - \tDIDRegistry @ 0x4A0f7F763B1A7937aED21D63b2A78adc89c5Db23\n",
      "50 - <ipython-input-4-85562d8e1055> - <module>        - Ocean smart contract node connected \n"
     ]
    }
   ],
   "source": [
    "ocn = Ocean(configuration)\n",
    "logging.critical(\"Ocean smart contract node connected \".format())"
   ]
  },
  {
   "cell_type": "markdown",
   "metadata": {},
   "source": [
    "## Section 3: A 'borrowed' user account\n",
    "For the purposes of these tutorials, we will borrow one of the accounts to play with the test network. A simple\n",
    "wrapper utility will return an account:"
   ]
  },
  {
   "cell_type": "code",
   "execution_count": 5,
   "metadata": {},
   "outputs": [
    {
     "ename": "AssertionError",
     "evalue": "",
     "output_type": "error",
     "traceback": [
      "\u001b[0;31m---------------------------------------------------------------------------\u001b[0m",
      "\u001b[0;31mAssertionError\u001b[0m                            Traceback (most recent call last)",
      "\u001b[0;32m<ipython-input-5-f38471c5b854>\u001b[0m in \u001b[0;36m<module>\u001b[0;34m\u001b[0m\n\u001b[0;32m----> 1\u001b[0;31m \u001b[0mselected_account\u001b[0m \u001b[0;34m=\u001b[0m \u001b[0mmanta_utils\u001b[0m\u001b[0;34m.\u001b[0m\u001b[0muser\u001b[0m\u001b[0;34m.\u001b[0m\u001b[0mget_account\u001b[0m\u001b[0;34m(\u001b[0m\u001b[0mocn\u001b[0m\u001b[0;34m)\u001b[0m\u001b[0;34m\u001b[0m\u001b[0;34m\u001b[0m\u001b[0m\n\u001b[0m\u001b[1;32m      2\u001b[0m \u001b[0mprint\u001b[0m\u001b[0;34m(\u001b[0m\u001b[0;34m\"Selected account address:\"\u001b[0m\u001b[0;34m,\u001b[0m \u001b[0mselected_account\u001b[0m\u001b[0;34m.\u001b[0m\u001b[0maddress\u001b[0m\u001b[0;34m)\u001b[0m\u001b[0;34m\u001b[0m\u001b[0;34m\u001b[0m\u001b[0m\n",
      "\u001b[0;32m~/ocn/mantaray_utilities/mantaray_utilities/user.py\u001b[0m in \u001b[0;36mget_account\u001b[0;34m(ocn)\u001b[0m\n\u001b[1;32m     89\u001b[0m     \u001b[0;34m:\u001b[0m\u001b[0;32mreturn\u001b[0m\u001b[0;34m:\u001b[0m\u001b[0;34m\u001b[0m\u001b[0;34m\u001b[0m\u001b[0m\n\u001b[1;32m     90\u001b[0m     \"\"\"\n\u001b[0;32m---> 91\u001b[0;31m     \u001b[0mpassword_dict\u001b[0m \u001b[0;34m=\u001b[0m \u001b[0mload_passwords_environ\u001b[0m\u001b[0;34m(\u001b[0m\u001b[0;34m)\u001b[0m\u001b[0;34m\u001b[0m\u001b[0;34m\u001b[0m\u001b[0m\n\u001b[0m\u001b[1;32m     92\u001b[0m \u001b[0;34m\u001b[0m\u001b[0m\n\u001b[1;32m     93\u001b[0m     \u001b[0maddresses\u001b[0m \u001b[0;34m=\u001b[0m \u001b[0;34m[\u001b[0m\u001b[0mstr\u001b[0m\u001b[0;34m.\u001b[0m\u001b[0mlower\u001b[0m\u001b[0;34m(\u001b[0m\u001b[0maddr\u001b[0m\u001b[0;34m)\u001b[0m \u001b[0;32mfor\u001b[0m \u001b[0maddr\u001b[0m \u001b[0;32min\u001b[0m \u001b[0mpassword_dict\u001b[0m\u001b[0;34m.\u001b[0m\u001b[0mkeys\u001b[0m\u001b[0;34m(\u001b[0m\u001b[0;34m)\u001b[0m\u001b[0;34m]\u001b[0m\u001b[0;34m\u001b[0m\u001b[0;34m\u001b[0m\u001b[0m\n",
      "\u001b[0;32m~/ocn/mantaray_utilities/mantaray_utilities/user.py\u001b[0m in \u001b[0;36mload_passwords_environ\u001b[0;34m()\u001b[0m\n\u001b[1;32m     54\u001b[0m \u001b[0;34m\u001b[0m\u001b[0m\n\u001b[1;32m     55\u001b[0m \u001b[0;32mdef\u001b[0m \u001b[0mload_passwords_environ\u001b[0m\u001b[0;34m(\u001b[0m\u001b[0;34m)\u001b[0m\u001b[0;34m:\u001b[0m\u001b[0;34m\u001b[0m\u001b[0;34m\u001b[0m\u001b[0m\n\u001b[0;32m---> 56\u001b[0;31m     \u001b[0;32massert\u001b[0m \u001b[0;34m'PASSWORD_PATH'\u001b[0m \u001b[0;32min\u001b[0m \u001b[0mos\u001b[0m\u001b[0;34m.\u001b[0m\u001b[0menviron\u001b[0m\u001b[0;34m\u001b[0m\u001b[0;34m\u001b[0m\u001b[0m\n\u001b[0m\u001b[1;32m     57\u001b[0m     \u001b[0;32mreturn\u001b[0m \u001b[0mload_passwords\u001b[0m\u001b[0;34m(\u001b[0m\u001b[0mos\u001b[0m\u001b[0;34m.\u001b[0m\u001b[0menviron\u001b[0m\u001b[0;34m[\u001b[0m\u001b[0;34m'PASSWORD_PATH'\u001b[0m\u001b[0;34m]\u001b[0m\u001b[0;34m)\u001b[0m\u001b[0;34m\u001b[0m\u001b[0;34m\u001b[0m\u001b[0m\n\u001b[1;32m     58\u001b[0m \u001b[0;34m\u001b[0m\u001b[0m\n",
      "\u001b[0;31mAssertionError\u001b[0m: "
     ]
    }
   ],
   "source": [
    "selected_account = manta_utils.user.get_account(ocn)\n",
    "print(\"Selected account address:\", selected_account.address)"
   ]
  },
  {
   "cell_type": "markdown",
   "metadata": {},
   "source": [
    "An account has a balance of Ocean Token, Ethereum, and requires a password to sign any transactions. Similar to\n",
    "Ethereum, Ocean Tokens are divisible into the smallest unit of 10^18 of 1 token. There are several accounts\n",
    "in the test network as listed below:"
   ]
  },
  {
   "cell_type": "code",
   "execution_count": null,
   "metadata": {},
   "outputs": [],
   "source": [
    "# List the accounts in the network\n",
    "print(len(ocn.accounts.list()), \"accounts exist\")\n",
    "print(\"Listing first 10 accounts\")\n",
    "\n",
    "# Print a simple table listing the first 10 accounts and balances\n",
    "print(\"{:<5} {:<45} {:<20}  {}\".format(\"\",\"Address\", \"Ocean Token Balance\", \"ETH balance\"))\n",
    "for i, acct in enumerate(ocn.accounts.list()):\n",
    "    acct_balance = ocn.accounts.balance(acct)\n",
    "    print(\"{:<5} {:<45} {:<20.0f}  {:0.0f}\".format(i,acct.address, acct_balance.ocn/10**18, acct_balance.eth/10**18))\n",
    "    if i == 9: break"
   ]
  },
  {
   "cell_type": "markdown",
   "metadata": {},
   "source": [
    "### It is never secure to send your password over an unsecured HTTP connection, this is for demonstration only!\n",
    "### In a real application, you should always hold your private key locally, secure in a wallet, or use MetaMask\n",
    "\n",
    "See our documentation page for setting up your Ethereum accounts!\n"
   ]
  },
  {
   "cell_type": "markdown",
   "metadata": {
    "lines_to_next_cell": 0
   },
   "source": [
    "## Requesting tokens\n",
    "For development and testing, we have a magical function which will give you free testnet Ocean Token!\n",
    "\n",
    "Your balance should be increased by 1 - but only after the block has been mined! Try printing your balance\n",
    "multiple times until it updates."
   ]
  },
  {
   "cell_type": "code",
   "execution_count": null,
   "metadata": {},
   "outputs": [],
   "source": [
    "print(\"Starting Ocean balance: {:0.2f}\".format(ocn.accounts.balance(selected_account).ocn/10**18))\n",
    "success = ocn.accounts.request_tokens(selected_account, 1)\n",
    "# The result will be true or false\n",
    "assert success"
   ]
  },
  {
   "cell_type": "code",
   "execution_count": null,
   "metadata": {},
   "outputs": [],
   "source": [
    "# Execute this after some time has passed to see the update!\n",
    "print(\"Updated Ocean balance: {:0.2f}\".format(ocn.accounts.balance(selected_account).ocn/10**18))"
   ]
  },
  {
   "cell_type": "markdown",
   "metadata": {},
   "source": [
    "## Asynchronous interactions\n",
    "Many methods in the API will include a call to\n",
    "[.waitForTransactionReceipt(transaction_hash)](https://web3py.readthedocs.io/en/stable/web3.eth.html#web3.eth.Eth.waitForTransactionReceiptj),\n",
    "which explicitly pauses execution until the transaction has been mined. This will return the Transaction Receipt. When interacting\n",
    "with the blockchain, things my take some time to execute!"
   ]
  }
 ],
 "metadata": {
  "jupytext": {
   "main_language": "python",
   "text_representation": {
    "extension": ".py",
    "format_name": "percent"
   }
  },
  "kernelspec": {
   "display_name": "mantaray",
   "language": "python",
   "name": "mantaray"
  },
  "language_info": {
   "codemirror_mode": {
    "name": "ipython",
    "version": 3
   },
   "file_extension": ".py",
   "mimetype": "text/x-python",
   "name": "python",
   "nbconvert_exporter": "python",
   "pygments_lexer": "ipython3",
   "version": "3.6.7"
  }
 },
 "nbformat": 4,
 "nbformat_minor": 2
}
