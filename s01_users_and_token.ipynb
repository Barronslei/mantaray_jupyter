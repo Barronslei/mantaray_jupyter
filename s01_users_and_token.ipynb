{
 "cells": [
  {
   "cell_type": "markdown",
   "metadata": {},
   "source": [
    "\n",
    "<p><img src=\"https://oceanprotocol.com/static/media/banner-ocean-03@2x.b7272597.png\" alt=\"drawing\" width=\"800\" align=\"center\"/>"
   ]
  },
  {
   "cell_type": "markdown",
   "metadata": {
    "lines_to_next_cell": 0
   },
   "source": [
    "<h1><center>Ocean Protocol - Manta Ray project</center></h1>\n",
    "<h3><center>Decentralized Data Science and Engineering, powered by Ocean Protocol</center></h3>\n",
    "<p>Version 0.5.2 - beta</p>\n",
    "<p>Package compatibility: squid-py v0.6.13, keeper-contracts 0.10.3, utilities 0.2.2,\n",
    "<p>Component compatibility (Nile): Brizo v0.3.12, Aquarius v0.3.4, Nile testnet smart contracts 0.10.3</p>\n",
    "<p><a href=\"https://github.com/oceanprotocol/mantaray\">mantaray on Github</a></p>\n",
    "<p>"
   ]
  },
  {
   "cell_type": "markdown",
   "metadata": {},
   "source": [
    "# Getting Underway - wallets, passwords and tokens\n",
    "\n",
    "To interact in Ocean Protocol, you will need an account, which you will fund with Token to access the assets\n",
    "in the network.\n",
    "\n",
    "In this notebook, we will demonstrate this behaviour with pre-loaded accounts.\n",
    "\n",
    "To use Ocean, a User requires\n",
    "- A user account address\n",
    "- A password\n",
    "- Ocean Token"
   ]
  },
  {
   "cell_type": "markdown",
   "metadata": {
    "lines_to_next_cell": 0
   },
   "source": [
    "### Section 0: Import modules, and setup logging"
   ]
  },
  {
   "cell_type": "code",
   "execution_count": null,
   "metadata": {},
   "outputs": [],
   "source": [
    "# Standard imports\n",
    "import logging\n",
    "import os\n",
    "import random\n",
    "from pprint import pprint\n",
    "\n",
    "# Import mantaray and the Ocean API (squid)\n",
    "# mantaray_utilities is an extra helper library to simulate interactions with the Ocean API.\n",
    "import squid_py\n",
    "from squid_py.ocean.ocean import Ocean\n",
    "from squid_py.config import Config\n",
    "import mantaray_utilities as manta_utils\n",
    "# Setup logging to a higher level and not flood the console with debug messages\n",
    "manta_utils.logging.logger.setLevel('INFO')\n",
    "logging.info(\"Squid API version: {}\".format(squid_py.__version__))\n",
    "print(\"squid-py Ocean API version:\", squid_py.__version__)"
   ]
  },
  {
   "cell_type": "code",
   "execution_count": null,
   "metadata": {},
   "outputs": [],
   "source": [
    "# Get the configuration file path for this environment\n",
    "config_file = os.environ['OCEAN_CONFIG_PATH']\n",
    "logging.critical(\"Configuration file selected: {}\".format(config_file))\n",
    "logging.critical(\"Deployment type: {}\".format(manta_utils.config.get_deployment_type()))\n",
    "logging.critical(\"Squid API version: {}\".format(squid_py.__version__))"
   ]
  },
  {
   "cell_type": "code",
   "execution_count": null,
   "metadata": {},
   "outputs": [],
   "source": [
    "# Instantiate Ocean with the default configuration file.\n",
    "configuration = Config(config_file)\n",
    "squid_py.ConfigProvider.set_config(configuration)\n",
    "ocn = Ocean(configuration)\n",
    "logging.critical(\"Ocean smart contract node connected \".format())"
   ]
  },
  {
   "cell_type": "markdown",
   "metadata": {},
   "source": [
    "## Section 3: A 'borrowed' user account\n",
    "For the purposes of these tutorials, we will borrow one of the accounts to play with the test network. A simple\n",
    "wrapper utility will return an account:"
   ]
  },
  {
   "cell_type": "code",
   "execution_count": null,
   "metadata": {},
   "outputs": [],
   "source": [
    "selected_account = manta_utils.user.get_account(ocn)\n",
    "print(\"Selected account address:\", selected_account.address)"
   ]
  },
  {
   "cell_type": "markdown",
   "metadata": {},
   "source": [
    "An account has a balance of Ocean Token, Ethereum, and requires a password to sign any transactions. Similar to\n",
    "Ethereum, Ocean Tokens are divisible into the smallest unit of 10^18 of 1 token. There are several accounts\n",
    "in the test network as listed below:"
   ]
  },
  {
   "cell_type": "code",
   "execution_count": null,
   "metadata": {},
   "outputs": [],
   "source": [
    "# List the accounts in the network\n",
    "print(len(ocn.accounts.list()), \"accounts exist\")\n",
    "print(\"Listing first 10 accounts\")\n",
    "\n",
    "# Print a simple table listing the first 10 accounts and balances\n",
    "print(\"{:<5} {:<45} {:<20}  {}\".format(\"\",\"Address\", \"Ocean Token Balance\", \"ETH balance\"))\n",
    "for i, acct in enumerate(ocn.accounts.list()):\n",
    "    acct_balance = ocn.accounts.balance(acct)\n",
    "    print(\"{:<5} {:<45} {:<20.0f}  {:0.0f}\".format(i,acct.address, acct_balance.ocn/10**18, acct_balance.eth/10**18))\n",
    "    if i == 9: break"
   ]
  },
  {
   "cell_type": "markdown",
   "metadata": {},
   "source": [
    "### It is never secure to send your password over an unsecured HTTP connection, this is for demonstration only!\n",
    "### In a real application, you should always hold your private key locally, secure in a wallet, or use MetaMask\n",
    "\n",
    "See our documentation page for setting up your Ethereum accounts!"
   ]
  },
  {
   "cell_type": "markdown",
   "metadata": {
    "lines_to_next_cell": 0
   },
   "source": [
    "## Requesting tokens\n",
    "For development and testing, we have a magical function which will give you free testnet Ocean Token!\n",
    "\n",
    "Your balance should be increased by 1 - but only after the block has been mined! Try printing your balance\n",
    "multiple times until it updates."
   ]
  },
  {
   "cell_type": "code",
   "execution_count": null,
   "metadata": {},
   "outputs": [],
   "source": [
    "print(\"Starting Ocean balance: {:0.2f}\".format(ocn.accounts.balance(selected_account).ocn/10**18))\n",
    "success = ocn.accounts.request_tokens(selected_account, 1)\n",
    "# The result will be true or false\n",
    "assert success"
   ]
  },
  {
   "cell_type": "code",
   "execution_count": null,
   "metadata": {},
   "outputs": [],
   "source": [
    "# Execute this after some time has passed to see the update!\n",
    "print(\"Updated Ocean balance: {:0.2f}\".format(ocn.accounts.balance(selected_account).ocn/10**18))"
   ]
  },
  {
   "cell_type": "markdown",
   "metadata": {},
   "source": [
    "## Asynchronous interactions\n",
    "Many methods in the API will include a call to\n",
    "[.waitForTransactionReceipt(transaction_hash)](https://web3py.readthedocs.io/en/stable/web3.eth.html#web3.eth.Eth.waitForTransactionReceiptj),\n",
    "which explicitly pauses execution until the transaction has been mined. This will return the Transaction Receipt. When interacting\n",
    "with the blockchain, things my take some time to execute!"
   ]
  }
 ],
 "metadata": {
  "jupytext": {
   "main_language": "python",
   "text_representation": {
    "extension": ".py",
    "format_name": "percent"
   }
  },
  "kernelspec": {
   "display_name": "Manta Ray",
   "language": "python",
   "name": "python3"
  }
 },
 "nbformat": 4,
 "nbformat_minor": 2
}
