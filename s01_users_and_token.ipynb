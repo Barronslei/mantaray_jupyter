{
 "cells": [
  {
   "cell_type": "markdown",
   "metadata": {},
   "source": [
    "\n",
    "<p><img src=\"https://oceanprotocol.com/static/media/banner-ocean-03@2x.b7272597.png\" alt=\"drawing\" width=\"800\" align=\"center\"/>"
   ]
  },
  {
   "cell_type": "markdown",
   "metadata": {
    "lines_to_next_cell": 2
   },
   "source": [
    "\n",
    "<h1><center>Ocean Protocol - Manta Ray project</center></h1>\n",
    "<h3><center>Decentralized Data Science and Engineering, powered by Ocean Protocol</center></h3>\n",
    "<p>Version 0.4 - alpha preview</p>\n",
    "<p><a href=\"https://github.com/oceanprotocol/mantaray\">mantaray on Github</a></p>\n",
    "<p>"
   ]
  },
  {
   "cell_type": "markdown",
   "metadata": {},
   "source": [
    "# Getting Underway - wallets, passwords and tokens\n",
    "\n",
    "To interact in Ocean Protocol, you will need an account, which you will fund with Token to access the assets\n",
    "in the network.\n",
    "\n",
    "In this notebook, we will demonstrate this behaviour with pre-loaded accounts.\n",
    "\n",
    "To use Ocean, a User requires\n",
    "- A user account address\n",
    "- A password\n",
    "- Ocean Token"
   ]
  },
  {
   "cell_type": "markdown",
   "metadata": {
    "lines_to_next_cell": 0
   },
   "source": [
    "### Section 0: Import modules, and setup logging"
   ]
  },
  {
   "cell_type": "code",
   "execution_count": 4,
   "metadata": {},
   "outputs": [
    {
     "name": "stderr",
     "output_type": "stream",
     "text": [
      "20 - <ipython-input-4-9e73a995bba1> - <module>        - Squid API version: 0.4.3\n"
     ]
    }
   ],
   "source": [
    "# Standard imports\n",
    "import logging\n",
    "import random\n",
    "from pprint import pprint\n",
    "\n",
    "# Import mantaray and the Ocean API (squid)\n",
    "# mantaray_utilities is an extra helper library to simulate interactions with the Ocean API.\n",
    "import squid_py\n",
    "from squid_py.ocean.ocean import Ocean\n",
    "from squid_py.config import Config\n",
    "import mantaray_utilities as manta_utils\n",
    "logging.info(\"Squid API version: {}\".format(squid_py.__version__))\n",
    "# Setup logging to a higher level and not flood the console with debug messages\n",
    "# manta_utils.logging.logger.setLevel('CRITICAL')\n",
    "manta_utils.logging.logger.setLevel('INFO')"
   ]
  },
  {
   "cell_type": "code",
   "execution_count": 5,
   "metadata": {},
   "outputs": [
    {
     "name": "stderr",
     "output_type": "stream",
     "text": [
      "50 - <ipython-input-5-49b527de6115> - <module>        - Deployment type: USE_K8S_CLUSTER\n",
      "50 - <ipython-input-5-49b527de6115> - <module>        - Configuration file selected: /home/batman/ocn/mantaray_jupyter/config_k8s_deployed.ini\n"
     ]
    }
   ],
   "source": [
    "# Get the configuration file path for this environment\n",
    "# You can specify your own configuration file at any time, and pass it to the Ocean class.\n",
    "# os.environ['USE_K8S_CLUSTER'] = 'true'\n",
    "logging.critical(\"Deployment type: {}\".format(manta_utils.config.get_deployment_type()))\n",
    "CONFIG_INI_PATH = manta_utils.config.get_config_file_path()\n",
    "logging.critical(\"Configuration file selected: {}\".format(CONFIG_INI_PATH))"
   ]
  },
  {
   "cell_type": "markdown",
   "metadata": {
    "lines_to_next_cell": 0
   },
   "source": [
    "## Section 1: Examine the configuration object"
   ]
  },
  {
   "cell_type": "code",
   "execution_count": 6,
   "metadata": {},
   "outputs": [
    {
     "name": "stdout",
     "output_type": "stream",
     "text": [
      "Configuration file: /home/batman/ocn/mantaray_jupyter/config_k8s_deployed.ini\n",
      "OrderedDict([('keeper-contracts',\n",
      "              OrderedDict([('keeper.url', 'https://nile.dev-ocean.com'),\n",
      "                           ('keeper.path', 'artifacts_nile'),\n",
      "                           ('gas_limit', '1000000'),\n",
      "                           ('secret_store.url',\n",
      "                            'https://secret-store.dev-ocean.com'),\n",
      "                           ('parity.url', 'https://nile.dev-ocean.com'),\n",
      "                           ('parity.address',\n",
      "                            '0x413c9ba0a05b8a600899b41b0c62dd661e689354'),\n",
      "                           ('parity.password', 'ocean_secret'),\n",
      "                           ('parity.address2',\n",
      "                            '0x064789569D09b4d40b54383d84A25A840E5D67aD'),\n",
      "                           ('parity.password2', 'ocean_secret')])),\n",
      "             ('resources',\n",
      "              OrderedDict([('aquarius.url',\n",
      "                            'https://nginx-aquarius.dev-ocean.com/'),\n",
      "                           ('storage.path', 'squid_py.db'),\n",
      "                           ('azure.account.name', 'testocnfiles'),\n",
      "                           ('azure.account.key', ''),\n",
      "                           ('azure.container', ''),\n",
      "                           ('azure.resource_group', ''),\n",
      "                           ('azure.share.input', ''),\n",
      "                           ('azure.share.output', ''),\n",
      "                           ('azure.location', ''),\n",
      "                           ('brizo.url', 'https://nginx-brizo.dev-ocean.com/'),\n",
      "                           ('downloads.path', 'downloads_nile')]))])\n"
     ]
    }
   ],
   "source": [
    "# The API can be configured with a file or a dictionary.\n",
    "# In this case, we will instantiate from file, which you may also inspect.\n",
    "# The configuration is a standard library [configparser.ConfigParser()](https://docs.python.org/3/library/configparser.html) object.\n",
    "print(\"Configuration file:\", CONFIG_INI_PATH)\n",
    "configuration = Config(CONFIG_INI_PATH)\n",
    "pprint(configuration._sections)"
   ]
  },
  {
   "cell_type": "markdown",
   "metadata": {
    "lines_to_next_cell": 0
   },
   "source": [
    "Let's look at the 2 parameters that define your identity\n",
    "The 20-byte 'parity.address' defines your account address\n",
    "'parity.password' is used to decrypt your private key and securely sign transactions"
   ]
  },
  {
   "cell_type": "code",
   "execution_count": 7,
   "metadata": {},
   "outputs": [
    {
     "name": "stdout",
     "output_type": "stream",
     "text": [
      "Currently selected address: 0x413c9ba0a05b8a600899b41b0c62dd661e689354\n",
      "Associated password: ocean_secret\n"
     ]
    }
   ],
   "source": [
    "user1_address = configuration['keeper-contracts']['parity.address']\n",
    "user1_pass = configuration['keeper-contracts']['parity.password']\n",
    "print(\"Currently selected address:\", user1_address)\n",
    "print(\"Associated password:\", user1_pass)"
   ]
  },
  {
   "cell_type": "markdown",
   "metadata": {},
   "source": [
    "Alternatively, for the purposes of these demos, a list of passwords for local and cloud testing are available.\n",
    "Several utility functions have been created to manage these passwords for testing multiple users."
   ]
  },
  {
   "cell_type": "code",
   "execution_count": 8,
   "metadata": {},
   "outputs": [
    {
     "name": "stderr",
     "output_type": "stream",
     "text": [
      "20 - user            - load_passwords  - 31 account-password pairs loaded\n"
     ]
    }
   ],
   "source": [
    "# Load the passwords file\n",
    "path_passwords = manta_utils.config.get_project_path() / 'passwords.csv'\n",
    "passwords = manta_utils.user.load_passwords(path_passwords)\n",
    "user1_pass = manta_utils.user.password_map(user1_address, passwords)"
   ]
  },
  {
   "cell_type": "markdown",
   "metadata": {
    "lines_to_next_cell": 0
   },
   "source": [
    "## Section 2: Instantiate the Ocean API class with this configuration\n",
    "The Ocean API has an attribute listing all created (simulated) accounts in your local node"
   ]
  },
  {
   "cell_type": "code",
   "execution_count": 9,
   "metadata": {},
   "outputs": [
    {
     "name": "stderr",
     "output_type": "stream",
     "text": [
      "20 - ocean_secret_store - __init__        - \tSecretStore: url https://secret-store.dev-ocean.com, parity-client https://nile.dev-ocean.com, account 0x413c9ba0a05b8a600899b41b0c62dd661e689354\n",
      "20 - diagnostics     - verify_contracts - Keeper contract artifacts (JSON abi files) at: /home/batman/ocn/mantaray_jupyter/artifacts_nile\n",
      "20 - diagnostics     - verify_contracts - Using keeper contracts from network nile, network id is 8995\n",
      "20 - diagnostics     - verify_contracts - Looking for keeper contracts ending with \".nile.json\", e.g. \"ServiceExecutionAgreement.nile.json\".\n",
      "20 - diagnostics     - verify_contracts - Finished loading keeper contracts:\n",
      "\tDispenser: 0xb8B0ec3AC0bf28ebB47b3cce4b1B7607DD7FA2DB\n",
      "\tOceanToken: 0x88CAA68F41DD7cFdD431BcA036E11bd20ef58882\n",
      "\tDIDRegistry: 0x9d306Ca587ff4b311C7963e62F48f3d6B59Ec1a1\n",
      "\tServiceExecutionAgreement: 0xFfCb6bea15BbF19Dd3bCDC82f1864A92F359284A\n",
      "\tPaymentConditions: 0xc00b256Ff109EDaA5A375799CFB7386221863329\n",
      "\tAccessConditions: 0x1be580a31D79a7FAcF1F5c70d8F2727f2eDe75bD\n",
      "20 - diagnostics     - check_deployed_agreement_templates - Found service agreement template 0x044852b2a670ade5407e78fb2863c51de9fcb96542a07186fe3aeda6bb8a116d of type `Access` deployed in the current keeper network published by 0x4dB6895d0A15B524edb766b1681Ca0F86463642D.\n",
      "20 - ocean           - __init__        - Squid Ocean instance initialized: \n",
      "20 - ocean           - __init__        - \tOther accounts: ['0x0207cb2f99EB2e005893d6108E2633641Ca9cC3e', '0x064789569D09b4d40b54383d84A25A840E5D67aD', '0x06C0035fE67Cce2B8862D63Dc315D8C8c72207cA', '0x07aCfF76eB4A10c92B89965B0e174B35d887cB0b', '0x0A7a04DEdFE9A4859bcEdD2F21dcA8110499bed9', '0x1322A6ef2c560107733bFc622Fe556961Cb430a5', '0x1549193cc522A1716be4886879cD5f0964A3073C', '0x15C8249D657ad28daa56662ad4ee18dA4377d1a4', '0x170ff54d7bbD527B7bdF04770845bd727a531d9c', '0x1769AAf66658DC2D7782796ac2fF350d4ecf96Cd', '0x17d25A173C9914ee09221EA8E490D296121e51F2', '0x291456dbD9119Ed4e4FE261246F5985ebF4e7Ae9', '0x2DFeEe7Ac1a126AF0d254235D0e21F43d5c9B103', '0x2E92872deE4Cd4f5d5544C257cAa2A66710bE73D', '0x2c918a0EF92f0b7113c8c4a966CC4f22AfA5652f', '0x33333759e516dD51b533777b733a40c2EbD4869D', '0x364BA547Fb1a96881D59CC193641DDB4D891a6E2', '0x3C5bdEBBB588f6d7ebBbC74b6Ed56f3b9dF2f7e2', '0x3F367a69C2559a4B90044eA6b6dfF7E0fE4a52E6', '0x413c9BA0A05B8A600899B41b0c62dd661e689354', '0x43E6b79B696b1d8E21d5A23118A1BF1b565C3831', '0x442aCf84E05459e13595f372C49D4a15E95eA4E7', '0x4439526405BD6119bdC8a0B2c7616B8eF2cB8751', '0x44E07D8190Cc0f0eCCC9C935D5EA47194301Cb00', '0x45234B8c216231c2c31785aE4F5DceB858A8Ec71', '0x4655b0C31a26aB4D3e6Dd85d51690E038290D4e0', '0x852eaB9A4529cCe71Aa3F191da6900d57C802881']\n",
      "20 - ocean           - __init__        - \tDIDRegistry @ 0x9d306Ca587ff4b311C7963e62F48f3d6B59Ec1a1\n",
      "50 - <ipython-input-9-85562d8e1055> - <module>        - Ocean smart contract node connected \n"
     ]
    }
   ],
   "source": [
    "ocn = Ocean(configuration)\n",
    "logging.critical(\"Ocean smart contract node connected \".format())"
   ]
  },
  {
   "cell_type": "markdown",
   "metadata": {},
   "source": [
    "An account has a balance of Ocean Token, Ethereum, and requires a password to sign any transactions."
   ]
  },
  {
   "cell_type": "code",
   "execution_count": 10,
   "metadata": {},
   "outputs": [
    {
     "name": "stdout",
     "output_type": "stream",
     "text": [
      "27 accounts exist\n",
      "      Address                                       Ocean Token Balance  Password?    ETH balance\n",
      "0     0x0207cb2f99EB2e005893d6108E2633641Ca9cC3e    0                    1            6092898583750000000\n",
      "1     0x064789569D09b4d40b54383d84A25A840E5D67aD    4280                 1            99977130724000000000\n",
      "2     0x06C0035fE67Cce2B8862D63Dc315D8C8c72207cA    100                  1            3000000000000000000\n",
      "3     0x07aCfF76eB4A10c92B89965B0e174B35d887cB0b    2                    1            2999999994240380000\n",
      "4     0x0A7a04DEdFE9A4859bcEdD2F21dcA8110499bed9    100                  1            3000000000000000000\n",
      "5     0x1322A6ef2c560107733bFc622Fe556961Cb430a5    101                  1            2999999997919150000\n",
      "6     0x1549193cc522A1716be4886879cD5f0964A3073C    100                  1            2999438222019160000\n",
      "7     0x15C8249D657ad28daa56662ad4ee18dA4377d1a4    3                    1            3000000000000000000\n",
      "8     0x170ff54d7bbD527B7bdF04770845bd727a531d9c    0                    1            3000000000000000000\n",
      "9     0x1769AAf66658DC2D7782796ac2fF350d4ecf96Cd    91                   1            3000000000000000000\n",
      "10    0x17d25A173C9914ee09221EA8E490D296121e51F2    100                  1            2999999999170830000\n",
      "11    0x291456dbD9119Ed4e4FE261246F5985ebF4e7Ae9    91                   1            3000000000000000000\n",
      "12    0x2c918a0EF92f0b7113c8c4a966CC4f22AfA5652f    100                  1            3000000000000000000\n",
      "13    0x2DFeEe7Ac1a126AF0d254235D0e21F43d5c9B103    0                    1            3000000000000000000\n",
      "14    0x2E92872deE4Cd4f5d5544C257cAa2A66710bE73D    100                  1            3000000000000000000\n",
      "15    0x33333759e516dD51b533777b733a40c2EbD4869D    100                  1            3000000000000000000\n",
      "16    0x364BA547Fb1a96881D59CC193641DDB4D891a6E2    0                    1            3000000000000000000\n",
      "17    0x3C5bdEBBB588f6d7ebBbC74b6Ed56f3b9dF2f7e2    100                  1            2999999996622910000\n",
      "18    0x3F367a69C2559a4B90044eA6b6dfF7E0fE4a52E6    5                    1            3000000000000000000\n",
      "19    0x413c9BA0A05B8A600899B41b0c62dd661e689354    523                  1            99938722466341660000\n",
      "20    0x43E6b79B696b1d8E21d5A23118A1BF1b565C3831    100                  1            2999999998395630000\n",
      "21    0x442aCf84E05459e13595f372C49D4a15E95eA4E7    100                  1            3000000000000000000\n",
      "22    0x4439526405BD6119bdC8a0B2c7616B8eF2cB8751    100                  1            3000000000000000000\n",
      "23    0x44E07D8190Cc0f0eCCC9C935D5EA47194301Cb00    100                  1            3000000000000000000\n",
      "24    0x45234B8c216231c2c31785aE4F5DceB858A8Ec71    77                   1            3000000000000000000\n",
      "25    0x4655b0C31a26aB4D3e6Dd85d51690E038290D4e0    0                    1            3000000000000000000\n",
      "26    0x852eaB9A4529cCe71Aa3F191da6900d57C802881    0                    0            0\n"
     ]
    }
   ],
   "source": [
    "# List the accounts in the network\n",
    "print(len(ocn.accounts.list()), \"accounts exist\")\n",
    "\n",
    "# Print a simple table listing accounts and balances\n",
    "print(\"{:<5} {:<45} {:<20} {:<12} {}\".format(\"\",\"Address\", \"Ocean Token Balance\", \"Password?\", \"ETH balance\"))\n",
    "for i, acct in enumerate(ocn.accounts.list()):\n",
    "    acct_balance = ocn.accounts.balance(acct)\n",
    "    acct.password = manta_utils.user.password_map(acct.address, passwords)\n",
    "    if acct.password:\n",
    "        flg_password_exists = True\n",
    "    else:\n",
    "        flg_password_exists = False\n",
    "    print(\"{:<5} {:<45} {:<20} {:<12} {}\".format(i,acct.address, acct_balance.ocn, flg_password_exists, acct_balance.eth))"
   ]
  },
  {
   "cell_type": "code",
   "execution_count": 11,
   "metadata": {},
   "outputs": [],
   "source": [
    "# Randomly select an account with a password\n",
    "main_account = random.choice([acct for acct in ocn.accounts.list() if manta_utils.user.password_map(acct.address, passwords)])"
   ]
  },
  {
   "cell_type": "markdown",
   "metadata": {},
   "source": [
    "### It is never secure to send your password over an unsecured HTTP connection, this is for demonstration only!\n",
    "To interact with Ocean Protocol, use a wallet provider or the MetaMask browser extension.\n",
    "See our documentation page for setting up your Ethereum accounts!\n",
    "\n",
    "Most of your interaction with the Ocean Protocol blockchain smart contracts will require your Password."
   ]
  },
  {
   "cell_type": "markdown",
   "metadata": {
    "lines_to_next_cell": 0
   },
   "source": [
    "## Requesting tokens\n",
    "For development and testing, we have a magical function which will give you free testnet Ocean Token!\n",
    "\n",
    "Your balance should be increased by 1 - but only after the block has been mined! Try printing your balance\n",
    "multiple times until it updates."
   ]
  },
  {
   "cell_type": "code",
   "execution_count": 12,
   "metadata": {},
   "outputs": [
    {
     "name": "stdout",
     "output_type": "stream",
     "text": [
      "Starting Ocean balance: 5\n"
     ]
    }
   ],
   "source": [
    "print(\"Starting Ocean balance:\", ocn.accounts.balance(main_account).ocn)\n",
    "success = ocn.accounts.request_tokens(main_account, 1)\n",
    "# The result will be true or false\n",
    "assert success"
   ]
  },
  {
   "cell_type": "code",
   "execution_count": 13,
   "metadata": {},
   "outputs": [
    {
     "name": "stdout",
     "output_type": "stream",
     "text": [
      "Updated Ocean balance: 6\n"
     ]
    }
   ],
   "source": [
    "# Execute this after some time has passed to see the update!\n",
    "print(\"Updated Ocean balance:\", ocn.accounts.balance(main_account).ocn)"
   ]
  },
  {
   "cell_type": "markdown",
   "metadata": {},
   "source": [
    "## Asynchronous interactions\n",
    "Many methods in the API will include a call to\n",
    "[.waitForTransactionReceipt(transaction_hash)](https://web3py.readthedocs.io/en/stable/web3.eth.html#web3.eth.Eth.waitForTransactionReceiptj),\n",
    "which explicitly pauses execution until the transaction has been mined. This will return the Transaction Receipt. When interacting\n",
    "with the blockchain, things my take some time to execute!"
   ]
  }
 ],
 "metadata": {
  "jupytext": {
   "main_language": "python",
   "text_representation": {
    "extension": ".py",
    "format_name": "percent"
   }
  },
  "kernelspec": {
   "display_name": "mantaray",
   "language": "python",
   "name": "mantaray"
  },
  "language_info": {
   "codemirror_mode": {
    "name": "ipython",
    "version": 3
   },
   "file_extension": ".py",
   "mimetype": "text/x-python",
   "name": "python",
   "nbconvert_exporter": "python",
   "pygments_lexer": "ipython3",
   "version": "3.6.7"
  }
 },
 "nbformat": 4,
 "nbformat_minor": 2
}
