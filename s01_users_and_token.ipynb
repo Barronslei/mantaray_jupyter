{
 "cells": [
  {
   "cell_type": "markdown",
   "metadata": {},
   "source": [
    "\n",
    "<p><img src=\"https://oceanprotocol.com/static/media/banner-ocean-03@2x.b7272597.png\" alt=\"drawing\" width=\"800\" align=\"center\"/>"
   ]
  },
  {
   "cell_type": "markdown",
   "metadata": {
    "lines_to_next_cell": 2
   },
   "source": [
    "<h1><center>Ocean Protocol - Manta Ray project</center></h1>\n",
    "<h3><center>Decentralized Data Science and Engineering, powered by Ocean Protocol</center></h3>\n",
    "<p>Version 0.5 - alpha</p>\n",
    "<p>Package compatibility: squid-py v0.5.4, keeper-contracts 0.8.6, utilities 0.2.0,\n",
    "<p>Component compatibility: Brizo v0.2.9, Aquarius v0.1.11, Nile testnet smart contracts 0.8.6</p>\n",
    "<p><a href=\"https://github.com/oceanprotocol/mantaray\">mantaray on Github</a></p>\n",
    "<p>"
   ]
  },
  {
   "cell_type": "markdown",
   "metadata": {},
   "source": [
    "# Getting Underway - wallets, passwords and tokens\n",
    "\n",
    "To interact in Ocean Protocol, you will need an account, which you will fund with Token to access the assets\n",
    "in the network.\n",
    "\n",
    "In this notebook, we will demonstrate this behaviour with pre-loaded accounts.\n",
    "\n",
    "To use Ocean, a User requires\n",
    "- A user account address\n",
    "- A password\n",
    "- Ocean Token"
   ]
  },
  {
   "cell_type": "markdown",
   "metadata": {
    "lines_to_next_cell": 0
   },
   "source": [
    "### Section 0: Import modules, and setup logging"
   ]
  },
  {
   "cell_type": "code",
   "execution_count": null,
   "metadata": {
    "lines_to_next_cell": 0
   },
   "outputs": [],
   "source": [
    "# Standard imports\n",
    "import logging\n",
    "import random\n",
    "from pprint import pprint\n",
    "\n",
    "# Import mantaray and the Ocean API (squid)\n",
    "# mantaray_utilities is an extra helper library to simulate interactions with the Ocean API.\n",
    "import squid_py\n",
    "from squid_py.ocean.ocean import Ocean\n",
    "from squid_py.config import Config\n",
    "import mantaray_utilities as manta_utils\n",
    "# Setup logging to a higher level and not flood the console with debug messages\n",
    "manta_utils.logging.logger.setLevel('INFO')\n",
    "logging.info(\"Squid API version: {}\".format(squid_py.__version__))\n",
    "print(\"squid-py Ocean API version:\", squid_py.__version__)"
   ]
  },
  {
   "cell_type": "code",
   "execution_count": null,
   "metadata": {},
   "outputs": [],
   "source": [
    "# Get the configuration file path for this environment\n",
    "# You can specify your own configuration file at any time, and pass it to the Ocean class.\n",
    "logging.critical(\"Deployment type: {}\".format(manta_utils.config.get_deployment_type()))\n",
    "CONFIG_INI_PATH = manta_utils.config.get_config_file_path()\n",
    "logging.critical(\"Configuration file selected: {}\".format(CONFIG_INI_PATH))"
   ]
  },
  {
   "cell_type": "markdown",
   "metadata": {
    "lines_to_next_cell": 0
   },
   "source": [
    "## Section 1: Examine the configuration object"
   ]
  },
  {
   "cell_type": "code",
   "execution_count": null,
   "metadata": {},
   "outputs": [],
   "source": [
    "# The API can be configured with a file or a dictionary.\n",
    "# In this case, we will instantiate from file, which you may also inspect.\n",
    "# The configuration is a standard library [configparser.ConfigParser()](https://docs.python.org/3/library/configparser.html) object.\n",
    "print(\"Configuration file:\", CONFIG_INI_PATH)\n",
    "configuration = Config(CONFIG_INI_PATH)\n",
    "pprint(configuration._sections)"
   ]
  },
  {
   "cell_type": "markdown",
   "metadata": {
    "lines_to_next_cell": 0
   },
   "source": [
    "Let's look at the 2 parameters that define your identity\n",
    "The 20-byte 'parity.address' defines your account address\n",
    "'parity.password' is used to decrypt your private key and securely sign transactions"
   ]
  },
  {
   "cell_type": "code",
   "execution_count": null,
   "metadata": {},
   "outputs": [],
   "source": [
    "user1_address = configuration['keeper-contracts']['parity.address']\n",
    "user1_pass = configuration['keeper-contracts']['parity.password']\n",
    "print(\"Currently selected address:\", user1_address)\n",
    "print(\"Associated password:\", user1_pass)"
   ]
  },
  {
   "cell_type": "markdown",
   "metadata": {},
   "source": [
    "Alternatively, for the purposes of these demos, a list of passwords for local and cloud testing are available.\n",
    "Several utility functions have been created to manage these passwords for testing multiple users."
   ]
  },
  {
   "cell_type": "code",
   "execution_count": null,
   "metadata": {},
   "outputs": [],
   "source": [
    "# Load the passwords file\n",
    "path_passwords = manta_utils.config.get_project_path() / 'passwords.csv'\n",
    "passwords = manta_utils.user.load_passwords(path_passwords)\n",
    "user1_pass = manta_utils.user.password_map(user1_address, passwords)"
   ]
  },
  {
   "cell_type": "markdown",
   "metadata": {
    "lines_to_next_cell": 0
   },
   "source": [
    "## Section 2: Instantiate the Ocean API class with this configuration\n",
    "The Ocean API has an attribute listing all created (simulated) accounts in your local node"
   ]
  },
  {
   "cell_type": "code",
   "execution_count": null,
   "metadata": {},
   "outputs": [],
   "source": [
    "ocn = Ocean(configuration)\n",
    "logging.critical(\"Ocean smart contract node connected \".format())"
   ]
  },
  {
   "cell_type": "markdown",
   "metadata": {},
   "source": [
    "An account has a balance of Ocean Token, Ethereum, and requires a password to sign any transactions. Similar to\n",
    "Ethereum, Ocean Tokens are divisible into the smallest unit of 10^18 of 1 token."
   ]
  },
  {
   "cell_type": "code",
   "execution_count": null,
   "metadata": {},
   "outputs": [],
   "source": [
    "# List the accounts in the network\n",
    "print(len(ocn.accounts.list()), \"accounts exist\")\n",
    "\n",
    "# Print a simple table listing accounts and balances\n",
    "print(\"{:<5} {:<45} {:<20} {:<12} {}\".format(\"\",\"Address\", \"Ocean Token Balance\", \"Password?\", \"ETH balance\"))\n",
    "for i, acct in enumerate(ocn.accounts.list()):\n",
    "    acct_balance = ocn.accounts.balance(acct)\n",
    "    acct.password = manta_utils.user.password_map(acct.address, passwords)\n",
    "    if acct.password:\n",
    "        flg_password_exists = True\n",
    "    else:\n",
    "        flg_password_exists = False\n",
    "    print(\"{:<5} {:<45} {:<20.0f} {:<12} {:0.0f}\".format(i,acct.address, acct_balance.ocn/10**18, flg_password_exists, acct_balance.eth/10**18))"
   ]
  },
  {
   "cell_type": "code",
   "execution_count": null,
   "metadata": {},
   "outputs": [],
   "source": [
    "# Randomly select an account with a password\n",
    "main_account = random.choice([acct for acct in ocn.accounts.list() if manta_utils.user.password_map(acct.address, passwords)])"
   ]
  },
  {
   "cell_type": "markdown",
   "metadata": {},
   "source": [
    "### It is never secure to send your password over an unsecured HTTP connection, this is for demonstration only!\n",
    "To interact with Ocean Protocol, use a wallet provider or the MetaMask browser extension.\n",
    "See our documentation page for setting up your Ethereum accounts!\n",
    "\n",
    "Most of your interaction with the Ocean Protocol blockchain smart contracts will require your Password."
   ]
  },
  {
   "cell_type": "markdown",
   "metadata": {
    "lines_to_next_cell": 0
   },
   "source": [
    "## Requesting tokens\n",
    "For development and testing, we have a magical function which will give you free testnet Ocean Token!\n",
    "\n",
    "Your balance should be increased by 1 - but only after the block has been mined! Try printing your balance\n",
    "multiple times until it updates."
   ]
  },
  {
   "cell_type": "code",
   "execution_count": null,
   "metadata": {},
   "outputs": [],
   "source": [
    "print(\"Starting Ocean balance: {:0.2f}\".format(ocn.accounts.balance(main_account).ocn/10**18))\n",
    "success = ocn.accounts.request_tokens(main_account, 1)\n",
    "# The result will be true or false\n",
    "assert success"
   ]
  },
  {
   "cell_type": "code",
   "execution_count": null,
   "metadata": {},
   "outputs": [],
   "source": [
    "# Execute this after some time has passed to see the update!\n",
    "print(\"Updated Ocean balance: {:0.2f}\".format(ocn.accounts.balance(main_account).ocn/10**18))"
   ]
  },
  {
   "cell_type": "markdown",
   "metadata": {},
   "source": [
    "## Asynchronous interactions\n",
    "Many methods in the API will include a call to\n",
    "[.waitForTransactionReceipt(transaction_hash)](https://web3py.readthedocs.io/en/stable/web3.eth.html#web3.eth.Eth.waitForTransactionReceiptj),\n",
    "which explicitly pauses execution until the transaction has been mined. This will return the Transaction Receipt. When interacting\n",
    "with the blockchain, things my take some time to execute!"
   ]
  }
 ],
 "metadata": {
  "jupytext": {
   "main_language": "python",
   "text_representation": {
    "extension": ".py",
    "format_name": "percent"
   }
  },
  "kernelspec": {
   "display_name": "Manta Ray",
   "language": "python",
   "name": "python3"
  }
 },
 "nbformat": 4,
 "nbformat_minor": 2
}
