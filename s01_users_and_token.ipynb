{
 "cells": [
  {
   "cell_type": "markdown",
   "metadata": {},
   "source": [
    "\n",
    "<p><img src=\"https://oceanprotocol.com/static/media/banner-ocean-03@2x.b7272597.png\" alt=\"drawing\" width=\"800\" align=\"center\"/>"
   ]
  },
  {
   "cell_type": "markdown",
   "metadata": {
    "lines_to_next_cell": 2
   },
   "source": [
    "\n",
    "<h1><center>Ocean Protocol - Manta Ray project</center></h1>\n",
    "<h3><center>Decentralized Data Science and Engineering, powered by Ocean Protocol</center></h3>\n",
    "<p>Version 0.3 - alpha preview</p>\n",
    "<p><a href=\"https://github.com/oceanprotocol/mantaray\">mantaray on Github</a></p>\n",
    "<p>"
   ]
  },
  {
   "cell_type": "markdown",
   "metadata": {},
   "source": [
    "# Getting Underway - wallets, passwords and tokens\n",
    "\n",
    "To interact in Ocean Protocol, you will need a wallet and you will fund it with some\n",
    "Token to access the assets in the network.\n",
    "\n",
    "In this notebook, we will work with a class which *represents* a\n",
    "User of Ocean Protocol.\n",
    "\n",
    "To use Ocean, a User requires\n",
    "- A user account address\n",
    "- A password\n",
    "\n",
    "With this information, the Ocean instance can be instantiated with the Ocean.main_account attribute.\n",
    "This attribute enables the User to unlock event calls in the networks.\n",
    "This class will be used in later scripts to simulate behaviour of actors on the network.\n",
    "See the /script_fixtures directory for utilities such as the User() class"
   ]
  },
  {
   "cell_type": "markdown",
   "metadata": {
    "lines_to_next_cell": 0
   },
   "source": [
    "### Section 0: Import modules, and setup logging"
   ]
  },
  {
   "cell_type": "code",
   "execution_count": null,
   "metadata": {
    "lines_to_next_cell": 0
   },
   "outputs": [],
   "source": [
    "# Standard imports\n",
    "import logging\n",
    "from pathlib import Path\n",
    "import os\n",
    "import csv\n",
    "# Import mantaray and the Ocean API (squid)\n",
    "# mantaray_utilities is an extra helper library to simulate interactions with the Ocean API.\n",
    "import squid_py\n",
    "from squid_py.ocean.ocean import Ocean\n",
    "from squid_py.config import Config\n",
    "import mantaray_utilities as manta_utils\n",
    "logging.info(\"Squid API version: {}\".format(squid_py.__version__))\n",
    "from pprint import pprint\n",
    "# Setup logging to a higher level and not flood the console with debug messages\n",
    "manta_utils.logging.logger.setLevel('CRITICAL')\n",
    "manta_utils.logging.logger.setLevel('INFO')\n",
    "from squid_py.keeper.web3_provider import Web3Provider\n",
    "# os.environ['USE_K8S_CLUSTER'] = 'True' # Enable this for testing local -> AWS setup"
   ]
  },
  {
   "cell_type": "code",
   "execution_count": null,
   "metadata": {},
   "outputs": [],
   "source": [
    "# Get all passwords\n",
    "# TODO: Move to utils\n",
    "import csv\n",
    "passwords = dict()\n",
    "path_passwords = manta_utils.config.get_project_path() / 'passwords.csv'\n",
    "with open(path_passwords) as f:\n",
    "    for row in csv.reader(f):\n",
    "        if row:\n",
    "            passwords[row[0]] = row[1]\n",
    "\n",
    "passwords = {k.lower(): v for k, v in passwords.items()}"
   ]
  },
  {
   "cell_type": "code",
   "execution_count": null,
   "metadata": {},
   "outputs": [],
   "source": [
    "# Get the configuration file path for this environment\n",
    "# You can specify your own configuration file at any time, and pass it to the Ocean class.\n",
    "# os.environ['USE_K8S_CLUSTER'] = 'true'\n",
    "logging.critical(\"Deployment type: {}\".format(manta_utils.config.get_deployment_type()))\n",
    "CONFIG_INI_PATH = manta_utils.config.get_config_file_path()\n",
    "logging.critical(\"Configuration file selected: {}\".format(CONFIG_INI_PATH))"
   ]
  },
  {
   "cell_type": "markdown",
   "metadata": {
    "lines_to_next_cell": 0
   },
   "source": [
    "## Section 1: Examine the configuration object"
   ]
  },
  {
   "cell_type": "code",
   "execution_count": null,
   "metadata": {},
   "outputs": [],
   "source": [
    "# The API can be configured with a file or a dictionary.\n",
    "# In this case, we will instantiate from file, which you may also inspect.\n",
    "# The configuration is a standard library [configparser.ConfigParser()](https://docs.python.org/3/library/configparser.html) object.\n",
    "print(\"Configuration file:\", CONFIG_INI_PATH)\n",
    "configuration = Config(CONFIG_INI_PATH)\n",
    "pprint(configuration._sections)"
   ]
  },
  {
   "cell_type": "markdown",
   "metadata": {
    "lines_to_next_cell": 0
   },
   "source": [
    "Let's look at the 2 parameters that define your identity\n",
    "The 20-byte 'parity.address' defines your account address\n",
    "'parity.password' is used to decrypt your private key and securely sign transactions"
   ]
  },
  {
   "cell_type": "code",
   "execution_count": null,
   "metadata": {},
   "outputs": [],
   "source": [
    "user1_address = configuration['keeper-contracts']['parity.address']\n",
    "user1_pass = configuration['keeper-contracts']['parity.password']\n",
    "print(\"Currently selected address:\", user1_address)\n",
    "print(\"Associated password:\", user1_pass)"
   ]
  },
  {
   "cell_type": "markdown",
   "metadata": {
    "lines_to_next_cell": 0
   },
   "source": [
    "## Section 2: Instantiate the Ocean API class with this configuration\n",
    "The Ocean API has an attribute listing all created (simulated) accounts in your local node"
   ]
  },
  {
   "cell_type": "code",
   "execution_count": null,
   "metadata": {},
   "outputs": [],
   "source": [
    "ocn = Ocean(configuration)\n",
    "logging.critical(\"Ocean smart contract node connected \".format())"
   ]
  },
  {
   "cell_type": "markdown",
   "metadata": {
    "lines_to_next_cell": 0
   },
   "source": [
    "An account has a balance of Ocean Token, Ethereum, and requires a password to sign any transactions"
   ]
  },
  {
   "cell_type": "code",
   "execution_count": null,
   "metadata": {
    "lines_to_next_cell": 0
   },
   "outputs": [],
   "source": [
    "# List the accounts in the network\n",
    "print(len(ocn.accounts), \"accounts exist\")\n",
    "print(\"{:<5} {:<45} {:<20} {}\".format(\"\",\"Account Address\", \"Ocean Token Balance\", \"Password provided?\"))\n",
    "for i, acct_address in enumerate(ocn.accounts):\n",
    "    flg_pass = False\n",
    "    this_account = ocn.accounts[acct_address]\n",
    "    if str.lower(this_account.address) in passwords:\n",
    "        this_account.password = passwords[str.lower(this_account.address)]\n",
    "        flg_pass = True\n",
    "    print(\"{:<5} {:<45} {:<20} {}\".format(i,this_account.address, this_account.ocean_balance, flg_pass, this_account.ether_balance))"
   ]
  },
  {
   "cell_type": "markdown",
   "metadata": {
    "lines_to_next_cell": 0
   },
   "source": [
    "### The User Account creed\n",
    "*this is my account. there are many like it, but this one is mine.\n",
    "my account is my best friend. it is my life. i must master it as i must master my life.\n",
    "without me, my account is useless. without my account, i am useless. i must use my account true. *\n",
    "\n",
    "It is not secure to send your password over an unsecured HTTP connection, this is for demonstration only!\n",
    "\n",
    "One of these existing accounts will be selected as your current active account. A utility class Account, is used to\n",
    "hold your address and password, and access your balance in Ether and Ocean Token."
   ]
  },
  {
   "cell_type": "code",
   "execution_count": null,
   "metadata": {},
   "outputs": [],
   "source": [
    "# Select the account specified in your configuration file as the 'parity.address'\n",
    "my_acct = [ocn.accounts[addr] for addr in ocn.accounts if addr.lower() == user1_address.lower()][0]\n",
    "my_acct.password = user1_pass\n",
    "print(\"Account Ether balance: \", my_acct.ether_balance) # TODO: Convert from wei?\n",
    "print(\"Account Ocean Token balance: \", my_acct.ocean_balance)"
   ]
  },
  {
   "cell_type": "markdown",
   "metadata": {},
   "source": [
    "Most of your interaction with the blockchain will require your Password.\n",
    "\n",
    "For development and testing, we have a magical function which will give you free Ocean Token!"
   ]
  },
  {
   "cell_type": "markdown",
   "metadata": {
    "lines_to_next_cell": 0
   },
   "source": [
    "Let's request a token.\n",
    "\n",
    "The result is a *transaction_hash*. This is your ticket to your *transaction receipt*, or in other words,\n",
    "your proof that a transaction was completed (or not!). Welcome to the Asynchronous world of Blockchain applications\n",
    "- things take time.\n",
    "\n",
    "Your balance should be increased by 1 - but only after the block has been mined! Try printing your balance\n",
    "multiple times until it updates."
   ]
  },
  {
   "cell_type": "code",
   "execution_count": null,
   "metadata": {
    "lines_to_next_cell": 0
   },
   "outputs": [],
   "source": [
    "my_acct.request_tokens(1)"
   ]
  },
  {
   "cell_type": "code",
   "execution_count": null,
   "metadata": {},
   "outputs": [],
   "source": [
    "# This will update after the transaction has been mined!\n",
    "print(\"Account Ocean Token balance: \", my_acct.ocean_balance)"
   ]
  },
  {
   "cell_type": "markdown",
   "metadata": {
    "lines_to_next_cell": 0
   },
   "source": [
    "Genearally, many methods in the API will include a call to\n",
    "[.waitForTransactionReceipt(transaction_hash)](https://web3py.readthedocs.io/en/stable/web3.eth.html#web3.eth.Eth.waitForTransactionReceiptj),\n",
    "which explicitly pauses execution until the transaction has been mined. This will return the Transaction Receipt."
   ]
  },
  {
   "cell_type": "code",
   "execution_count": null,
   "metadata": {},
   "outputs": [],
   "source": [
    "#TODO: This is refactored to .request_tokens_wait()!\n",
    "tx_hash = my_acct.request_tokens(1)\n",
    "Web3Provider.get_web3().eth.waitForTransactionReceipt(tx_hash)"
   ]
  },
  {
   "cell_type": "code",
   "execution_count": null,
   "metadata": {
    "lines_to_next_cell": 2
   },
   "outputs": [],
   "source": [
    "# Quickly fund all accounts\n",
    "# Request token for all accounts\n",
    "# for acct_address in ocn.accounts:\n",
    "#     this_acct = ocn.accounts[acct_address]\n",
    "#     if this_acct.password:\n",
    "#         this_acct.request_tokens(100)"
   ]
  }
 ],
 "metadata": {
  "jupytext": {
   "main_language": "python",
   "text_representation": {
    "extension": ".py",
    "format_name": "percent"
   }
  }
 },
 "nbformat": 4,
 "nbformat_minor": 2
}
