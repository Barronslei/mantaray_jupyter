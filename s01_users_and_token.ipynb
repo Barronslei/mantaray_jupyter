{
 "cells": [
  {
   "cell_type": "markdown",
   "metadata": {},
   "source": [
    "\n",
    "<p><img src=\"https://oceanprotocol.com/static/media/banner-ocean-03@2x.b7272597.png\" alt=\"drawing\" width=\"800\" align=\"center\"/>"
   ]
  },
  {
   "cell_type": "markdown",
   "metadata": {
    "lines_to_next_cell": 2
   },
   "source": [
    "\n",
    "<h1><center>Ocean Protocol - Manta Ray project</center></h1>\n",
    "<h3><center>Decentralized Data Science and Engineering, powered by Ocean Protocol</center></h3>\n",
    "<p>Version 0.2 - alpha preview</p>\n",
    "<p><a href=\"https://github.com/oceanprotocol/mantaray\">mantaray on Github</a></p>\n",
    "<p>"
   ]
  },
  {
   "cell_type": "markdown",
   "metadata": {},
   "source": [
    "# User management - wallets, passwords and tokens\n",
    "\n",
    "TODO: Note that this notebook will not completely execute since the password file is *currently* not public.\n",
    "\n",
    "To interact in Ocean Protocol, you will need a wallet and you will fund it with some\n",
    "Token to access the assets in the network.\n",
    "\n",
    "In this notebook, we will work with a class which *represents* a\n",
    "User of Ocean Protocol.\n",
    "\n",
    "To use Ocean, a User requires\n",
    "- A wallet address\n",
    "- A password\n",
    "\n",
    "With this information, the Ocean instance can be instantiated with the Ocean.main_account attribute.\n",
    "This attribute enables the User to unlock event calls in the networks.\n",
    "This class will be used in later scripts to simulate behaviour of actors on the network.\n",
    "See the /script_fixtures directory for utilities such as the User() class"
   ]
  },
  {
   "cell_type": "markdown",
   "metadata": {
    "lines_to_next_cell": 0
   },
   "source": [
    "### Section 0: Import modules, and setup logging"
   ]
  },
  {
   "cell_type": "code",
   "execution_count": null,
   "metadata": {},
   "outputs": [],
   "source": [
    "# Standard imports\n",
    "import random\n",
    "import os\n",
    "import names\n",
    "import logging\n",
    "from pathlib import Path\n",
    "import csv\n",
    "# Import mantaray and the Ocean API (squid)\n",
    "# mantaray_utilities is an extra helper library to simulate interactions with the Ocean API.\n",
    "import squid_py\n",
    "from squid_py.ocean.ocean import Ocean\n",
    "\n",
    "import mantaray_utilities.config as manta_config\n",
    "import mantaray_utilities.logging as manta_logging\n",
    "import mantaray_utilities.user as manta_user\n",
    "logging.info(\"Squid API version: {}\".format(squid_py.__version__))\n",
    "\n",
    "# Setup logging to a higher level and not flood the console with debug messages\n",
    "manta_logging.logger.setLevel('INFO')"
   ]
  },
  {
   "cell_type": "code",
   "execution_count": null,
   "metadata": {},
   "outputs": [],
   "source": [
    "# Get the configuration file path for this environment\n",
    "# You can specify your own configuration file at any time, and pass it to the Ocean class.\n",
    "# os.environ['USE_K8S_CLUSTER'] = 'true'\n",
    "logging.info(\"Deployment type: {}\".format(manta_config.get_deployment_type()))\n",
    "CONFIG_INI_PATH = manta_config.get_config_file_path()\n",
    "logging.info(\"Configuration file selected: {}\".format(CONFIG_INI_PATH))"
   ]
  },
  {
   "cell_type": "code",
   "execution_count": null,
   "metadata": {
    "title": "Utility class"
   },
   "outputs": [],
   "source": [
    "#TODO: Move this utility class to module\n",
    "class CaseInsensitiveDict(dict):\n",
    "    \"\"\"User addresses are case\"\"\"\n",
    "    def __setitem__(self, key, value):\n",
    "        super(CaseInsensitiveDict, self).__setitem__(key.lower(), value)\n",
    "    def __getitem__(self, key):\n",
    "        return super(CaseInsensitiveDict, self).__getitem__(key.lower())"
   ]
  },
  {
   "cell_type": "markdown",
   "metadata": {},
   "source": [
    "This section will load passwords and create seperate user accounts for each one.\n",
    "TODO: This file is not currently uploaded until after security/scaling review"
   ]
  },
  {
   "cell_type": "code",
   "execution_count": null,
   "metadata": {
    "title": "Get passwords from file"
   },
   "outputs": [],
   "source": [
    "PASSWORD_FILE = manta_config.get_project_path() / 'passwords.csv'\n",
    "PASSWORD_MAP = CaseInsensitiveDict() # New dict\n",
    "with open(PASSWORD_FILE, mode='r') as infile:\n",
    "    reader = csv.reader(infile)\n",
    "    for row in reader:\n",
    "        PASSWORD_MAP[row[0]] = row[1]"
   ]
  },
  {
   "cell_type": "markdown",
   "metadata": {
    "lines_to_next_cell": 0
   },
   "source": [
    "### Section 1: Instantiate the Ocean Protocol interface"
   ]
  },
  {
   "cell_type": "code",
   "execution_count": null,
   "metadata": {},
   "outputs": [],
   "source": [
    "ocn = Ocean(CONFIG_INI_PATH)\n",
    "logging.info(\"Ocean smart contract node connected \".format())"
   ]
  },
  {
   "cell_type": "code",
   "execution_count": null,
   "metadata": {},
   "outputs": [],
   "source": [
    "# List the accounts created\n",
    "# ocn.accounts is a {address: Account} dict\n",
    "print(len(ocn.accounts), \"ocean accounts available with following addresses:\")\n",
    "for address in ocn.accounts:\n",
    "    acct = ocn.accounts[address]\n",
    "    print(acct.address)"
   ]
  },
  {
   "cell_type": "markdown",
   "metadata": {},
   "source": [
    "### Section 2: From accounts, to Users\n",
    "\n",
    "A simple wrapper for each address is used to represent a user.\n",
    "See: [./script_fixtures/user.py](https://github.com/oceanprotocol/mantaray_utilities/blob/8e3128b49ec8ba00f4f8056a4c888e86b23a5c5c/mantaray_utilities/user.py#L13)"
   ]
  },
  {
   "cell_type": "markdown",
   "metadata": {
    "lines_to_next_cell": 0
   },
   "source": [
    "Users are instantiated and listed\n",
    "\n",
    "Selected accounts are unlocked via password.\n",
    "A password.csv file should be located in the project root directory, with each row containing <address>,<password>\n",
    "\n",
    "In the following cell, `num_users` specifies how many of the available acocunts will be processed.\n",
    "The script will alternate between Data Scientist and Data Owner roles."
   ]
  },
  {
   "cell_type": "code",
   "execution_count": null,
   "metadata": {},
   "outputs": [],
   "source": [
    "# Create some simulated users of Ocean Protocol\n",
    "# Alternate between Data Scientists (Consumers)\n",
    "# and Data Owners (providers)\n",
    "users = list()\n",
    "num_users = 4\n",
    "address_list = [acct for acct in ocn.accounts]\n",
    "for i, acct_address in enumerate(address_list[0:num_users]):\n",
    "    if i%2 == 0: role = 'Data Scientist'\n",
    "    else: role = 'Data Owner'\n",
    "    role = \"User\"\n",
    "    if acct_address.lower() in list(PASSWORD_MAP.keys()):\n",
    "        this_password = PASSWORD_MAP[acct_address]\n",
    "    else:\n",
    "        this_password = None\n",
    "\n",
    "    user = manta_user.User(names.get_full_name(), role, acct_address, this_password, CONFIG_INI_PATH)\n",
    "    users.append(user)\n",
    "\n",
    "# Select only unlocked accounts\n",
    "unlocked_users = [u for u in users if u.credentials]\n",
    "logging.info(\"Selected {} unlocked accounts for simulation.\".format(len(unlocked_users)))"
   ]
  },
  {
   "cell_type": "code",
   "execution_count": null,
   "metadata": {},
   "outputs": [],
   "source": [
    "# (Optional)\n",
    "# Delete the configuration files in the /user_configurations folder\n",
    "for f in Path('.').glob('user_configurations/*.ini'):\n",
    "    f.unlink()"
   ]
  },
  {
   "cell_type": "markdown",
   "metadata": {
    "lines_to_next_cell": 0
   },
   "source": [
    "List the users"
   ]
  },
  {
   "cell_type": "code",
   "execution_count": null,
   "metadata": {},
   "outputs": [],
   "source": [
    "for u in unlocked_users: print(u)"
   ]
  },
  {
   "cell_type": "markdown",
   "metadata": {
    "lines_to_next_cell": 0
   },
   "source": [
    "### Section 3: Filling your chest with a bounty of ERC20 token\n",
    "Get these users some Ocean token"
   ]
  },
  {
   "cell_type": "code",
   "execution_count": null,
   "metadata": {},
   "outputs": [],
   "source": [
    "for usr in unlocked_users:\n",
    "    if usr.account.ocean_balance == 0:\n",
    "        rcpt = usr.account.request_tokens(random.randint(0, 100))\n",
    "        usr.ocn._web3.eth.waitForTransactionReceipt(rcpt)"
   ]
  },
  {
   "cell_type": "markdown",
   "metadata": {
    "lines_to_next_cell": 0
   },
   "source": [
    "List the users, and notice the updated balance"
   ]
  },
  {
   "cell_type": "code",
   "execution_count": null,
   "metadata": {},
   "outputs": [],
   "source": [
    "for u in unlocked_users: print(u)"
   ]
  }
 ],
 "metadata": {
  "jupytext": {
   "main_language": "python",
   "text_representation": {
    "extension": ".py",
    "format_name": "percent"
   }
  }
 },
 "nbformat": 4,
 "nbformat_minor": 2
}
