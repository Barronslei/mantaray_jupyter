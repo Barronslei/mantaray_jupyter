{
 "cells": [
  {
   "cell_type": "markdown",
   "metadata": {},
   "source": [
    "\n",
    "<p><img src=\"https://oceanprotocol.com/static/media/banner-ocean-03@2x.b7272597.png\" alt=\"drawing\" width=\"800\" align=\"center\"/>"
   ]
  },
  {
   "cell_type": "markdown",
   "metadata": {
    "lines_to_next_cell": 2
   },
   "source": [
    "\n",
    "<h1><center>Ocean Protocol - Manta Ray project</center></h1>\n",
    "<h3><center>Decentralized Data Science and Engineering, powered by Ocean Protocol</center></h3>\n",
    "<p>Version 0.4 - alpha preview</p>\n",
    "<p><a href=\"https://github.com/oceanprotocol/mantaray\">mantaray on Github</a></p>\n",
    "<p>"
   ]
  },
  {
   "cell_type": "markdown",
   "metadata": {},
   "source": [
    "# Getting Underway - Listing and searching registered assets\n",
    "In this notebook, we will explore the concept of Assets. An Asset has an ID\n",
    "(actually a 'decentralized' ID, called **DID**!).\n",
    "\n",
    "An Asset also has a document which describes the Asset and how to # authorize and gain access (i.e. purchase the asset).\n",
    "This document is called a **DDO**, the DID Document. For Data Scientists, the DDO attribute of note is the 'metadata'\n",
    "attribute. Metadata is used to describe your asset, for example the name and description of a Data Set.\n",
    "\n",
    "The DID is stored in the blockchain. The DDO is stored in a public searchable database, wrapped by the Aquarius\n",
    "component.\n",
    "\n",
    "*Note to the reader: This is a testnet: a simulated blockchain and simulated DDO store. This testnet is open to the\n",
    "public, and therefore may change state in unexpected ways (your asset might get deleted, etc.)*"
   ]
  },
  {
   "cell_type": "markdown",
   "metadata": {},
   "source": [
    "Further reading!\n",
    "\n",
    "[W3C early draft standard 'Decentralized Identifiers (DIDs)'](https://w3c-ccg.github.io/did-spec/)\n",
    "\n",
    "[OEP 7 - Ocean Protocol standard for 'Decentralized Identifiers'](https://github.com/oceanprotocol/OEPs/tree/master/7)\n",
    "\n",
    "[OEP 7 - Ocean Protocol standard for 'Assets Metadata Ontology'](https://github.com/oceanprotocol/OEPs/tree/master/8)\n"
   ]
  },
  {
   "cell_type": "markdown",
   "metadata": {},
   "source": [
    "### Section 0: Import modules, and setup logging"
   ]
  },
  {
   "cell_type": "code",
   "execution_count": 1,
   "metadata": {},
   "outputs": [
    {
     "name": "stderr",
     "output_type": "stream",
     "text": [
      "10 - logging         - <module>        - Logging started\n"
     ]
    },
    {
     "name": "stdout",
     "output_type": "stream",
     "text": [
      "Using default logging settings.\n"
     ]
    }
   ],
   "source": [
    "# Standard imports\n",
    "import logging\n",
    "\n",
    "# Import mantaray and the Ocean API (squid)\n",
    "import squid_py\n",
    "from squid_py.ocean.ocean import Ocean\n",
    "from squid_py.config import Config\n",
    "import mantaray_utilities as manta_utils\n",
    "\n",
    "# Setup logging\n",
    "manta_utils.logging.logger.setLevel('CRITICAL')"
   ]
  },
  {
   "cell_type": "code",
   "execution_count": 2,
   "metadata": {},
   "outputs": [
    {
     "name": "stderr",
     "output_type": "stream",
     "text": [
      "50 - <ipython-input-2-84136f362abd> - <module>        - Deployment type: USE_K8S_CLUSTER\n",
      "50 - <ipython-input-2-84136f362abd> - <module>        - Configuration file selected: /home/batman/ocn/mantaray_jupyter/config_k8s_deployed.ini\n",
      "50 - <ipython-input-2-84136f362abd> - <module>        - Squid API version: 0.4.3\n"
     ]
    }
   ],
   "source": [
    "# Get the configuration file path for this environment\n",
    "CONFIG_INI_PATH = manta_utils.config.get_config_file_path()\n",
    "logging.critical(\"Deployment type: {}\".format(manta_utils.config.get_deployment_type()))\n",
    "logging.critical(\"Configuration file selected: {}\".format(CONFIG_INI_PATH))\n",
    "logging.critical(\"Squid API version: {}\".format(squid_py.__version__))"
   ]
  },
  {
   "cell_type": "code",
   "execution_count": 3,
   "metadata": {
    "lines_to_next_cell": 0
   },
   "outputs": [],
   "source": [
    "# Instantiate Ocean from configuration file\n",
    "configuration = Config(CONFIG_INI_PATH)\n",
    "ocn = Ocean(configuration)"
   ]
  },
  {
   "cell_type": "markdown",
   "metadata": {},
   "source": [
    "### Section 1: Assets are stored in the Metadata store (Aquarius) as a DDO\n",
    "Anyone can search assets in the public metadata stores. Anyone can start their own metadata instance for thier\n",
    "own marketplace."
   ]
  },
  {
   "cell_type": "markdown",
   "metadata": {},
   "source": [
    "The Metadata store is a database wrapped with a REST API.\n",
    "For more details of functionality, see the documentation and our Swagger API page."
   ]
  },
  {
   "cell_type": "code",
   "execution_count": 4,
   "metadata": {},
   "outputs": [
    {
     "name": "stdout",
     "output_type": "stream",
     "text": [
      "Aquarius metadata service URL: https://nginx-aquarius.dev-ocean.com/\n",
      "Aquarius metadata service Swagger API page (try it out!): https://nginx-aquarius.dev-ocean.com//api/v1/docs/\n"
     ]
    }
   ],
   "source": [
    "print(\"Aquarius metadata service URL: {}\".format(configuration.aquarius_url))\n",
    "print(\"Aquarius metadata service Swagger API page (try it out!): {}/api/v1/docs/\".format(configuration.aquarius_url))"
   ]
  },
  {
   "cell_type": "markdown",
   "metadata": {
    "lines_to_next_cell": 0
   },
   "source": [
    "Similarly, the access control service is called Brizo, and will manage any access requests for an asset."
   ]
  },
  {
   "cell_type": "code",
   "execution_count": 5,
   "metadata": {},
   "outputs": [
    {
     "name": "stdout",
     "output_type": "stream",
     "text": [
      "Brizo access service URL: https://nginx-brizo.dev-ocean.com/\n",
      "Brizo access service Swagger API page (try it out!): https://nginx-brizo.dev-ocean.com//api/v1/docs/\n"
     ]
    }
   ],
   "source": [
    "print(\"Brizo access service URL: {}\".format(configuration.get('resources','brizo.url')))\n",
    "print(\"Brizo access service Swagger API page (try it out!): {}/api/v1/docs/\".format(configuration.get('resources','brizo.url')))\n",
    "#TODO: Swagger page is still broken"
   ]
  },
  {
   "cell_type": "markdown",
   "metadata": {},
   "source": [
    "### Section 2: Listing registered asset metadata in Aquarius\n",
    "All stored assets can be listed. This is typically not done in production, as the list would be too large.\n",
    "First retrieve a list of all DID's (Decentralized IDentifiers) from Aquarius using the 'exists' tag.\n",
    "This is an example of the low level MongoDB API.\n",
    "TODO: Seperate this into utils library, generally a user would not want to list all assets, could be a large list!"
   ]
  },
  {
   "cell_type": "code",
   "execution_count": 6,
   "metadata": {},
   "outputs": [
    {
     "name": "stdout",
     "output_type": "stream",
     "text": [
      "There are 67 assets registered in the metadata store.\n"
     ]
    }
   ],
   "source": [
    "# Use the Query function to get all existing assets\n",
    "basic_query = {\"service\":{\"$elemMatch\":{\"metadata\": {\"$exists\" : True }}}}\n",
    "all_ddos = ocn.assets.query(basic_query)\n",
    "assert len(all_ddos), \"There are no assets registered, go to s03_publish_and_register!\"\n",
    "print(\"There are {} assets registered in the metadata store.\".format(len(all_ddos)))"
   ]
  },
  {
   "cell_type": "markdown",
   "metadata": {
    "lines_to_next_cell": 0
   },
   "source": [
    "Aquarius is a document store, with the key being the DID, and the document being the DDO\n",
    "(DID Document). The DDO describes the asset (metadata) and how to access it (Service Execution Agreement).\n",
    "For more information on these topics, please visit the Ocean Protocol standards;\n",
    "\n",
    "[OEP 7 - Decentralized Identifiers](https://github.com/oceanprotocol/OEPs/tree/master/7)\n",
    "\n",
    "[OEP 7 - Decentralized Identifiers](https://github.com/oceanprotocol/OEPs/tree/master/8)\n",
    "\n",
    "Let's select an asset DDO for inspection (Note, since the database is stateful, this can easily change/break,\n",
    "so try with another index or register your own asset first!)"
   ]
  },
  {
   "cell_type": "code",
   "execution_count": 7,
   "metadata": {},
   "outputs": [
    {
     "name": "stdout",
     "output_type": "stream",
     "text": [
      "Selected asset DID: did:op:8ed86f54d32c4180bb220467a0320655e17818549f304969992ba7e1a699140b\n",
      "Asset name: Ocean protocol white paper\n",
      "Asset price: 9 token\n",
      "Asset description: Introduce the main concepts and vision behind ocean protocol token\n"
     ]
    }
   ],
   "source": [
    "# Select a single asset DDO from the list\n",
    "this_ddo = all_ddos[-1]\n",
    "print(\"Selected asset DID: {}\".format(this_ddo.did))\n",
    "print(\"Asset name:\", this_ddo.metadata['base']['name'])\n",
    "print(\"Asset price: {} token\".format(this_ddo.metadata['base']['price']))\n",
    "print(\"Asset description: {} token\".format(this_ddo.metadata['base']['description']))"
   ]
  },
  {
   "cell_type": "markdown",
   "metadata": {},
   "source": [
    "### Section 4: Searching the Ocean\n",
    "Aquarius supports query search. A list of [Asset class] is returned from a search call.\n",
    "\n",
    "Currently, Aquarius is running MongoDB. For detailed query documentation, see the\n",
    "[documentation](https://docs.mongodb.com/manual/reference/method/db.collection.find/)\n",
    "\n",
    "TODO: Wrap queries into Utilities for higher abstraction"
   ]
  },
  {
   "cell_type": "markdown",
   "metadata": {
    "lines_to_next_cell": 0
   },
   "source": [
    "#### Select ALL assets\n",
    "To get started, the following query will return all documents with a 'metadata' service.\n",
    "\n",
    "First, the pure mongoDB Query is built according to the documentation\n",
    "\n",
    "We are checking if the 'metadata' field exists, this should return **ALL** Assets."
   ]
  },
  {
   "cell_type": "code",
   "execution_count": 8,
   "metadata": {},
   "outputs": [
    {
     "name": "stdout",
     "output_type": "stream",
     "text": [
      "Found 67 assets\n",
      "Selected asset: <squid_py.ddo.ddo.DDO object at 0x7f3372bc4080>\n",
      "DDO DID: did:op:8ed86f54d32c4180bb220467a0320655e17818549f304969992ba7e1a699140b\n",
      "Services:\n",
      "\tAuthorization service with 0 conditions\n",
      "\tAccess service with 4 conditions\n",
      "\tMetadata service with 0 conditions\n"
     ]
    }
   ],
   "source": [
    "basic_query = {\"service\":{\"$elemMatch\":{\"metadata\": {\"$exists\" : True }}}}\n",
    "search_results = ocn.assets.query(basic_query)\n",
    "print(\"Found {} assets\".format(len(search_results)))\n",
    "print_match_idx = -1\n",
    "if search_results:\n",
    "    print(\"Selected asset:\",search_results[print_match_idx])\n",
    "    manta_utils.asset_pretty_print.print_ddo(search_results[print_match_idx])\n",
    "# TODO: Update pretty-printer"
   ]
  },
  {
   "cell_type": "markdown",
   "metadata": {},
   "source": [
    "#### Pagination in MongoDB\n",
    "The MongoDB search API supports pagination as well, this is especially useful when searching\n",
    "large databases of Ocean assets, and for front end development."
   ]
  },
  {
   "cell_type": "code",
   "execution_count": 9,
   "metadata": {},
   "outputs": [
    {
     "name": "stdout",
     "output_type": "stream",
     "text": [
      "Asset exists search: Found 67 assets\n",
      "Selected asset: <squid_py.ddo.ddo.DDO object at 0x7f3372a5ecf8>\n",
      "DDO DID: did:op:8ed86f54d32c4180bb220467a0320655e17818549f304969992ba7e1a699140b\n",
      "Services:\n",
      "\tAuthorization service with 0 conditions\n",
      "\tAccess service with 4 conditions\n",
      "\tMetadata service with 0 conditions\n"
     ]
    }
   ],
   "source": [
    "mongo_query = {\"service\":{\"$elemMatch\":{\"metadata\": {\"$exists\" : True }}}}\n",
    "full_paged_query = {\"offset\": 100, \"page\": 0, \"sort\": {\"value\": 1}, \"query\": mongo_query}\n",
    "search_results = ocn.assets.query(full_paged_query)\n",
    "print(\"Asset exists search: Found {} assets\".format(len(search_results)))\n",
    "print_match_idx = -1\n",
    "if search_results:\n",
    "    print(\"Selected asset:\",search_results[print_match_idx])\n",
    "    manta_utils.asset_pretty_print.print_ddo(search_results[print_match_idx])"
   ]
  },
  {
   "cell_type": "markdown",
   "metadata": {},
   "source": [
    "#### Search in the 'name' attribute\n",
    "Next, let's find an exact name within the 'metadata' of the Asset"
   ]
  },
  {
   "cell_type": "code",
   "execution_count": 10,
   "metadata": {},
   "outputs": [
    {
     "name": "stdout",
     "output_type": "stream",
     "text": [
      "Name attribute search: Found 67 assets\n",
      "Selected asset: <squid_py.ddo.ddo.DDO object at 0x7f3372bbcbe0>\n",
      "DDO DID: did:op:8ed86f54d32c4180bb220467a0320655e17818549f304969992ba7e1a699140b\n",
      "Services:\n",
      "\tAuthorization service with 0 conditions\n",
      "\tAccess service with 4 conditions\n",
      "\tMetadata service with 0 conditions\n"
     ]
    }
   ],
   "source": [
    "match_this_name = \"Ocean protocol white paper\"\n",
    "mongo_query = {\"service\":{\"$elemMatch\": {\"metadata\": {\"$exists\" : True }, \"metadata.base.name\": {'$eq':match_this_name } }}}\n",
    "search_results = ocn.assets.query(mongo_query)\n",
    "\n",
    "print(\"Name attribute search: Found {} assets\".format(len(search_results)))\n",
    "print_match_idx = -1\n",
    "if search_results:\n",
    "    print(\"Selected asset:\",search_results[print_match_idx])\n",
    "    manta_utils.asset_pretty_print.print_ddo(search_results[print_match_idx])"
   ]
  },
  {
   "cell_type": "markdown",
   "metadata": {
    "lines_to_next_cell": 0
   },
   "source": [
    "#### Search using a regular expression\n",
    "Finally, let's find a substring within the name. We will use a Regex in MongoDB."
   ]
  },
  {
   "cell_type": "code",
   "execution_count": 11,
   "metadata": {},
   "outputs": [
    {
     "name": "stdout",
     "output_type": "stream",
     "text": [
      "Regex search: Found 67 assets\n",
      "Selected asset: <squid_py.ddo.ddo.DDO object at 0x7f33729e50f0>\n",
      "DDO DID: did:op:8ed86f54d32c4180bb220467a0320655e17818549f304969992ba7e1a699140b\n",
      "Services:\n",
      "\tAuthorization service with 0 conditions\n",
      "\tAccess service with 4 conditions\n",
      "\tMetadata service with 0 conditions\n"
     ]
    }
   ],
   "source": [
    "\n",
    "match_this_substring = 'paper'\n",
    "mongo_query = {\"service\":{\"$elemMatch\": {\"metadata\": {\"$exists\" : True }, \"metadata.base.name\": {'$regex':match_this_substring}}}}\n",
    "full_paged_query = {\"offset\": 100, \"page\": 0, \"sort\": {\"value\": 1}, \"query\": mongo_query}\n",
    "\n",
    "search_results = ocn.assets.query(full_paged_query)\n",
    "\n",
    "print(\"Regex search: Found {} assets\".format(len(search_results)))\n",
    "print_match_idx = -1\n",
    "if search_results:\n",
    "    print(\"Selected asset:\",search_results[print_match_idx])\n",
    "    manta_utils.asset_pretty_print.print_ddo(search_results[print_match_idx])"
   ]
  },
  {
   "cell_type": "markdown",
   "metadata": {},
   "source": [
    "### Section 5: Cleaning the Ocean\n",
    "A DID is registered on the blockchain, and can be resolved to a DID Document (DDO) as presented above.\n",
    "\n",
    "Since the DDO exists on Aquarius and not in the blockchain, the DDO itself can be deleted. The DID trace can never be\n",
    "deleted from the blockchain."
   ]
  },
  {
   "cell_type": "code",
   "execution_count": 12,
   "metadata": {},
   "outputs": [],
   "source": [
    "if 0:\n",
    "    # Let's count how many ddo's are registered\n",
    "    all_dids = ocn.metadata_store.list_assets()\n",
    "    print(\"there are {} assets registered in the metadata store.\".format(len(all_dids)))\n",
    "\n",
    "    # let's delete the first ddo object.\n",
    "    first_ddo = all_dids[0]\n",
    "    print(\"selected ddo for deletion:\", first_ddo)\n",
    "    ocn.metadata_store.retire_asset_metadata(first_ddo)\n",
    "\n",
    "    # again, let's count how many ddo's are registered\n",
    "    all_dids = ocn.metadata_store.list_assets()\n",
    "    print(\"there are now {} assets registered in the metadata store.\".format(len(all_dids)))"
   ]
  },
  {
   "cell_type": "code",
   "execution_count": 13,
   "metadata": {},
   "outputs": [],
   "source": [
    "# Deleting all assets!\n",
    "# Please don't delete all the assets, as other users may be testing the components!\n",
    "if 0:\n",
    "    all_dids = ocn.metadata_store.list_assets()\n",
    "    for i, did in enumerate(all_dids):\n",
    "        print(\"Deleting DDO {} - {}\".format(i, did))\n",
    "        ocn.metadata_store.retire_asset_ddo(did)"
   ]
  }
 ],
 "metadata": {
  "jupytext": {
   "main_language": "python",
   "text_representation": {
    "extension": ".py",
    "format_name": "percent"
   }
  },
  "kernelspec": {
   "display_name": "mantaray",
   "language": "python",
   "name": "mantaray"
  },
  "language_info": {
   "codemirror_mode": {
    "name": "ipython",
    "version": 3
   },
   "file_extension": ".py",
   "mimetype": "text/x-python",
   "name": "python",
   "nbconvert_exporter": "python",
   "pygments_lexer": "ipython3",
   "version": "3.6.7"
  }
 },
 "nbformat": 4,
 "nbformat_minor": 2
}
