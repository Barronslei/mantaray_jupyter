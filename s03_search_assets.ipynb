{
 "cells": [
  {
   "cell_type": "markdown",
   "metadata": {},
   "source": [
    "\n",
    "<p><img src=\"https://oceanprotocol.com/static/media/banner-ocean-03@2x.b7272597.png\" alt=\"drawing\" width=\"800\" align=\"center\"/>"
   ]
  },
  {
   "cell_type": "markdown",
   "metadata": {
    "lines_to_next_cell": 2
   },
   "source": [
    "<h1><center>Ocean Protocol - Manta Ray project</center></h1>\n",
    "<h3><center>Decentralized Data Science and Engineering, powered by Ocean Protocol</center></h3>\n",
    "<p>Version 0.5.2 - beta</p>\n",
    "<p>Package compatibility: squid-py v0.5.14, keeper-contracts 0.9.0, utilities 0.2.1,\n",
    "<p>Component compatibility: Brizo v0.3.5, Aquarius v0.2.2, Nile testnet smart contracts 0.9.0</p>\n",
    "<p><a href=\"https://github.com/oceanprotocol/mantaray\">mantaray on Github</a></p>\n",
    "<p>"
   ]
  },
  {
   "cell_type": "markdown",
   "metadata": {},
   "source": [
    "# Getting Underway - Listing and searching registered assets\n",
    "In this notebook, we will explore the concept of Assets. An Asset has an ID\n",
    "(actually a 'decentralized' ID, called **DID**!).\n",
    "\n",
    "An Asset also has a document which describes the Asset and how to # authorize and gain access (i.e. purchase the asset).\n",
    "This document is called a **DDO**, the DID Document. For Data Scientists, the DDO attribute of note is the 'metadata'\n",
    "attribute. Metadata is used to describe your asset, for example the name and description of a Data Set.\n",
    "\n",
    "The DID is stored in the blockchain. The DDO is stored in a public searchable database, wrapped by the Aquarius\n",
    "component.\n",
    "\n",
    "*Note to the reader: This is a testnet: a simulated blockchain and simulated DDO store. This testnet is open to the\n",
    "public, and therefore may change state in unexpected ways (your asset might get deleted, etc.)*"
   ]
  },
  {
   "cell_type": "markdown",
   "metadata": {},
   "source": [
    "Further reading!\n",
    "\n",
    "[W3C early draft standard 'Decentralized Identifiers (DIDs)'](https://w3c-ccg.github.io/did-spec/)\n",
    "\n",
    "[OEP 7 - Ocean Protocol standard for 'Decentralized Identifiers'](https://github.com/oceanprotocol/OEPs/tree/master/7)\n",
    "\n",
    "[OEP 7 - Ocean Protocol standard for 'Assets Metadata Ontology'](https://github.com/oceanprotocol/OEPs/tree/master/8)\n"
   ]
  },
  {
   "cell_type": "markdown",
   "metadata": {},
   "source": [
    "### Section 0: Import modules, and setup logging"
   ]
  },
  {
   "cell_type": "code",
   "execution_count": null,
   "metadata": {
    "lines_to_next_cell": 0
   },
   "outputs": [],
   "source": [
    "# Standard imports\n",
    "import logging\n",
    "\n",
    "# Import mantaray and the Ocean API (squid)\n",
    "import squid_py\n",
    "from squid_py.ocean.ocean import Ocean\n",
    "from squid_py.config import Config\n",
    "import mantaray_utilities as manta_utils\n",
    "\n",
    "# Setup logging\n",
    "manta_utils.logging.logger.setLevel('INFO')\n",
    "print(\"squid-py Ocean API version:\", squid_py.__version__)"
   ]
  },
  {
   "cell_type": "code",
   "execution_count": null,
   "metadata": {},
   "outputs": [],
   "source": [
    "# Get the configuration file path for this environment\n",
    "CONFIG_INI_PATH = manta_utils.config.get_config_file_path()\n",
    "logging.critical(\"Deployment type: {}\".format(manta_utils.config.get_deployment_type()))\n",
    "logging.critical(\"Configuration file selected: {}\".format(CONFIG_INI_PATH))\n",
    "logging.critical(\"Squid API version: {}\".format(squid_py.__version__))"
   ]
  },
  {
   "cell_type": "code",
   "execution_count": null,
   "metadata": {
    "lines_to_next_cell": 0
   },
   "outputs": [],
   "source": [
    "# Instantiate Ocean from configuration file\n",
    "configuration = Config(CONFIG_INI_PATH)\n",
    "ocn = Ocean(configuration)"
   ]
  },
  {
   "cell_type": "markdown",
   "metadata": {},
   "source": [
    "### Section 1: Assets are stored in the Metadata store (Aquarius) as a DDO\n",
    "Anyone can search assets in the public metadata stores. Anyone can start their own metadata instance for thier\n",
    "own marketplace."
   ]
  },
  {
   "cell_type": "markdown",
   "metadata": {},
   "source": [
    "The Metadata store is a database wrapped with a REST API.\n",
    "The database is accessed with a driver, currently Mongo DB is implemented.\n",
    "For more details of functionality, see the documentation and our Swagger API page.\n",
    "\n",
    "(Aquarius metadata store)[https://github.com/oceanprotocol/aquarius/tree/develop/aquarius]\n",
    "\n",
    "(MongoDB driver)[https://github.com/oceanprotocol/oceandb-mongodb-driver]"
   ]
  },
  {
   "cell_type": "markdown",
   "metadata": {
    "lines_to_next_cell": 0
   },
   "source": [
    "### Section 2: Test search"
   ]
  },
  {
   "cell_type": "code",
   "execution_count": null,
   "metadata": {
    "lines_to_next_cell": 0
   },
   "outputs": [],
   "source": [
    "all_ddos = ocn.assets.search({'asdf'})"
   ]
  },
  {
   "cell_type": "markdown",
   "metadata": {
    "lines_to_next_cell": 0
   },
   "source": [
    "### Section 2: Listing registered asset metadata in Aquarius\n",
    "First, we will retrieve a list of DID's (Decentralized IDentifiers) from Aquarius matching any string.\n",
    "The query is limited to 100 results by default, this limit can be increased."
   ]
  },
  {
   "cell_type": "code",
   "execution_count": null,
   "metadata": {},
   "outputs": [],
   "source": [
    "# Use the Query function to get all existing assets\n",
    "all_ddos = ocn.assets.query({\"text\":['']},)\n",
    "assert len(all_ddos), \"There are no assets registered, go to s03_publish_and_register!\"\n",
    "print(\"Found the first {} assets registered in the metadata store.\".format(len(all_ddos)))"
   ]
  },
  {
   "cell_type": "markdown",
   "metadata": {
    "lines_to_next_cell": 0
   },
   "source": [
    "Aquarius is a document store, with the key being the DID, and the document being the DDO\n",
    "(DID Document). The DDO describes the asset (metadata) and how to access it (Service Execution Agreement).\n",
    "For more information on these topics, please visit the Ocean Protocol standards;\n",
    "\n",
    "[OEP 7 - Decentralized Identifiers](https://github.com/oceanprotocol/OEPs/tree/master/7)\n",
    "\n",
    "[OEP 7 - Decentralized Identifiers](https://github.com/oceanprotocol/OEPs/tree/master/8)\n",
    "\n",
    "Let's select an asset DDO for inspection (Note, since the database is stateful, this can easily change/break,\n",
    "so try with another index or register your own asset first!)"
   ]
  },
  {
   "cell_type": "code",
   "execution_count": null,
   "metadata": {},
   "outputs": [],
   "source": [
    "# Select a single asset DDO from the list\n",
    "this_ddo = all_ddos[-1]\n",
    "print(\"Selected asset DID: {}\".format(this_ddo.did))\n",
    "print(\"Asset name:\", this_ddo.metadata['base']['name'])\n",
    "print(\"Asset price: {} token\".format(this_ddo.metadata['base']['price']))\n",
    "print(\"Asset description: {} token\".format(this_ddo.metadata['base']['description']))"
   ]
  },
  {
   "cell_type": "markdown",
   "metadata": {},
   "source": [
    "### Section 3: Searching the Ocean\n",
    "Aquarius supports query search. A list of [DDO] is returned from a search call.\n",
    "\n",
    "Currently, Aquarius is running MongoDB. For detailed query documentation, see the\n",
    "[documentation](https://docs.mongodb.com/manual/reference/method/db.collection.find/)\n",
    "\n",
    "The exposed query endpoint is a subset of the full MongoDB search capability. For the documentation on the\n",
    "Current search implementation, see https://github.com/oceanprotocol/aquarius/blob/develop/docs/for_api_users/API.md"
   ]
  },
  {
   "cell_type": "markdown",
   "metadata": {
    "lines_to_next_cell": 0
   },
   "source": [
    "#### Filter on price\n",
    "To get started, the following query will return all documents with a 'price' between 0 and 20.\n",
    "The syntax for this query, is a range of integers for the registered price."
   ]
  },
  {
   "cell_type": "code",
   "execution_count": null,
   "metadata": {},
   "outputs": [],
   "source": [
    "price_filter = [5,20]\n",
    "query = {\"query\":{\"price\":price_filter}}\n",
    "search_results = ocn.assets.query(query)\n",
    "print(\"Found {} assets matching price interval {}\".format(len(search_results),price_filter))\n",
    "all_prices = [result.metadata['base']['price'] for result in search_results]\n",
    "print(\"Average price in this set: {:0.2f}\".format(sum(all_prices)/len(all_prices)))"
   ]
  },
  {
   "cell_type": "markdown",
   "metadata": {
    "lines_to_next_cell": 0
   },
   "source": [
    "#### Text search\n",
    "Plain text search is supported, searching in all assets"
   ]
  },
  {
   "cell_type": "code",
   "execution_count": null,
   "metadata": {},
   "outputs": [],
   "source": [
    "query = {\"query\":{\"text\":[\"Weather\"]}}\n",
    "search_results = ocn.assets.query(query)\n",
    "print(\"Found {} assets\".format(len(search_results)))\n",
    "\n",
    "all_names = [result.metadata['base']['name'] for result in search_results]\n",
    "from collections import Counter\n",
    "for name, count in dict(Counter(all_names)).items():\n",
    "    print(\"Found {} of '{}'\".format(count, name))"
   ]
  },
  {
   "cell_type": "markdown",
   "metadata": {
    "lines_to_next_cell": 0
   },
   "source": [
    "#### Combined search\n",
    "Multiple queries can be joined to create more complex filters"
   ]
  },
  {
   "cell_type": "code",
   "execution_count": null,
   "metadata": {},
   "outputs": [],
   "source": [
    "query = {\"query\":{\"text\":[\"Weather\"],\"price\":[0,11]}}\n",
    "search_results = ocn.assets.query(query)\n",
    "print(\"Found {} assets\".format(len(search_results)))\n",
    "print_match_idx = -1\n",
    "for result in search_results:\n",
    "    print(\"Selected asset: {}, price:{}, {}\".format(result.metadata['base']['name'],result.metadata['base']['price'], result.did ))"
   ]
  }
 ],
 "metadata": {
  "jupytext": {
   "cell_metadata_filter": "-all",
   "main_language": "python",
   "notebook_metadata_filter": "-all"
  },
  "kernelspec": {
   "display_name": "Manta Ray",
   "language": "python",
   "name": "python3"
  }
 },
 "nbformat": 4,
 "nbformat_minor": 2
}
