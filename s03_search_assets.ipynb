{
 "cells": [
  {
   "cell_type": "markdown",
   "metadata": {},
   "source": [
    "\n",
    "<p><img src=\"https://oceanprotocol.com/static/media/banner-ocean-03@2x.b7272597.png\" alt=\"drawing\" width=\"800\" align=\"center\"/>"
   ]
  },
  {
   "cell_type": "markdown",
   "metadata": {
    "lines_to_next_cell": 2
   },
   "source": [
    "<h1><center>Ocean Protocol - Manta Ray project</center></h1>\n",
    "<h3><center>Decentralized Data Science and Engineering, powered by Ocean Protocol</center></h3>\n",
    "<p>Version 0.5 - alpha</p>\n",
    "<p>Package compatibility: squid-py v0.5.4, keeper-contracts 0.8.6, utilities 0.2.0,\n",
    "<p>Component compatibility: Brizo v0.2.9, Aquarius v0.1.11, Nile testnet smart contracts 0.8.6</p>\n",
    "<p><a href=\"https://github.com/oceanprotocol/mantaray\">mantaray on Github</a></p>\n",
    "<p>"
   ]
  },
  {
   "cell_type": "markdown",
   "metadata": {},
   "source": [
    "# Getting Underway - Listing and searching registered assets\n",
    "In this notebook, we will explore the concept of Assets. An Asset has an ID\n",
    "(actually a 'decentralized' ID, called **DID**!).\n",
    "\n",
    "An Asset also has a document which describes the Asset and how to # authorize and gain access (i.e. purchase the asset).\n",
    "This document is called a **DDO**, the DID Document. For Data Scientists, the DDO attribute of note is the 'metadata'\n",
    "attribute. Metadata is used to describe your asset, for example the name and description of a Data Set.\n",
    "\n",
    "The DID is stored in the blockchain. The DDO is stored in a public searchable database, wrapped by the Aquarius\n",
    "component.\n",
    "\n",
    "*Note to the reader: This is a testnet: a simulated blockchain and simulated DDO store. This testnet is open to the\n",
    "public, and therefore may change state in unexpected ways (your asset might get deleted, etc.)*"
   ]
  },
  {
   "cell_type": "markdown",
   "metadata": {},
   "source": [
    "Further reading!\n",
    "\n",
    "[W3C early draft standard 'Decentralized Identifiers (DIDs)'](https://w3c-ccg.github.io/did-spec/)\n",
    "\n",
    "[OEP 7 - Ocean Protocol standard for 'Decentralized Identifiers'](https://github.com/oceanprotocol/OEPs/tree/master/7)\n",
    "\n",
    "[OEP 7 - Ocean Protocol standard for 'Assets Metadata Ontology'](https://github.com/oceanprotocol/OEPs/tree/master/8)\n"
   ]
  },
  {
   "cell_type": "markdown",
   "metadata": {},
   "source": [
    "### Section 0: Import modules, and setup logging"
   ]
  },
  {
   "cell_type": "code",
   "execution_count": 1,
   "metadata": {
    "lines_to_next_cell": 0
   },
   "outputs": [
    {
     "name": "stderr",
     "output_type": "stream",
     "text": [
      "10 - logging         - <module>        - Logging started\n"
     ]
    },
    {
     "name": "stdout",
     "output_type": "stream",
     "text": [
      "Using default logging settings.\n",
      "squid-py Ocean API version: 0.5.11\n"
     ]
    }
   ],
   "source": [
    "# Standard imports\n",
    "import logging\n",
    "\n",
    "# Import mantaray and the Ocean API (squid)\n",
    "import squid_py\n",
    "from squid_py.ocean.ocean import Ocean\n",
    "from squid_py.config import Config\n",
    "import mantaray_utilities as manta_utils\n",
    "\n",
    "# Setup logging\n",
    "manta_utils.logging.logger.setLevel('INFO')\n",
    "print(\"squid-py Ocean API version:\", squid_py.__version__)"
   ]
  },
  {
   "cell_type": "code",
   "execution_count": 2,
   "metadata": {},
   "outputs": [
    {
     "name": "stderr",
     "output_type": "stream",
     "text": [
      "50 - <ipython-input-2-84136f362abd> - <module>        - Deployment type: USE_K8S_CLUSTER\n",
      "50 - <ipython-input-2-84136f362abd> - <module>        - Configuration file selected: /home/batman/ocn/mantaray_jupyter/config_k8s_deployed.ini\n",
      "50 - <ipython-input-2-84136f362abd> - <module>        - Squid API version: 0.5.11\n"
     ]
    }
   ],
   "source": [
    "# Get the configuration file path for this environment\n",
    "CONFIG_INI_PATH = manta_utils.config.get_config_file_path()\n",
    "logging.critical(\"Deployment type: {}\".format(manta_utils.config.get_deployment_type()))\n",
    "logging.critical(\"Configuration file selected: {}\".format(CONFIG_INI_PATH))\n",
    "logging.critical(\"Squid API version: {}\".format(squid_py.__version__))"
   ]
  },
  {
   "cell_type": "code",
   "execution_count": 3,
   "metadata": {
    "lines_to_next_cell": 0
   },
   "outputs": [
    {
     "name": "stderr",
     "output_type": "stream",
     "text": [
      "20 - ocean_secret_store - __init__        - \tSecretStore: url https://secret-store.dev-ocean.com, parity-client https://nile.dev-ocean.com, account 0x44E07D8190Cc0f0eCCC9C935D5EA47194301Cb00\n",
      "20 - diagnostics     - verify_contracts - Keeper contract artifacts (JSON abi files) at: /home/batman/ocn/mantaray_jupyter/artifacts_nile\n",
      "20 - diagnostics     - verify_contracts - Using keeper contracts from network nile, network id is 8995\n",
      "20 - diagnostics     - verify_contracts - Looking for keeper contracts ending with \".nile.json\", e.g. \"AgreementStoreManager.nile.json\".\n",
      "20 - diagnostics     - verify_contracts - Finished loading keeper contracts:\n",
      "\tDispenser: 0x865396b7ddc58C693db7FCAD1168E3BD95Fe3368\n",
      "\tOceanToken: 0x9861Da395d7da984D5E8C712c2EDE44b41F777Ad\n",
      "\tDIDRegistry: 0x4A0f7F763B1A7937aED21D63b2A78adc89c5Db23\n",
      "\tAgreementStoreManager: 0x62f84700b1A0ea6Bfb505aDC3c0286B7944D247C\n",
      "\tTemplateStoreManager: 0x9768c8ae44f1dc81cAA98F48792aA5730cAd2F73\n",
      "\tConditionStoreManager: 0x39b0AA775496C5ebf26f3B81C9ed1843f09eE466\n",
      "\tAccessSecretStoreCondition: 0x45DE141F8Efc355F1451a102FB6225F1EDd2921d\n",
      "\tSignCondition: 0x5a4301F8a7a8A13485621b9B4C82B1E66c112ee2\n",
      "\tLockRewardCondition: 0xE30FC30c678437e0e8F78C52dE9db8E2752781a0\n",
      "\tEscrowAccessSecretStoreTemplate: 0xfA16d26e9F4fffC6e40963B281a0bB08C31ed40C\n",
      "\tEscrowReward: 0xeD4Ef53376C6f103d2d7029D7E702e082767C6ff\n",
      "\tHashLockCondition: 0xB5f2e45e8aD4a1339D542f2defd5095B98054590\n",
      "20 - ocean           - __init__        - Squid Ocean instance initialized: \n",
      "20 - ocean           - __init__        - \tOther accounts: ['0x0207cb2f99EB2e005893d6108E2633641Ca9cC3e', '0x064789569D09b4d40b54383d84A25A840E5D67aD', '0x06C0035fE67Cce2B8862D63Dc315D8C8c72207cA', '0x07aCfF76eB4A10c92B89965B0e174B35d887cB0b', '0x0A7a04DEdFE9A4859bcEdD2F21dcA8110499bed9', '0x1322A6ef2c560107733bFc622Fe556961Cb430a5', '0x1549193cc522A1716be4886879cD5f0964A3073C', '0x15C8249D657ad28daa56662ad4ee18dA4377d1a4', '0x170ff54d7bbD527B7bdF04770845bd727a531d9c', '0x1769AAf66658DC2D7782796ac2fF350d4ecf96Cd', '0x17d25A173C9914ee09221EA8E490D296121e51F2', '0x291456dbD9119Ed4e4FE261246F5985ebF4e7Ae9', '0x2DFeEe7Ac1a126AF0d254235D0e21F43d5c9B103', '0x2E92872deE4Cd4f5d5544C257cAa2A66710bE73D', '0x2c918a0EF92f0b7113c8c4a966CC4f22AfA5652f', '0x33333759e516dD51b533777b733a40c2EbD4869D', '0x364BA547Fb1a96881D59CC193641DDB4D891a6E2', '0x3C5bdEBBB588f6d7ebBbC74b6Ed56f3b9dF2f7e2', '0x3F367a69C2559a4B90044eA6b6dfF7E0fE4a52E6', '0x413c9BA0A05B8A600899B41b0c62dd661e689354', '0x43E6b79B696b1d8E21d5A23118A1BF1b565C3831', '0x442aCf84E05459e13595f372C49D4a15E95eA4E7', '0x4439526405BD6119bdC8a0B2c7616B8eF2cB8751', '0x44E07D8190Cc0f0eCCC9C935D5EA47194301Cb00', '0x45234B8c216231c2c31785aE4F5DceB858A8Ec71', '0x4655b0C31a26aB4D3e6Dd85d51690E038290D4e0', '0x5f31E32e4689E1BC789E86e94eD9430bB47e4411', '0x852eaB9A4529cCe71Aa3F191da6900d57C802881']\n",
      "20 - ocean           - __init__        - \tDIDRegistry @ 0x4A0f7F763B1A7937aED21D63b2A78adc89c5Db23\n"
     ]
    }
   ],
   "source": [
    "# Instantiate Ocean from configuration file\n",
    "configuration = Config(CONFIG_INI_PATH)\n",
    "ocn = Ocean(configuration)"
   ]
  },
  {
   "cell_type": "markdown",
   "metadata": {},
   "source": [
    "### Section 1: Assets are stored in the Metadata store (Aquarius) as a DDO\n",
    "Anyone can search assets in the public metadata stores. Anyone can start their own metadata instance for thier\n",
    "own marketplace."
   ]
  },
  {
   "cell_type": "markdown",
   "metadata": {},
   "source": [
    "The Metadata store is a database wrapped with a REST API.\n",
    "For more details of functionality, see the documentation and our Swagger API page."
   ]
  },
  {
   "cell_type": "code",
   "execution_count": 4,
   "metadata": {},
   "outputs": [
    {
     "name": "stdout",
     "output_type": "stream",
     "text": [
      "Aquarius metadata service URL: https://nginx-aquarius.dev-ocean.com/\n",
      "Aquarius metadata service Swagger API page (try it out!): https://nginx-aquarius.dev-ocean.com//api/v1/docs/\n"
     ]
    }
   ],
   "source": [
    "print(\"Aquarius metadata service URL: {}\".format(configuration.aquarius_url))\n",
    "print(\"Aquarius metadata service Swagger API page (try it out!): {}/api/v1/docs/\".format(configuration.aquarius_url))"
   ]
  },
  {
   "cell_type": "markdown",
   "metadata": {
    "lines_to_next_cell": 0
   },
   "source": [
    "Similarly, the access control service is called Brizo, and will manage any access requests for an asset."
   ]
  },
  {
   "cell_type": "code",
   "execution_count": 5,
   "metadata": {},
   "outputs": [
    {
     "name": "stdout",
     "output_type": "stream",
     "text": [
      "Brizo access service URL: https://nginx-brizo.dev-ocean.com/\n",
      "Brizo access service Swagger API page (try it out!): https://nginx-brizo.dev-ocean.com//api/v1/docs/\n"
     ]
    }
   ],
   "source": [
    "print(\"Brizo access service URL: {}\".format(configuration.get('resources','brizo.url')))\n",
    "print(\"Brizo access service Swagger API page (try it out!): {}/api/v1/docs/\".format(configuration.get('resources','brizo.url')))\n",
    "#TODO: Swagger page is still broken"
   ]
  },
  {
   "cell_type": "markdown",
   "metadata": {},
   "source": [
    "### Section 2: Listing registered asset metadata in Aquarius\n",
    "All stored assets can be listed. This is typically not done in production, as the list would be too large.\n",
    "First retrieve a list of all DID's (Decentralized IDentifiers) from Aquarius using the 'exists' tag.\n",
    "This is an example of the low level MongoDB API.\n",
    "TODO: Seperate this into utils library, generally a user would not want to list all assets, could be a large list!"
   ]
  },
  {
   "cell_type": "code",
   "execution_count": 6,
   "metadata": {},
   "outputs": [
    {
     "name": "stderr",
     "output_type": "stream",
     "text": [
      "20 - ocean_assets    - query           - Searching asset query: {'service': {'$elemMatch': {'metadata': {'$exists': True}}}}\n"
     ]
    },
    {
     "name": "stdout",
     "output_type": "stream",
     "text": [
      "There are 100 assets registered in the metadata store.\n"
     ]
    }
   ],
   "source": [
    "# Use the Query function to get all existing assets\n",
    "basic_query = {\"service\":{\"$elemMatch\":{\"metadata\": {\"$exists\" : True }}}}\n",
    "all_ddos = ocn.assets.query(basic_query)\n",
    "assert len(all_ddos), \"There are no assets registered, go to s03_publish_and_register!\"\n",
    "print(\"There are {} assets registered in the metadata store.\".format(len(all_ddos)))"
   ]
  },
  {
   "cell_type": "markdown",
   "metadata": {
    "lines_to_next_cell": 0
   },
   "source": [
    "Aquarius is a document store, with the key being the DID, and the document being the DDO\n",
    "(DID Document). The DDO describes the asset (metadata) and how to access it (Service Execution Agreement).\n",
    "For more information on these topics, please visit the Ocean Protocol standards;\n",
    "\n",
    "[OEP 7 - Decentralized Identifiers](https://github.com/oceanprotocol/OEPs/tree/master/7)\n",
    "\n",
    "[OEP 7 - Decentralized Identifiers](https://github.com/oceanprotocol/OEPs/tree/master/8)\n",
    "\n",
    "Let's select an asset DDO for inspection (Note, since the database is stateful, this can easily change/break,\n",
    "so try with another index or register your own asset first!)"
   ]
  },
  {
   "cell_type": "code",
   "execution_count": 7,
   "metadata": {},
   "outputs": [
    {
     "name": "stdout",
     "output_type": "stream",
     "text": [
      "Selected asset DID: did:op:f5b5cae6f83243c2bd284e8b6d776847e319ee4a60f740ca995175c9696904c0\n",
      "Asset name: Ocean protocol white paper\n",
      "Asset price: 23 token\n",
      "Asset description: Introduce the main concepts and vision behind ocean protocol token\n"
     ]
    }
   ],
   "source": [
    "# Select a single asset DDO from the list\n",
    "this_ddo = all_ddos[-1]\n",
    "print(\"Selected asset DID: {}\".format(this_ddo.did))\n",
    "print(\"Asset name:\", this_ddo.metadata['base']['name'])\n",
    "print(\"Asset price: {} token\".format(this_ddo.metadata['base']['price']))\n",
    "print(\"Asset description: {} token\".format(this_ddo.metadata['base']['description']))"
   ]
  },
  {
   "cell_type": "markdown",
   "metadata": {},
   "source": [
    "### Section 4: Searching the Ocean\n",
    "Aquarius supports query search. A list of [DDO] is returned from a search call.\n",
    "\n",
    "Currently, Aquarius is running MongoDB. For detailed query documentation, see the\n",
    "[documentation](https://docs.mongodb.com/manual/reference/method/db.collection.find/)\n",
    "\n",
    "The exposed query endpoint is a subset of the full MongoDB search capability. For the documentation on the\n",
    "Current search implementation, see https://github.com/oceanprotocol/aquarius/blob/develop/docs/for_api_users/API.md"
   ]
  },
  {
   "cell_type": "code",
   "execution_count": 8,
   "metadata": {},
   "outputs": [],
   "source": [
    "# Query syntax:\n",
    "# {\n",
    "#   \"query\": {\"name_of_query\":[\"parameters\"]},\n",
    "#   \"sort\": {\"field\":1},\n",
    "#   \"offset\": 100,\n",
    "#   \"page\": 0\n",
    "# }"
   ]
  },
  {
   "cell_type": "markdown",
   "metadata": {
    "lines_to_next_cell": 0
   },
   "source": [
    "#### Select ALL assets\n",
    "To get started, the following query will return all documents with a 'price' between 0 and 20.\n",
    "The syntax for this query, is a range of integers for the registered price."
   ]
  },
  {
   "cell_type": "code",
   "execution_count": 9,
   "metadata": {},
   "outputs": [
    {
     "name": "stderr",
     "output_type": "stream",
     "text": [
      "20 - ocean_assets    - query           - Searching asset query: {'query': {'price': [0, 20]}}\n"
     ]
    },
    {
     "name": "stdout",
     "output_type": "stream",
     "text": [
      "Found 32 assets\n",
      "Selected asset: TestAsset, price:10, did:op:ba1dd9c8e43d487491dd2e8b30751787aa6c02061a2d47bbbbbd2d1145e431db\n",
      "Selected asset: TestAsset, price:10, did:op:4fe6cbaf04ef4273a5620a98c9555e73fc6e54913f15476fbd6003289b7b1bf7\n",
      "Selected asset: TestAsset, price:10, did:op:aded045fef2a40fd99539f87607c1c236e9ebfc898ee4bdcb10bdae16dbc4982\n",
      "Selected asset: TestAsset, price:10, did:op:1498671d8fa04bf7a9f3a28e85ff84b807b376ce503440cbad9fe40aa7b97040\n",
      "Selected asset: TestAsset, price:10, did:op:90b4e86a8fba4ba0b38daa297e085aebc45532b4e6bb4dea80b8f6d07cc5ac6e\n",
      "Selected asset: TestAsset, price:10, did:op:8ccf7dc4df3b4fbbbb267c27068293c31867613b06b748ac96837d08dadba3bd\n",
      "Selected asset: TestAsset, price:10, did:op:be319fa87c50411e9a8e4683779efd4197623195879d496baa1811ab339b2f08\n",
      "Selected asset: Test14gfxqo3120j, price:10, did:op:d48e976b1e27408eadab4df5e14a60b0cec4d9a1b96e418eb324b7e19411234c\n",
      "Selected asset: Test24gfxqo3120j, price:10, did:op:ca7e72fce6804f308aa445a185898b317efdb05b97134b25ac78d651a4e5c302\n",
      "Selected asset: Test24gfxqo3120j, price:10, did:op:cf3e69f88922482aa24550b1c3af7f9038d81ed0ecb342768572229fd4b20fad\n",
      "Selected asset: Test34gfxqo3120j, price:10, did:op:c015fd4184b74bbfa96a01a66d0bbc0e62e13a6078064fca973e0b51acc42cf9\n",
      "Selected asset: TestAsset, price:10, did:op:1809566c766c4113a0a082ef6ea879c2657e89d2df304bf287ca992a8781240b\n",
      "Selected asset: TestAsset, price:10, did:op:a148da9e8a5845a880eb5e8e59ff1589d23c70d9d5f54018bd6d41ae196c3484\n",
      "Selected asset: Test1sguxomm1yza, price:10, did:op:fa735be95919446eb40f680a1412b330f7af263bf31e45e8b42c3668a2d81b41\n",
      "Selected asset: Test2sguxomm1yza, price:10, did:op:2b270abf2170435d9254a3a5d7f3074b492be1dfdbcf4a5fba42e67951e192cb\n",
      "Selected asset: Test2sguxomm1yza, price:10, did:op:10e4a5b5cc7d4b7f8c2ab0c891fbdddb2aa47a7d86804f0abacad3042aa6b335\n",
      "Selected asset: Test3sguxomm1yza, price:10, did:op:5c9a66a3df5f44f48191d4d300c23d578d72cae4653e4bce88e491db22f9a6b5\n",
      "Selected asset: TestAsset, price:10, did:op:f2a11c8176db4c668340dee2607d73382030bed2ec8645dd8155acd464d23de1\n",
      "Selected asset: TestAsset, price:10, did:op:b085cc927fe64eefb177a0fb6e69e4a9f609eadaf07d4d5a98a07b37c5630093\n",
      "Selected asset: TestAsset, price:10, did:op:34e6c40764f74ea4978af7ffce373bd454afe76a5e674a2590a06bcadf271a51\n",
      "Selected asset: TestAsset, price:10, did:op:c0c4b516d8514082977d6ed6932472af610b659a8c274385935767c581b71865\n",
      "Selected asset: TestAsset, price:10, did:op:7e2f02f1b0a6479b9b64f3dc275470c1933ae5e1dbd348a889ca6f67e352079a\n",
      "Selected asset: Test13indf8b54eh, price:10, did:op:772ef2548b7247419b959d7e7b0f001aa3fd58f23c1a4abfb7a3be6f0c22d3ff\n",
      "Selected asset: Test23indf8b54eh, price:10, did:op:0d41692687d241e9bd43d6029ae4d3f6b0382d8c997d44dfbee14db79f131176\n",
      "Selected asset: Test23indf8b54eh, price:10, did:op:47146b4f887a46c081184890a744bb29dd6f37daa3104f958af0f7f79dcb2d8f\n",
      "Selected asset: Test33indf8b54eh, price:10, did:op:de9877280a724625b2e294fca80fe02c5c1e0d7c7fe244fa8019caf2812c8e1e\n",
      "Selected asset: Ocean protocol white paper, price:9, did:op:a66fcc956c8c417d90d4b463bbcf3ba466373852a1e9441ea0a9c6fdbf355648\n",
      "Selected asset: Ocean protocol white paper, price:9, did:op:4ddf99f57c7c4d378eea8e89bd2d979214d357425c1940cd8381f0e82ecab006\n",
      "Selected asset: Testy test, price:3, did:op:f713b53a86bf45ad82a599fe91528579c5df6f20331d4ed183bd5086a2a79163\n",
      "Selected asset: Ocean protocol white paper, price:9, did:op:e65e92ed781149588c18c1fd316c446a025854e3aac24c45a2450b027eac65a3\n",
      "Selected asset: Titles123, price:3, did:op:39f39271c2164005ba0eb8d21a53a70d21abdc8398c14a4f83d3d016edbfb71e\n",
      "Selected asset: Ocean protocol white paper, price:9, did:op:4178ae2d31704c52bfbb204c62704252dec1b0384e69444aaf79abc3b023e569\n"
     ]
    }
   ],
   "source": [
    "query = {\"query\":{\"price\":[0,20]}}\n",
    "search_results = ocn.assets.query(query)\n",
    "print(\"Found {} assets\".format(len(search_results)))\n",
    "print_match_idx = -1\n",
    "for result in search_results:\n",
    "    print(\"Selected asset: {}, price:{}, {}\".format(result.metadata['base']['name'],result.metadata['base']['price'], result.did ))"
   ]
  },
  {
   "cell_type": "markdown",
   "metadata": {
    "lines_to_next_cell": 0
   },
   "source": [
    "#### Text search\n",
    "Plain text search is supported, searching in all assets"
   ]
  },
  {
   "cell_type": "code",
   "execution_count": 10,
   "metadata": {
    "lines_to_next_cell": 2
   },
   "outputs": [
    {
     "name": "stderr",
     "output_type": "stream",
     "text": [
      "20 - ocean_assets    - query           - Searching asset query: {'query': {'text': ['Weather']}}\n"
     ]
    },
    {
     "name": "stdout",
     "output_type": "stream",
     "text": [
      "Found 66 assets\n",
      "Selected asset: UK Weather information 2011, price:10, did:op:7c89aa22fed245a98d8129d86fd275638f677433420249e9b9d195c4479bbdc8\n",
      "Selected asset: UK Weather information 2011, price:10, did:op:e873286909694f548c6a38238e0f7ae42bb01f5b4c9f4f19bdf5584a6f782cd3\n",
      "Selected asset: UK Weather information 2011, price:10, did:op:109aff0e949a4af8b40d855e0cdeca0f5078978dd70a45f389f8c4992390393b\n",
      "Selected asset: UK Weather information 2011, price:10, did:op:64e41d9049f24756919412e1f6e90bc8aada502d2263469ca3b5cb309d6080bc\n",
      "Selected asset: UK Weather information 2011, price:10, did:op:e90a459b328444f7ad6ec15dc8e86c4fa8c48151117444538194c3f736fe24d6\n",
      "Selected asset: TestAsset, price:10, did:op:ba1dd9c8e43d487491dd2e8b30751787aa6c02061a2d47bbbbbd2d1145e431db\n",
      "Selected asset: TestAsset, price:10, did:op:4fe6cbaf04ef4273a5620a98c9555e73fc6e54913f15476fbd6003289b7b1bf7\n",
      "Selected asset: TestAsset, price:10, did:op:aded045fef2a40fd99539f87607c1c236e9ebfc898ee4bdcb10bdae16dbc4982\n",
      "Selected asset: UK Weather information 2011, price:10, did:op:d01fe205b71f487e91bc325a336a79af5e3ed4b6611d4f27acace6b7c207a990\n",
      "Selected asset: TestAsset, price:10, did:op:1498671d8fa04bf7a9f3a28e85ff84b807b376ce503440cbad9fe40aa7b97040\n",
      "Selected asset: TestAsset, price:10, did:op:90b4e86a8fba4ba0b38daa297e085aebc45532b4e6bb4dea80b8f6d07cc5ac6e\n",
      "Selected asset: TestAsset, price:10, did:op:8ccf7dc4df3b4fbbbb267c27068293c31867613b06b748ac96837d08dadba3bd\n",
      "Selected asset: TestAsset, price:10, did:op:be319fa87c50411e9a8e4683779efd4197623195879d496baa1811ab339b2f08\n",
      "Selected asset: Test14gfxqo3120j, price:10, did:op:d48e976b1e27408eadab4df5e14a60b0cec4d9a1b96e418eb324b7e19411234c\n",
      "Selected asset: Test24gfxqo3120j, price:10, did:op:ca7e72fce6804f308aa445a185898b317efdb05b97134b25ac78d651a4e5c302\n",
      "Selected asset: Test24gfxqo3120j, price:10, did:op:cf3e69f88922482aa24550b1c3af7f9038d81ed0ecb342768572229fd4b20fad\n",
      "Selected asset: Test34gfxqo3120j, price:10, did:op:c015fd4184b74bbfa96a01a66d0bbc0e62e13a6078064fca973e0b51acc42cf9\n",
      "Selected asset: UK Weather information 2011, price:10, did:op:55ee7d1364614eeaba2a8f375442bc8e99817d8c9e6246e998903505381ab43c\n",
      "Selected asset: UK Weather information 2011, price:10, did:op:c10fb7e9be9b4c0fa38c084fdb88e7ea68f8661d58de4a3cbb80d891926ebe9e\n",
      "Selected asset: TestAsset, price:10, did:op:1809566c766c4113a0a082ef6ea879c2657e89d2df304bf287ca992a8781240b\n",
      "Selected asset: TestAsset, price:10, did:op:a148da9e8a5845a880eb5e8e59ff1589d23c70d9d5f54018bd6d41ae196c3484\n",
      "Selected asset: Test1sguxomm1yza, price:10, did:op:fa735be95919446eb40f680a1412b330f7af263bf31e45e8b42c3668a2d81b41\n",
      "Selected asset: UK Weather information 2011, price:10, did:op:0319dab14d544c7e985fc6cb8e21e4817e7884bfe1254e51bd969094a5203eba\n",
      "Selected asset: Test2sguxomm1yza, price:10, did:op:2b270abf2170435d9254a3a5d7f3074b492be1dfdbcf4a5fba42e67951e192cb\n",
      "Selected asset: Test2sguxomm1yza, price:10, did:op:10e4a5b5cc7d4b7f8c2ab0c891fbdddb2aa47a7d86804f0abacad3042aa6b335\n",
      "Selected asset: Test3sguxomm1yza, price:10, did:op:5c9a66a3df5f44f48191d4d300c23d578d72cae4653e4bce88e491db22f9a6b5\n",
      "Selected asset: UK Weather information 2011, price:10, did:op:d2518583a3984d8f9d14689f5f7d3ad03db274f2554f4c4abb2125501cbe2840\n",
      "Selected asset: UK Weather information 2011, price:10, did:op:7588f083c5c14a7db8ac741ee6ecc0242dcccd9ed44f45a6b268305e171aa9ac\n",
      "Selected asset: UK Weather information 2011, price:10, did:op:026efd0cf5054480b1ea46c72267ecf0a44ce12ade614e148f705bfd52edc5bc\n",
      "Selected asset: UK Weather information 2011, price:10, did:op:562ab8db2d6d4cd98bd1c031eeafcf8adf7c544f3d0d4ed5bd64562d34f00009\n",
      "Selected asset: UK Weather information 2011, price:10, did:op:24497140d304406db274f99d06be615cd18ef0357b9f45978fc0c2abd852eff2\n",
      "Selected asset: UK Weather information 2011, price:10, did:op:2adb3789d94542f7b7351f35686ea6061b70bc3acf264744a8e96180f51d1d3b\n",
      "Selected asset: UK Weather information 2011, price:10, did:op:cf4ed7d8398442738b5b82f9c476418e07bcea3324c4451ebef21931ae964374\n",
      "Selected asset: TestAsset, price:10, did:op:f2a11c8176db4c668340dee2607d73382030bed2ec8645dd8155acd464d23de1\n",
      "Selected asset: TestAsset, price:10, did:op:b085cc927fe64eefb177a0fb6e69e4a9f609eadaf07d4d5a98a07b37c5630093\n",
      "Selected asset: TestAsset, price:10, did:op:34e6c40764f74ea4978af7ffce373bd454afe76a5e674a2590a06bcadf271a51\n",
      "Selected asset: TestAsset, price:10, did:op:c0c4b516d8514082977d6ed6932472af610b659a8c274385935767c581b71865\n",
      "Selected asset: TestAsset, price:10, did:op:7e2f02f1b0a6479b9b64f3dc275470c1933ae5e1dbd348a889ca6f67e352079a\n",
      "Selected asset: UK Weather information 2011, price:10, did:op:c47389cb2f7742b3ae31d6a0af3313c777dbc00eb1a74f30a816f6d75b0b454a\n",
      "Selected asset: Test13indf8b54eh, price:10, did:op:772ef2548b7247419b959d7e7b0f001aa3fd58f23c1a4abfb7a3be6f0c22d3ff\n",
      "Selected asset: Test23indf8b54eh, price:10, did:op:0d41692687d241e9bd43d6029ae4d3f6b0382d8c997d44dfbee14db79f131176\n",
      "Selected asset: Test23indf8b54eh, price:10, did:op:47146b4f887a46c081184890a744bb29dd6f37daa3104f958af0f7f79dcb2d8f\n",
      "Selected asset: Test33indf8b54eh, price:10, did:op:de9877280a724625b2e294fca80fe02c5c1e0d7c7fe244fa8019caf2812c8e1e\n",
      "Selected asset: UK Weather information 2011, price:10, did:op:5ccd5a76d95c4a6bb102d4b77208b93b697855fb23734988a6f1df1887a93140\n",
      "Selected asset: UK Weather information 2011, price:10, did:op:e5aeaaa33b694d6491017e779f1bc4d6968add8c29494475b7bf51b246514359\n",
      "Selected asset: UK Weather information 2011, price:10, did:op:657258af38e44ae5a3a4b4a2f685f6ac5038091d2d234aad9eea4e63d5668542\n",
      "Selected asset: UK Weather information 2011, price:10, did:op:63bf7c5596584dae8b2c040d550294278b37f0ddf3944ebd9f78737065befc3f\n",
      "Selected asset: UK Weather information 2011, price:10, did:op:5f4900f81e2d4d74b63e3d1e4b94a2e4c80b25ff93164d239a6c15e3fc8efeb1\n",
      "Selected asset: UK Weather information 2011, price:10, did:op:87473aa9842a4d37b7ed83ef1e87ca3dd0c48cfe2d2a40649761c4074d0ecc85\n",
      "Selected asset: UK Weather information 2011, price:10, did:op:2cb1573a70054493a746b368c4b7f6adc0da412694a14994a90d0ea05c6715e2\n",
      "Selected asset: UK Weather information 2011, price:10, did:op:976e8ab11fa64914953114a93c44a028bdce6d179df844c9bb38fac8236773a4\n",
      "Selected asset: UK Weather information 2011, price:10, did:op:075a4611919745ea922a0d26517e67161458d074f9794e9d9ceaaf31f9d06446\n",
      "Selected asset: UK Weather information 2011, price:10, did:op:49d1c04d559841d28394cbeef11e4ce309cf48b216c74c1bb802c5835e43f9ff\n",
      "Selected asset: UK Weather information 2011, price:10, did:op:d676a2fb21a44a5a877760de04f00b5d2436f6a84b5143e8825faabe5842c3b2\n",
      "Selected asset: UK Weather information 2011, price:10, did:op:3954c2dc8dd8413a9e43312c0108afc47ec46e36cd834af4b33cf604074b5aaf\n",
      "Selected asset: UK Weather information 2011, price:10, did:op:cf6ade496ed54d62bcd5eafca850f5a1431a6e7c910f46aeb72f3a4bfaa9fd52\n",
      "Selected asset: UK Weather information 2011, price:10, did:op:4574cd2ffd1c4ff589feca9da392791b62aa8c4b08fe478da45a7276765578bf\n",
      "Selected asset: UK Weather information 2011, price:10, did:op:5c41ac47391a4e6f94bcdd397bbd41a89a0a468a8d7845b199d0ce2f6fbbd640\n",
      "Selected asset: UK Weather information 2011, price:10, did:op:813ef5c1736240219ed820267446b60f6fd9a99db5134dd1b70d924baf32df26\n",
      "Selected asset: UK Weather information 2011, price:10, did:op:5a4606d4f1de46188e2beec6a750d66f8c32fddcf5794836833e4b7bfa9a24ed\n",
      "Selected asset: UK Weather information 2011, price:10, did:op:bf9741b21c80438c86ffdf3d932054e9bbcd0205c6cd4f48893d0c3e9ccdc9de\n",
      "Selected asset: UK Weather information 2011, price:10, did:op:bf3d650fa8be49c890f51611b42696c0aeddec8ebd6a4074a1021cc07f97e7de\n",
      "Selected asset: UK Weather information 2011, price:10, did:op:02da31a757de42b1ab37728829ac39b137cd776c084f4c4b8da391780ea5272b\n",
      "Selected asset: UK Weather information 2011, price:0, did:op:605bdb97ccb8422f9de02fff11e5e8baa23433485827447f86b684a23f4e9df7\n",
      "Selected asset: UK Weather information 2011, price:0, did:op:de08dfaf69994929a9f3df45b243106a7a4cdb5c63e94c8f879f6926e9b66679\n",
      "Selected asset: UK Weather information 2011, price:0, did:op:c6db8afa3cf744c3a6046796c3400363d51b61e9f3db431c8a2e4bfa7af6ce50\n"
     ]
    }
   ],
   "source": [
    "query = {\"query\":{\"text\":[\"Weather\"]}}\n",
    "search_results = ocn.assets.query(query)\n",
    "print(\"Found {} assets\".format(len(search_results)))\n",
    "print_match_idx = -1\n",
    "for result in search_results:\n",
    "    print(\"Selected asset: {}, price:{}, {}\".format(result.metadata['base']['name'],result.metadata['base']['price'], result.did ))"
   ]
  },
  {
   "cell_type": "markdown",
   "metadata": {
    "lines_to_next_cell": 0
   },
   "source": [
    "#### Combined search\n",
    "Multiple queries can be joined"
   ]
  },
  {
   "cell_type": "code",
   "execution_count": 11,
   "metadata": {},
   "outputs": [
    {
     "name": "stderr",
     "output_type": "stream",
     "text": [
      "20 - ocean_assets    - query           - Searching asset query: {'query': {'text': ['Weather'], 'price': [0, 11]}}\n"
     ]
    },
    {
     "name": "stdout",
     "output_type": "stream",
     "text": [
      "Found 26 assets\n",
      "Selected asset: TestAsset, price:10, did:op:ba1dd9c8e43d487491dd2e8b30751787aa6c02061a2d47bbbbbd2d1145e431db\n",
      "Selected asset: TestAsset, price:10, did:op:4fe6cbaf04ef4273a5620a98c9555e73fc6e54913f15476fbd6003289b7b1bf7\n",
      "Selected asset: TestAsset, price:10, did:op:aded045fef2a40fd99539f87607c1c236e9ebfc898ee4bdcb10bdae16dbc4982\n",
      "Selected asset: TestAsset, price:10, did:op:1498671d8fa04bf7a9f3a28e85ff84b807b376ce503440cbad9fe40aa7b97040\n",
      "Selected asset: TestAsset, price:10, did:op:90b4e86a8fba4ba0b38daa297e085aebc45532b4e6bb4dea80b8f6d07cc5ac6e\n",
      "Selected asset: TestAsset, price:10, did:op:8ccf7dc4df3b4fbbbb267c27068293c31867613b06b748ac96837d08dadba3bd\n",
      "Selected asset: TestAsset, price:10, did:op:be319fa87c50411e9a8e4683779efd4197623195879d496baa1811ab339b2f08\n",
      "Selected asset: Test14gfxqo3120j, price:10, did:op:d48e976b1e27408eadab4df5e14a60b0cec4d9a1b96e418eb324b7e19411234c\n",
      "Selected asset: Test24gfxqo3120j, price:10, did:op:ca7e72fce6804f308aa445a185898b317efdb05b97134b25ac78d651a4e5c302\n",
      "Selected asset: Test24gfxqo3120j, price:10, did:op:cf3e69f88922482aa24550b1c3af7f9038d81ed0ecb342768572229fd4b20fad\n",
      "Selected asset: Test34gfxqo3120j, price:10, did:op:c015fd4184b74bbfa96a01a66d0bbc0e62e13a6078064fca973e0b51acc42cf9\n",
      "Selected asset: TestAsset, price:10, did:op:1809566c766c4113a0a082ef6ea879c2657e89d2df304bf287ca992a8781240b\n",
      "Selected asset: TestAsset, price:10, did:op:a148da9e8a5845a880eb5e8e59ff1589d23c70d9d5f54018bd6d41ae196c3484\n",
      "Selected asset: Test1sguxomm1yza, price:10, did:op:fa735be95919446eb40f680a1412b330f7af263bf31e45e8b42c3668a2d81b41\n",
      "Selected asset: Test2sguxomm1yza, price:10, did:op:2b270abf2170435d9254a3a5d7f3074b492be1dfdbcf4a5fba42e67951e192cb\n",
      "Selected asset: Test2sguxomm1yza, price:10, did:op:10e4a5b5cc7d4b7f8c2ab0c891fbdddb2aa47a7d86804f0abacad3042aa6b335\n",
      "Selected asset: Test3sguxomm1yza, price:10, did:op:5c9a66a3df5f44f48191d4d300c23d578d72cae4653e4bce88e491db22f9a6b5\n",
      "Selected asset: TestAsset, price:10, did:op:f2a11c8176db4c668340dee2607d73382030bed2ec8645dd8155acd464d23de1\n",
      "Selected asset: TestAsset, price:10, did:op:b085cc927fe64eefb177a0fb6e69e4a9f609eadaf07d4d5a98a07b37c5630093\n",
      "Selected asset: TestAsset, price:10, did:op:34e6c40764f74ea4978af7ffce373bd454afe76a5e674a2590a06bcadf271a51\n",
      "Selected asset: TestAsset, price:10, did:op:c0c4b516d8514082977d6ed6932472af610b659a8c274385935767c581b71865\n",
      "Selected asset: TestAsset, price:10, did:op:7e2f02f1b0a6479b9b64f3dc275470c1933ae5e1dbd348a889ca6f67e352079a\n",
      "Selected asset: Test13indf8b54eh, price:10, did:op:772ef2548b7247419b959d7e7b0f001aa3fd58f23c1a4abfb7a3be6f0c22d3ff\n",
      "Selected asset: Test23indf8b54eh, price:10, did:op:0d41692687d241e9bd43d6029ae4d3f6b0382d8c997d44dfbee14db79f131176\n",
      "Selected asset: Test23indf8b54eh, price:10, did:op:47146b4f887a46c081184890a744bb29dd6f37daa3104f958af0f7f79dcb2d8f\n",
      "Selected asset: Test33indf8b54eh, price:10, did:op:de9877280a724625b2e294fca80fe02c5c1e0d7c7fe244fa8019caf2812c8e1e\n"
     ]
    }
   ],
   "source": [
    "query = {\"query\":{\"text\":[\"Weather\"],\"price\":[0,11]}}\n",
    "search_results = ocn.assets.query(query)\n",
    "print(\"Found {} assets\".format(len(search_results)))\n",
    "print_match_idx = -1\n",
    "for result in search_results:\n",
    "    print(\"Selected asset: {}, price:{}, {}\".format(result.metadata['base']['name'],result.metadata['base']['price'], result.did ))"
   ]
  },
  {
   "cell_type": "markdown",
   "metadata": {},
   "source": [
    "### Section 5: Cleaning the Ocean\n",
    "A DID is registered on the blockchain, and can be resolved to a DID Document (DDO) as presented above.\n",
    "\n",
    "Since the DDO exists on Aquarius and not in the blockchain, the DDO itself can be deleted. The DID trace can never be\n",
    "deleted from the blockchain."
   ]
  },
  {
   "cell_type": "code",
   "execution_count": 12,
   "metadata": {},
   "outputs": [],
   "source": [
    "if 0:\n",
    "\n",
    "    # Let's count how many ddo's are registered\n",
    "    all_dids = ocn.assets._get_aquarius().list_assets()\n",
    "    print(\"there are {} assets registered in the metadata store.\".format(len(all_dids)))\n",
    "\n",
    "    # let's delete the first ddo object.\n",
    "    first_did = all_dids[0]\n",
    "    print(\"selected ddo for deletion:\", first_did)\n",
    "    ocn.assets._get_aquarius().retire_asset_ddo(first_did)\n",
    "\n",
    "    # again, let's count how many ddo's are registered\n",
    "    all_dids = ocn.assets._get_aquarius().list_assets()\n",
    "    print(\"there are now {} assets registered in the metadata store.\".format(len(all_dids)))"
   ]
  },
  {
   "cell_type": "code",
   "execution_count": null,
   "metadata": {},
   "outputs": [],
   "source": [
    "# Deleting all assets!\n",
    "# Please don't delete all the assets, as other users may be testing the components!\n",
    "if 0:\n",
    "    all_dids = ocn.assets._get_aquarius().list_assets()\n",
    "    for i, did in enumerate(all_dids):\n",
    "        print(\"Deleting DDO {} - {}\".format(i, did))\n",
    "        ocn.assets._get_aquarius().retire_asset_ddo(did)"
   ]
  }
 ],
 "metadata": {
  "jupytext": {
   "main_language": "python",
   "text_representation": {
    "extension": ".py",
    "format_name": "percent"
   }
  },
  "kernelspec": {
   "display_name": "mantaray",
   "language": "python",
   "name": "mantaray"
  },
  "language_info": {
   "codemirror_mode": {
    "name": "ipython",
    "version": 3
   },
   "file_extension": ".py",
   "mimetype": "text/x-python",
   "name": "python",
   "nbconvert_exporter": "python",
   "pygments_lexer": "ipython3",
   "version": "3.6.7"
  }
 },
 "nbformat": 4,
 "nbformat_minor": 2
}
