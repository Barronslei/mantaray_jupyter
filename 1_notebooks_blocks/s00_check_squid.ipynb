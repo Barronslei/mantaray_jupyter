{
 "cells": [
  {
   "cell_type": "markdown",
   "metadata": {},
   "source": [
    "\n",
    "<p><img src=\"https://oceanprotocol.com/static/media/banner-ocean-03@2x.b7272597.png\" alt=\"drawing\" width=\"800\" align=\"center\"/>"
   ]
  },
  {
   "cell_type": "markdown",
   "metadata": {},
   "source": [
    "\n",
    "<h1><center>Ocean Protocol - Manta Ray project</center></h1>\n",
    "<h3><center>Decentralized Data Science and Engineering, powered by Ocean Protocol</center></h3>\n",
    "<p>Version 0.2 - Trilobite preview</p>\n",
    "<p><a href=\"https://github.com/oceanprotocol/mantaray\">mantaray on Github</a></p>\n",
    "<p>"
   ]
  },
  {
   "cell_type": "markdown",
   "metadata": {
    "lines_to_next_cell": 0
   },
   "source": [
    "<p>"
   ]
  },
  {
   "cell_type": "markdown",
   "metadata": {},
   "source": [
    "Run this script to test the Ocean wrapper (squid-py).\n",
    "Instantiate the wrapper with your selected `config.ini` file"
   ]
  },
  {
   "cell_type": "code",
   "execution_count": null,
   "metadata": {
    "lines_to_next_cell": 0
   },
   "outputs": [],
   "source": [
    "# Standard imports\n",
    "import logging\n",
    "\n",
    "# Import mantaray and the Ocean API (squid)\n",
    "from squid_py.ocean.ocean import Ocean\n",
    "import mantaray_utilities.config as manta_config\n",
    "import mantaray_utilities.logging as manta_logging\n",
    "import mantaray_utilities.asset_pretty_print as manta_print"
   ]
  },
  {
   "cell_type": "code",
   "execution_count": null,
   "metadata": {},
   "outputs": [],
   "source": [
    "# Get the configuration file path for this environment\n",
    "CONFIG_INI_PATH = manta_config.get_config_file_path()\n",
    "logging.info(\"Configuration file selected: {}\".format(CONFIG_INI_PATH))"
   ]
  },
  {
   "cell_type": "code",
   "execution_count": null,
   "metadata": {},
   "outputs": [],
   "source": [
    "# Instantiate Ocean\n",
    "ocn = Ocean(CONFIG_INI_PATH)"
   ]
  },
  {
   "cell_type": "code",
   "execution_count": null,
   "metadata": {
    "lines_to_next_cell": 2
   },
   "outputs": [],
   "source": [
    "print(\"***OCEAN***\")\n",
    "print(\"{} accounts\".format(len(ocn.accounts)))\n",
    "for account in ocn.accounts:\n",
    "    print(account)\n",
    "\n",
    "# A utility function is provided to summarize the Ocean class\n",
    "manta_print.print_ocean(ocn)"
   ]
  }
 ],
 "metadata": {
  "jupytext": {
   "main_language": "python",
   "text_representation": {
    "extension": ".py",
    "format_name": "percent"
   }
  }
 },
 "nbformat": 4,
 "nbformat_minor": 2
}
