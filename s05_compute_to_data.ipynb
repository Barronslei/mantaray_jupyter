{
 "cells": [
  {
   "cell_type": "markdown",
   "metadata": {},
   "source": [
    "\n",
    "<p><img src=\"https://oceanprotocol.com/static/media/banner-ocean-03@2x.b7272597.png\" alt=\"drawing\" width=\"800\" align=\"center\"/>"
   ]
  },
  {
   "cell_type": "markdown",
   "metadata": {
    "lines_to_next_cell": 2
   },
   "source": [
    "\n",
    "<h1><center>Ocean Protocol - Manta Ray project</center></h1>\n",
    "<h3><center>Decentralized Data Science and Engineering, powered by Ocean Protocol</center></h3>\n",
    "<p>Version 0.5.3 - beta</p>\n",
    "<p>Package compatibility: squid-py v0.6.13, keeper-contracts 0.10.3, utilities 0.2.2,\n",
    "<p>Component compatibility (Nile): Brizo v0.3.12, Aquarius v0.3.4, Nile testnet smart contracts 0.10.3</p>\n",
    "\n",
    "<p><a href=\"https://github.com/oceanprotocol/mantaray\">mantaray on Github</a></p>\n",
    "<p>"
   ]
  },
  {
   "cell_type": "markdown",
   "metadata": {},
   "source": [
    "# Getting Underway - Publishing asset with private data and compute service\n",
    "In this notebook, we will explore how to publish an Asset with private dataset and compute service.\n",
    "The private data files will not leave outside the private premises. Instead, a compute service will be\n",
    "available for running algorithms to train on the dataset.\n",
    "\n",
    "A publisher will require access to two services;\n",
    "1. A service to store the MetaData of the asset (part of the DDO) - 'Aquarius'\n",
    "1. A service to manage permissioned access to the compute resource\n",
    "   that is allowed to access the private data - 'Brizo'\n",
    "\n",
    "The publishing of an asset consists of;\n",
    "1. Preparing the asset files locally\n",
    "1. Preparing the metadata of the asset\n",
    "1. Make files URLs or identifiers that can be used to identify the data files when running compute jobs\n",
    "1. Define the attributes of the compute service (i.e. compute resources and service endpoint)\n",
    "1. Registering the metadata and service endpoints into Aquarius\n",
    "1. Registering the asset into the Blockchain (into the DID Registry)"
   ]
  },
  {
   "cell_type": "markdown",
   "metadata": {},
   "source": [
    "<p><img src=\"https://raw.githubusercontent.com/oceanprotocol/mantaray/develop/doc/img/jupyter_cell.png\" alt=\"drawing\" width=\"400\" align=\"center\"/></p>\n",
    "<p><b>Overall client and service architecture</b></p>"
   ]
  },
  {
   "cell_type": "markdown",
   "metadata": {},
   "source": [
    "### Section 0: Import modules, connect the Ocean Protocol API"
   ]
  },
  {
   "cell_type": "code",
   "execution_count": null,
   "metadata": {},
   "outputs": [],
   "source": [
    "# Standard imports\n",
    "import json\n",
    "import logging\n",
    "import os\n",
    "import time\n",
    "from pathlib import Path\n",
    "\n",
    "# Import mantaray and the Ocean API (squid)\n",
    "import squid_py\n",
    "from mantaray_utilities.mantaray_utilities.misc import get_algorithm_example\n",
    "from mantaray_utilities.mantaray_utilities.user import create_account\n",
    "from ocean_utils.agreements.service_factory import ServiceDescriptor\n",
    "from ocean_utils.agreements.service_types import ServiceTypes\n",
    "from ocean_utils.utils.utilities import get_timestamp\n",
    "from squid_py.models.algorithm_metadata import AlgorithmMetadata\n",
    "from squid_py.ocean.ocean import Ocean\n",
    "from squid_py.config import Config\n",
    "from mantaray_utilities import logging as manta_logging, config\n",
    "from mantaray_utilities.misc import get_metadata_example\n",
    "\n",
    "from pprint import pprint\n",
    "\n",
    "# Setup logging\n",
    "manta_logging.logger.setLevel('INFO')\n",
    "print(\"squid-py Ocean API version:\", squid_py.__version__)"
   ]
  },
  {
   "cell_type": "code",
   "execution_count": null,
   "metadata": {
    "lines_to_next_cell": 2
   },
   "outputs": [],
   "source": [
    "# Get the configuration file path for this environment\n",
    "OCEAN_CONFIG_PATH = Path(os.path.expanduser(os.environ['OCEAN_CONFIG_PATH']))\n",
    "assert OCEAN_CONFIG_PATH.exists(), \"{} - path does not exist\".format(OCEAN_CONFIG_PATH)\n",
    "logging.critical(\"Configuration file selected: {}\".format(OCEAN_CONFIG_PATH))\n",
    "logging.critical(\"Deployment type: {}\".format(config.get_deployment_type()))\n",
    "logging.critical(\"Squid API version: {}\".format(squid_py.__version__))\n",
    "\n",
    "# Instantiate Ocean with the default configuration file.\n",
    "configuration = Config(OCEAN_CONFIG_PATH)\n",
    "squid_py.ConfigProvider.set_config(configuration)\n",
    "ocn = Ocean(configuration)\n",
    "faucet_url = ocn.config.get('keeper-contracts', 'faucet.url')\n",
    "\n",
    "# Create account and get some ether so we can submit transactions\n",
    "publisher_acct = create_account(faucet_url, wait=True)\n",
    "\n",
    "print(\"Publisher account address: {}\".format(publisher_acct.address))\n",
    "print(\"Publisher account Testnet 'ETH' balance: {:>6.1f}\".format(ocn.accounts.balance(publisher_acct).eth/10**18))\n",
    "print(\"Publisher account Testnet Ocean balance: {:>6.1f}\".format(ocn.accounts.balance(publisher_acct).ocn/10**18))"
   ]
  },
  {
   "cell_type": "markdown",
   "metadata": {
    "lines_to_next_cell": 0
   },
   "source": [
    "Your account will need some Ocean Token to make real transactions, let's ensure that you are funded!"
   ]
  },
  {
   "cell_type": "code",
   "execution_count": null,
   "metadata": {},
   "outputs": [],
   "source": [
    "# ensure Ocean token balance\n",
    "if ocn.accounts.balance(publisher_acct).ocn == 0:\n",
    "    ocn.accounts.request_tokens(publisher_acct, 100)"
   ]
  },
  {
   "cell_type": "code",
   "execution_count": null,
   "metadata": {},
   "outputs": [],
   "source": [
    "# Get example of Meta Data from file\n",
    "metadata = get_metadata_example()\n",
    "print('Name of asset:', metadata['main']['name'])\n",
    "# Print the entire (JSON) dictionary\n",
    "pprint(metadata)"
   ]
  },
  {
   "cell_type": "code",
   "execution_count": null,
   "metadata": {},
   "outputs": [],
   "source": [
    "# Build compute service to be included in the asset DDO.\n",
    "cluster = ocn.compute.build_cluster_attributes('kubernetes', '/cluster/url')\n",
    "containers = [ocn.compute.build_container_attributes(\n",
    "    \"tensorflow/tensorflow\",\n",
    "    \"latest\",\n",
    "    \"sha256:cb57ecfa6ebbefd8ffc7f75c0f00e57a7fa739578a429b6f72a0df19315deadc\")\n",
    "]\n",
    "servers = [ocn.compute.build_server_attributes('1', 'xlsize', 16, 0, '16gb', '1tb', 2242244)]\n",
    "provider_attributes = ocn.compute.build_service_provider_attributes(\n",
    "    'Azure', 'Compute power 1', cluster, containers, servers\n",
    ")\n",
    "attributes = ocn.compute.create_compute_service_attributes(\n",
    "    13, 3600, publisher_acct.address, get_timestamp(), provider_attributes)\n",
    "\n",
    "service_endpoint = 'http://localhost:8030/api/v1/brizo/services/compute'\n",
    "template_id = ocn.keeper.template_manager.create_template_id(\n",
    "    ocn.keeper.template_manager.SERVICE_TO_TEMPLATE_NAME['compute']\n",
    ")\n",
    "service_descriptor = ServiceDescriptor.compute_service_descriptor(attributes, service_endpoint, template_id)"
   ]
  },
  {
   "cell_type": "markdown",
   "metadata": {
    "lines_to_next_cell": 0
   },
   "source": [
    "## Section  Publish the asset\n",
    "With this metadata object prepared, we are ready to publish the asset into Ocean Protocol."
   ]
  },
  {
   "cell_type": "code",
   "execution_count": null,
   "metadata": {},
   "outputs": [],
   "source": [
    "ddo = ocn.assets.create(\n",
    "    metadata,\n",
    "    publisher_acct,\n",
    "    [service_descriptor],\n",
    "    providers=[publisher_acct.address]\n",
    ")\n",
    "registered_did = ddo.did\n",
    "print(\"New asset registered at\", registered_did)"
   ]
  },
  {
   "cell_type": "markdown",
   "metadata": {
    "lines_to_next_cell": 0
   },
   "source": [
    "Let's take a look at the compute service from the published DDO"
   ]
  },
  {
   "cell_type": "code",
   "execution_count": null,
   "metadata": {},
   "outputs": [],
   "source": [
    "compute_service = ddo.get_service(ServiceTypes.CLOUD_COMPUTE)\n",
    "pprint(\"Compute service definition: \\n{}\".format(json.dumps(compute_service.as_dictionary(), indent=2)))"
   ]
  },
  {
   "cell_type": "markdown",
   "metadata": {
    "lines_to_next_cell": 0
   },
   "source": [
    "Now let's run a python algorithm to do some analysis on this data\n",
    "Load the algorithm from file"
   ]
  },
  {
   "cell_type": "code",
   "execution_count": null,
   "metadata": {},
   "outputs": [],
   "source": [
    "algorithm_text = get_algorithm_example()\n",
    "print(f'algorithm: \\n{algorithm_text}')\n",
    "# build the algorithm metadata object to use in the compute request\n",
    "algorithm_meta = AlgorithmMetadata(\n",
    "    {\n",
    "        'language': 'python',\n",
    "        'rawcode': algorithm_text,\n",
    "        'container': {\n",
    "            'tag': 'latest',\n",
    "            'image': 'amancevice/pandas',\n",
    "            'entrypoint': 'python $ALGO'\n",
    "        }\n",
    "    }\n",
    ")\n",
    "# print(f'algorith meta: {algorithm_meta.as_dictionary()}')"
   ]
  },
  {
   "cell_type": "markdown",
   "metadata": {
    "lines_to_next_cell": 0
   },
   "source": [
    "Now we can prepare for running the remote compute, first we need to start an agreement to buy the service"
   ]
  },
  {
   "cell_type": "code",
   "execution_count": null,
   "metadata": {},
   "outputs": [],
   "source": [
    "# Create account and get some ether so we can submit transactions\n",
    "consumer_account = create_account(faucet_url, wait=True)\n",
    "\n",
    "if ocn.accounts.balance(publisher_acct).ocn == 0:\n",
    "    ocn.accounts.request_tokens(publisher_acct, 100)\n",
    "\n",
    "# Create the service agreement for compute service, payment goes automatically\n",
    "agreement_id = ocn.compute.order(\n",
    "    ddo.did,\n",
    "    consumer_account,\n",
    "    provider_address=publisher_acct.address\n",
    ")\n",
    "\n",
    "# Wait for the service approval\n",
    "payment_locked_event = ocn.keeper.lock_reward_condition.subscribe_condition_fulfilled(agreement_id, 30, None, [], wait=True)\n",
    "assert payment_locked_event, 'payment event was not found'\n",
    "compute_approval_event = ocn.keeper.compute_execution_condition.subscribe_condition_fulfilled(agreement_id, 30, None, [], wait=True)\n",
    "assert compute_approval_event, 'compute agreement is not approved yet.'"
   ]
  },
  {
   "cell_type": "markdown",
   "metadata": {
    "lines_to_next_cell": 0
   },
   "source": [
    "And finally, we can start the compute job"
   ]
  },
  {
   "cell_type": "code",
   "execution_count": null,
   "metadata": {},
   "outputs": [],
   "source": [
    "# Submit algorithm to start the compute job\n",
    "try:\n",
    "    job_id = ocn.compute.start(agreement_id, ddo.did, consumer_account, algorithm_meta=algorithm_meta)\n",
    "except Exception as err:\n",
    "    print(f'error: {err}')\n",
    "    job_id = ''\n",
    "\n",
    "# check the compute job status\n",
    "status = ocn.compute.status(agreement_id, job_id, consumer_account)\n",
    "print(f'compute job status: {status}')"
   ]
  },
  {
   "cell_type": "code",
   "execution_count": null,
   "metadata": {},
   "outputs": [],
   "source": [
    "# Wait for results\n",
    "trials = 0\n",
    "result = ocn.compute.result(agreement_id, job_id, consumer_account)\n",
    "while not result.get('urls'):\n",
    "    print(f'result not available yet, trial {trials}/30')\n",
    "    time.sleep(5)\n",
    "    result = ocn.compute.result(agreement_id, job_id, consumer_account)\n",
    "    trials = trials + 1\n",
    "    if trials > 30:\n",
    "        print(f'the run is taking too long, i give up.')\n",
    "        break\n",
    "\n",
    "print(f'got result from compute job: {result}')"
   ]
  }
 ],
 "metadata": {
  "jupytext": {
   "cell_metadata_filter": "-all",
   "main_language": "python",
   "notebook_metadata_filter": "-all"
  },
  "kernelspec": {
   "display_name": "Manta Ray",
   "language": "python",
   "name": "python3"
  }
 },
 "nbformat": 4,
 "nbformat_minor": 4
}
