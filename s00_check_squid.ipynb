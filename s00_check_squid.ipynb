{
 "cells": [
  {
   "cell_type": "markdown",
   "metadata": {},
   "source": [
    "\n",
    "<p><img src=\"https://oceanprotocol.com/static/media/banner-ocean-03@2x.b7272597.png\" alt=\"drawing\" width=\"800\" align=\"center\"/>"
   ]
  },
  {
   "cell_type": "markdown",
   "metadata": {
    "lines_to_next_cell": 2
   },
   "source": [
    "\n",
    "<h1><center>Ocean Protocol - Manta Ray project</center></h1>\n",
    "<h3><center>Decentralized Data Science and Engineering, powered by Ocean Protocol</center></h3>\n",
    "<p>Version 0.3 - alpha preview</p>\n",
    "<p><a href=\"https://github.com/oceanprotocol/mantaray\">mantaray on Github</a></p>\n",
    "<p>"
   ]
  },
  {
   "cell_type": "markdown",
   "metadata": {},
   "source": [
    "# Pre-sail checklist - Python API for Ocean\n",
    "With the Ocean Protocol components running, test the Squid API (Python API).\n",
    "Instantiate the wrapper with your selected `config.ini` file, or use the default for this environment."
   ]
  },
  {
   "cell_type": "code",
   "execution_count": null,
   "metadata": {
    "lines_to_next_cell": 0
   },
   "outputs": [],
   "source": [
    "# Standard imports\n",
    "import logging\n",
    "import os\n",
    "# Import mantaray and the Ocean API (squid)\n",
    "from squid_py.ocean.ocean import Ocean\n",
    "from squid_py.config import Config\n",
    "import mantaray_utilities as manta_utils\n",
    "manta_utils.logging.logger.setLevel('CRITICAL')"
   ]
  },
  {
   "cell_type": "code",
   "execution_count": null,
   "metadata": {
    "title": "For testing, set the desired environment"
   },
   "outputs": [],
   "source": [
    "# os.environ['USE_K8S_CLUSTER'] = 'true'"
   ]
  },
  {
   "cell_type": "code",
   "execution_count": null,
   "metadata": {},
   "outputs": [],
   "source": [
    "# Get the configuration file path for this environment\n",
    "logging.critical(\"Deployment type: {}\".format(manta_utils.config.get_deployment_type()))\n",
    "CONFIG_INI_PATH = manta_utils.config.get_config_file_path()\n",
    "logging.critical(\"Configuration file selected: {}\".format(CONFIG_INI_PATH))"
   ]
  },
  {
   "cell_type": "markdown",
   "metadata": {},
   "source": [
    "## Connect to Ocean with a configuration file"
   ]
  },
  {
   "cell_type": "code",
   "execution_count": null,
   "metadata": {},
   "outputs": [],
   "source": [
    "# Instantiate Ocean\n",
    "configuration = Config(CONFIG_INI_PATH)\n",
    "ocn = Ocean(configuration)"
   ]
  },
  {
   "cell_type": "code",
   "execution_count": null,
   "metadata": {},
   "outputs": [],
   "source": [
    "print(\"***OCEAN***\")\n",
    "print(\"{} accounts\".format(len(ocn.accounts)))\n",
    "for account in ocn.accounts:\n",
    "    print(account)\n",
    "\n",
    "# A utility function is provided to summarize the Ocean class\n",
    "manta_utils.asset_pretty_print.print_ocean(ocn)"
   ]
  },
  {
   "cell_type": "markdown",
   "metadata": {},
   "source": [
    "## Alternatively, connect to Ocean with a configuration dictionary\n",
    "\n",
    "config_dict = {\n",
    "    'keeper-contracts': {\n",
    "        # Point to an Ethereum RPC client. Note that Squid learns the name of the network to work with from this client.\n",
    "        'keeper.url': 'http://localhost:8545',\n",
    "        # Specify the keeper contracts artifacts folder (has the smart contracts definitions json files). When you\n",
    "        # install the package, the artifacts are automatically picked up from the `keeper-contracts` Python\n",
    "        # dependency unless you are using a local ethereum network.\n",
    "        'keeper.path': 'artifacts',\n",
    "        'secret_store.url': 'http://localhost:12001',\n",
    "        'parity.url': 'http://localhost:8545',\n",
    "        'parity.address': '',\n",
    "        'parity.password': '',\n",
    "\n",
    "    },\n",
    "    'resources': {\n",
    "        # aquarius is the metadata store. It stores the assets DDO/DID-document\n",
    "        'aquarius.url': 'http://localhost:5000',\n",
    "        # Brizo is the publisher's agent. It serves purchase and requests for both data access and compute services\n",
    "        'brizo.url': 'http://localhost:8030',\n",
    "        # points to the local database file used for storing temporary information (for instance, pending service agreements).\n",
    "        'storage.path': 'squid_py.db',\n",
    "        # Where to store downloaded asset files\n",
    "        'downloads.path': 'consume-downloads'\n",
    "    }\n",
    "}\n",
    "\n",
    "Instantiate Ocean\n",
    "configuration = Config(filename=None, options_dict=config_dict)\n",
    "ocn = Ocean(configuration)"
   ]
  }
 ],
 "metadata": {
  "jupytext": {
   "main_language": "python",
   "text_representation": {
    "extension": ".py",
    "format_name": "percent"
   }
  }
 },
 "nbformat": 4,
 "nbformat_minor": 2
}
