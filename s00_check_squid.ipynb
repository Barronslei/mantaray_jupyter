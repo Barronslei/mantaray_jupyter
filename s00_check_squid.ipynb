{
 "cells": [
  {
   "cell_type": "markdown",
   "metadata": {},
   "source": [
    "\n",
    "<p><img src=\"https://oceanprotocol.com/static/media/banner-ocean-03@2x.b7272597.png\" alt=\"drawing\" width=\"800\" align=\"center\"/>"
   ]
  },
  {
   "cell_type": "markdown",
   "metadata": {
    "lines_to_next_cell": 2
   },
   "source": [
    "\n",
    "<h1><center>Ocean Protocol - Manta Ray project</center></h1>\n",
    "<h3><center>Decentralized Data Science and Engineering, powered by Ocean Protocol</center></h3>\n",
    "<p>Version 0.5.3 - beta</p>\n",
    "<p>Package compatibility: squid-py v0.6.13, keeper-contracts 0.10.3, utilities 0.2.2,\n",
    "<p>Component compatibility (Nile): Brizo v0.3.12, Aquarius v0.3.4, Nile testnet smart contracts 0.10.3</p>\n",
    "\n",
    "<p><a href=\"https://github.com/oceanprotocol/mantaray\">mantaray on Github</a></p>\n",
    "<p>"
   ]
  },
  {
   "cell_type": "markdown",
   "metadata": {},
   "source": [
    "# Pre-sail checklist - Python API for Ocean\n",
    "With the Ocean Protocol components running, test the Squid API (Python API).\n",
    "Instantiate the API with your selected `config.ini` file, or use the default for this environment."
   ]
  },
  {
   "cell_type": "markdown",
   "metadata": {
    "lines_to_next_cell": 0
   },
   "source": [
    "## Import the API, `squid-py`, and a simple utilities library `mantaray_utilities`."
   ]
  },
  {
   "cell_type": "code",
   "execution_count": null,
   "metadata": {},
   "outputs": [],
   "source": [
    "# Standard imports\n",
    "import logging\n",
    "import json\n",
    "import pip_api\n",
    "from pathlib import Path\n",
    "import os\n",
    "\n",
    "# Import mantaray and the Ocean API (squid)\n",
    "import squid_py\n",
    "from squid_py.ocean.ocean import Ocean\n",
    "from squid_py import ConfigProvider\n",
    "from squid_py.config import Config\n",
    "import mantaray_utilities as manta_utils\n",
    "manta_utils.logging.logger.setLevel('INFO')\n",
    "from squid_py.keeper.web3_provider import Web3Provider\n",
    "\n",
    "print(\"squid-py Ocean API version:\", squid_py.__version__)"
   ]
  },
  {
   "cell_type": "markdown",
   "metadata": {},
   "source": [
    "In order to manage the different environments Mantaray runs in, we have a series of environment variables\n",
    "which are used in the utilities library to resolve paths and keep behavior consistent. In the JupyterHub\n",
    "deployment, all of this is taken care of for you."
   ]
  },
  {
   "cell_type": "code",
   "execution_count": null,
   "metadata": {},
   "outputs": [],
   "source": [
    "# Get the configuration file path for this environment\n",
    "OCEAN_CONFIG_PATH = Path(os.environ['OCEAN_CONFIG_PATH'])\n",
    "assert OCEAN_CONFIG_PATH.exists(), \"{} - path does not exist\".format(OCEAN_CONFIG_PATH)\n",
    "logging.info(\"OCEAN_CONFIG_PATH:{}\".format(OCEAN_CONFIG_PATH))"
   ]
  },
  {
   "cell_type": "markdown",
   "metadata": {},
   "source": [
    "## Connect to Ocean Protocol with the configuration file"
   ]
  },
  {
   "cell_type": "code",
   "execution_count": null,
   "metadata": {},
   "outputs": [],
   "source": [
    "# Load the configuration\n",
    "configuration = Config(OCEAN_CONFIG_PATH)\n",
    "print(\"Configuration loaded. Will connect to a node at: \", configuration.keeper_url)\n",
    "squid_py.ConfigProvider.set_config(configuration)"
   ]
  },
  {
   "cell_type": "markdown",
   "metadata": {},
   "source": [
    "Feel free to inspect the `configuration` object."
   ]
  },
  {
   "cell_type": "markdown",
   "metadata": {
    "lines_to_next_cell": 0
   },
   "source": [
    "From the configuration, instantiate the Ocean object, the interface to Ocean Protocol."
   ]
  },
  {
   "cell_type": "code",
   "execution_count": null,
   "metadata": {},
   "outputs": [],
   "source": [
    "# Instantiate Ocean\n",
    "ocn = Ocean(configuration)"
   ]
  },
  {
   "cell_type": "markdown",
   "metadata": {},
   "source": [
    "## Assert that your contract ABI files match those in the test network\n",
    "The following cell performs some sanity checks on versions of smart contracts. The smart contract signatures\n",
    "are placed in an 'artifacts' folder. When you pip-install the squid-py API, these artifacts are located in the\n",
    "virtual environment, and you don't need to worry about them. For demonstration purposes, I've moved the artifacts\n",
    "into the project folder here.\n",
    "\n",
    "from mantaray_utilities import assert_contracts\n",
    "manta_utils.assert_contracts.assert_contract_ABI_versions(ocn, 'nile')\n",
    "manta_utils.assert_contracts.assert_contract_code(ocn, 'nile')"
   ]
  },
  {
   "cell_type": "markdown",
   "metadata": {},
   "source": [
    "The following cell will print some summary information of the Ocean connection."
   ]
  },
  {
   "cell_type": "code",
   "execution_count": null,
   "metadata": {},
   "outputs": [],
   "source": [
    "print(\"***OCEAN***\")\n",
    "print(\"{} accounts\".format(len(ocn.accounts._accounts)))\n",
    "for i, account in enumerate(ocn.accounts._accounts):\n",
    "    print(i, account.address)"
   ]
  },
  {
   "cell_type": "markdown",
   "metadata": {},
   "source": [
    "## Alternatively, connect to Ocean with a configuration as dictionary"
   ]
  }
 ],
 "metadata": {
  "jupytext": {
   "cell_metadata_filter": "-all",
   "main_language": "python",
   "notebook_metadata_filter": "-all"
  },
  "kernelspec": {
   "display_name": "Manta Ray",
   "language": "python",
   "name": "python3"
  }
 },
 "nbformat": 4,
 "nbformat_minor": 2
}
