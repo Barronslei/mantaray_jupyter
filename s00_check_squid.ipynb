{
 "cells": [
  {
   "cell_type": "markdown",
   "metadata": {},
   "source": [
    "\n",
    "<p><img src=\"https://oceanprotocol.com/static/media/banner-ocean-03@2x.b7272597.png\" alt=\"drawing\" width=\"800\" align=\"center\"/>"
   ]
  },
  {
   "cell_type": "markdown",
   "metadata": {
    "lines_to_next_cell": 2
   },
   "source": [
    "\n",
    "<h1><center>Ocean Protocol - Manta Ray project</center></h1>\n",
    "<h3><center>Decentralized Data Science and Engineering, powered by Ocean Protocol</center></h3>\n",
    "<p>Version 0.4 - alpha preview</p>\n",
    "<p><a href=\"https://github.com/oceanprotocol/mantaray\">mantaray on Github</a></p>\n",
    "<p>"
   ]
  },
  {
   "cell_type": "markdown",
   "metadata": {},
   "source": [
    "# Pre-sail checklist - Python API for Ocean\n",
    "With the Ocean Protocol components running, test the Squid API (Python API).\n",
    "Instantiate the API with your selected `config.ini` file, or use the default for this environment."
   ]
  },
  {
   "cell_type": "markdown",
   "metadata": {
    "lines_to_next_cell": 0
   },
   "source": [
    "## Import the API, `squid-py`, and a simple utilities library `mantaray_utilities`."
   ]
  },
  {
   "cell_type": "code",
   "execution_count": null,
   "metadata": {},
   "outputs": [],
   "source": [
    "# Standard imports\n",
    "import logging\n",
    "\n",
    "# Import mantaray and the Ocean API (squid)\n",
    "from squid_py.ocean.ocean import Ocean\n",
    "from squid_py.config import Config\n",
    "import mantaray_utilities as manta_utils\n",
    "manta_utils.logging.logger.setLevel('CRITICAL')"
   ]
  },
  {
   "cell_type": "markdown",
   "metadata": {},
   "source": [
    "In order to manage the different environments Mantaray runs in, we have a series of environment variables\n",
    "which are used in the utilities library to resolve paths and keep behavior consistent. In the JupyterHub\n",
    "deployment, all of this is taken care of for you."
   ]
  },
  {
   "cell_type": "code",
   "execution_count": null,
   "metadata": {},
   "outputs": [],
   "source": [
    "# Get the configuration file path for this environment\n",
    "logging.critical(\"Deployment type: {}\".format(manta_utils.config.get_deployment_type()))\n",
    "\n",
    "CONFIG_INI_PATH = manta_utils.config.get_config_file_path()\n",
    "logging.critical(\"Configuration file selected: {}\".format(CONFIG_INI_PATH))"
   ]
  },
  {
   "cell_type": "markdown",
   "metadata": {},
   "source": [
    "## Connect to Ocean Protocal with the configuration file"
   ]
  },
  {
   "cell_type": "code",
   "execution_count": null,
   "metadata": {},
   "outputs": [],
   "source": [
    "# Load the configuration\n",
    "configuration = Config(CONFIG_INI_PATH)\n",
    "print(\"Configuration loaded. Will connect to a node at: \", configuration.keeper_url)"
   ]
  },
  {
   "cell_type": "markdown",
   "metadata": {},
   "source": [
    "Feel free to inspect the `configuration` object."
   ]
  },
  {
   "cell_type": "markdown",
   "metadata": {
    "lines_to_next_cell": 0
   },
   "source": [
    "From the configuration, instantiate the Ocean object, the primary interface to Ocean Protocol."
   ]
  },
  {
   "cell_type": "code",
   "execution_count": null,
   "metadata": {},
   "outputs": [],
   "source": [
    "# Instantiate Ocean\n",
    "ocn = Ocean(configuration)"
   ]
  },
  {
   "cell_type": "markdown",
   "metadata": {},
   "source": [
    "The following cell will print some summary information of the Ocean connection.\n",
    "TODO: add pretty printing of the connection"
   ]
  },
  {
   "cell_type": "code",
   "execution_count": null,
   "metadata": {},
   "outputs": [],
   "source": [
    "print(\"***OCEAN***\")\n",
    "print(\"{} accounts\".format(len(ocn.accounts._accounts)))\n",
    "for i, account in enumerate(ocn.accounts._accounts):\n",
    "    print(i, account.address)"
   ]
  },
  {
   "cell_type": "markdown",
   "metadata": {},
   "source": [
    "## Alternatively, connect to Ocean with a configuration as dictionary\n",
    "The configuration of the client (mantaray) can be inspected in the below code cells. The following configuration\n",
    "is set for local testing."
   ]
  },
  {
   "cell_type": "code",
   "execution_count": null,
   "metadata": {
    "lines_to_next_cell": 0
   },
   "outputs": [],
   "source": [
    "config_dict = {\n",
    "    'keeper-contracts': {\n",
    "        # Point to an Ethereum RPC client. Note that Squid learns the name of the network to work with from this client.\n",
    "        'keeper.url': 'http://localhost:8545',\n",
    "        # Specify the keeper contracts artifacts folder (has the smart contracts definitions json files). When you\n",
    "        # install the package, the artifacts are automatically picked up from the `keeper-contracts` Python\n",
    "        # dependency unless you are using a local ethereum network.\n",
    "        'keeper.path': 'artifacts',\n",
    "        'secret_store.url': 'http://localhost:12001',\n",
    "        'parity.url': 'http://localhost:8545',\n",
    "        'parity.address': '',\n",
    "        'parity.password': '',\n",
    "\n",
    "    },\n",
    "    'resources': {\n",
    "        # aquarius is the metadata store. It stores the assets DDO/DID-document\n",
    "        'aquarius.url': 'http://localhost:5000',\n",
    "        # Brizo is the publisher's agent. It serves purchase and requests for both data access and compute services\n",
    "        'brizo.url': 'http://localhost:8030',\n",
    "        # points to the local database file used for storing temporary information (for instance, pending service agreements).\n",
    "        'storage.path': 'squid_py.db',\n",
    "        # Where to store downloaded asset files\n",
    "        'downloads.path': 'consume-downloads'\n",
    "    }\n",
    "}"
   ]
  },
  {
   "cell_type": "code",
   "execution_count": null,
   "metadata": {
    "lines_to_next_cell": 0
   },
   "outputs": [],
   "source": [
    "# You may modify the dictionary object and uncomment the next cell to test"
   ]
  },
  {
   "cell_type": "markdown",
   "metadata": {},
   "source": [
    "```\n",
    "# Instantiate Ocean from the above dictionary\n",
    "configuration = Config(filename=None, options_dict=config_dict)\n",
    "ocn = Ocean(configuration)\n",
    "print(\"***OCEAN***\")\n",
    "print(\"{} accounts\".format(len(ocn.accounts._accounts)))\n",
    "for i, account in enumerate(ocn.accounts._accounts):\n",
    "    print(i, account.address)\n",
    "```"
   ]
  }
 ],
 "metadata": {
  "jupytext": {
   "main_language": "python",
   "text_representation": {
    "extension": ".py",
    "format_name": "percent"
   }
  },
  "kernelspec": {
   "display_name": "Manta Ray",
   "language": "python",
   "name": "mantaray"
  }
 },
 "nbformat": 4,
 "nbformat_minor": 2
}
