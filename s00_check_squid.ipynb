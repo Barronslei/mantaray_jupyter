{
 "cells": [
  {
   "cell_type": "markdown",
   "metadata": {},
   "source": [
    "\n",
    "<p><img src=\"https://oceanprotocol.com/static/media/banner-ocean-03@2x.b7272597.png\" alt=\"drawing\" width=\"800\" align=\"center\"/>"
   ]
  },
  {
   "cell_type": "markdown",
   "metadata": {
    "lines_to_next_cell": 2
   },
   "source": [
    "\n",
    "<h1><center>Ocean Protocol - Manta Ray project</center></h1>\n",
    "<h3><center>Decentralized Data Science and Engineering, powered by Ocean Protocol</center></h3>\n",
    "<p>Version 0.4 - alpha preview</p>\n",
    "<p><a href=\"https://github.com/oceanprotocol/mantaray\">mantaray on Github</a></p>\n",
    "<p>"
   ]
  },
  {
   "cell_type": "markdown",
   "metadata": {},
   "source": [
    "# Pre-sail checklist - Python API for Ocean\n",
    "With the Ocean Protocol components running, test the Squid API (Python API).\n",
    "Instantiate the API with your selected `config.ini` file, or use the default for this environment."
   ]
  },
  {
   "cell_type": "markdown",
   "metadata": {
    "lines_to_next_cell": 0
   },
   "source": [
    "## Import the API, `squid-py`, and a simple utilities library `mantaray_utilities`."
   ]
  },
  {
   "cell_type": "code",
   "execution_count": 11,
   "metadata": {},
   "outputs": [
    {
     "name": "stdout",
     "output_type": "stream",
     "text": [
      "squid-py Ocean API version: 0.4.3\n"
     ]
    }
   ],
   "source": [
    "# Standard imports\n",
    "import logging\n",
    "\n",
    "# Import mantaray and the Ocean API (squid)\n",
    "import squid_py\n",
    "from squid_py.ocean.ocean import Ocean\n",
    "from squid_py.config import Config\n",
    "import mantaray_utilities as manta_utils\n",
    "manta_utils.logging.logger.setLevel('CRITICAL')\n",
    "\n",
    "print(\"squid-py Ocean API version:\", squid_py.__version__)"
   ]
  },
  {
   "cell_type": "markdown",
   "metadata": {},
   "source": [
    "In order to manage the different environments Mantaray runs in, we have a series of environment variables\n",
    "which are used in the utilities library to resolve paths and keep behavior consistent. In the JupyterHub\n",
    "deployment, all of this is taken care of for you."
   ]
  },
  {
   "cell_type": "code",
   "execution_count": 12,
   "metadata": {},
   "outputs": [
    {
     "name": "stderr",
     "output_type": "stream",
     "text": [
      "50 - <ipython-input-12-e7efd7b9720d> - <module>        - Deployment type: USE_K8S_CLUSTER\n",
      "50 - <ipython-input-12-e7efd7b9720d> - <module>        - Configuration file selected: /home/batman/ocn/mantaray_jupyter/config_k8s_deployed.ini\n"
     ]
    }
   ],
   "source": [
    "# Get the configuration file path for this environment\n",
    "logging.critical(\"Deployment type: {}\".format(manta_utils.config.get_deployment_type()))\n",
    "\n",
    "CONFIG_INI_PATH = manta_utils.config.get_config_file_path()\n",
    "logging.critical(\"Configuration file selected: {}\".format(CONFIG_INI_PATH))"
   ]
  },
  {
   "cell_type": "markdown",
   "metadata": {},
   "source": [
    "## Connect to Ocean Protocal with the configuration file"
   ]
  },
  {
   "cell_type": "code",
   "execution_count": 13,
   "metadata": {},
   "outputs": [
    {
     "name": "stdout",
     "output_type": "stream",
     "text": [
      "Configuration loaded. Will connect to a node at:  https://nile.dev-ocean.com\n"
     ]
    }
   ],
   "source": [
    "# Load the configuration\n",
    "configuration = Config(CONFIG_INI_PATH)\n",
    "print(\"Configuration loaded. Will connect to a node at: \", configuration.keeper_url)"
   ]
  },
  {
   "cell_type": "markdown",
   "metadata": {},
   "source": [
    "Feel free to inspect the `configuration` object."
   ]
  },
  {
   "cell_type": "markdown",
   "metadata": {
    "lines_to_next_cell": 0
   },
   "source": [
    "From the configuration, instantiate the Ocean object, the primary interface to Ocean Protocol."
   ]
  },
  {
   "cell_type": "code",
   "execution_count": 14,
   "metadata": {},
   "outputs": [],
   "source": [
    "# Instantiate Ocean\n",
    "ocn = Ocean(configuration)"
   ]
  },
  {
   "cell_type": "markdown",
   "metadata": {},
   "source": [
    "The following cell will print some summary information of the Ocean connection.\n",
    "TODO: add pretty printing of the connection"
   ]
  },
  {
   "cell_type": "code",
   "execution_count": 15,
   "metadata": {},
   "outputs": [
    {
     "name": "stdout",
     "output_type": "stream",
     "text": [
      "***OCEAN***\n",
      "27 accounts\n",
      "0 0x0207cb2f99EB2e005893d6108E2633641Ca9cC3e\n",
      "1 0x064789569D09b4d40b54383d84A25A840E5D67aD\n",
      "2 0x06C0035fE67Cce2B8862D63Dc315D8C8c72207cA\n",
      "3 0x07aCfF76eB4A10c92B89965B0e174B35d887cB0b\n",
      "4 0x0A7a04DEdFE9A4859bcEdD2F21dcA8110499bed9\n",
      "5 0x1322A6ef2c560107733bFc622Fe556961Cb430a5\n",
      "6 0x1549193cc522A1716be4886879cD5f0964A3073C\n",
      "7 0x15C8249D657ad28daa56662ad4ee18dA4377d1a4\n",
      "8 0x170ff54d7bbD527B7bdF04770845bd727a531d9c\n",
      "9 0x1769AAf66658DC2D7782796ac2fF350d4ecf96Cd\n",
      "10 0x17d25A173C9914ee09221EA8E490D296121e51F2\n",
      "11 0x291456dbD9119Ed4e4FE261246F5985ebF4e7Ae9\n",
      "12 0x2c918a0EF92f0b7113c8c4a966CC4f22AfA5652f\n",
      "13 0x2DFeEe7Ac1a126AF0d254235D0e21F43d5c9B103\n",
      "14 0x2E92872deE4Cd4f5d5544C257cAa2A66710bE73D\n",
      "15 0x33333759e516dD51b533777b733a40c2EbD4869D\n",
      "16 0x364BA547Fb1a96881D59CC193641DDB4D891a6E2\n",
      "17 0x3C5bdEBBB588f6d7ebBbC74b6Ed56f3b9dF2f7e2\n",
      "18 0x3F367a69C2559a4B90044eA6b6dfF7E0fE4a52E6\n",
      "19 0x413c9BA0A05B8A600899B41b0c62dd661e689354\n",
      "20 0x43E6b79B696b1d8E21d5A23118A1BF1b565C3831\n",
      "21 0x442aCf84E05459e13595f372C49D4a15E95eA4E7\n",
      "22 0x4439526405BD6119bdC8a0B2c7616B8eF2cB8751\n",
      "23 0x44E07D8190Cc0f0eCCC9C935D5EA47194301Cb00\n",
      "24 0x45234B8c216231c2c31785aE4F5DceB858A8Ec71\n",
      "25 0x4655b0C31a26aB4D3e6Dd85d51690E038290D4e0\n",
      "26 0x852eaB9A4529cCe71Aa3F191da6900d57C802881\n"
     ]
    }
   ],
   "source": [
    "print(\"***OCEAN***\")\n",
    "print(\"{} accounts\".format(len(ocn.accounts._accounts)))\n",
    "for i, account in enumerate(ocn.accounts._accounts):\n",
    "    print(i, account.address)"
   ]
  },
  {
   "cell_type": "markdown",
   "metadata": {},
   "source": [
    "## Alternatively, connect to Ocean with a configuration as dictionary\n",
    "The configuration of the client (mantaray) can be inspected in the below code cells. The following configuration\n",
    "is set for local testing."
   ]
  },
  {
   "cell_type": "code",
   "execution_count": 16,
   "metadata": {
    "lines_to_next_cell": 0
   },
   "outputs": [],
   "source": [
    "config_dict = {\n",
    "    'keeper-contracts': {\n",
    "        # Point to an Ethereum RPC client. Note that Squid learns the name of the network to work with from this client.\n",
    "        'keeper.url': 'http://localhost:8545',\n",
    "        # Specify the keeper contracts artifacts folder (has the smart contracts definitions json files). When you\n",
    "        # install the package, the artifacts are automatically picked up from the `keeper-contracts` Python\n",
    "        # dependency unless you are using a local ethereum network.\n",
    "        'keeper.path': 'artifacts',\n",
    "        'secret_store.url': 'http://localhost:12001',\n",
    "        'parity.url': 'http://localhost:8545',\n",
    "        'parity.address': '',\n",
    "        'parity.password': '',\n",
    "\n",
    "    },\n",
    "    'resources': {\n",
    "        # aquarius is the metadata store. It stores the assets DDO/DID-document\n",
    "        'aquarius.url': 'http://localhost:5000',\n",
    "        # Brizo is the publisher's agent. It serves purchase and requests for both data access and compute services\n",
    "        'brizo.url': 'http://localhost:8030',\n",
    "        # points to the local database file used for storing temporary information (for instance, pending service agreements).\n",
    "        'storage.path': 'squid_py.db',\n",
    "        # Where to store downloaded asset files\n",
    "        'downloads.path': 'consume-downloads'\n",
    "    }\n",
    "}"
   ]
  },
  {
   "cell_type": "code",
   "execution_count": 9,
   "metadata": {
    "lines_to_next_cell": 0
   },
   "outputs": [],
   "source": [
    "# You may modify the dictionary object and uncomment the next cell to test"
   ]
  },
  {
   "cell_type": "markdown",
   "metadata": {},
   "source": [
    "```\n",
    "# Instantiate Ocean from the above dictionary\n",
    "configuration = Config(filename=None, options_dict=config_dict)\n",
    "ocn = Ocean(configuration)\n",
    "print(\"***OCEAN***\")\n",
    "print(\"{} accounts\".format(len(ocn.accounts._accounts)))\n",
    "for i, account in enumerate(ocn.accounts._accounts):\n",
    "    print(i, account.address)\n",
    "```"
   ]
  }
 ],
 "metadata": {
  "jupytext": {
   "main_language": "python",
   "text_representation": {
    "extension": ".py",
    "format_name": "percent"
   }
  },
  "kernelspec": {
   "display_name": "mantaray",
   "language": "python",
   "name": "mantaray"
  },
  "language_info": {
   "codemirror_mode": {
    "name": "ipython",
    "version": 3
   },
   "file_extension": ".py",
   "mimetype": "text/x-python",
   "name": "python",
   "nbconvert_exporter": "python",
   "pygments_lexer": "ipython3",
   "version": "3.6.7"
  }
 },
 "nbformat": 4,
 "nbformat_minor": 2
}
