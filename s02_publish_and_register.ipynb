{
 "cells": [
  {
   "cell_type": "markdown",
   "metadata": {},
   "source": [
    "\n",
    "<p><img src=\"https://oceanprotocol.com/static/media/banner-ocean-03@2x.b7272597.png\" alt=\"drawing\" width=\"800\" align=\"center\"/>"
   ]
  },
  {
   "cell_type": "markdown",
   "metadata": {
    "lines_to_next_cell": 2
   },
   "source": [
    "<h1><center>Ocean Protocol - Manta Ray project</center></h1>\n",
    "<h3><center>Decentralized Data Science and Engineering, powered by Ocean Protocol</center></h3>\n",
    "<p>Version 0.5.2 - beta</p>\n",
    "<p>Package compatibility: squid-py v0.5.11, keeper-contracts 0.9.0, utilities 0.2.1,\n",
    "<p>Component compatibility: Brizo v0.3.2, Aquarius v0.2.1, Nile testnet smart contracts 0.8.6</p>\n",
    "<p><a href=\"https://github.com/oceanprotocol/mantaray\">mantaray on Github</a></p>\n",
    "<p>"
   ]
  },
  {
   "cell_type": "markdown",
   "metadata": {},
   "source": [
    "# Getting Underway - Publishing assets\n",
    "In this notebook, we will explore how to publish an Asset using Ocean Protocol. An Asset consists of several files\n",
    "which are kept private, and optionally other links which are open (samples, descriptions, etc.).\n",
    "\n",
    "A publisher will require access to two services;\n",
    "1. A service to store the MetaData of the asset (part of the DDO) - 'Aquarius'\n",
    "1. A service to manage permissioned access to the assets - 'Brizo'\n",
    "\n",
    "The publishing of an asset consists of;\n",
    "1. Preparing the asset files locally\n",
    "1. Preparing the metadata of the asset\n",
    "1. Uploading assets or otherwise making them available as URL's\n",
    "1. Registering the metadata and service endpoints into Aquarius\n",
    "1. Registering the asset into the Blockchain (into the DID Registry)"
   ]
  },
  {
   "cell_type": "markdown",
   "metadata": {},
   "source": [
    "<p><img src=\"https://raw.githubusercontent.com/oceanprotocol/mantaray/develop/doc/img/jupyter_cell.png\" alt=\"drawing\" width=\"400\" align=\"center\"/></p>\n",
    "<p><b>Overall client and service architecture</b></p>"
   ]
  },
  {
   "cell_type": "markdown",
   "metadata": {},
   "source": [
    "### Section 0: Import modules, connect the Ocean Protocol API"
   ]
  },
  {
   "cell_type": "code",
   "execution_count": null,
   "metadata": {},
   "outputs": [],
   "source": [
    "# Standard imports\n",
    "import logging\n",
    "\n",
    "# Import mantaray and the Ocean API (squid)\n",
    "import random\n",
    "import squid_py\n",
    "from squid_py.ocean.ocean import Ocean\n",
    "from squid_py.config import Config\n",
    "import mantaray_utilities as manta_utils\n",
    "from mantaray_utilities.user import password_map\n",
    "from pprint import pprint\n",
    "# Setup logging\n",
    "manta_utils.logging.logger.setLevel('INFO')\n",
    "from time import sleep\n",
    "print(\"squid-py Ocean API version:\", squid_py.__version__)"
   ]
  },
  {
   "cell_type": "code",
   "execution_count": null,
   "metadata": {},
   "outputs": [],
   "source": [
    "# Get the configuration file path for this environment\n",
    "CONFIG_INI_PATH = manta_utils.config.get_config_file_path()\n",
    "logging.critical(\"Deployment type: {}\".format(manta_utils.config.get_deployment_type()))\n",
    "logging.critical(\"Configuration file selected: {}\".format(CONFIG_INI_PATH))\n",
    "logging.critical(\"Squid API version: {}\".format(squid_py.__version__))"
   ]
  },
  {
   "cell_type": "code",
   "execution_count": null,
   "metadata": {},
   "outputs": [],
   "source": [
    "# Instantiate Ocean with the default configuration file.\n",
    "configuration = Config(CONFIG_INI_PATH)\n",
    "ocn = Ocean(configuration)"
   ]
  },
  {
   "cell_type": "markdown",
   "metadata": {},
   "source": [
    "### Section 1: A publisher account in Ocean"
   ]
  },
  {
   "cell_type": "code",
   "execution_count": null,
   "metadata": {},
   "outputs": [],
   "source": [
    "# Get a publisher account\n",
    "\n",
    "publisher_acct = manta_utils.user.get_account_by_index(ocn,0)\n",
    "\n",
    "# path_passwords = manta_utils.config.get_project_path() / 'passwords.csv'\n",
    "# passwords = manta_utils.user.load_passwords(path_passwords)\n",
    "#\n",
    "# publisher_acct = random.choice([acct for acct in ocn.accounts.list() if password_map(acct.address, passwords)])\n",
    "# publisher_acct.password = password_map(publisher_acct.address, passwords)\n",
    "# assert publisher_acct.password"
   ]
  },
  {
   "cell_type": "code",
   "execution_count": null,
   "metadata": {},
   "outputs": [],
   "source": [
    "print(\"Publisher account address: {}\".format(publisher_acct.address))\n",
    "print(\"Publisher account Testnet 'ETH' balance: {:>6.1f}\".format(ocn.accounts.balance(publisher_acct).eth/10**18))\n",
    "print(\"Publisher account Testnet Ocean balance: {:>6.1f}\".format(ocn.accounts.balance(publisher_acct).ocn/10**18))"
   ]
  },
  {
   "cell_type": "markdown",
   "metadata": {},
   "source": [
    "Your account will need some Ocean Token to make real transactions, let's ensure that you are funded!"
   ]
  },
  {
   "cell_type": "code",
   "execution_count": null,
   "metadata": {},
   "outputs": [],
   "source": [
    "# ensure Ocean token balance\n",
    "# if ocn.accounts.balance(publisher_acct).ocn == 0:\n",
    "#     ocn.accounts.request_tokens(publisher_acct, 100)"
   ]
  },
  {
   "cell_type": "markdown",
   "metadata": {},
   "source": [
    "### Section 2: Create the Metadata for your asset\n",
    "The metadata is a key-value set of attributes which describe your asset\n",
    "\n",
    "A more complex use case is to manually generate your metadata conforming to Ocean standard, but for demonstration purposes,\n",
    "a utility in squid-py is used to generate a sample Meta Data dictionary."
   ]
  },
  {
   "cell_type": "code",
   "execution_count": null,
   "metadata": {},
   "outputs": [],
   "source": [
    "# Get a simple example of Meta Data from the library directly\n",
    "metadata = squid_py.ddo.metadata.Metadata.get_example()\n",
    "print('Name of asset:', metadata['base']['name'])\n",
    "# Print the entire (JSON) dictionary\n",
    "pprint(metadata)"
   ]
  },
  {
   "cell_type": "markdown",
   "metadata": {
    "lines_to_next_cell": 0
   },
   "source": [
    "Note that the price is included in the Metadata! This will be purchase price you are placing on the asset. You can\n",
    "Alter the metadata object at any time before publishing."
   ]
  },
  {
   "cell_type": "code",
   "execution_count": null,
   "metadata": {},
   "outputs": [],
   "source": [
    "print(\"Price of Asset:\", metadata['base']['price'])\n",
    "metadata['base']['price'] = 9\n",
    "print(\"Updated price of Asset:\", metadata['base']['price'])"
   ]
  },
  {
   "cell_type": "markdown",
   "metadata": {},
   "source": [
    "Let's inspect another important component of your metadata - the actual asset files. The files of an asset are\n",
    "described by valid URL's. You are responsible for ensuring the URL's are alive. Files may have additional\n",
    "information, including a checksum, length, content type, etc."
   ]
  },
  {
   "cell_type": "code",
   "execution_count": null,
   "metadata": {},
   "outputs": [],
   "source": [
    "for i, file in enumerate(metadata['base']['files']):\n",
    "    print(\"Asset link {}: {}\".format( i, file['url']))"
   ]
  },
  {
   "cell_type": "markdown",
   "metadata": {},
   "source": [
    "## Section 3 Publish the asset\n",
    "With this metadata object prepared, we are ready to publish the asset into Ocean Protocol.\n",
    "\n",
    "The result will be an ID string (DID) registered into the smart contract, and a DID Document stored in Aquarius.\n",
    "The asset URLS's are encrypted upon publishing."
   ]
  },
  {
   "cell_type": "code",
   "execution_count": null,
   "metadata": {
    "lines_to_next_cell": 0
   },
   "outputs": [],
   "source": [
    "ddo = ocn.assets.create(metadata, publisher_acct)\n",
    "registered_did = ddo.did\n",
    "print(\"New asset registered at\", registered_did)"
   ]
  },
  {
   "cell_type": "markdown",
   "metadata": {
    "lines_to_next_cell": 0
   },
   "source": [
    "Inspect the new DDO. We can retrieve the DDO as a dictionary object, feel free to explore the DDO in the cell below!"
   ]
  },
  {
   "cell_type": "code",
   "execution_count": null,
   "metadata": {},
   "outputs": [],
   "source": [
    "ddo_dict = ddo.as_dictionary()\n",
    "print(\"DID:\", ddo.did)\n",
    "print(\"Services within this DDO:\")\n",
    "for svc in ddo_dict['service']:\n",
    "    print(svc['type'], svc['serviceEndpoint'])"
   ]
  },
  {
   "cell_type": "markdown",
   "metadata": {
    "lines_to_next_cell": 0
   },
   "source": [
    "Note that the 'files' attribute has been modified - all URL's are now removed, and a new 'encryptedFiles'\n",
    "attribute is created to store the actual URLs."
   ]
  },
  {
   "cell_type": "code",
   "execution_count": null,
   "metadata": {},
   "outputs": [],
   "source": [
    "for file_attrib in ddo.metadata['base']['files']:\n",
    "    assert 'url' not in file_attrib\n",
    "print(\"Encrypted files decrypt on purchase! Cipher text: [{}...] . \".format(ddo.metadata['base']['encryptedFiles'][:50]))"
   ]
  },
  {
   "cell_type": "markdown",
   "metadata": {
    "lines_to_next_cell": 0
   },
   "source": [
    "## Section 4: Verify your asset\n",
    "Now, let's verify that this asset exists in the MetaData storage.\n",
    "\n",
    "A call to assets.resolve() will call the Aquarius service and retrieve the DID Document"
   ]
  },
  {
   "cell_type": "code",
   "execution_count": null,
   "metadata": {
    "lines_to_next_cell": 0
   },
   "outputs": [],
   "source": [
    "#+attr_jupyter: some cell metadata stuff\n",
    "#+attr_jupyter: some other metadata stuff\n",
    "\n",
    "#TODO: Better handling based on reciept\n",
    "print(\"Wait for the transaction to complete!\")\n",
    "sleep(10)"
   ]
  },
  {
   "cell_type": "code",
   "execution_count": null,
   "metadata": {},
   "outputs": [],
   "source": [
    "ddo = ocn.assets.resolve(registered_did)\n",
    "print(\"Asset '{}' resolved from Aquarius metadata storage: {}\".format(ddo.did,ddo.metadata['base']['name']))"
   ]
  },
  {
   "cell_type": "markdown",
   "metadata": {},
   "source": [
    "Similarly, we can verify that this asset is registered into the blockchain, and that you are the owner."
   ]
  },
  {
   "cell_type": "code",
   "execution_count": null,
   "metadata": {},
   "outputs": [],
   "source": [
    "# We need the pure ID string as in the DID registry (a DID without the prefixes)\n",
    "asset_id = squid_py.did.did_to_id(registered_did)\n",
    "owner = ocn._keeper.did_registry.contract_concise.getDIDOwner(asset_id)\n",
    "print(\"Asset ID\", asset_id, \"owned by\", owner)\n",
    "assert str.lower(owner) == str.lower(publisher_acct.address)"
   ]
  },
  {
   "cell_type": "markdown",
   "metadata": {
    "lines_to_next_cell": 3
   },
   "source": [
    "Congratulations on publishing an Asset into Ocean Protocol!\n",
    "\n",
    "Next, let's search for our assets in Ocean Protocol"
   ]
  }
 ],
 "metadata": {
  "jupytext": {
   "main_language": "python",
   "text_representation": {
    "extension": ".py",
    "format_name": "percent"
   }
  },
  "kernelspec": {
   "display_name": "Manta Ray",
   "language": "python",
   "name": "python3"
  }
 },
 "nbformat": 4,
 "nbformat_minor": 2
}
