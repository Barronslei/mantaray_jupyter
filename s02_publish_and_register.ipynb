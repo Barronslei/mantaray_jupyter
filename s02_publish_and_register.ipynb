{
 "cells": [
  {
   "cell_type": "markdown",
   "metadata": {},
   "source": [
    "\n",
    "<p><img src=\"https://oceanprotocol.com/static/media/banner-ocean-03@2x.b7272597.png\" alt=\"drawing\" width=\"800\" align=\"center\"/>"
   ]
  },
  {
   "cell_type": "markdown",
   "metadata": {
    "lines_to_next_cell": 2
   },
   "source": [
    "<h1><center>Ocean Protocol - Manta Ray project</center></h1>\n",
    "<h3><center>Decentralized Data Science and Engineering, powered by Ocean Protocol</center></h3>\n",
    "<p>Version 0.5 - alpha</p>\n",
    "<p>Package compatibility: squid-py v0.5.4, keeper-contracts 0.8.6, utilities 0.2.0,\n",
    "<p>Component compatibility: Brizo v0.2.9, Aquarius v0.1.11, Nile testnet smart contracts 0.8.6</p>\n",
    "<p><a href=\"https://github.com/oceanprotocol/mantaray\">mantaray on Github</a></p>\n",
    "<p>"
   ]
  },
  {
   "cell_type": "markdown",
   "metadata": {},
   "source": [
    "# Getting Underway - Publishing assets\n",
    "In this notebook, we will explore how to publish an Asset using Ocean Protocol. An Asset consists of several files\n",
    "which are kept private, and optionally other links which are open (samples, descriptions, etc.).\n",
    "\n",
    "A publisher will require access to two services;\n",
    "1. A service to store the MetaData of the asset (part of the DDO) - 'Aquarius'\n",
    "1. A service to manage permissioned access to the assets - 'Brizo'\n",
    "\n",
    "The publishing of an asset consists of;\n",
    "1. Preparing the asset files locally\n",
    "1. Preparing the metadata of the asset\n",
    "1. Uploading assets or otherwise making them available as URL's\n",
    "1. Registering the metadata and service endpoints into Aquarius\n",
    "1. Registering the asset into the Blockchain (into the DID Registry)"
   ]
  },
  {
   "cell_type": "markdown",
   "metadata": {},
   "source": [
    "<p><img src=\"https://raw.githubusercontent.com/oceanprotocol/mantaray/develop/doc/img/jupyter_cell.png\" alt=\"drawing\" width=\"400\" align=\"center\"/></p>\n",
    "<p><b>Overall client and service architecture</b></p>"
   ]
  },
  {
   "cell_type": "markdown",
   "metadata": {},
   "source": [
    "### Section 0: Import modules, connect the Ocean Protocol API"
   ]
  },
  {
   "cell_type": "code",
   "execution_count": 1,
   "metadata": {},
   "outputs": [
    {
     "name": "stderr",
     "output_type": "stream",
     "text": [
      "10 - logging         - <module>        - Logging started\n"
     ]
    },
    {
     "name": "stdout",
     "output_type": "stream",
     "text": [
      "Using default logging settings.\n",
      "squid-py Ocean API version: 0.5.11\n"
     ]
    }
   ],
   "source": [
    "# Standard imports\n",
    "import logging\n",
    "\n",
    "# Import mantaray and the Ocean API (squid)\n",
    "import random\n",
    "import squid_py\n",
    "from squid_py.ocean.ocean import Ocean\n",
    "from squid_py.config import Config\n",
    "import mantaray_utilities as manta_utils\n",
    "from mantaray_utilities.user import password_map\n",
    "from pprint import pprint\n",
    "# Setup logging\n",
    "manta_utils.logging.logger.setLevel('INFO')\n",
    "from time import sleep\n",
    "print(\"squid-py Ocean API version:\", squid_py.__version__)"
   ]
  },
  {
   "cell_type": "code",
   "execution_count": 2,
   "metadata": {},
   "outputs": [
    {
     "name": "stderr",
     "output_type": "stream",
     "text": [
      "50 - <ipython-input-2-84136f362abd> - <module>        - Deployment type: USE_K8S_CLUSTER\n",
      "50 - <ipython-input-2-84136f362abd> - <module>        - Configuration file selected: /home/batman/ocn/mantaray_jupyter/config_k8s_deployed.ini\n",
      "50 - <ipython-input-2-84136f362abd> - <module>        - Squid API version: 0.5.11\n"
     ]
    }
   ],
   "source": [
    "# Get the configuration file path for this environment\n",
    "CONFIG_INI_PATH = manta_utils.config.get_config_file_path()\n",
    "logging.critical(\"Deployment type: {}\".format(manta_utils.config.get_deployment_type()))\n",
    "logging.critical(\"Configuration file selected: {}\".format(CONFIG_INI_PATH))\n",
    "logging.critical(\"Squid API version: {}\".format(squid_py.__version__))"
   ]
  },
  {
   "cell_type": "code",
   "execution_count": 3,
   "metadata": {},
   "outputs": [
    {
     "name": "stderr",
     "output_type": "stream",
     "text": [
      "20 - ocean_secret_store - __init__        - \tSecretStore: url https://secret-store.dev-ocean.com, parity-client https://nile.dev-ocean.com, account 0x44E07D8190Cc0f0eCCC9C935D5EA47194301Cb00\n",
      "20 - diagnostics     - verify_contracts - Keeper contract artifacts (JSON abi files) at: /home/batman/ocn/mantaray_jupyter/artifacts_nile\n",
      "20 - diagnostics     - verify_contracts - Using keeper contracts from network nile, network id is 8995\n",
      "20 - diagnostics     - verify_contracts - Looking for keeper contracts ending with \".nile.json\", e.g. \"AgreementStoreManager.nile.json\".\n",
      "20 - diagnostics     - verify_contracts - Finished loading keeper contracts:\n",
      "\tDispenser: 0x865396b7ddc58C693db7FCAD1168E3BD95Fe3368\n",
      "\tOceanToken: 0x9861Da395d7da984D5E8C712c2EDE44b41F777Ad\n",
      "\tDIDRegistry: 0x4A0f7F763B1A7937aED21D63b2A78adc89c5Db23\n",
      "\tAgreementStoreManager: 0x62f84700b1A0ea6Bfb505aDC3c0286B7944D247C\n",
      "\tTemplateStoreManager: 0x9768c8ae44f1dc81cAA98F48792aA5730cAd2F73\n",
      "\tConditionStoreManager: 0x39b0AA775496C5ebf26f3B81C9ed1843f09eE466\n",
      "\tAccessSecretStoreCondition: 0x45DE141F8Efc355F1451a102FB6225F1EDd2921d\n",
      "\tSignCondition: 0x5a4301F8a7a8A13485621b9B4C82B1E66c112ee2\n",
      "\tLockRewardCondition: 0xE30FC30c678437e0e8F78C52dE9db8E2752781a0\n",
      "\tEscrowAccessSecretStoreTemplate: 0xfA16d26e9F4fffC6e40963B281a0bB08C31ed40C\n",
      "\tEscrowReward: 0xeD4Ef53376C6f103d2d7029D7E702e082767C6ff\n",
      "\tHashLockCondition: 0xB5f2e45e8aD4a1339D542f2defd5095B98054590\n",
      "20 - ocean           - __init__        - Squid Ocean instance initialized: \n",
      "20 - ocean           - __init__        - \tOther accounts: ['0x0207cb2f99EB2e005893d6108E2633641Ca9cC3e', '0x064789569D09b4d40b54383d84A25A840E5D67aD', '0x06C0035fE67Cce2B8862D63Dc315D8C8c72207cA', '0x07aCfF76eB4A10c92B89965B0e174B35d887cB0b', '0x0A7a04DEdFE9A4859bcEdD2F21dcA8110499bed9', '0x1322A6ef2c560107733bFc622Fe556961Cb430a5', '0x1549193cc522A1716be4886879cD5f0964A3073C', '0x15C8249D657ad28daa56662ad4ee18dA4377d1a4', '0x170ff54d7bbD527B7bdF04770845bd727a531d9c', '0x1769AAf66658DC2D7782796ac2fF350d4ecf96Cd', '0x17d25A173C9914ee09221EA8E490D296121e51F2', '0x291456dbD9119Ed4e4FE261246F5985ebF4e7Ae9', '0x2DFeEe7Ac1a126AF0d254235D0e21F43d5c9B103', '0x2E92872deE4Cd4f5d5544C257cAa2A66710bE73D', '0x2c918a0EF92f0b7113c8c4a966CC4f22AfA5652f', '0x33333759e516dD51b533777b733a40c2EbD4869D', '0x364BA547Fb1a96881D59CC193641DDB4D891a6E2', '0x3C5bdEBBB588f6d7ebBbC74b6Ed56f3b9dF2f7e2', '0x3F367a69C2559a4B90044eA6b6dfF7E0fE4a52E6', '0x413c9BA0A05B8A600899B41b0c62dd661e689354', '0x43E6b79B696b1d8E21d5A23118A1BF1b565C3831', '0x442aCf84E05459e13595f372C49D4a15E95eA4E7', '0x4439526405BD6119bdC8a0B2c7616B8eF2cB8751', '0x44E07D8190Cc0f0eCCC9C935D5EA47194301Cb00', '0x45234B8c216231c2c31785aE4F5DceB858A8Ec71', '0x4655b0C31a26aB4D3e6Dd85d51690E038290D4e0', '0x480b0e0A641AE45521377d4984d085a003934561', '0x5f31E32e4689E1BC789E86e94eD9430bB47e4411', '0xD81934365c02da201dC2b85E401Ca75B48F7CcBD']\n",
      "20 - ocean           - __init__        - \tDIDRegistry @ 0x4A0f7F763B1A7937aED21D63b2A78adc89c5Db23\n"
     ]
    }
   ],
   "source": [
    "# Instantiate Ocean with the default configuration file.\n",
    "configuration = Config(CONFIG_INI_PATH)\n",
    "ocn = Ocean(configuration)"
   ]
  },
  {
   "cell_type": "markdown",
   "metadata": {},
   "source": [
    "### Section 1: A publisher account in Ocean"
   ]
  },
  {
   "cell_type": "code",
   "execution_count": 4,
   "metadata": {},
   "outputs": [
    {
     "name": "stderr",
     "output_type": "stream",
     "text": [
      "20 - user            - load_passwords  - 31 account-password pairs loaded\n"
     ]
    }
   ],
   "source": [
    "# Get a publisher account\n",
    "path_passwords = manta_utils.config.get_project_path() / 'passwords.csv'\n",
    "passwords = manta_utils.user.load_passwords(path_passwords)\n",
    "\n",
    "publisher_acct = random.choice([acct for acct in ocn.accounts.list() if password_map(acct.address, passwords)])\n",
    "publisher_acct.password = password_map(publisher_acct.address, passwords)\n",
    "assert publisher_acct.password"
   ]
  },
  {
   "cell_type": "code",
   "execution_count": 5,
   "metadata": {},
   "outputs": [
    {
     "name": "stdout",
     "output_type": "stream",
     "text": [
      "Publisher account address: 0x442aCf84E05459e13595f372C49D4a15E95eA4E7\n",
      "Publisher account balance: 0\n"
     ]
    }
   ],
   "source": [
    "print(\"Publisher account address: {}\".format(publisher_acct.address))\n",
    "print(\"Publisher account balance:\", ocn.accounts.balance(publisher_acct).ocn)"
   ]
  },
  {
   "cell_type": "markdown",
   "metadata": {},
   "source": [
    "Your account will need some Ocean Token to make real transactions, let's ensure that you are funded!"
   ]
  },
  {
   "cell_type": "code",
   "execution_count": 6,
   "metadata": {},
   "outputs": [],
   "source": [
    "# ensure Ocean token balance\n",
    "if ocn.accounts.balance(publisher_acct).ocn == 0:\n",
    "    ocn.accounts.request_tokens(publisher_acct, 100)"
   ]
  },
  {
   "cell_type": "markdown",
   "metadata": {},
   "source": [
    "### Section 2: Create the Metadata for your asset\n",
    "The metadata is a key-value set of attributes which describe your asset\n",
    "\n",
    "A more complex use case is to manually generate your metadata conforming to Ocean standard, but for demonstration purposes,\n",
    "a utility in squid-py is used to generate a sample Meta Data dictionary."
   ]
  },
  {
   "cell_type": "code",
   "execution_count": 7,
   "metadata": {},
   "outputs": [
    {
     "name": "stdout",
     "output_type": "stream",
     "text": [
      "Name of asset: Ocean protocol white paper\n",
      "{'additionalInformation': {'structuredMarkup': [{'mediaType': 'application/ld+json',\n",
      "                                                 'uri': 'http://skos.um.es/unescothes/C01194/jsonld'},\n",
      "                                                {'mediaType': 'text/turtle',\n",
      "                                                 'uri': 'http://skos.um.es/unescothes/C01194/turtle'}],\n",
      "                           'updateFrequency': 'yearly'},\n",
      " 'base': {'author': 'Ocean Protocol Foundation Ltd.',\n",
      "          'categories': ['white-papers'],\n",
      "          'compression': '',\n",
      "          'copyrightHolder': 'Ocean Protocol Foundation Ltd.',\n",
      "          'dateCreated': '2012-10-10T17:00:000Z',\n",
      "          'description': 'Introduce the main concepts and vision behind ocean '\n",
      "                         'protocol',\n",
      "          'files': [{'checksum': 'efb2c764274b745f5fc37f97c6b0e761',\n",
      "                     'checksumType': 'MD5',\n",
      "                     'contentLength': '4535431',\n",
      "                     'resourceId': 'access-log2018-02-13-15-17-29-18386C502CAEA932',\n",
      "                     'url': 'https://testocnfiles.blob.core.windows.net/testfiles/testzkp.pdf'},\n",
      "                    {'checksum': 'efb2c764274b745f5fc37f97c6b0e761',\n",
      "                     'contentLength': '4535431',\n",
      "                     'resourceId': 'access-log2018-02-13-15-17-29-18386C502CAEA932',\n",
      "                     'url': 's3://ocean-test-osmosis-data-plugin-dataseeding-1537375953/data.txt'},\n",
      "                    {'url': 'http://www3.cs.stonybrook.edu/~algorith/implement/graphbase/distrib/cweb3.4e.tar.gz'}],\n",
      "          'inLanguage': 'en',\n",
      "          'license': 'CC-BY',\n",
      "          'links': [{'sample1': 'http://data.ceda.ac.uk/badc/ukcp09/data/gridded-land-obs/gridded-land-obs-daily/'},\n",
      "                    {'sample2': 'http://data.ceda.ac.uk/badc/ukcp09/data/gridded-land-obs/gridded-land-obs-averages-25km/'},\n",
      "                    {'fieldsDescription': 'http://data.ceda.ac.uk/badc/ukcp09/'}],\n",
      "          'name': 'Ocean protocol white paper',\n",
      "          'price': 23,\n",
      "          'tags': 'data exchange sharing curation bonding curve',\n",
      "          'type': 'dataset',\n",
      "          'workExample': 'Text PDF'},\n",
      " 'curation': {'numVotes': 123, 'rating': 0.93, 'schema': 'Binary Voting'}}\n"
     ]
    }
   ],
   "source": [
    "# Get a simple example of Meta Data from the library directly\n",
    "metadata = squid_py.ddo.metadata.Metadata.get_example()\n",
    "print('Name of asset:', metadata['base']['name'])\n",
    "# Print the entire (JSON) dictionary\n",
    "pprint(metadata)"
   ]
  },
  {
   "cell_type": "markdown",
   "metadata": {
    "lines_to_next_cell": 0
   },
   "source": [
    "Note that the price is included in the Metadata! This will be purchase price you are placing on the asset. You can\n",
    "Alter the metadata object at any time before publishing."
   ]
  },
  {
   "cell_type": "code",
   "execution_count": 8,
   "metadata": {},
   "outputs": [
    {
     "name": "stdout",
     "output_type": "stream",
     "text": [
      "Price of Asset: 23\n",
      "Updated price of Asset: 9\n"
     ]
    }
   ],
   "source": [
    "print(\"Price of Asset:\", metadata['base']['price'])\n",
    "metadata['base']['price'] = 9\n",
    "print(\"Updated price of Asset:\", metadata['base']['price'])"
   ]
  },
  {
   "cell_type": "markdown",
   "metadata": {},
   "source": [
    "Let's inspect another important component of your metadata - the actual asset files. The files of an asset are\n",
    "described by valid URL's. You are responsible for ensuring the URL's are alive. Files may have additional\n",
    "information, including a checksum, length, content type, etc."
   ]
  },
  {
   "cell_type": "code",
   "execution_count": 9,
   "metadata": {},
   "outputs": [
    {
     "name": "stdout",
     "output_type": "stream",
     "text": [
      "Asset link 0: https://testocnfiles.blob.core.windows.net/testfiles/testzkp.pdf\n",
      "Asset link 1: s3://ocean-test-osmosis-data-plugin-dataseeding-1537375953/data.txt\n",
      "Asset link 2: http://www3.cs.stonybrook.edu/~algorith/implement/graphbase/distrib/cweb3.4e.tar.gz\n"
     ]
    }
   ],
   "source": [
    "for i, file in enumerate(metadata['base']['files']):\n",
    "    print(\"Asset link {}: {}\".format( i, file['url']))"
   ]
  },
  {
   "cell_type": "markdown",
   "metadata": {},
   "source": [
    "## Section 3 Publish the asset\n",
    "With this metadata object prepared, we are ready to publish the asset into Ocean Protocol.\n",
    "\n",
    "The result will be an ID string (DID) registered into the smart contract, and a DID Document stored in Aquarius.\n",
    "The asset URLS's are encrypted upon publishing."
   ]
  },
  {
   "cell_type": "code",
   "execution_count": 10,
   "metadata": {
    "lines_to_next_cell": 0
   },
   "outputs": [
    {
     "name": "stderr",
     "output_type": "stream",
     "text": [
      "20 - ocean_assets    - create          - Content urls encrypted successfully 0x2f583676432b67366bc854071918bb4c9e4de22c83708a87cc27cd73366cdce62d544f429b96b8a8a06796cf174c5e1dec734e61497992e0752336d80088705429653a5bbd67f69e863e4aba14df24525315694a9719ed84f9d0f87219053eddceb6d521a7abdb91eac04f5e22852ef6fab6d3eba51e0ef4242d600c116b13dc128853c9cd6b1e65430057d764f8f0aee9cedff3e55843f39f9f7b29af82be73a79e096d1e8a4a9e81010541d3f6d5ea6fe03eddd4e9a94c919dee3195ffdbd97b132c07c1fbe00377cfda106521a32ea1627a56e66d8813c323c12c44c785e51413c006f955de8d6e1d4799a89825dd19f273cf04ba1ad97915ec069e117aea6e24e597f68efc0e7a433062b265ef389b945f575793210fc5512a22c87b8e935be6130e4f1351ba318bda1f3672d6eaaf91c2d62da0e225841876fc155abae50f99bf9f92ded9cac29d78cc65db099dac2f2d79b93d97bd2beb011bac5004476c3f2bd8e89429a08cf4bffce4e26e40bc75ea36ff9d52c76f05481ac9b5254307d1ef3e598ac912196d406453d952d20a2e5ea84afb08e307bc4aa254b07defa229c4a7b50c4c554095acdfddeb03eb003494753c731e90807a748a6692f641404b7142291c62df28ed7c48133331c4b827a05bd801692d0e8fdcd8a1039233ff494f36a69cfc9456cd0bfd487222376271f654da78f917263bebb1e7c04463889b271ee99621140f7440f12afbeea1746dc0befa9d723a8eb06157d9de4a3d5ba2dd85513081dfbf0c9e543c2c5b27a824651176c70ef41be5baa2\n",
      "20 - ocean_assets    - create          - DDO with DID did:op:4178ae2d31704c52bfbb204c62704252dec1b0384e69444aaf79abc3b023e569 successfully registered on chain.\n"
     ]
    },
    {
     "name": "stdout",
     "output_type": "stream",
     "text": [
      "New asset registered at did:op:4178ae2d31704c52bfbb204c62704252dec1b0384e69444aaf79abc3b023e569\n"
     ]
    }
   ],
   "source": [
    "ddo = ocn.assets.create(metadata, publisher_acct)\n",
    "registered_did = ddo.did\n",
    "print(\"New asset registered at\", registered_did)"
   ]
  },
  {
   "cell_type": "markdown",
   "metadata": {
    "lines_to_next_cell": 0
   },
   "source": [
    "Inspect the new DDO. We can retrieve the DDO as a dictionary object, feel free to explore the DDO in the cell below!"
   ]
  },
  {
   "cell_type": "code",
   "execution_count": 11,
   "metadata": {},
   "outputs": [
    {
     "name": "stdout",
     "output_type": "stream",
     "text": [
      "DID: did:op:4178ae2d31704c52bfbb204c62704252dec1b0384e69444aaf79abc3b023e569\n",
      "Services within this DDO:\n",
      "Authorization https://secret-store.dev-ocean.com\n",
      "Access https://nginx-brizo.dev-ocean.com//api/v1/brizo/services/consume\n",
      "Metadata https://nginx-aquarius.dev-ocean.com//api/v1/aquarius/assets/ddo/did:op:4178ae2d31704c52bfbb204c62704252dec1b0384e69444aaf79abc3b023e569\n"
     ]
    }
   ],
   "source": [
    "ddo_dict = ddo.as_dictionary()\n",
    "print(\"DID:\", ddo.did)\n",
    "print(\"Services within this DDO:\")\n",
    "for svc in ddo_dict['service']:\n",
    "    print(svc['type'], svc['serviceEndpoint'])"
   ]
  },
  {
   "cell_type": "markdown",
   "metadata": {
    "lines_to_next_cell": 0
   },
   "source": [
    "Note that the 'files' attribute has been modified - all URL's are now removed, and a new 'encryptedFiles'\n",
    "attribute is created to store the actual URLs."
   ]
  },
  {
   "cell_type": "code",
   "execution_count": 12,
   "metadata": {},
   "outputs": [
    {
     "name": "stdout",
     "output_type": "stream",
     "text": [
      "Encrypted files decrypt on purchase! Cipher text: [0x2f583676432b67366bc854071918bb4c9e4de22c83708a87...] . \n"
     ]
    }
   ],
   "source": [
    "for file_attrib in ddo.metadata['base']['files']:\n",
    "    assert 'url' not in file_attrib\n",
    "print(\"Encrypted files decrypt on purchase! Cipher text: [{}...] . \".format(ddo.metadata['base']['encryptedFiles'][:50]))"
   ]
  },
  {
   "cell_type": "markdown",
   "metadata": {
    "lines_to_next_cell": 0
   },
   "source": [
    "## Section 4: Verify your asset\n",
    "Now, let's verify that this asset exists in the MetaData storage.\n",
    "\n",
    "A call to assets.resolve() will call the Aquarius service and retrieve the DID Document"
   ]
  },
  {
   "cell_type": "code",
   "execution_count": 13,
   "metadata": {
    "lines_to_next_cell": 0
   },
   "outputs": [
    {
     "name": "stdout",
     "output_type": "stream",
     "text": [
      "Wait for the transaction to complete!\n"
     ]
    }
   ],
   "source": [
    "#+attr_jupyter: some cell metadata stuff\n",
    "#+attr_jupyter: some other metadata stuff\n",
    "\n",
    "#TODO: Better handling based on reciept\n",
    "print(\"Wait for the transaction to complete!\")\n",
    "sleep(10)"
   ]
  },
  {
   "cell_type": "code",
   "execution_count": 14,
   "metadata": {},
   "outputs": [
    {
     "name": "stdout",
     "output_type": "stream",
     "text": [
      "Asset 'did:op:4178ae2d31704c52bfbb204c62704252dec1b0384e69444aaf79abc3b023e569' resolved from Aquarius metadata storage: Ocean protocol white paper\n"
     ]
    }
   ],
   "source": [
    "ddo = ocn.assets.resolve(registered_did)\n",
    "print(\"Asset '{}' resolved from Aquarius metadata storage: {}\".format(ddo.did,ddo.metadata['base']['name']))"
   ]
  },
  {
   "cell_type": "markdown",
   "metadata": {},
   "source": [
    "Similarly, we can verify that this asset is registered into the blockchain, and that you are the owner."
   ]
  },
  {
   "cell_type": "code",
   "execution_count": 15,
   "metadata": {},
   "outputs": [
    {
     "name": "stdout",
     "output_type": "stream",
     "text": [
      "Asset ID 4178ae2d31704c52bfbb204c62704252dec1b0384e69444aaf79abc3b023e569 owned by 0x442aCf84E05459e13595f372C49D4a15E95eA4E7\n"
     ]
    }
   ],
   "source": [
    "# We need the pure ID string as in the DID registry (a DID without the prefixes)\n",
    "asset_id = squid_py.did.did_to_id(registered_did)\n",
    "owner = ocn._keeper.did_registry.contract_concise.getDIDOwner(asset_id)\n",
    "print(\"Asset ID\", asset_id, \"owned by\", owner)\n",
    "assert str.lower(owner) == str.lower(publisher_acct.address)"
   ]
  },
  {
   "cell_type": "markdown",
   "metadata": {
    "lines_to_next_cell": 3
   },
   "source": [
    "Congratulations on publishing an Asset into Ocean Protocol!\n",
    "\n",
    "Next, let's search for our assets in Ocean Protocol"
   ]
  }
 ],
 "metadata": {
  "jupytext": {
   "main_language": "python",
   "text_representation": {
    "extension": ".py",
    "format_name": "percent"
   }
  },
  "kernelspec": {
   "display_name": "mantaray",
   "language": "python",
   "name": "mantaray"
  },
  "language_info": {
   "codemirror_mode": {
    "name": "ipython",
    "version": 3
   },
   "file_extension": ".py",
   "mimetype": "text/x-python",
   "name": "python",
   "nbconvert_exporter": "python",
   "pygments_lexer": "ipython3",
   "version": "3.6.7"
  }
 },
 "nbformat": 4,
 "nbformat_minor": 2
}
