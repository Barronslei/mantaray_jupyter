{
 "cells": [
  {
   "cell_type": "markdown",
   "metadata": {},
   "source": [
    "\n",
    "<p><img src=\"https://oceanprotocol.com/static/media/banner-ocean-03@2x.b7272597.png\" alt=\"drawing\" width=\"800\" align=\"center\"/>"
   ]
  },
  {
   "cell_type": "markdown",
   "metadata": {
    "lines_to_next_cell": 2
   },
   "source": [
    "\n",
    "<h1><center>Ocean Protocol - Manta Ray project</center></h1>\n",
    "<h3><center>Decentralized Data Science and Engineering, powered by Ocean Protocol</center></h3>\n",
    "<p>Version 0.3 - alpha preview</p>\n",
    "<p><a href=\"https://github.com/oceanprotocol/mantaray\">mantaray on Github</a></p>\n",
    "<p>"
   ]
  },
  {
   "cell_type": "markdown",
   "metadata": {},
   "source": [
    "# Getting Underway - Publishing assets\n",
    "In this notebook, we will explore how to publish an Asset using Ocean Protocol. An Asset consists of several files\n",
    "which are kept private, and optionally other links which are open (samples, descriptions, etc.).\n",
    "\n",
    "A publisher will require access to two services;\n",
    "1. A service to store the MetaData of the asset (part of the DDO) - 'Aquarius'\n",
    "1. A service to manage permissioned access to the assets - 'Brizo'\n",
    "\n",
    "The publishing of an asset consists of;\n",
    "1. Preparing the asset files locally\n",
    "1. Preparing the metadata of the asset\n",
    "1. Uploading assets or otherwise making them available as URL's\n",
    "1. Registering the metadata and service endpoints into Aquarius\n",
    "1. Registering the asset into the Blockchain (into the DID Registry)"
   ]
  },
  {
   "cell_type": "markdown",
   "metadata": {},
   "source": [
    "<p><img src=\"https://raw.githubusercontent.com/oceanprotocol/mantaray/develop/doc/img/jupyter_cell.png\" alt=\"drawing\" width=\"400\" align=\"center\"/></p>\n",
    "<p><b>Overall client and service architecture</b></p>"
   ]
  },
  {
   "cell_type": "markdown",
   "metadata": {},
   "source": [
    "### Section 0: Import modules, connect the Ocean Protocol API"
   ]
  },
  {
   "cell_type": "code",
   "execution_count": 1,
   "metadata": {
    "lines_to_next_cell": 0
   },
   "outputs": [
    {
     "name": "stderr",
     "output_type": "stream",
     "text": [
      "10 - logging         - <module>        - Logging started\n"
     ]
    },
    {
     "name": "stdout",
     "output_type": "stream",
     "text": [
      "Using default logging settings.\n"
     ]
    }
   ],
   "source": [
    "# Standard imports\n",
    "import logging\n",
    "\n",
    "# Import mantaray and the Ocean API (squid)\n",
    "import random\n",
    "import squid_py\n",
    "from squid_py.ocean.ocean import Ocean\n",
    "from squid_py.config import Config\n",
    "import mantaray_utilities as manta_utils\n",
    "from mantaray_utilities.user import password_map\n",
    "from pprint import pprint\n",
    "# Setup logging\n",
    "manta_utils.logging.logger.setLevel('CRITICAL')\n",
    "from time import sleep"
   ]
  },
  {
   "cell_type": "code",
   "execution_count": 2,
   "metadata": {},
   "outputs": [
    {
     "name": "stderr",
     "output_type": "stream",
     "text": [
      "50 - <ipython-input-2-84136f362abd> - <module>        - Deployment type: DEFAULT\n",
      "50 - <ipython-input-2-84136f362abd> - <module>        - Configuration file selected: /home/batman/ocn/mantaray_jupyter/config_local.ini\n",
      "50 - <ipython-input-2-84136f362abd> - <module>        - Squid API version: 0.4.2\n"
     ]
    }
   ],
   "source": [
    "# Get the configuration file path for this environment\n",
    "CONFIG_INI_PATH = manta_utils.config.get_config_file_path()\n",
    "logging.critical(\"Deployment type: {}\".format(manta_utils.config.get_deployment_type()))\n",
    "logging.critical(\"Configuration file selected: {}\".format(CONFIG_INI_PATH))\n",
    "logging.critical(\"Squid API version: {}\".format(squid_py.__version__))"
   ]
  },
  {
   "cell_type": "code",
   "execution_count": 3,
   "metadata": {},
   "outputs": [],
   "source": [
    "# Instantiate Ocean with the default configuration file.\n",
    "configuration = Config(CONFIG_INI_PATH)\n",
    "ocn = Ocean(configuration)\n"
   ]
  },
  {
   "cell_type": "markdown",
   "metadata": {},
   "source": [
    "### Section 1: A publisher account in Ocean"
   ]
  },
  {
   "cell_type": "code",
   "execution_count": 4,
   "metadata": {},
   "outputs": [
    {
     "name": "stdout",
     "output_type": "stream",
     "text": [
      "3 accounts exist\n",
      "      Address                                       Ocean Token Balance  ETH balance\n",
      "0     0x00Bd138aBD70e2F00903268F3Db08f2D25677C9e    4992                 1000000001878471200000000000\n",
      "1     0x068Ed00cF0441e4829D9784fCBe7b9e26D4BD8d0    1100                 1000000000000000000000000000\n",
      "2     0xA99D43d86A0758d5632313b8fA3972B6088A21BB    2                    1000000000000000000000000000\n"
     ]
    }
   ],
   "source": [
    "# List the accounts in the network\n",
    "print(len(ocn.accounts.list()), \"accounts exist\")\n",
    "\n",
    "# Print a simple table listing accounts and balances\n",
    "print(\"{:<5} {:<45} {:<20} {}\".format(\"\",\"Address\", \"Ocean Token Balance\",\"ETH balance\"))\n",
    "for i, acct in enumerate(ocn.accounts.list()):\n",
    "    acct_balance = ocn.accounts.balance(acct)\n",
    "    print(\"{:<5} {:<45} {:<20} {}\".format(i,acct.address, acct_balance.ocn, acct_balance.eth))"
   ]
  },
  {
   "cell_type": "code",
   "execution_count": 5,
   "metadata": {},
   "outputs": [],
   "source": [
    "# Get a publisher account\n",
    "path_passwords = manta_utils.config.get_project_path() / 'passwords.csv'\n",
    "passwords = manta_utils.user.load_passwords(path_passwords)\n",
    "\n",
    "publisher_acct = random.choice([acct for acct in ocn.accounts.list() if password_map(acct.address, passwords)])\n",
    "publisher_acct.password = password_map(publisher_acct.address, passwords)\n",
    "assert publisher_acct.password"
   ]
  },
  {
   "cell_type": "code",
   "execution_count": 6,
   "metadata": {},
   "outputs": [
    {
     "name": "stdout",
     "output_type": "stream",
     "text": [
      "Publisher account address: 0xA99D43d86A0758d5632313b8fA3972B6088A21BB\n",
      "Publisher account balance: 2\n"
     ]
    }
   ],
   "source": [
    "print(\"Publisher account address: {}\".format(publisher_acct.address))\n",
    "print(\"Publisher account balance:\", ocn.accounts.balance(publisher_acct).ocn)"
   ]
  },
  {
   "cell_type": "markdown",
   "metadata": {},
   "source": [
    "Your account will need some Ocean Token to make real transactions, let's ensure that you are funded!"
   ]
  },
  {
   "cell_type": "code",
   "execution_count": 7,
   "metadata": {},
   "outputs": [],
   "source": [
    "# ensure Ocean token balance\n",
    "if ocn.accounts.balance(publisher_acct).ocn == 0:\n",
    "    ocn.accounts.request_tokens(publisher_acct, 100)"
   ]
  },
  {
   "cell_type": "markdown",
   "metadata": {},
   "source": [
    "### Section 2: Create the Metadata for your asset\n",
    "The metadata is a key-value set of attributes which describe your asset\n",
    "\n",
    "A more complex use case is to manually generate your metadata conforming to Ocean standard, but for demonstration purposes,\n",
    "a utility in squid-py is used to generate a sample Meta Data dictionary."
   ]
  },
  {
   "cell_type": "code",
   "execution_count": 9,
   "metadata": {},
   "outputs": [
    {
     "name": "stdout",
     "output_type": "stream",
     "text": [
      "Name of asset: Ocean protocol white paper\n",
      "{'additionalInformation': {'structuredMarkup': [{'mediaType': 'application/ld+json',\n",
      "                                                 'uri': 'http://skos.um.es/unescothes/C01194/jsonld'},\n",
      "                                                {'mediaType': 'text/turtle',\n",
      "                                                 'uri': 'http://skos.um.es/unescothes/C01194/turtle'}],\n",
      "                           'updateFrequency': 'yearly'},\n",
      " 'base': {'author': 'Ocean Protocol Foundation Ltd.',\n",
      "          'categories': ['white-papers'],\n",
      "          'compression': '',\n",
      "          'contentType': 'text/csv',\n",
      "          'copyrightHolder': 'Ocean Protocol Foundation Ltd.',\n",
      "          'dateCreated': '2012-10-10T17:00:000Z',\n",
      "          'description': 'Introduce the main concepts and vision behind ocean '\n",
      "                         'protocol',\n",
      "          'encoding': 'UTF-8',\n",
      "          'files': [{'checksum': 'efb2c764274b745f5fc37f97c6b0e761',\n",
      "                     'checksumType': 'MD5',\n",
      "                     'contentLength': '4535431',\n",
      "                     'resourceId': 'access-log2018-02-13-15-17-29-18386C502CAEA932',\n",
      "                     'url': 'https://testocnfiles.blob.core.windows.net/testfiles/testzkp.pdf'},\n",
      "                    {'checksum': 'efb2c764274b745f5fc37f97c6b0e761',\n",
      "                     'contentLength': '4535431',\n",
      "                     'resourceId': 'access-log2018-02-13-15-17-29-18386C502CAEA932',\n",
      "                     'url': 's3://ocean-test-osmosis-data-plugin-dataseeding-1537375953/data.txt'},\n",
      "                    {'url': 'http://www3.cs.stonybrook.edu/~algorith/implement/graphbase/distrib/cweb3.4e.tar.gz'}],\n",
      "          'inLanguage': 'en',\n",
      "          'license': 'CC-BY',\n",
      "          'links': [{'sample1': 'http://data.ceda.ac.uk/badc/ukcp09/data/gridded-land-obs/gridded-land-obs-daily/'},\n",
      "                    {'sample2': 'http://data.ceda.ac.uk/badc/ukcp09/data/gridded-land-obs/gridded-land-obs-averages-25km/'},\n",
      "                    {'fieldsDescription': 'http://data.ceda.ac.uk/badc/ukcp09/'}],\n",
      "          'name': 'Ocean protocol white paper',\n",
      "          'price': 23,\n",
      "          'size': '1mb',\n",
      "          'tags': 'data exchange sharing curation bonding curve',\n",
      "          'type': 'dataset',\n",
      "          'workExample': 'Text PDF'},\n",
      " 'curation': {'numVotes': 123, 'rating': 0.93, 'schema': 'Binary Voting'}}\n"
     ]
    }
   ],
   "source": [
    "# Get a simple example of Meta Data from the library directly\n",
    "metadata = squid_py.ddo.metadata.Metadata.get_example()\n",
    "print('Name of asset:', metadata['base']['name'])\n",
    "# Print the entire (JSON) dictionary\n",
    "pprint(metadata)"
   ]
  },
  {
   "cell_type": "markdown",
   "metadata": {
    "lines_to_next_cell": 0
   },
   "source": [
    "Note that the price is included in the Metadata! This will be purchase price you are placing on the asset. You can\n",
    "Alter the metadata object at any time before publishing."
   ]
  },
  {
   "cell_type": "code",
   "execution_count": 10,
   "metadata": {},
   "outputs": [
    {
     "name": "stdout",
     "output_type": "stream",
     "text": [
      "Price of Asset: 23\n",
      "Updated price of Asset: 9\n"
     ]
    }
   ],
   "source": [
    "print(\"Price of Asset:\", metadata['base']['price'])\n",
    "metadata['base']['price'] = 9\n",
    "print(\"Updated price of Asset:\", metadata['base']['price'])"
   ]
  },
  {
   "cell_type": "markdown",
   "metadata": {},
   "source": [
    "Let's inspect another important component of your metadata - the actual asset files. The files of an asset are\n",
    "described by valid URL's. You are responsible for ensuring the URL's are alive. Files may have additional\n",
    "information, including a checksum, length, content type, etc."
   ]
  },
  {
   "cell_type": "code",
   "execution_count": 12,
   "metadata": {},
   "outputs": [
    {
     "name": "stdout",
     "output_type": "stream",
     "text": [
      "Asset link 0: https://testocnfiles.blob.core.windows.net/testfiles/testzkp.pdf\n",
      "Asset link 1: s3://ocean-test-osmosis-data-plugin-dataseeding-1537375953/data.txt\n",
      "Asset link 2: http://www3.cs.stonybrook.edu/~algorith/implement/graphbase/distrib/cweb3.4e.tar.gz\n"
     ]
    }
   ],
   "source": [
    "for i, file in enumerate(metadata['base']['files']):\n",
    "    print(\"Asset link {}: {}\".format( i, file['url']))"
   ]
  },
  {
   "cell_type": "markdown",
   "metadata": {},
   "source": [
    "## Section 3 Publish the asset\n",
    "With this metadata object prepared, we are ready to publish the asset into Ocean Protocol.\n",
    "\n",
    "The result will be an ID string (DID) registered into the smart contract, and a DID Document stored in Aquarius.\n",
    "The asset URLS's are encrypted upon publishing."
   ]
  },
  {
   "cell_type": "code",
   "execution_count": 13,
   "metadata": {
    "lines_to_next_cell": 0
   },
   "outputs": [
    {
     "name": "stdout",
     "output_type": "stream",
     "text": [
      "New asset registered at did:op:abe7e86bedd34ef28e0436726039b67a4487bb5959fb4feba2b1c051e3d74d78\n"
     ]
    }
   ],
   "source": [
    "ddo = ocn.assets.create(metadata, publisher_acct)\n",
    "registered_did = ddo.did\n",
    "print(\"New asset registered at\", registered_did)"
   ]
  },
  {
   "cell_type": "markdown",
   "metadata": {
    "lines_to_next_cell": 0
   },
   "source": [
    "Inspect the new DDO. We can retrieve the DDO as a dictionary object, feel free to explore the DDO in the cell below!"
   ]
  },
  {
   "cell_type": "code",
   "execution_count": 14,
   "metadata": {},
   "outputs": [
    {
     "name": "stdout",
     "output_type": "stream",
     "text": [
      "DID: did:op:abe7e86bedd34ef28e0436726039b67a4487bb5959fb4feba2b1c051e3d74d78\n",
      "Services within this DDO:\n",
      "Access http://172.15.0.17:8030/api/v1/brizo/services/consume\n",
      "Authorization http://localhost:12001\n",
      "Metadata http://172.15.0.15:5000/api/v1/aquarius/assets/ddo/did:op:abe7e86bedd34ef28e0436726039b67a4487bb5959fb4feba2b1c051e3d74d78\n"
     ]
    }
   ],
   "source": [
    "ddo_dict = ddo.as_dictionary()\n",
    "print(\"DID:\", ddo.did)\n",
    "print(\"Services within this DDO:\")\n",
    "for svc in ddo_dict['service']:\n",
    "    print(svc['type'], svc['serviceEndpoint'])"
   ]
  },
  {
   "cell_type": "markdown",
   "metadata": {
    "lines_to_next_cell": 0
   },
   "source": [
    "Note that the 'files' attribute has been replaced by the 'encryptedFiles' attribute!"
   ]
  },
  {
   "cell_type": "code",
   "execution_count": 15,
   "metadata": {},
   "outputs": [
    {
     "name": "stdout",
     "output_type": "stream",
     "text": [
      "Encryped 'files' attribute, everything safe and secure!\n",
      "Encrypted files decrypt on purchase! [0xdd26bdaf8397d32f2ee513a973cb7ae2243c2eedb8f059ae...] etc. \n"
     ]
    }
   ],
   "source": [
    "assert 'files' not in ddo.metadata['base']\n",
    "print(\"Encryped 'files' attribute, everything safe and secure!\")\n",
    "print(\"Encrypted files decrypt on purchase! [{}...] etc. \".format(ddo.metadata['base']['encryptedFiles'][:50]))"
   ]
  },
  {
   "cell_type": "markdown",
   "metadata": {
    "lines_to_next_cell": 0
   },
   "source": [
    "## Section 4: Verify your asset\n",
    "Now, let's verify that this asset exists in the MetaData storage.\n",
    "\n",
    "A call to assets.resolve() will call the Aquarius service and retrieve the DID Document"
   ]
  },
  {
   "cell_type": "code",
   "execution_count": 16,
   "metadata": {},
   "outputs": [
    {
     "name": "stdout",
     "output_type": "stream",
     "text": [
      "Asset 'did:op:abe7e86bedd34ef28e0436726039b67a4487bb5959fb4feba2b1c051e3d74d78' resolved from Aquarius metadata storage: Ocean protocol white paper\n"
     ]
    }
   ],
   "source": [
    "ddo = ocn.assets.resolve(registered_did)\n",
    "print(\"Asset '{}' resolved from Aquarius metadata storage: {}\".format(ddo.did,ddo.metadata['base']['name']))"
   ]
  },
  {
   "cell_type": "markdown",
   "metadata": {
    "lines_to_next_cell": 0
   },
   "source": [
    "For illustrative purposes, this is the error you can expect if the DID is *NOT* in the database"
   ]
  },
  {
   "cell_type": "code",
   "execution_count": 17,
   "metadata": {},
   "outputs": [
    {
     "name": "stdout",
     "output_type": "stream",
     "text": [
      "(This raises, as required) DID \"0x9a3c2693c1f942b8a61cba7d212e5cd50c1b9a5299f74e39848e9b4c2148d453\" is not found on-chain in the current did registry. Please ensure assets are registered in the correct keeper contracts. The keeper-contracts DIDRegistry address is 0x611f28Ef25D778aFC5a0034Aea94297e2c215a42\n"
     ]
    }
   ],
   "source": [
    "random_did = 'did:op:9a3c2693c1f942b8a61cba7d212e5cd50c1b9a5299f74e39848e9b4c2148d453'\n",
    "try: ocn.assets.resolve(random_did)\n",
    "except Exception as e: print(\"(This raises, as required)\", e)"
   ]
  },
  {
   "cell_type": "markdown",
   "metadata": {},
   "source": [
    "Similarly, we can verify that this asset is registered into the blockchain, and that you are the owner.\n",
    "\n",
    "Congratulations on publishing an Asset into Ocean Protocol!"
   ]
  },
  {
   "cell_type": "code",
   "execution_count": 18,
   "metadata": {},
   "outputs": [
    {
     "name": "stdout",
     "output_type": "stream",
     "text": [
      "Asset ID abe7e86bedd34ef28e0436726039b67a4487bb5959fb4feba2b1c051e3d74d78 owned by 0xA99D43d86A0758d5632313b8fA3972B6088A21BB\n"
     ]
    }
   ],
   "source": [
    "# We need the pure ID string as in the DID registry (a DID without the prefixes)\n",
    "asset_id = squid_py.did.did_to_id(registered_did)\n",
    "owner = ocn._keeper.did_registry.contract_concise.getOwner(asset_id)\n",
    "print(\"Asset ID\", asset_id, \"owned by\", owner)\n",
    "assert str.lower(owner) == str.lower(publisher_acct.address)"
   ]
  },
  {
   "cell_type": "markdown",
   "metadata": {
    "lines_to_next_cell": 3
   },
   "source": [
    "Next, let's search for our assets in Ocean Protocol"
   ]
  }
 ],
 "metadata": {
  "jupytext": {
   "main_language": "python",
   "text_representation": {
    "extension": ".py",
    "format_name": "percent"
   }
  },
  "kernelspec": {
   "display_name": "mantaray",
   "language": "python",
   "name": "mantaray"
  },
  "language_info": {
   "codemirror_mode": {
    "name": "ipython",
    "version": 3
   },
   "file_extension": ".py",
   "mimetype": "text/x-python",
   "name": "python",
   "nbconvert_exporter": "python",
   "pygments_lexer": "ipython3",
   "version": "3.6.7"
  }
 },
 "nbformat": 4,
 "nbformat_minor": 2
}
