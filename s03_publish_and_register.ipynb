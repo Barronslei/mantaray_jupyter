{
 "cells": [
  {
   "cell_type": "markdown",
   "metadata": {},
   "source": [
    "\n",
    "<p><img src=\"https://oceanprotocol.com/static/media/banner-ocean-03@2x.b7272597.png\" alt=\"drawing\" width=\"800\" align=\"center\"/>"
   ]
  },
  {
   "cell_type": "markdown",
   "metadata": {
    "lines_to_next_cell": 2
   },
   "source": [
    "\n",
    "<h1><center>Ocean Protocol - Manta Ray project</center></h1>\n",
    "<h3><center>Decentralized Data Science and Engineering, powered by Ocean Protocol</center></h3>\n",
    "<p>Version 0.2 - alpha preview</p>\n",
    "<p><a href=\"https://github.com/oceanprotocol/mantaray\">mantaray on Github</a></p>\n",
    "<p>"
   ]
  },
  {
   "cell_type": "markdown",
   "metadata": {
    "lines_to_next_cell": 0
   },
   "source": [
    "# Getting Underway - Publishing assets\n",
    "In this notebook, we will explore how to publish an Asset using Ocean Protocol.\n",
    "As described in the previous notebook, Publish consists of 2 aspects:\n",
    "\n",
    "1. Uploading the DDO to Aquarius\n",
    "1. Registering the Asset on the blockchain\n",
    "\n",
    "*Note to the reader! The current implementation is very low-level, most of the functionality will be wrapped into\n",
    "simpler Ocean.publish_dataset() style methods!*"
   ]
  },
  {
   "cell_type": "markdown",
   "metadata": {},
   "source": [
    "### Section 0: Import modules, and setup logging"
   ]
  },
  {
   "cell_type": "code",
   "execution_count": null,
   "metadata": {},
   "outputs": [],
   "source": [
    "# Standard imports\n",
    "import logging\n",
    "from pathlib import Path\n",
    "import os\n",
    "\n",
    "# Import mantaray and the Ocean API (squid)\n",
    "import squid_py\n",
    "from squid_py.ocean.ocean import Ocean\n",
    "import mantaray_utilities.config as manta_config\n",
    "import mantaray_utilities.logging as manta_logging\n",
    "import mantaray_utilities.user as manta_user\n",
    "import mantaray_utilities.asset_pretty_print as manta_print\n",
    "\n",
    "# Setup logging\n",
    "manta_logging.logger.setLevel('INFO')"
   ]
  },
  {
   "cell_type": "code",
   "execution_count": null,
   "metadata": {},
   "outputs": [],
   "source": [
    "# Get the configuration file path for this environment\n",
    "# os.environ['USE_K8S_CLUSTER'] = 'true'\n",
    "CONFIG_INI_PATH = manta_config.get_config_file_path()\n",
    "logging.info(\"Deployment type: {}\".format(manta_config.get_deployment_type()))\n",
    "logging.info(\"Configuration file selected: {}\".format(CONFIG_INI_PATH))\n",
    "logging.info(\"Squid API version: {}\".format(squid_py.__version__))"
   ]
  },
  {
   "cell_type": "markdown",
   "metadata": {
    "lines_to_next_cell": 0
   },
   "source": [
    "### Section 1: Instantiate a simulated User\n",
    "A 'User' in an abstract class representing a user of Ocean Protocol.\n"
   ]
  },
  {
   "cell_type": "code",
   "execution_count": null,
   "metadata": {},
   "outputs": [],
   "source": [
    "# Instantiate Ocean with the default configuration file.\n",
    "ocn = Ocean(config_file=CONFIG_INI_PATH)"
   ]
  },
  {
   "cell_type": "markdown",
   "metadata": {},
   "source": [
    "For this tutorial, we will select one of the available unlocked accounts.\n",
    "\n",
    "In general, as a publisher, you will have your own configuration file with your personal account."
   ]
  },
  {
   "cell_type": "code",
   "execution_count": null,
   "metadata": {
    "lines_to_next_cell": 0
   },
   "outputs": [],
   "source": [
    "# This utility function gets all simulated accounts.\n",
    "# Let's take the first unlocked account, and name it the Publisher.\n",
    "publisher = manta_user.get_first_user(ocn.accounts)\n",
    "print(publisher)\n",
    "\n",
    "assert publisher.ocn._http_client.__name__ == 'requests'\n",
    "assert publisher.ocn._secret_store_client.__name__ == 'Client'\n",
    "\n",
    "# We don't need this ocn instance reference anymore ...\n",
    "del ocn"
   ]
  },
  {
   "cell_type": "markdown",
   "metadata": {},
   "source": [
    "### Section 2: Create your MetaData for your asset\n",
    "A more complex use case is to manually generate your metadata conforming to Ocean standard, but for demonstration purposes,\n",
    "a utility in squid-py is used to generate a sample Meta Data dictionary."
   ]
  },
  {
   "cell_type": "code",
   "execution_count": null,
   "metadata": {},
   "outputs": [],
   "source": [
    "# Get a simple example of a Meta Data object from the library directly\n",
    "metadata = squid_py.ddo.metadata.Metadata.get_example()\n",
    "print('Name of asset:', metadata['base']['name'])"
   ]
  },
  {
   "cell_type": "markdown",
   "metadata": {
    "lines_to_next_cell": 0
   },
   "source": [
    "### Section 3: Get the Service Execution Agreement (SEA) template for an Asset\n",
    "(An asset is consumed by simple download of files, such as datasets)"
   ]
  },
  {
   "cell_type": "code",
   "execution_count": null,
   "metadata": {},
   "outputs": [],
   "source": [
    "# TODO: The following cells are too complicated for end-users, need to refactor to simple .register_dataset(Asset, Price)\n",
    "# Get the path of the SEA\n",
    "SEA_template_path = squid_py.service_agreement.utils.get_sla_template_path()\n",
    "\n",
    "# Get the ID of this SEA\n",
    "template_id = squid_py.service_agreement.utils.register_service_agreement_template(\n",
    "    publisher.ocn.keeper.service_agreement,\n",
    "    publisher.ocn.keeper.contract_path,\n",
    "    publisher.ocn.main_account,\n",
    "    squid_py.service_agreement.service_agreement_template.ServiceAgreementTemplate.from_json_file(SEA_template_path)\n",
    ")\n",
    "print(\"Template ID:\", template_id)"
   ]
  },
  {
   "cell_type": "markdown",
   "metadata": {
    "lines_to_next_cell": 0
   },
   "source": [
    "### Section 4: Confirm your service endpoints with Brizo (services handler for Publishers)"
   ]
  },
  {
   "cell_type": "code",
   "execution_count": null,
   "metadata": {},
   "outputs": [],
   "source": [
    "\n",
    "brizo_url = publisher.ocn.config.get('resources', 'brizo.url')\n",
    "\n",
    "brizo_base_url = '/api/v1/brizo'\n",
    "purchase_endpoint = '{}{}/services/access/initialize'.format(brizo_url, brizo_base_url)\n",
    "service_endpoint = '{}{}/services/consume'.format(brizo_url, brizo_base_url)\n",
    "print(\"Endpoints:\")\n",
    "print(\"purchase_endpoint:\", purchase_endpoint)\n",
    "print(\"service_endpoint:\", service_endpoint)\n",
    "\n",
    "# A service descriptor function is used to build a service\n",
    "this_service_desc = squid_py.service_agreement.service_factory.ServiceDescriptor.access_service_descriptor"
   ]
  },
  {
   "cell_type": "markdown",
   "metadata": {},
   "source": [
    "In this case, the service will have a type of:\n",
    "\n",
    "`ServiceTypes.ASSET_ACCESS`\n",
    "\n",
    "And needs to be instantiated with the following attributes:\n",
    "\n",
    "`price, purchase_endpoint, service_endpoint, timeout, template_id`\n",
    "\n",
    "publisher.ocn.keeper.web3.personal.unlockAccount(publisher.account.address, publisher.account.password)"
   ]
  },
  {
   "cell_type": "code",
   "execution_count": null,
   "metadata": {
    "lines_to_next_cell": 0
   },
   "outputs": [],
   "source": [
    "# Register this asset into Ocean\n",
    "ddo = publisher.ocn.register_asset(\n",
    "    metadata, publisher.ocn.main_account.address,\n",
    "    [this_service_desc(7, purchase_endpoint, service_endpoint, 360, template_id)])\n",
    "print(\"DDO created and registered!\")\n",
    "print(\"DID:\", ddo.did)\n",
    "# rcpt = publisher1.account.request_tokens(5)\n",
    "# publisher1.ocn._web3.eth.waitForTransactionReceipt(rcpt)"
   ]
  },
  {
   "cell_type": "code",
   "execution_count": null,
   "metadata": {
    "lines_to_next_cell": 2
   },
   "outputs": [],
   "source": [
    "# Inspect the new DDO\n",
    "print(\"did:\", ddo.did)\n",
    "manta_print.print_ddo(ddo)"
   ]
  }
 ],
 "metadata": {
  "jupytext": {
   "main_language": "python",
   "text_representation": {
    "extension": ".py",
    "format_name": "percent"
   }
  }
 },
 "nbformat": 4,
 "nbformat_minor": 2
}
