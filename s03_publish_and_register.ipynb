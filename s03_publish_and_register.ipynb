{
 "cells": [
  {
   "cell_type": "markdown",
   "metadata": {},
   "source": [
    "\n",
    "<p><img src=\"https://oceanprotocol.com/static/media/banner-ocean-03@2x.b7272597.png\" alt=\"drawing\" width=\"800\" align=\"center\"/>"
   ]
  },
  {
   "cell_type": "markdown",
   "metadata": {
    "lines_to_next_cell": 2
   },
   "source": [
    "\n",
    "<h1><center>Ocean Protocol - Manta Ray project</center></h1>\n",
    "<h3><center>Decentralized Data Science and Engineering, powered by Ocean Protocol</center></h3>\n",
    "<p>Version 0.3 - alpha preview</p>\n",
    "<p><a href=\"https://github.com/oceanprotocol/mantaray\">mantaray on Github</a></p>\n",
    "<p>"
   ]
  },
  {
   "cell_type": "markdown",
   "metadata": {
    "lines_to_next_cell": 0
   },
   "source": [
    "# Getting Underway - Publishing assets\n",
    "In this notebook, we will explore how to publish an Asset using Ocean Protocol.\n",
    "As described in the previous notebook, Publish consists of 2 aspects:\n",
    "\n",
    "1. Uploading the DDO to Aquarius\n",
    "1. Registering the Asset on the blockchain\n",
    "\n",
    "*Note to the reader! The current implementation is very low-level, most of the functionality will be wrapped into\n",
    "simpler Ocean.publish_dataset() style methods!*"
   ]
  },
  {
   "cell_type": "markdown",
   "metadata": {},
   "source": [
    "### Section 0: Import modules, and setup logging"
   ]
  },
  {
   "cell_type": "code",
   "execution_count": null,
   "metadata": {
    "lines_to_next_cell": 0
   },
   "outputs": [],
   "source": [
    "# Standard imports\n",
    "import logging\n",
    "# from pathlib import Path\n",
    "import os\n",
    "\n",
    "# Import mantaray and the Ocean API (squid)\n",
    "import squid_py\n",
    "from squid_py.ocean.ocean import Ocean\n",
    "from squid_py.config import Config\n",
    "# TODO: This will be removed after refactor of .request_tokens()\n",
    "from squid_py.keeper.web3_provider import Web3Provider\n",
    "import mantaray_utilities as manta_utils\n",
    "from pprint import pprint\n",
    "# Setup logging\n",
    "manta_utils.logging.logger.setLevel('CRITICAL')\n",
    "# os.environ['USE_K8S_CLUSTER'] = 'True' # Enable this for testing local -> AWS setup"
   ]
  },
  {
   "cell_type": "code",
   "execution_count": null,
   "metadata": {},
   "outputs": [],
   "source": [
    "# Get the configuration file path for this environment\n",
    "# os.environ['USE_K8S_CLUSTER'] = 'true'\n",
    "CONFIG_INI_PATH = manta_utils.config.get_config_file_path()\n",
    "logging.critical(\"Deployment type: {}\".format(manta_utils.config.get_deployment_type()))\n",
    "logging.critical(\"Configuration file selected: {}\".format(CONFIG_INI_PATH))\n",
    "logging.critical(\"Squid API version: {}\".format(squid_py.__version__))"
   ]
  },
  {
   "cell_type": "markdown",
   "metadata": {},
   "source": [
    "### Section 1: Instantiate a simulated User\n",
    "A 'User' in an abstract class representing a user of Ocean Protocol.\n",
    "\n",
    "\n",
    "Instantiate Ocean with the default configuration file.\n",
    "configuration = Config(CONFIG_INI_PATH)\n",
    "ocn = Ocean(configuration)\n",
    "Get the publisher account\n",
    "publisher_address = configuration['keeper-contracts']['parity.address']\n",
    "publisher_pass = configuration['keeper-contracts']['parity.password']\n",
    "publisher_acct = [ocn.accounts[addr] for addr in ocn.accounts if addr.lower() == publisher_address.lower()][0]\n",
    "publisher_acct.password = publisher_pass"
   ]
  },
  {
   "cell_type": "markdown",
   "metadata": {
    "lines_to_next_cell": 0
   },
   "source": [
    "Your account will need some Ocean Token to make real transactions"
   ]
  },
  {
   "cell_type": "code",
   "execution_count": null,
   "metadata": {
    "lines_to_next_cell": 0
   },
   "outputs": [],
   "source": [
    "# ensure Ocean token balance\n",
    "if publisher_acct.ocean_balance == 0:\n",
    "    tx_hash = publisher_acct.request_tokens(1)\n",
    "    Web3Provider.get_web3().eth.waitForTransactionReceipt(tx_hash)"
   ]
  },
  {
   "cell_type": "markdown",
   "metadata": {},
   "source": [
    "For this tutorial, we will select one of the available unlocked accounts.\n",
    "\n",
    "In general, as a publisher, you will have your own configuration file with your personal account."
   ]
  },
  {
   "cell_type": "markdown",
   "metadata": {},
   "source": [
    "### Section 2: Create your MetaData for your asset\n",
    "A more complex use case is to manually generate your metadata conforming to Ocean standard, but for demonstration purposes,\n",
    "a utility in squid-py is used to generate a sample Meta Data dictionary."
   ]
  },
  {
   "cell_type": "code",
   "execution_count": null,
   "metadata": {
    "lines_to_next_cell": 2
   },
   "outputs": [],
   "source": [
    "# Get a simple example of Meta Data from the library directly\n",
    "metadata = squid_py.ddo.metadata.Metadata.get_example()\n",
    "print('Name of asset:', metadata['base']['name'])\n",
    "\n",
    "pprint(metadata)"
   ]
  },
  {
   "cell_type": "markdown",
   "metadata": {
    "lines_to_next_cell": 0
   },
   "source": [
    "Note the price in the Metadata! This will be purchase price you are placing on the asset.\n",
    "\n",
    "The asset has been constructed, we are ready to publish to Ocean Protocol!"
   ]
  },
  {
   "cell_type": "code",
   "execution_count": null,
   "metadata": {},
   "outputs": [],
   "source": [
    "ddo = ocn.register_asset(metadata, publisher_acct)"
   ]
  },
  {
   "cell_type": "code",
   "execution_count": null,
   "metadata": {},
   "outputs": [],
   "source": [
    "# Inspect the new DDO\n",
    "registered_did = ddo.did\n",
    "print(\"New asset registered at\", registered_did)\n",
    "manta_utils.asset_pretty_print.print_ddo(ddo)"
   ]
  },
  {
   "cell_type": "markdown",
   "metadata": {
    "lines_to_next_cell": 0
   },
   "source": [
    "Verify that this asset exists in the MetaData storage"
   ]
  },
  {
   "cell_type": "code",
   "execution_count": null,
   "metadata": {},
   "outputs": [],
   "source": [
    "# ddo = ocn.metadata_store.get_asset_ddo(registered_did)\n",
    "ddo = ocn.resolve_asset_did(registered_did)"
   ]
  },
  {
   "cell_type": "markdown",
   "metadata": {
    "lines_to_next_cell": 0
   },
   "source": [
    "And this is what you would expect if the DID is *NOT* in the database"
   ]
  },
  {
   "cell_type": "code",
   "execution_count": null,
   "metadata": {},
   "outputs": [],
   "source": [
    "random_did = 'did:op:9a3c2693c1f942b8a61cba7d212e5cd50c1b9a5299f74e39848e9b4c2148d453'\n",
    "try: ocn.metadata_store.get_asset_ddo(random_did)\n",
    "except Exception as e: print(\"This raises an error, as required:\", e)"
   ]
  },
  {
   "cell_type": "markdown",
   "metadata": {
    "lines_to_next_cell": 0
   },
   "source": [
    "Similarly, we can verify that this asset is registered into the blockchain, and that you are the owner,\n",
    "congratulations on publishing an Asset into Ocean Protocol!"
   ]
  },
  {
   "cell_type": "code",
   "execution_count": null,
   "metadata": {
    "lines_to_next_cell": 3
   },
   "outputs": [],
   "source": [
    "# We need the pure ID string (a DID without the prefixes)\n",
    "asset_id = squid_py.did.did_to_id(registered_did)\n",
    "owner = ocn.keeper.did_registry.contract_concise.getOwner(asset_id)\n",
    "print(\"Asset ID\", asset_id, \"owned by\", owner)\n",
    "assert str.lower(owner) == str.lower(publisher_acct.address)"
   ]
  }
 ],
 "metadata": {
  "jupytext": {
   "main_language": "python",
   "text_representation": {
    "extension": ".py",
    "format_name": "percent"
   }
  }
 },
 "nbformat": 4,
 "nbformat_minor": 2
}
